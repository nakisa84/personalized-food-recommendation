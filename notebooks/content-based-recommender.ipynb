{
 "cells": [
  {
   "cell_type": "code",
   "execution_count": 2,
   "metadata": {},
   "outputs": [],
   "source": [
    "from rake_nltk import Rake\n",
    "import pandas as pd\n",
    "import numpy as np\n",
    "from sklearn.metrics.pairwise import cosine_similarity\n",
    "from sklearn.feature_extraction.text import CountVectorizer\n",
    "import random\n",
    "from sklearn.cluster import KMeans,DBSCAN\n",
    "import matplotlib.pyplot as plt \n",
    "from sklearn.decomposition import PCA\n",
    "from sklearn.metrics import silhouette_score\n",
    "import library.utils\n",
    "import seaborn as sns\n",
    "\n",
    "def tokenize(text):\n",
    "    r = Rake()\n",
    "    r.extract_keywords_from_text(text.lower().replace('nan',' '))\n",
    "    return r.get_ranked_phrases()[0:10]\n",
    "\n",
    "### Function to actually recommend similar foods\n",
    "similarity_thereshold = 0.5\n",
    "def recommend(name,data,cosine_sim):\n",
    "    indices = pd.Series(data['name'])\n",
    "    recommended_items = []\n",
    "    \n",
    "    if indices[indices == name].any():\n",
    "        idx = indices[indices == name].index[0]\n",
    "        score_series = pd.Series(cosine_sim[idx]).sort_values(ascending = False)\n",
    "        count = score_series.apply(lambda x : x > similarity_thereshold).sum()\n",
    "        top_indices = list(score_series.iloc[1 : count+1].index)\n",
    "        print('Total similar foods count: ', count)\n",
    "\n",
    "        for i in top_indices:\n",
    "            recommended_items.append(data.iloc[i]['name'])\n",
    "        return list(set(recommended_items))\n",
    "    else:\n",
    "        print('Oops, Item Not Found :(') \n",
    "\n",
    "### Fuction to recommend based on the top order item\n",
    "def historical_recommend(userid, orders, items, cosine_sim):\n",
    "    items_order_by_user = orders[orders.userid == userid].name.value_counts()\n",
    "    top_order_item = items_order_by_user.idxmax()\n",
    "\n",
    "    item_name = items[items.name == top_order_item].name.values[0]\n",
    "    item_description = items[items.name == item_name].description.values[0]\n",
    "\n",
    "    print('Top order food is: ',item_name)\n",
    "    print('Top order food description is: ',item_description)\n",
    "\n",
    "    return recommend(item_name,food_items,cosine_sim)    \n",
    "\n",
    "\n",
    "def match_ingredients(string,ingredients):\n",
    "    if all(x.lower() in string for x in ingredients):\n",
    "        return True\n",
    "    else:\n",
    "        return False\n",
    "\n",
    "def ingredient_recommendation(data,ingredients):\n",
    "    items = data[data['tokens'].apply(lambda x: match_ingredients(x,ingredients))]\n",
    "    print('Total food item found: {}'.format(items.shape[0]))\n",
    "    \n",
    "    for index,row in items.iterrows():\n",
    "        print('\\nitem name: {}\\nitem description is: {}'.format(row['name'],row['description']))  "
   ]
  },
  {
   "cell_type": "code",
   "execution_count": 2,
   "metadata": {},
   "outputs": [
    {
     "data": {
      "text/html": [
       "<div>\n",
       "<style scoped>\n",
       "    .dataframe tbody tr th:only-of-type {\n",
       "        vertical-align: middle;\n",
       "    }\n",
       "\n",
       "    .dataframe tbody tr th {\n",
       "        vertical-align: top;\n",
       "    }\n",
       "\n",
       "    .dataframe thead th {\n",
       "        text-align: right;\n",
       "    }\n",
       "</style>\n",
       "<table border=\"1\" class=\"dataframe\">\n",
       "  <thead>\n",
       "    <tr style=\"text-align: right;\">\n",
       "      <th></th>\n",
       "      <th>OrderId</th>\n",
       "      <th>UserId</th>\n",
       "      <th>RestaurantId</th>\n",
       "      <th>Date</th>\n",
       "      <th>Rating</th>\n",
       "      <th>Comments</th>\n",
       "      <th>Address</th>\n",
       "      <th>Count</th>\n",
       "      <th>ItemId</th>\n",
       "      <th>Price</th>\n",
       "      <th>ViewCount</th>\n",
       "      <th>Name</th>\n",
       "      <th>Description</th>\n",
       "      <th>SearchVector</th>\n",
       "      <th>Type</th>\n",
       "    </tr>\n",
       "  </thead>\n",
       "  <tbody>\n",
       "    <tr>\n",
       "      <th>0</th>\n",
       "      <td>8</td>\n",
       "      <td>113</td>\n",
       "      <td>110</td>\n",
       "      <td>2020-03-28 08:15:25.615002</td>\n",
       "      <td>NaN</td>\n",
       "      <td>NaN</td>\n",
       "      <td>{'Id': 4, 'Lat': 49.28319399999999, 'Lng': -12...</td>\n",
       "      <td>1</td>\n",
       "      <td>211</td>\n",
       "      <td>15.0</td>\n",
       "      <td>0.0</td>\n",
       "      <td>Tableside Spinach Salad</td>\n",
       "      <td>NaN</td>\n",
       "      <td>'almond':8 'babi':4 'bacon':11 'jack':10 'mont...</td>\n",
       "      <td>Main</td>\n",
       "    </tr>\n",
       "    <tr>\n",
       "      <th>1</th>\n",
       "      <td>8</td>\n",
       "      <td>113</td>\n",
       "      <td>110</td>\n",
       "      <td>2020-03-28 08:15:25.615002</td>\n",
       "      <td>NaN</td>\n",
       "      <td>NaN</td>\n",
       "      <td>{'Id': 4, 'Lat': 49.28319399999999, 'Lng': -12...</td>\n",
       "      <td>1</td>\n",
       "      <td>218</td>\n",
       "      <td>27.0</td>\n",
       "      <td>0.0</td>\n",
       "      <td>King Crab</td>\n",
       "      <td>NaN</td>\n",
       "      <td>'blanc':9 'buerr':8 'caper':7 'char':3 'chilli...</td>\n",
       "      <td>Main</td>\n",
       "    </tr>\n",
       "    <tr>\n",
       "      <th>2</th>\n",
       "      <td>293</td>\n",
       "      <td>4</td>\n",
       "      <td>121</td>\n",
       "      <td>2020-05-13 01:20:59.267256</td>\n",
       "      <td>NaN</td>\n",
       "      <td>NaN</td>\n",
       "      <td>NaN</td>\n",
       "      <td>1</td>\n",
       "      <td>440</td>\n",
       "      <td>14.0</td>\n",
       "      <td>1097.0</td>\n",
       "      <td>Joojeh Kabab With Rice</td>\n",
       "      <td>One skewer of chicken breast marinated with yo...</td>\n",
       "      <td>'bbq':14 'chicken':11 'joojeh':1 'juic':9 'kab...</td>\n",
       "      <td>Main</td>\n",
       "    </tr>\n",
       "  </tbody>\n",
       "</table>\n",
       "</div>"
      ],
      "text/plain": [
       "   OrderId  UserId  RestaurantId                        Date  Rating Comments  \\\n",
       "0        8     113           110  2020-03-28 08:15:25.615002     NaN      NaN   \n",
       "1        8     113           110  2020-03-28 08:15:25.615002     NaN      NaN   \n",
       "2      293       4           121  2020-05-13 01:20:59.267256     NaN      NaN   \n",
       "\n",
       "                                             Address  Count  ItemId  Price  \\\n",
       "0  {'Id': 4, 'Lat': 49.28319399999999, 'Lng': -12...      1     211   15.0   \n",
       "1  {'Id': 4, 'Lat': 49.28319399999999, 'Lng': -12...      1     218   27.0   \n",
       "2                                                NaN      1     440   14.0   \n",
       "\n",
       "   ViewCount                     Name  \\\n",
       "0        0.0  Tableside Spinach Salad   \n",
       "1        0.0                King Crab   \n",
       "2     1097.0   Joojeh Kabab With Rice   \n",
       "\n",
       "                                         Description  \\\n",
       "0                                                NaN   \n",
       "1                                                NaN   \n",
       "2  One skewer of chicken breast marinated with yo...   \n",
       "\n",
       "                                        SearchVector  Type  \n",
       "0  'almond':8 'babi':4 'bacon':11 'jack':10 'mont...  Main  \n",
       "1  'blanc':9 'buerr':8 'caper':7 'char':3 'chilli...  Main  \n",
       "2  'bbq':14 'chicken':11 'joojeh':1 'juic':9 'kab...  Main  "
      ]
     },
     "execution_count": 2,
     "metadata": {},
     "output_type": "execute_result"
    }
   ],
   "source": [
    "orders = pd.read_csv('../data/full_data.csv',low_memory=False)\n",
    "orders.head(3)"
   ]
  },
  {
   "cell_type": "code",
   "execution_count": 3,
   "metadata": {},
   "outputs": [
    {
     "data": {
      "text/html": [
       "<div>\n",
       "<style scoped>\n",
       "    .dataframe tbody tr th:only-of-type {\n",
       "        vertical-align: middle;\n",
       "    }\n",
       "\n",
       "    .dataframe tbody tr th {\n",
       "        vertical-align: top;\n",
       "    }\n",
       "\n",
       "    .dataframe thead th {\n",
       "        text-align: right;\n",
       "    }\n",
       "</style>\n",
       "<table border=\"1\" class=\"dataframe\">\n",
       "  <thead>\n",
       "    <tr style=\"text-align: right;\">\n",
       "      <th></th>\n",
       "      <th>Id</th>\n",
       "      <th>Price</th>\n",
       "      <th>ViewCount</th>\n",
       "      <th>Name</th>\n",
       "      <th>Description</th>\n",
       "      <th>TagsString</th>\n",
       "      <th>SearchVector</th>\n",
       "      <th>Type</th>\n",
       "    </tr>\n",
       "  </thead>\n",
       "  <tbody>\n",
       "    <tr>\n",
       "      <th>0</th>\n",
       "      <td>8345</td>\n",
       "      <td>0.9</td>\n",
       "      <td>0</td>\n",
       "      <td>Cookie</td>\n",
       "      <td>Freshly baked cookies. One order comes with on...</td>\n",
       "      <td>NaN</td>\n",
       "      <td>'cooki':1</td>\n",
       "      <td>Main</td>\n",
       "    </tr>\n",
       "    <tr>\n",
       "      <th>1</th>\n",
       "      <td>8346</td>\n",
       "      <td>7.0</td>\n",
       "      <td>0</td>\n",
       "      <td>12 Cookies</td>\n",
       "      <td>Freshly baked cookies. One order comes with tw...</td>\n",
       "      <td>NaN</td>\n",
       "      <td>'12':1 'cooki':2</td>\n",
       "      <td>Main</td>\n",
       "    </tr>\n",
       "    <tr>\n",
       "      <th>2</th>\n",
       "      <td>2046</td>\n",
       "      <td>18.0</td>\n",
       "      <td>0</td>\n",
       "      <td>Sausage Hash-n-eggs</td>\n",
       "      <td>NaN</td>\n",
       "      <td>NaN</td>\n",
       "      <td>'egg':5 'hash':3 'hash-n-egg':2 'n':4 'sausag':1</td>\n",
       "      <td>Main</td>\n",
       "    </tr>\n",
       "    <tr>\n",
       "      <th>3</th>\n",
       "      <td>2047</td>\n",
       "      <td>18.0</td>\n",
       "      <td>0</td>\n",
       "      <td>Ham Hash-n-eggs</td>\n",
       "      <td>NaN</td>\n",
       "      <td>NaN</td>\n",
       "      <td>'egg':5 'ham':1 'hash':3 'hash-n-egg':2 'n':4</td>\n",
       "      <td>Main</td>\n",
       "    </tr>\n",
       "    <tr>\n",
       "      <th>4</th>\n",
       "      <td>2048</td>\n",
       "      <td>18.0</td>\n",
       "      <td>0</td>\n",
       "      <td>Debakon Hash-n-eggs</td>\n",
       "      <td>DeBakon with hash-n-eggs.</td>\n",
       "      <td>NaN</td>\n",
       "      <td>'debakon':1 'egg':5 'hash':3 'hash-n-egg':2 'n':4</td>\n",
       "      <td>Main</td>\n",
       "    </tr>\n",
       "  </tbody>\n",
       "</table>\n",
       "</div>"
      ],
      "text/plain": [
       "     Id  Price  ViewCount                 Name  \\\n",
       "0  8345    0.9          0               Cookie   \n",
       "1  8346    7.0          0           12 Cookies   \n",
       "2  2046   18.0          0  Sausage Hash-n-eggs   \n",
       "3  2047   18.0          0      Ham Hash-n-eggs   \n",
       "4  2048   18.0          0  Debakon Hash-n-eggs   \n",
       "\n",
       "                                         Description TagsString  \\\n",
       "0  Freshly baked cookies. One order comes with on...        NaN   \n",
       "1  Freshly baked cookies. One order comes with tw...        NaN   \n",
       "2                                                NaN        NaN   \n",
       "3                                                NaN        NaN   \n",
       "4                          DeBakon with hash-n-eggs.        NaN   \n",
       "\n",
       "                                        SearchVector  Type  \n",
       "0                                          'cooki':1  Main  \n",
       "1                                   '12':1 'cooki':2  Main  \n",
       "2   'egg':5 'hash':3 'hash-n-egg':2 'n':4 'sausag':1  Main  \n",
       "3      'egg':5 'ham':1 'hash':3 'hash-n-egg':2 'n':4  Main  \n",
       "4  'debakon':1 'egg':5 'hash':3 'hash-n-egg':2 'n':4  Main  "
      ]
     },
     "execution_count": 3,
     "metadata": {},
     "output_type": "execute_result"
    }
   ],
   "source": [
    "food_items = pd.read_csv('../data/itemsInfo_full.csv',low_memory=False)\n",
    "food_items.head()"
   ]
  },
  {
   "cell_type": "code",
   "execution_count": 4,
   "metadata": {},
   "outputs": [],
   "source": [
    "food_items.columns = [c.lower() for c in food_items.columns]\n",
    "orders.columns = [c.lower() for c in orders.columns]"
   ]
  },
  {
   "cell_type": "code",
   "execution_count": 5,
   "metadata": {},
   "outputs": [
    {
     "name": "stdout",
     "output_type": "stream",
     "text": [
      "<class 'pandas.core.frame.DataFrame'>\n",
      "RangeIndex: 68100 entries, 0 to 68099\n",
      "Data columns (total 8 columns):\n",
      " #   Column        Non-Null Count  Dtype  \n",
      "---  ------        --------------  -----  \n",
      " 0   id            68100 non-null  int64  \n",
      " 1   price         67938 non-null  float64\n",
      " 2   viewcount     68100 non-null  int64  \n",
      " 3   name          68082 non-null  object \n",
      " 4   description   48742 non-null  object \n",
      " 5   tagsstring    34591 non-null  object \n",
      " 6   searchvector  68081 non-null  object \n",
      " 7   type          68082 non-null  object \n",
      "dtypes: float64(1), int64(2), object(5)\n",
      "memory usage: 4.2+ MB\n"
     ]
    }
   ],
   "source": [
    "food_items.info()"
   ]
  },
  {
   "cell_type": "code",
   "execution_count": 6,
   "metadata": {},
   "outputs": [
    {
     "data": {
      "text/plain": [
       "19358"
      ]
     },
     "execution_count": 6,
     "metadata": {},
     "output_type": "execute_result"
    }
   ],
   "source": [
    "food_items.description.isna().sum()"
   ]
  },
  {
   "cell_type": "code",
   "execution_count": 7,
   "metadata": {},
   "outputs": [],
   "source": [
    "#items = items[~items.description.isna()].reset_index(drop=True)"
   ]
  },
  {
   "cell_type": "code",
   "execution_count": 8,
   "metadata": {},
   "outputs": [
    {
     "data": {
      "text/plain": [
       "0        Freshly baked cookies. One order comes with on...\n",
       "1        Freshly baked cookies. One order comes with tw...\n",
       "2                                                      NaN\n",
       "3                                                      NaN\n",
       "4                                DeBakon with hash-n-eggs.\n",
       "                               ...                        \n",
       "68095                                                  NaN\n",
       "68096                                                  NaN\n",
       "68097    White radish, carrot, mini cucumber, Japanese ...\n",
       "68098                                                  NaN\n",
       "68099                                                  NaN\n",
       "Name: description, Length: 68100, dtype: object"
      ]
     },
     "execution_count": 8,
     "metadata": {},
     "output_type": "execute_result"
    }
   ],
   "source": [
    "food_items.description"
   ]
  },
  {
   "cell_type": "code",
   "execution_count": 9,
   "metadata": {},
   "outputs": [
    {
     "data": {
      "image/png": "[encoded data removed]",
      "text/plain": [
       "<Figure size 576x360 with 1 Axes>"
      ]
     },
     "metadata": {
      "needs_background": "light"
     },
     "output_type": "display_data"
    }
   ],
   "source": [
    "food_items['name'].value_counts()[0:10].plot(kind ='barh', figsize=[8,5], fontsize=15, color='navy').invert_yaxis()\n"
   ]
  },
  {
   "cell_type": "code",
   "execution_count": 10,
   "metadata": {},
   "outputs": [],
   "source": [
    "#items = items[~(items.description.duplicated() & items.name)].reset_index(drop=True)"
   ]
  },
  {
   "cell_type": "code",
   "execution_count": 11,
   "metadata": {},
   "outputs": [],
   "source": [
    "food_items.drop_duplicates(subset = ['name','description'], keep = 'first', inplace = True)\n",
    "food_items.reset_index(drop=True, inplace=True);"
   ]
  },
  {
   "cell_type": "code",
   "execution_count": 12,
   "metadata": {},
   "outputs": [
    {
     "data": {
      "text/plain": [
       "RangeIndex(start=0, stop=49316, step=1)"
      ]
     },
     "execution_count": 12,
     "metadata": {},
     "output_type": "execute_result"
    }
   ],
   "source": [
    "food_items.index"
   ]
  },
  {
   "cell_type": "code",
   "execution_count": 13,
   "metadata": {},
   "outputs": [
    {
     "data": {
      "text/plain": [
       "Index(['id', 'price', 'viewcount', 'name', 'description', 'tagsstring',\n",
       "       'searchvector', 'type'],\n",
       "      dtype='object')"
      ]
     },
     "execution_count": 13,
     "metadata": {},
     "output_type": "execute_result"
    }
   ],
   "source": [
    "food_items.columns"
   ]
  },
  {
   "cell_type": "markdown",
   "metadata": {},
   "source": [
    "After testing different approaches to get the best result for the simiar foods, we learnt, combining different columns with good information can increase the similarity rate. Therefore we combined the name and description of the food and the results were awesome. Also another reason was, that some resutauarnts did not add a good or at all the descriotion for the foods and we did not want to lose any order."
   ]
  },
  {
   "cell_type": "code",
   "execution_count": 14,
   "metadata": {},
   "outputs": [],
   "source": [
    "food_items['bow'] = food_items['name'].map(str) + ',' + food_items['description'].map(str)\n",
    "food_items['tokenized'] = food_items.bow.apply(tokenize)\n",
    "food_items['tokens'] = food_items.tokenized.apply(lambda x: ','.join(map(str,x)))"
   ]
  },
  {
   "cell_type": "code",
   "execution_count": 15,
   "metadata": {},
   "outputs": [
    {
     "name": "stdout",
     "output_type": "stream",
     "text": [
      "<class 'pandas.core.frame.DataFrame'>\n",
      "RangeIndex: 49316 entries, 0 to 49315\n",
      "Data columns (total 11 columns):\n",
      " #   Column        Non-Null Count  Dtype  \n",
      "---  ------        --------------  -----  \n",
      " 0   id            49316 non-null  int64  \n",
      " 1   price         49167 non-null  float64\n",
      " 2   viewcount     49316 non-null  int64  \n",
      " 3   name          49315 non-null  object \n",
      " 4   description   35456 non-null  object \n",
      " 5   tagsstring    26058 non-null  object \n",
      " 6   searchvector  49314 non-null  object \n",
      " 7   type          49315 non-null  object \n",
      " 8   bow           49316 non-null  object \n",
      " 9   tokenized     49316 non-null  object \n",
      " 10  tokens        49316 non-null  object \n",
      "dtypes: float64(1), int64(2), object(8)\n",
      "memory usage: 4.1+ MB\n"
     ]
    }
   ],
   "source": [
    "food_items.info()"
   ]
  },
  {
   "cell_type": "code",
   "execution_count": 16,
   "metadata": {},
   "outputs": [],
   "source": [
    "# vectorise the tokens\n",
    "counter = CountVectorizer()\n",
    "count_matrix = counter.fit_transform(food_items.tokens)"
   ]
  },
  {
   "cell_type": "code",
   "execution_count": 17,
   "metadata": {},
   "outputs": [
    {
     "name": "stdout",
     "output_type": "stream",
     "text": [
      "[[1.         0.85280287 0.         ... 0.         0.         0.        ]\n",
      " [0.85280287 1.         0.         ... 0.         0.         0.        ]\n",
      " [0.         0.         1.         ... 0.         0.         0.        ]\n",
      " ...\n",
      " [0.         0.         0.         ... 1.         0.         0.        ]\n",
      " [0.         0.         0.         ... 0.         1.         0.05634362]\n",
      " [0.         0.         0.         ... 0.         0.05634362 1.        ]]\n"
     ]
    }
   ],
   "source": [
    "cosine_sim = cosine_similarity(count_matrix)\n",
    "print(cosine_sim)"
   ]
  },
  {
   "cell_type": "markdown",
   "metadata": {},
   "source": [
    "### Sample recommendation based on similar food"
   ]
  },
  {
   "cell_type": "code",
   "execution_count": 18,
   "metadata": {},
   "outputs": [
    {
     "name": "stdout",
     "output_type": "stream",
     "text": [
      "The item name is Whistle Chicken Hot Pot\n",
      "The description is:nan\n"
     ]
    }
   ],
   "source": [
    "sample_item = food_items.iloc[266]\n",
    "sample_name = sample_item['name']\n",
    "sample_desc = sample_item['description']\n",
    "print('The item name is {}\\nThe description is:{}'.format(sample_name,sample_desc))"
   ]
  },
  {
   "cell_type": "code",
   "execution_count": 19,
   "metadata": {},
   "outputs": [
    {
     "name": "stdout",
     "output_type": "stream",
     "text": [
      "Total similar foods count:  20\n"
     ]
    }
   ],
   "source": [
    "recommended_items = recommend(sample_name,food_items,cosine_sim)"
   ]
  },
  {
   "cell_type": "code",
   "execution_count": 20,
   "metadata": {},
   "outputs": [
    {
     "name": "stdout",
     "output_type": "stream",
     "text": [
      "item:  254. Salted Fish And Diced Chicken With Eggplant Hot Pot\n",
      "item:  160. Boneless Chicken Hot Pot\n",
      "item:  Hot Chicken Wings\n",
      "item:  Chinese Fungus With Chicken Hot Pot\n",
      "item:  Singing Chicken Hot Pot\n",
      "item:  111. Spicy Szechuan Chicken Hot Pot\n",
      "item:  Kimchi Hot Pot\n",
      "item:  882. Spicy Chicken In Hot Pot\n",
      "item:  Chinese Herb And Chicken Hot Pot With Japanese Mountain Yam\n",
      "item:  111. Diced Chicken And Salted Fish With Tofu Hot Pot\n",
      "item:  64. Chicken With Ginger And Green Onion Hot Pot\n",
      "item:  84. Singing Chicken Hot Pot\n",
      "item:  Salty Fish With Chicken And Bean Curd Hot Pot\n",
      "item:  108. Sizzling Chicken Hot Pot\n",
      "item:  165. Chicken And Salted Fish With Tofu Hot Pot\n",
      "item:  Hammer Hot Chicken\n",
      "item:  Sizzling Chicken Hot Pot\n",
      "item:  112. Diced Chicken With Salty Fish And Tofu Hot Pot\n",
      "item:  Diced Chicken And Salted Fish With Tofu Hot Pot\n",
      "item:  258. Liver And Chinese Sausage With Singing Chicken Hot Pot\n"
     ]
    }
   ],
   "source": [
    "for item in recommended_items:\n",
    "    print(\"item: \",item)"
   ]
  },
  {
   "cell_type": "markdown",
   "metadata": {},
   "source": [
    "### Now we will recommend based on the user order history and similarity to the top ordered food"
   ]
  },
  {
   "cell_type": "code",
   "execution_count": 21,
   "metadata": {},
   "outputs": [
    {
     "data": {
      "text/plain": [
       "1678"
      ]
     },
     "execution_count": 21,
     "metadata": {},
     "output_type": "execute_result"
    }
   ],
   "source": [
    "user_ids = list(set(orders.userid))\n",
    "sample_userid = orders[orders.userid == random.choice(user_ids)].userid.values[0]\n",
    "sample_userid"
   ]
  },
  {
   "cell_type": "code",
   "execution_count": 22,
   "metadata": {},
   "outputs": [
    {
     "name": "stdout",
     "output_type": "stream",
     "text": [
      "Top order food is:  Crispy Free Run Chicken Sandwich\n",
      "Top order food description is:  8oz boneless chicken leg marinated in buttermilk, coated with nextjen gluten-free mix and fried to order. served with toasted bun, honey hot sauce, shaved iceberg lettuce, red onions, house made pickles. make it Gluten-Free by choosing GF bun option.\n",
      "Total similar foods count:  4\n"
     ]
    }
   ],
   "source": [
    "recommended_items = historical_recommend(sample_userid,orders,food_items,cosine_sim)"
   ]
  },
  {
   "cell_type": "code",
   "execution_count": 23,
   "metadata": {},
   "outputs": [
    {
     "name": "stdout",
     "output_type": "stream",
     "text": [
      "item:  Red Hot Crispy Buffalo Chicken Sandwich\n",
      "item:  HH Falafel Sandwich\n",
      "item:  House Made Falafel Sandwich (ve)\n",
      "item:  HH Crispy Chicken Sandwich\n"
     ]
    }
   ],
   "source": [
    "for item in recommended_items:\n",
    "    print(\"item: \",item)"
   ]
  },
  {
   "cell_type": "markdown",
   "metadata": {},
   "source": [
    "This section we just recommend based on selected ingredients"
   ]
  },
  {
   "cell_type": "code",
   "execution_count": 24,
   "metadata": {},
   "outputs": [
    {
     "name": "stdout",
     "output_type": "stream",
     "text": [
      "Total food item found: 1\n",
      "\n",
      "item name: Vegetable Fried Rice\n",
      "item description is: Carrots, corn, onions, mushrooms, and peas with a fried egg.\n"
     ]
    }
   ],
   "source": [
    "ingredient1 = 'mushroom'\n",
    "ingredient2 = 'onion'\n",
    "ingredient3 = 'rice'\n",
    "ingredient4 = 'carrots'\n",
    "\n",
    "ingredients = [ingredient1,ingredient2,ingredient3,ingredient4]\n",
    "ingredient_recommendation(food_items,ingredients)\n"
   ]
  },
  {
   "cell_type": "markdown",
   "metadata": {},
   "source": [
    "### Lets explore Clustering of the foods"
   ]
  },
  {
   "cell_type": "code",
   "execution_count": 25,
   "metadata": {},
   "outputs": [
    {
     "data": {
      "text/html": [
       "<div>\n",
       "<style scoped>\n",
       "    .dataframe tbody tr th:only-of-type {\n",
       "        vertical-align: middle;\n",
       "    }\n",
       "\n",
       "    .dataframe tbody tr th {\n",
       "        vertical-align: top;\n",
       "    }\n",
       "\n",
       "    .dataframe thead th {\n",
       "        text-align: right;\n",
       "    }\n",
       "</style>\n",
       "<table border=\"1\" class=\"dataframe\">\n",
       "  <thead>\n",
       "    <tr style=\"text-align: right;\">\n",
       "      <th></th>\n",
       "      <th>orderid</th>\n",
       "      <th>userid</th>\n",
       "      <th>restaurantid</th>\n",
       "      <th>date</th>\n",
       "      <th>rating</th>\n",
       "      <th>comments</th>\n",
       "      <th>address</th>\n",
       "      <th>count</th>\n",
       "      <th>itemid</th>\n",
       "      <th>price</th>\n",
       "      <th>viewcount</th>\n",
       "      <th>name</th>\n",
       "      <th>description</th>\n",
       "      <th>searchvector</th>\n",
       "      <th>type</th>\n",
       "    </tr>\n",
       "  </thead>\n",
       "  <tbody>\n",
       "    <tr>\n",
       "      <th>0</th>\n",
       "      <td>8</td>\n",
       "      <td>113</td>\n",
       "      <td>110</td>\n",
       "      <td>2020-03-28 08:15:25.615002</td>\n",
       "      <td>NaN</td>\n",
       "      <td>NaN</td>\n",
       "      <td>{'Id': 4, 'Lat': 49.28319399999999, 'Lng': -12...</td>\n",
       "      <td>1</td>\n",
       "      <td>211</td>\n",
       "      <td>15.0</td>\n",
       "      <td>0.0</td>\n",
       "      <td>Tableside Spinach Salad</td>\n",
       "      <td>NaN</td>\n",
       "      <td>'almond':8 'babi':4 'bacon':11 'jack':10 'mont...</td>\n",
       "      <td>Main</td>\n",
       "    </tr>\n",
       "    <tr>\n",
       "      <th>1</th>\n",
       "      <td>8</td>\n",
       "      <td>113</td>\n",
       "      <td>110</td>\n",
       "      <td>2020-03-28 08:15:25.615002</td>\n",
       "      <td>NaN</td>\n",
       "      <td>NaN</td>\n",
       "      <td>{'Id': 4, 'Lat': 49.28319399999999, 'Lng': -12...</td>\n",
       "      <td>1</td>\n",
       "      <td>218</td>\n",
       "      <td>27.0</td>\n",
       "      <td>0.0</td>\n",
       "      <td>King Crab</td>\n",
       "      <td>NaN</td>\n",
       "      <td>'blanc':9 'buerr':8 'caper':7 'char':3 'chilli...</td>\n",
       "      <td>Main</td>\n",
       "    </tr>\n",
       "    <tr>\n",
       "      <th>2</th>\n",
       "      <td>293</td>\n",
       "      <td>4</td>\n",
       "      <td>121</td>\n",
       "      <td>2020-05-13 01:20:59.267256</td>\n",
       "      <td>NaN</td>\n",
       "      <td>NaN</td>\n",
       "      <td>NaN</td>\n",
       "      <td>1</td>\n",
       "      <td>440</td>\n",
       "      <td>14.0</td>\n",
       "      <td>1097.0</td>\n",
       "      <td>Joojeh Kabab With Rice</td>\n",
       "      <td>One skewer of chicken breast marinated with yo...</td>\n",
       "      <td>'bbq':14 'chicken':11 'joojeh':1 'juic':9 'kab...</td>\n",
       "      <td>Main</td>\n",
       "    </tr>\n",
       "    <tr>\n",
       "      <th>3</th>\n",
       "      <td>294</td>\n",
       "      <td>3</td>\n",
       "      <td>121</td>\n",
       "      <td>2020-05-13 17:34:35.519326</td>\n",
       "      <td>NaN</td>\n",
       "      <td>NaN</td>\n",
       "      <td>NaN</td>\n",
       "      <td>1</td>\n",
       "      <td>455</td>\n",
       "      <td>1.5</td>\n",
       "      <td>9.0</td>\n",
       "      <td>Regular Coffee</td>\n",
       "      <td>NaN</td>\n",
       "      <td>'coffe':2 'regular':1</td>\n",
       "      <td>Drink</td>\n",
       "    </tr>\n",
       "    <tr>\n",
       "      <th>4</th>\n",
       "      <td>297</td>\n",
       "      <td>142</td>\n",
       "      <td>121</td>\n",
       "      <td>2020-05-14 00:08:48.756423</td>\n",
       "      <td>NaN</td>\n",
       "      <td>NaN</td>\n",
       "      <td>NaN</td>\n",
       "      <td>1</td>\n",
       "      <td>540</td>\n",
       "      <td>9.9</td>\n",
       "      <td>485.0</td>\n",
       "      <td>Kashk Bademjan</td>\n",
       "      <td>Barbequed eggplant, lentils, fried onions, gar...</td>\n",
       "      <td>'bademjan':2 'bbq':8 'egg':10 'eggplant':6 'ga...</td>\n",
       "      <td>Main</td>\n",
       "    </tr>\n",
       "  </tbody>\n",
       "</table>\n",
       "</div>"
      ],
      "text/plain": [
       "   orderid  userid  restaurantid                        date  rating comments  \\\n",
       "0        8     113           110  2020-03-28 08:15:25.615002     NaN      NaN   \n",
       "1        8     113           110  2020-03-28 08:15:25.615002     NaN      NaN   \n",
       "2      293       4           121  2020-05-13 01:20:59.267256     NaN      NaN   \n",
       "3      294       3           121  2020-05-13 17:34:35.519326     NaN      NaN   \n",
       "4      297     142           121  2020-05-14 00:08:48.756423     NaN      NaN   \n",
       "\n",
       "                                             address  count  itemid  price  \\\n",
       "0  {'Id': 4, 'Lat': 49.28319399999999, 'Lng': -12...      1     211   15.0   \n",
       "1  {'Id': 4, 'Lat': 49.28319399999999, 'Lng': -12...      1     218   27.0   \n",
       "2                                                NaN      1     440   14.0   \n",
       "3                                                NaN      1     455    1.5   \n",
       "4                                                NaN      1     540    9.9   \n",
       "\n",
       "   viewcount                     name  \\\n",
       "0        0.0  Tableside Spinach Salad   \n",
       "1        0.0                King Crab   \n",
       "2     1097.0   Joojeh Kabab With Rice   \n",
       "3        9.0           Regular Coffee   \n",
       "4      485.0           Kashk Bademjan   \n",
       "\n",
       "                                         description  \\\n",
       "0                                                NaN   \n",
       "1                                                NaN   \n",
       "2  One skewer of chicken breast marinated with yo...   \n",
       "3                                                NaN   \n",
       "4  Barbequed eggplant, lentils, fried onions, gar...   \n",
       "\n",
       "                                        searchvector   type  \n",
       "0  'almond':8 'babi':4 'bacon':11 'jack':10 'mont...   Main  \n",
       "1  'blanc':9 'buerr':8 'caper':7 'char':3 'chilli...   Main  \n",
       "2  'bbq':14 'chicken':11 'joojeh':1 'juic':9 'kab...   Main  \n",
       "3                              'coffe':2 'regular':1  Drink  \n",
       "4  'bademjan':2 'bbq':8 'egg':10 'eggplant':6 'ga...   Main  "
      ]
     },
     "execution_count": 25,
     "metadata": {},
     "output_type": "execute_result"
    }
   ],
   "source": [
    "orders.head()"
   ]
  },
  {
   "cell_type": "code",
   "execution_count": 26,
   "metadata": {},
   "outputs": [],
   "source": [
    "orders['bow'] = orders['name'].map(str) + ',' + orders['description'].map(str)\n",
    "orders['tokenized'] = orders.bow.apply(tokenize)\n",
    "orders['tokens'] = orders.tokenized.apply(lambda x: ','.join(map(str,x)))"
   ]
  },
  {
   "cell_type": "code",
   "execution_count": 27,
   "metadata": {},
   "outputs": [
    {
     "data": {
      "text/html": [
       "<div>\n",
       "<style scoped>\n",
       "    .dataframe tbody tr th:only-of-type {\n",
       "        vertical-align: middle;\n",
       "    }\n",
       "\n",
       "    .dataframe tbody tr th {\n",
       "        vertical-align: top;\n",
       "    }\n",
       "\n",
       "    .dataframe thead th {\n",
       "        text-align: right;\n",
       "    }\n",
       "</style>\n",
       "<table border=\"1\" class=\"dataframe\">\n",
       "  <thead>\n",
       "    <tr style=\"text-align: right;\">\n",
       "      <th></th>\n",
       "      <th>orderid</th>\n",
       "      <th>userid</th>\n",
       "      <th>restaurantid</th>\n",
       "      <th>date</th>\n",
       "      <th>rating</th>\n",
       "      <th>comments</th>\n",
       "      <th>address</th>\n",
       "      <th>count</th>\n",
       "      <th>itemid</th>\n",
       "      <th>price</th>\n",
       "      <th>viewcount</th>\n",
       "      <th>name</th>\n",
       "      <th>description</th>\n",
       "      <th>searchvector</th>\n",
       "      <th>type</th>\n",
       "      <th>bow</th>\n",
       "      <th>tokenized</th>\n",
       "      <th>tokens</th>\n",
       "    </tr>\n",
       "  </thead>\n",
       "  <tbody>\n",
       "    <tr>\n",
       "      <th>0</th>\n",
       "      <td>8</td>\n",
       "      <td>113</td>\n",
       "      <td>110</td>\n",
       "      <td>2020-03-28 08:15:25.615002</td>\n",
       "      <td>NaN</td>\n",
       "      <td>NaN</td>\n",
       "      <td>{'Id': 4, 'Lat': 49.28319399999999, 'Lng': -12...</td>\n",
       "      <td>1</td>\n",
       "      <td>211</td>\n",
       "      <td>15.0</td>\n",
       "      <td>0.0</td>\n",
       "      <td>Tableside Spinach Salad</td>\n",
       "      <td>NaN</td>\n",
       "      <td>'almond':8 'babi':4 'bacon':11 'jack':10 'mont...</td>\n",
       "      <td>Main</td>\n",
       "      <td>Tableside Spinach Salad,nan</td>\n",
       "      <td>[tableside spinach salad]</td>\n",
       "      <td>tableside spinach salad</td>\n",
       "    </tr>\n",
       "    <tr>\n",
       "      <th>1</th>\n",
       "      <td>8</td>\n",
       "      <td>113</td>\n",
       "      <td>110</td>\n",
       "      <td>2020-03-28 08:15:25.615002</td>\n",
       "      <td>NaN</td>\n",
       "      <td>NaN</td>\n",
       "      <td>{'Id': 4, 'Lat': 49.28319399999999, 'Lng': -12...</td>\n",
       "      <td>1</td>\n",
       "      <td>218</td>\n",
       "      <td>27.0</td>\n",
       "      <td>0.0</td>\n",
       "      <td>King Crab</td>\n",
       "      <td>NaN</td>\n",
       "      <td>'blanc':9 'buerr':8 'caper':7 'char':3 'chilli...</td>\n",
       "      <td>Main</td>\n",
       "      <td>King Crab,nan</td>\n",
       "      <td>[king crab]</td>\n",
       "      <td>king crab</td>\n",
       "    </tr>\n",
       "    <tr>\n",
       "      <th>2</th>\n",
       "      <td>293</td>\n",
       "      <td>4</td>\n",
       "      <td>121</td>\n",
       "      <td>2020-05-13 01:20:59.267256</td>\n",
       "      <td>NaN</td>\n",
       "      <td>NaN</td>\n",
       "      <td>NaN</td>\n",
       "      <td>1</td>\n",
       "      <td>440</td>\n",
       "      <td>14.0</td>\n",
       "      <td>1097.0</td>\n",
       "      <td>Joojeh Kabab With Rice</td>\n",
       "      <td>One skewer of chicken breast marinated with yo...</td>\n",
       "      <td>'bbq':14 'chicken':11 'joojeh':1 'juic':9 'kab...</td>\n",
       "      <td>Main</td>\n",
       "      <td>Joojeh Kabab With Rice,One skewer of chicken b...</td>\n",
       "      <td>[chicken breast marinated, one skewer, olive o...</td>\n",
       "      <td>chicken breast marinated,one skewer,olive oil,...</td>\n",
       "    </tr>\n",
       "    <tr>\n",
       "      <th>3</th>\n",
       "      <td>294</td>\n",
       "      <td>3</td>\n",
       "      <td>121</td>\n",
       "      <td>2020-05-13 17:34:35.519326</td>\n",
       "      <td>NaN</td>\n",
       "      <td>NaN</td>\n",
       "      <td>NaN</td>\n",
       "      <td>1</td>\n",
       "      <td>455</td>\n",
       "      <td>1.5</td>\n",
       "      <td>9.0</td>\n",
       "      <td>Regular Coffee</td>\n",
       "      <td>NaN</td>\n",
       "      <td>'coffe':2 'regular':1</td>\n",
       "      <td>Drink</td>\n",
       "      <td>Regular Coffee,nan</td>\n",
       "      <td>[regular coffee]</td>\n",
       "      <td>regular coffee</td>\n",
       "    </tr>\n",
       "    <tr>\n",
       "      <th>4</th>\n",
       "      <td>297</td>\n",
       "      <td>142</td>\n",
       "      <td>121</td>\n",
       "      <td>2020-05-14 00:08:48.756423</td>\n",
       "      <td>NaN</td>\n",
       "      <td>NaN</td>\n",
       "      <td>NaN</td>\n",
       "      <td>1</td>\n",
       "      <td>540</td>\n",
       "      <td>9.9</td>\n",
       "      <td>485.0</td>\n",
       "      <td>Kashk Bademjan</td>\n",
       "      <td>Barbequed eggplant, lentils, fried onions, gar...</td>\n",
       "      <td>'bademjan':2 'bbq':8 'egg':10 'eggplant':6 'ga...</td>\n",
       "      <td>Main</td>\n",
       "      <td>Kashk Bademjan,Barbequed eggplant, lentils, fr...</td>\n",
       "      <td>[kashk bademjan, fried onions, barbequed eggpl...</td>\n",
       "      <td>kashk bademjan,fried onions,barbequed eggplant...</td>\n",
       "    </tr>\n",
       "  </tbody>\n",
       "</table>\n",
       "</div>"
      ],
      "text/plain": [
       "   orderid  userid  restaurantid                        date  rating comments  \\\n",
       "0        8     113           110  2020-03-28 08:15:25.615002     NaN      NaN   \n",
       "1        8     113           110  2020-03-28 08:15:25.615002     NaN      NaN   \n",
       "2      293       4           121  2020-05-13 01:20:59.267256     NaN      NaN   \n",
       "3      294       3           121  2020-05-13 17:34:35.519326     NaN      NaN   \n",
       "4      297     142           121  2020-05-14 00:08:48.756423     NaN      NaN   \n",
       "\n",
       "                                             address  count  itemid  price  \\\n",
       "0  {'Id': 4, 'Lat': 49.28319399999999, 'Lng': -12...      1     211   15.0   \n",
       "1  {'Id': 4, 'Lat': 49.28319399999999, 'Lng': -12...      1     218   27.0   \n",
       "2                                                NaN      1     440   14.0   \n",
       "3                                                NaN      1     455    1.5   \n",
       "4                                                NaN      1     540    9.9   \n",
       "\n",
       "   viewcount                     name  \\\n",
       "0        0.0  Tableside Spinach Salad   \n",
       "1        0.0                King Crab   \n",
       "2     1097.0   Joojeh Kabab With Rice   \n",
       "3        9.0           Regular Coffee   \n",
       "4      485.0           Kashk Bademjan   \n",
       "\n",
       "                                         description  \\\n",
       "0                                                NaN   \n",
       "1                                                NaN   \n",
       "2  One skewer of chicken breast marinated with yo...   \n",
       "3                                                NaN   \n",
       "4  Barbequed eggplant, lentils, fried onions, gar...   \n",
       "\n",
       "                                        searchvector   type  \\\n",
       "0  'almond':8 'babi':4 'bacon':11 'jack':10 'mont...   Main   \n",
       "1  'blanc':9 'buerr':8 'caper':7 'char':3 'chilli...   Main   \n",
       "2  'bbq':14 'chicken':11 'joojeh':1 'juic':9 'kab...   Main   \n",
       "3                              'coffe':2 'regular':1  Drink   \n",
       "4  'bademjan':2 'bbq':8 'egg':10 'eggplant':6 'ga...   Main   \n",
       "\n",
       "                                                 bow  \\\n",
       "0                        Tableside Spinach Salad,nan   \n",
       "1                                      King Crab,nan   \n",
       "2  Joojeh Kabab With Rice,One skewer of chicken b...   \n",
       "3                                 Regular Coffee,nan   \n",
       "4  Kashk Bademjan,Barbequed eggplant, lentils, fr...   \n",
       "\n",
       "                                           tokenized  \\\n",
       "0                          [tableside spinach salad]   \n",
       "1                                        [king crab]   \n",
       "2  [chicken breast marinated, one skewer, olive o...   \n",
       "3                                   [regular coffee]   \n",
       "4  [kashk bademjan, fried onions, barbequed eggpl...   \n",
       "\n",
       "                                              tokens  \n",
       "0                            tableside spinach salad  \n",
       "1                                          king crab  \n",
       "2  chicken breast marinated,one skewer,olive oil,...  \n",
       "3                                     regular coffee  \n",
       "4  kashk bademjan,fried onions,barbequed eggplant...  "
      ]
     },
     "execution_count": 27,
     "metadata": {},
     "output_type": "execute_result"
    }
   ],
   "source": [
    "orders.head()"
   ]
  },
  {
   "cell_type": "code",
   "execution_count": 3,
   "metadata": {},
   "outputs": [],
   "source": [
    "items = pd.read_csv('../data/itemsinfo_full.csv')\n",
    "items.drop_duplicates(subset=['Name'], keep='first',inplace = True)\n",
    "items.dropna(subset=['Name'], inplace = True)"
   ]
  },
  {
   "cell_type": "code",
   "execution_count": 5,
   "metadata": {},
   "outputs": [],
   "source": [
    "items['bow'] = items['Name'].map(str) + ',' + items['Description'].map(str)\n",
    "items['tokenized'] = items.bow.apply(tokenize)\n",
    "items['tokens'] = items.tokenized.apply(lambda x: ','.join(map(str,x)))"
   ]
  },
  {
   "cell_type": "code",
   "execution_count": 109,
   "metadata": {},
   "outputs": [
    {
     "name": "stdout",
     "output_type": "stream",
     "text": [
      "(41207, 41207)\n"
     ]
    }
   ],
   "source": [
    "# vectorise the tokens\n",
    "counter = CountVectorizer()\n",
    "item_count_matrix = counter.fit_transform(items.tokens)\n",
    "cosine_sim = cosine_similarity(item_count_matrix)\n",
    "print(cosine_sim.shape)\n"
   ]
  },
  {
   "cell_type": "code",
   "execution_count": 110,
   "metadata": {},
   "outputs": [
    {
     "name": "stdout",
     "output_type": "stream",
     "text": [
      "(41207, 50)\n"
     ]
    }
   ],
   "source": [
    "pca = PCA(n_components=50)\n",
    "pca_trasnform = pca.fit_transform(cosine_sim)\n",
    "print(pca_trasnform.shape)"
   ]
  },
  {
   "cell_type": "code",
   "execution_count": 43,
   "metadata": {},
   "outputs": [],
   "source": [
    "kmeans_kwargs = {\n",
    "        \"init\": \"random\",\n",
    "        \"n_init\": 10,\n",
    "        \"max_iter\": 1000,\n",
    "        \"random_state\": 42,}\n",
    "\n",
    "# making a list of sum of squared errors for different cluster amounts (1-19)\n",
    "sse = []\n",
    "for k in range(2, 50):\n",
    "    kmeans = KMeans(n_clusters=k, **kmeans_kwargs)\n",
    "    kmeans.fit(pca_trasnform)\n",
    "    sse.append(kmeans.inertia_)"
   ]
  },
  {
   "cell_type": "code",
   "execution_count": 44,
   "metadata": {},
   "outputs": [
    {
     "name": "stdout",
     "output_type": "stream",
     "text": [
      "[6437469.860738154, 5447906.68722826, 4770770.574439687, 4399208.445005801, 4076824.831128313, 3873427.912731466, 3694652.1421866473, 3521089.0863479124, 3435355.1675602156, 3333645.6717995056, 3261235.9019013075, 3170563.4247235856, 3086554.8807803225, 3016327.3723611017, 2965349.142736233, 2910120.211953729, 2856911.677922154, 2798682.2888538945, 2749787.8264783463, 2713830.3582734363, 2679615.2894860147, 2635537.9512316654, 2594019.3496779767, 2571582.461193949, 2522656.5716468967, 2479201.4218132617, 2445290.2990244986, 2428574.796247945, 2404831.6963166585, 2374480.17031302, 2348887.133996783, 2323827.2453010934, 2302417.17942327, 2256213.28553558, 2278437.6763917175, 2278102.2153804563, 2249330.4385811607, 2239966.081345104, 2208653.256013954, 2195036.7368294303, 2177080.1966206953, 2167398.862236164, 2143249.5098138317, 2126778.027466754, 2103833.24124847, 2097783.0989719504, 2077609.247483776, 2058937.5670029058]\n"
     ]
    }
   ],
   "source": [
    "print(sse)"
   ]
  },
  {
   "cell_type": "code",
   "execution_count": 45,
   "metadata": {},
   "outputs": [
    {
     "data": {
      "image/png": "[encoded data removed]",
      "text/plain": [
       "<Figure size 1080x360 with 1 Axes>"
      ]
     },
     "metadata": {},
     "output_type": "display_data"
    }
   ],
   "source": [
    "plt.figure(figsize = (15,5))\n",
    "plt.style.use(\"fivethirtyeight\")\n",
    "plt.plot(range(2, 50), sse)\n",
    "plt.xticks(range(2, 50))\n",
    "plt.xlabel(\"Number of Clusters\")\n",
    "plt.ylabel(\"SSE\")\n",
    "plt.show()"
   ]
  },
  {
   "cell_type": "code",
   "execution_count": 137,
   "metadata": {},
   "outputs": [],
   "source": [
    "silhouette_coefficients = []\n",
    "\n",
    "for k in range(2, 50):\n",
    "    kmeans = KMeans(n_clusters=k,**kmeans_kwargs)\n",
    "    kmeans.fit(pca_trasnform)\n",
    "    score = silhouette_score(pca_trasnform, kmeans.labels_)\n",
    "    silhouette_coefficients.append(score)\n"
   ]
  },
  {
   "cell_type": "code",
   "execution_count": 47,
   "metadata": {},
   "outputs": [
    {
     "name": "stdout",
     "output_type": "stream",
     "text": [
      "max score:  0.3124835806438122\n",
      "min score:  0.16038370701132101\n"
     ]
    }
   ],
   "source": [
    "max_score = max(silhouette_coefficients)\n",
    "min_score = min(silhouette_coefficients)\n",
    "print('max score: ', max_score)\n",
    "print('min score: ', min_score)"
   ]
  },
  {
   "cell_type": "code",
   "execution_count": 114,
   "metadata": {},
   "outputs": [
    {
     "data": {
      "image/png": "[encoded data removed]",
      "text/plain": [
       "<Figure size 576x360 with 1 Axes>"
      ]
     },
     "metadata": {},
     "output_type": "display_data"
    }
   ],
   "source": [
    "# plotting the above \n",
    "y_max = [max_score] * len(silhouette_coefficients)\n",
    "y_min = [min_score] * len(silhouette_coefficients)\n",
    "\n",
    "plt.figure(figsize=(8,5))\n",
    "plt.style.use(\"fivethirtyeight\")\n",
    "plt.plot(range(2, 20), y_max,linestyle = 'dashed')\n",
    "plt.plot(range(2, 20), y_min,linestyle = 'dashed')\n",
    "plt.plot(range(2, 20),silhouette_coefficients )\n",
    "plt.xticks(range(2, 20))\n",
    "plt.xlabel(\"Number of Clusters\")\n",
    "plt.ylabel(\"Silhouette Coefficient\")\n",
    "plt.show()"
   ]
  },
  {
   "cell_type": "code",
   "execution_count": 115,
   "metadata": {},
   "outputs": [
    {
     "data": {
      "text/plain": [
       "(0.23, -0.28)"
      ]
     },
     "execution_count": 115,
     "metadata": {},
     "output_type": "execute_result"
    }
   ],
   "source": [
    "#comparing silhouette scores for 2 algos\n",
    "\n",
    "# Instantiate k-means and dbscan algorithms\n",
    "kmeans = KMeans(n_clusters=20)\n",
    "dbscan = DBSCAN(eps=2.2)\n",
    "\n",
    "# Fit the algorithms to the features\n",
    "kmeans.fit(pca_trasnform)\n",
    "dbscan.fit(pca_trasnform)\n",
    "\n",
    "# Compute the silhouette scores for each algorithm\n",
    "kmeans_silhouette = silhouette_score(pca_trasnform, kmeans.labels_).round(2)\n",
    "dbscan_silhouette = silhouette_score(pca_trasnform, dbscan.labels_).round (2)\n",
    "\n",
    "# comapring the KMeans and DBscan silhouette scores\n",
    "kmeans_silhouette, dbscan_silhouette"
   ]
  },
  {
   "cell_type": "code",
   "execution_count": 129,
   "metadata": {},
   "outputs": [],
   "source": [
    "kmeans = KMeans(n_clusters=18)\n",
    "items['cluster'] = kmeans.fit_predict(pca_trasnform)"
   ]
  },
  {
   "cell_type": "code",
   "execution_count": 130,
   "metadata": {},
   "outputs": [
    {
     "data": {
      "text/plain": [
       "10    12554\n",
       "13     3607\n",
       "6      2726\n",
       "18     2090\n",
       "17     1849\n",
       "2      1843\n",
       "8      1829\n",
       "9      1779\n",
       "7      1767\n",
       "19     1512\n",
       "5      1423\n",
       "3      1308\n",
       "4      1305\n",
       "12     1038\n",
       "0      1016\n",
       "1       866\n",
       "16      766\n",
       "15      754\n",
       "11      594\n",
       "14      581\n",
       "Name: cluster, dtype: int64"
      ]
     },
     "execution_count": 130,
     "metadata": {},
     "output_type": "execute_result"
    }
   ],
   "source": [
    "items.cluster.value_counts()"
   ]
  },
  {
   "cell_type": "code",
   "execution_count": 140,
   "metadata": {},
   "outputs": [
    {
     "data": {
      "text/plain": [
       "<AxesSubplot:xlabel='cluster', ylabel='Count'>"
      ]
     },
     "execution_count": 140,
     "metadata": {},
     "output_type": "execute_result"
    },
    {
     "data": {
      "image/png": "[encoded data removed]",
      "text/plain": [
       "<Figure size 432x288 with 1 Axes>"
      ]
     },
     "metadata": {},
     "output_type": "display_data"
    }
   ],
   "source": [
    "clustered_orders = items[['Id','cluster','Name','tokens']]\n",
    "sns.histplot(data=clustered_orders, x='cluster', discrete=True)"
   ]
  },
  {
   "cell_type": "code",
   "execution_count": 141,
   "metadata": {},
   "outputs": [
    {
     "name": "stdout",
     "output_type": "stream",
     "text": [
      "Writing file.  \"../data/clustered_orders.csv\"\n"
     ]
    }
   ],
   "source": [
    "fpath = '../data'\n",
    "library.utils.save_file(clustered_orders,'clustered_orders.csv',fpath)"
   ]
  },
  {
   "cell_type": "code",
   "execution_count": 132,
   "metadata": {},
   "outputs": [],
   "source": [
    "def recommend_clustered_food(item):\n",
    "    if item in items['Name'].values:\n",
    "        idx = items[items['Name'] == item].index[0]\n",
    "        cluster = items.loc[idx]['cluster']\n",
    "        similar_foods = set(items[items['cluster']== cluster].Name[:10])\n",
    "        [print(i) for i in similar_foods if i != item]\n",
    "    else:\n",
    "        print('item not found')   \n"
   ]
  },
  {
   "cell_type": "code",
   "execution_count": 133,
   "metadata": {},
   "outputs": [
    {
     "data": {
      "text/plain": [
       "'Strike Signature Fried Chicken'"
      ]
     },
     "execution_count": 133,
     "metadata": {},
     "output_type": "execute_result"
    }
   ],
   "source": [
    "names = list(set(items.Name))\n",
    "sample_name = items[items.Name == random.choice(names)].Name.values[0]\n",
    "sample_name"
   ]
  },
  {
   "cell_type": "code",
   "execution_count": 134,
   "metadata": {},
   "outputs": [
    {
     "name": "stdout",
     "output_type": "stream",
     "text": [
      "Chicken Scramble\n",
      "Chicken Strips And Fries\n",
      "Chicken Hash-n-eggs\n",
      "Chicken Pear Sandwich\n",
      "Clubhouse Wrap\n",
      "Chicken Caesar Wrap\n",
      "Chicken And Waffles\n",
      "Chicken Cucumber Wrap\n",
      "Grilled Chicken Caesar Wrap\n",
      "Chicken Burger\n"
     ]
    }
   ],
   "source": [
    "recommend_clustered_food(sample_name)"
   ]
  },
  {
   "cell_type": "code",
   "execution_count": 135,
   "metadata": {},
   "outputs": [
    {
     "name": "stdout",
     "output_type": "stream",
     "text": [
      "Bitter Ballen\n",
      "Beef Samosa\n",
      "Beef Brisket With Chinese Radish Hot Pot\n",
      "Poutine\n",
      "Roast Beef Panini\n",
      "Chinese Fungus With Beef Hot Pot\n",
      "Satay Beef With Vermicelli Hot Pot\n",
      "Abc Burger\n",
      "Beef With Ginger And Onion Hot Pot\n",
      "Snr Pot Roast Dinner\n"
     ]
    }
   ],
   "source": [
    "food_sam = 'Koobideh Kabob'\n",
    "recommend_clustered_food(food_sam)"
   ]
  },
  {
   "cell_type": "code",
   "execution_count": null,
   "metadata": {},
   "outputs": [],
   "source": []
  }
 ],
 "metadata": {
  "interpreter": {
   "hash": "ff514080f6f141fa30927d2eb1cd1793a0032bd7adceb009c10ca689f5dc9966"
  },
  "kernelspec": {
   "display_name": "Python 3 (ipykernel)",
   "language": "python",
   "name": "python3"
  },
  "language_info": {
   "codemirror_mode": {
    "name": "ipython",
    "version": 3
   },
   "file_extension": ".py",
   "mimetype": "text/x-python",
   "name": "python",
   "nbconvert_exporter": "python",
   "pygments_lexer": "ipython3",
   "version": "3.9.7"
  }
 },
 "nbformat": 4,
 "nbformat_minor": 2
}
