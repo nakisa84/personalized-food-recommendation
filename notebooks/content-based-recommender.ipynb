{
 "cells": [
  {
   "cell_type": "code",
   "execution_count": 456,
   "metadata": {},
   "outputs": [],
   "source": [
    "from rake_nltk import Rake\n",
    "import pandas as pd\n",
    "import numpy as np\n",
    "from sklearn.metrics.pairwise import cosine_similarity\n",
    "from sklearn.feature_extraction.text import CountVectorizer\n",
    "import random\n",
    "from sklearn.cluster import KMeans,DBSCAN\n",
    "import matplotlib.pyplot as plt \n",
    "from sklearn.decomposition import PCA\n",
    "from sklearn.metrics import silhouette_score\n",
    "\n",
    "def tokenize(text):\n",
    "    r = Rake()\n",
    "    r.extract_keywords_from_text(text.lower().replace('nan',' '))\n",
    "    return r.get_ranked_phrases()[0:10]\n",
    "\n",
    "### Function to actually recommend similar foods\n",
    "similarity_thereshold = 0.5\n",
    "def recommend(name,data,cosine_sim):\n",
    "    indices = pd.Series(data['name'])\n",
    "    recommended_items = []\n",
    "    \n",
    "    if indices[indices == name].any():\n",
    "        idx = indices[indices == name].index[0]\n",
    "        score_series = pd.Series(cosine_sim[idx]).sort_values(ascending = False)\n",
    "        count = score_series.apply(lambda x : x > similarity_thereshold).sum()\n",
    "        top_indices = list(score_series.iloc[1 : count+1].index)\n",
    "        print('Total similar foods count: ', count)\n",
    "\n",
    "        for i in top_indices:\n",
    "            recommended_items.append(data.iloc[i]['name'])\n",
    "        return list(set(recommended_items))\n",
    "    else:\n",
    "        print('Oops, Item Not Found :(') \n",
    "\n",
    "### Fuction to recommend based on the top order item\n",
    "def historical_recommend(userid, orders, items, cosine_sim):\n",
    "    items_order_by_user = orders[orders.userid == userid].name.value_counts()\n",
    "    top_order_item = items_order_by_user.idxmax()\n",
    "\n",
    "    item_name = items[items.name == top_order_item].name.values[0]\n",
    "    item_description = items[items.name == item_name].description.values[0]\n",
    "\n",
    "    print('Top order food is: ',item_name)\n",
    "    print('Top order food description is: ',item_description)\n",
    "\n",
    "    return recommend(item_name,food_items,cosine_sim)    \n",
    "\n",
    "\n",
    "def match_ingredients(string,ingredients):\n",
    "    if all(x.lower() in string for x in ingredients):\n",
    "        return True\n",
    "    else:\n",
    "        return False\n",
    "\n",
    "def ingredient_recommendation(data,ingredients):\n",
    "    items = data[data['tokens'].apply(lambda x: match_ingredients(x,ingredients))]\n",
    "    print('Total food item found: {}'.format(items.shape[0]))\n",
    "    \n",
    "    for index,row in items.iterrows():\n",
    "        print('\\nitem name: {}\\nitem description is: {}'.format(row['name'],row['description']))  "
   ]
  },
  {
   "cell_type": "code",
   "execution_count": 341,
   "metadata": {},
   "outputs": [
    {
     "data": {
      "text/html": [
       "<div>\n",
       "<style scoped>\n",
       "    .dataframe tbody tr th:only-of-type {\n",
       "        vertical-align: middle;\n",
       "    }\n",
       "\n",
       "    .dataframe tbody tr th {\n",
       "        vertical-align: top;\n",
       "    }\n",
       "\n",
       "    .dataframe thead th {\n",
       "        text-align: right;\n",
       "    }\n",
       "</style>\n",
       "<table border=\"1\" class=\"dataframe\">\n",
       "  <thead>\n",
       "    <tr style=\"text-align: right;\">\n",
       "      <th></th>\n",
       "      <th>OrderId</th>\n",
       "      <th>UserId</th>\n",
       "      <th>RestaurantId</th>\n",
       "      <th>Date</th>\n",
       "      <th>Rating</th>\n",
       "      <th>Comments</th>\n",
       "      <th>Address</th>\n",
       "      <th>Count</th>\n",
       "      <th>ItemId</th>\n",
       "      <th>Price</th>\n",
       "      <th>ViewCount</th>\n",
       "      <th>Name</th>\n",
       "      <th>Description</th>\n",
       "      <th>SearchVector</th>\n",
       "      <th>Type</th>\n",
       "    </tr>\n",
       "  </thead>\n",
       "  <tbody>\n",
       "    <tr>\n",
       "      <th>0</th>\n",
       "      <td>8</td>\n",
       "      <td>113</td>\n",
       "      <td>110</td>\n",
       "      <td>2020-03-28 08:15:25.615002</td>\n",
       "      <td>NaN</td>\n",
       "      <td>NaN</td>\n",
       "      <td>{'Id': 4, 'Lat': 49.28319399999999, 'Lng': -12...</td>\n",
       "      <td>1</td>\n",
       "      <td>211</td>\n",
       "      <td>15.0</td>\n",
       "      <td>0.0</td>\n",
       "      <td>Tableside Spinach Salad</td>\n",
       "      <td>NaN</td>\n",
       "      <td>'almond':8 'babi':4 'bacon':11 'jack':10 'mont...</td>\n",
       "      <td>Main</td>\n",
       "    </tr>\n",
       "    <tr>\n",
       "      <th>1</th>\n",
       "      <td>8</td>\n",
       "      <td>113</td>\n",
       "      <td>110</td>\n",
       "      <td>2020-03-28 08:15:25.615002</td>\n",
       "      <td>NaN</td>\n",
       "      <td>NaN</td>\n",
       "      <td>{'Id': 4, 'Lat': 49.28319399999999, 'Lng': -12...</td>\n",
       "      <td>1</td>\n",
       "      <td>218</td>\n",
       "      <td>27.0</td>\n",
       "      <td>0.0</td>\n",
       "      <td>King Crab</td>\n",
       "      <td>NaN</td>\n",
       "      <td>'blanc':9 'buerr':8 'caper':7 'char':3 'chilli...</td>\n",
       "      <td>Main</td>\n",
       "    </tr>\n",
       "    <tr>\n",
       "      <th>2</th>\n",
       "      <td>293</td>\n",
       "      <td>4</td>\n",
       "      <td>121</td>\n",
       "      <td>2020-05-13 01:20:59.267256</td>\n",
       "      <td>NaN</td>\n",
       "      <td>NaN</td>\n",
       "      <td>NaN</td>\n",
       "      <td>1</td>\n",
       "      <td>440</td>\n",
       "      <td>14.0</td>\n",
       "      <td>1097.0</td>\n",
       "      <td>Joojeh Kabab With Rice</td>\n",
       "      <td>One skewer of chicken breast marinated with yo...</td>\n",
       "      <td>'bbq':14 'chicken':11 'joojeh':1 'juic':9 'kab...</td>\n",
       "      <td>Main</td>\n",
       "    </tr>\n",
       "  </tbody>\n",
       "</table>\n",
       "</div>"
      ],
      "text/plain": [
       "   OrderId  UserId  RestaurantId                        Date  Rating Comments  \\\n",
       "0        8     113           110  2020-03-28 08:15:25.615002     NaN      NaN   \n",
       "1        8     113           110  2020-03-28 08:15:25.615002     NaN      NaN   \n",
       "2      293       4           121  2020-05-13 01:20:59.267256     NaN      NaN   \n",
       "\n",
       "                                             Address  Count  ItemId  Price  \\\n",
       "0  {'Id': 4, 'Lat': 49.28319399999999, 'Lng': -12...      1     211   15.0   \n",
       "1  {'Id': 4, 'Lat': 49.28319399999999, 'Lng': -12...      1     218   27.0   \n",
       "2                                                NaN      1     440   14.0   \n",
       "\n",
       "   ViewCount                     Name  \\\n",
       "0        0.0  Tableside Spinach Salad   \n",
       "1        0.0                King Crab   \n",
       "2     1097.0   Joojeh Kabab With Rice   \n",
       "\n",
       "                                         Description  \\\n",
       "0                                                NaN   \n",
       "1                                                NaN   \n",
       "2  One skewer of chicken breast marinated with yo...   \n",
       "\n",
       "                                        SearchVector  Type  \n",
       "0  'almond':8 'babi':4 'bacon':11 'jack':10 'mont...  Main  \n",
       "1  'blanc':9 'buerr':8 'caper':7 'char':3 'chilli...  Main  \n",
       "2  'bbq':14 'chicken':11 'joojeh':1 'juic':9 'kab...  Main  "
      ]
     },
     "execution_count": 341,
     "metadata": {},
     "output_type": "execute_result"
    }
   ],
   "source": [
    "orders = pd.read_csv('../data/full_data.csv',low_memory=False)\n",
    "orders.head(3)"
   ]
  },
  {
   "cell_type": "code",
   "execution_count": 342,
   "metadata": {},
   "outputs": [
    {
     "data": {
      "text/html": [
       "<div>\n",
       "<style scoped>\n",
       "    .dataframe tbody tr th:only-of-type {\n",
       "        vertical-align: middle;\n",
       "    }\n",
       "\n",
       "    .dataframe tbody tr th {\n",
       "        vertical-align: top;\n",
       "    }\n",
       "\n",
       "    .dataframe thead th {\n",
       "        text-align: right;\n",
       "    }\n",
       "</style>\n",
       "<table border=\"1\" class=\"dataframe\">\n",
       "  <thead>\n",
       "    <tr style=\"text-align: right;\">\n",
       "      <th></th>\n",
       "      <th>Id</th>\n",
       "      <th>Price</th>\n",
       "      <th>ViewCount</th>\n",
       "      <th>Name</th>\n",
       "      <th>Description</th>\n",
       "      <th>TagsString</th>\n",
       "      <th>SearchVector</th>\n",
       "      <th>Type</th>\n",
       "    </tr>\n",
       "  </thead>\n",
       "  <tbody>\n",
       "    <tr>\n",
       "      <th>0</th>\n",
       "      <td>8345</td>\n",
       "      <td>0.9</td>\n",
       "      <td>0</td>\n",
       "      <td>Cookie</td>\n",
       "      <td>Freshly baked cookies. One order comes with on...</td>\n",
       "      <td>NaN</td>\n",
       "      <td>'cooki':1</td>\n",
       "      <td>Main</td>\n",
       "    </tr>\n",
       "    <tr>\n",
       "      <th>1</th>\n",
       "      <td>8346</td>\n",
       "      <td>7.0</td>\n",
       "      <td>0</td>\n",
       "      <td>12 Cookies</td>\n",
       "      <td>Freshly baked cookies. One order comes with tw...</td>\n",
       "      <td>NaN</td>\n",
       "      <td>'12':1 'cooki':2</td>\n",
       "      <td>Main</td>\n",
       "    </tr>\n",
       "    <tr>\n",
       "      <th>2</th>\n",
       "      <td>2046</td>\n",
       "      <td>18.0</td>\n",
       "      <td>0</td>\n",
       "      <td>Sausage Hash-n-eggs</td>\n",
       "      <td>NaN</td>\n",
       "      <td>NaN</td>\n",
       "      <td>'egg':5 'hash':3 'hash-n-egg':2 'n':4 'sausag':1</td>\n",
       "      <td>Main</td>\n",
       "    </tr>\n",
       "    <tr>\n",
       "      <th>3</th>\n",
       "      <td>2047</td>\n",
       "      <td>18.0</td>\n",
       "      <td>0</td>\n",
       "      <td>Ham Hash-n-eggs</td>\n",
       "      <td>NaN</td>\n",
       "      <td>NaN</td>\n",
       "      <td>'egg':5 'ham':1 'hash':3 'hash-n-egg':2 'n':4</td>\n",
       "      <td>Main</td>\n",
       "    </tr>\n",
       "    <tr>\n",
       "      <th>4</th>\n",
       "      <td>2048</td>\n",
       "      <td>18.0</td>\n",
       "      <td>0</td>\n",
       "      <td>Debakon Hash-n-eggs</td>\n",
       "      <td>DeBakon with hash-n-eggs.</td>\n",
       "      <td>NaN</td>\n",
       "      <td>'debakon':1 'egg':5 'hash':3 'hash-n-egg':2 'n':4</td>\n",
       "      <td>Main</td>\n",
       "    </tr>\n",
       "  </tbody>\n",
       "</table>\n",
       "</div>"
      ],
      "text/plain": [
       "     Id  Price  ViewCount                 Name  \\\n",
       "0  8345    0.9          0               Cookie   \n",
       "1  8346    7.0          0           12 Cookies   \n",
       "2  2046   18.0          0  Sausage Hash-n-eggs   \n",
       "3  2047   18.0          0      Ham Hash-n-eggs   \n",
       "4  2048   18.0          0  Debakon Hash-n-eggs   \n",
       "\n",
       "                                         Description TagsString  \\\n",
       "0  Freshly baked cookies. One order comes with on...        NaN   \n",
       "1  Freshly baked cookies. One order comes with tw...        NaN   \n",
       "2                                                NaN        NaN   \n",
       "3                                                NaN        NaN   \n",
       "4                          DeBakon with hash-n-eggs.        NaN   \n",
       "\n",
       "                                        SearchVector  Type  \n",
       "0                                          'cooki':1  Main  \n",
       "1                                   '12':1 'cooki':2  Main  \n",
       "2   'egg':5 'hash':3 'hash-n-egg':2 'n':4 'sausag':1  Main  \n",
       "3      'egg':5 'ham':1 'hash':3 'hash-n-egg':2 'n':4  Main  \n",
       "4  'debakon':1 'egg':5 'hash':3 'hash-n-egg':2 'n':4  Main  "
      ]
     },
     "execution_count": 342,
     "metadata": {},
     "output_type": "execute_result"
    }
   ],
   "source": [
    "food_items = pd.read_csv('../data/itemsInfo_full.csv',low_memory=False)\n",
    "food_items.head()"
   ]
  },
  {
   "cell_type": "code",
   "execution_count": 343,
   "metadata": {},
   "outputs": [],
   "source": [
    "food_items.columns = [c.lower() for c in food_items.columns]\n",
    "orders.columns = [c.lower() for c in orders.columns]"
   ]
  },
  {
   "cell_type": "code",
   "execution_count": 344,
   "metadata": {},
   "outputs": [
    {
     "name": "stdout",
     "output_type": "stream",
     "text": [
      "<class 'pandas.core.frame.DataFrame'>\n",
      "RangeIndex: 68100 entries, 0 to 68099\n",
      "Data columns (total 8 columns):\n",
      " #   Column        Non-Null Count  Dtype  \n",
      "---  ------        --------------  -----  \n",
      " 0   id            68100 non-null  int64  \n",
      " 1   price         67938 non-null  float64\n",
      " 2   viewcount     68100 non-null  int64  \n",
      " 3   name          68082 non-null  object \n",
      " 4   description   48742 non-null  object \n",
      " 5   tagsstring    34591 non-null  object \n",
      " 6   searchvector  68081 non-null  object \n",
      " 7   type          68082 non-null  object \n",
      "dtypes: float64(1), int64(2), object(5)\n",
      "memory usage: 4.2+ MB\n"
     ]
    }
   ],
   "source": [
    "food_items.info()"
   ]
  },
  {
   "cell_type": "code",
   "execution_count": 345,
   "metadata": {},
   "outputs": [
    {
     "data": {
      "text/plain": [
       "19358"
      ]
     },
     "execution_count": 345,
     "metadata": {},
     "output_type": "execute_result"
    }
   ],
   "source": [
    "food_items.description.isna().sum()"
   ]
  },
  {
   "cell_type": "code",
   "execution_count": 346,
   "metadata": {},
   "outputs": [],
   "source": [
    "#items = items[~items.description.isna()].reset_index(drop=True)"
   ]
  },
  {
   "cell_type": "code",
   "execution_count": 347,
   "metadata": {},
   "outputs": [
    {
     "data": {
      "text/plain": [
       "0        Freshly baked cookies. One order comes with on...\n",
       "1        Freshly baked cookies. One order comes with tw...\n",
       "2                                                      NaN\n",
       "3                                                      NaN\n",
       "4                                DeBakon with hash-n-eggs.\n",
       "                               ...                        \n",
       "68095                                                  NaN\n",
       "68096                                                  NaN\n",
       "68097    White radish, carrot, mini cucumber, Japanese ...\n",
       "68098                                                  NaN\n",
       "68099                                                  NaN\n",
       "Name: description, Length: 68100, dtype: object"
      ]
     },
     "execution_count": 347,
     "metadata": {},
     "output_type": "execute_result"
    }
   ],
   "source": [
    "food_items.description"
   ]
  },
  {
   "cell_type": "code",
   "execution_count": 348,
   "metadata": {},
   "outputs": [
    {
     "data": {
      "image/png": "[encoded data removed]",
      "text/plain": [
       "<Figure size 576x360 with 1 Axes>"
      ]
     },
     "metadata": {
      "needs_background": "light"
     },
     "output_type": "display_data"
    }
   ],
   "source": [
    "food_items['name'].value_counts()[0:10].plot(kind ='barh', figsize=[8,5], fontsize=15, color='navy').invert_yaxis()\n"
   ]
  },
  {
   "cell_type": "code",
   "execution_count": 349,
   "metadata": {},
   "outputs": [],
   "source": [
    "#items = items[~(items.description.duplicated() & items.name)].reset_index(drop=True)"
   ]
  },
  {
   "cell_type": "code",
   "execution_count": 350,
   "metadata": {},
   "outputs": [],
   "source": [
    "food_items.drop_duplicates(subset = ['name','description'], keep = 'first', inplace = True)\n",
    "food_items.reset_index(drop=True, inplace=True);"
   ]
  },
  {
   "cell_type": "code",
   "execution_count": 351,
   "metadata": {},
   "outputs": [
    {
     "data": {
      "text/plain": [
       "RangeIndex(start=0, stop=49316, step=1)"
      ]
     },
     "execution_count": 351,
     "metadata": {},
     "output_type": "execute_result"
    }
   ],
   "source": [
    "food_items.index"
   ]
  },
  {
   "cell_type": "code",
   "execution_count": 353,
   "metadata": {},
   "outputs": [
    {
     "data": {
      "text/plain": [
       "Index(['id', 'price', 'viewcount', 'name', 'description', 'tagsstring',\n",
       "       'searchvector', 'type'],\n",
       "      dtype='object')"
      ]
     },
     "execution_count": 353,
     "metadata": {},
     "output_type": "execute_result"
    }
   ],
   "source": [
    "food_items.columns"
   ]
  },
  {
   "cell_type": "markdown",
   "metadata": {},
   "source": [
    "After testing different approaches to get the best result for the simiar foods, we learnt, combining different columns with good information can increase the similarity rate. Therefore we combined the name and description of the food and the results were awesome. Also another reason was, that some resutauarnts did not add a good or at all the descriotion for the foods and we did not want to lose any order."
   ]
  },
  {
   "cell_type": "code",
   "execution_count": 354,
   "metadata": {},
   "outputs": [],
   "source": [
    "food_items['bow'] = food_items['name'].map(str) + ',' + food_items['description'].map(str)\n",
    "food_items['tokenized'] = food_items.bow.apply(tokenize)\n",
    "food_items['tokens'] = food_items.tokenized.apply(lambda x: ','.join(map(str,x)))"
   ]
  },
  {
   "cell_type": "code",
   "execution_count": 355,
   "metadata": {},
   "outputs": [
    {
     "name": "stdout",
     "output_type": "stream",
     "text": [
      "<class 'pandas.core.frame.DataFrame'>\n",
      "RangeIndex: 49316 entries, 0 to 49315\n",
      "Data columns (total 11 columns):\n",
      " #   Column        Non-Null Count  Dtype  \n",
      "---  ------        --------------  -----  \n",
      " 0   id            49316 non-null  int64  \n",
      " 1   price         49167 non-null  float64\n",
      " 2   viewcount     49316 non-null  int64  \n",
      " 3   name          49315 non-null  object \n",
      " 4   description   35456 non-null  object \n",
      " 5   tagsstring    26058 non-null  object \n",
      " 6   searchvector  49314 non-null  object \n",
      " 7   type          49315 non-null  object \n",
      " 8   bow           49316 non-null  object \n",
      " 9   tokenized     49316 non-null  object \n",
      " 10  tokens        49316 non-null  object \n",
      "dtypes: float64(1), int64(2), object(8)\n",
      "memory usage: 4.1+ MB\n"
     ]
    }
   ],
   "source": [
    "food_items.info()"
   ]
  },
  {
   "cell_type": "code",
   "execution_count": 356,
   "metadata": {},
   "outputs": [],
   "source": [
    "# vectorise the tokens\n",
    "counter = CountVectorizer()\n",
    "count_matrix = counter.fit_transform(food_items.tokens)"
   ]
  },
  {
   "cell_type": "code",
   "execution_count": 357,
   "metadata": {},
   "outputs": [
    {
     "name": "stdout",
     "output_type": "stream",
     "text": [
      "[[1.         0.85280287 0.         ... 0.         0.         0.        ]\n",
      " [0.85280287 1.         0.         ... 0.         0.         0.        ]\n",
      " [0.         0.         1.         ... 0.         0.         0.        ]\n",
      " ...\n",
      " [0.         0.         0.         ... 1.         0.         0.        ]\n",
      " [0.         0.         0.         ... 0.         1.         0.05634362]\n",
      " [0.         0.         0.         ... 0.         0.05634362 1.        ]]\n"
     ]
    }
   ],
   "source": [
    "cosine_sim = cosine_similarity(count_matrix)\n",
    "print(cosine_sim)"
   ]
  },
  {
   "cell_type": "markdown",
   "metadata": {},
   "source": [
    "### Sample recommendation based on similar food"
   ]
  },
  {
   "cell_type": "code",
   "execution_count": 358,
   "metadata": {},
   "outputs": [
    {
     "name": "stdout",
     "output_type": "stream",
     "text": [
      "The item name is Whistle Chicken Hot Pot\n",
      "The description is:nan\n"
     ]
    }
   ],
   "source": [
    "sample_item = food_items.iloc[266]\n",
    "sample_name = sample_item['name']\n",
    "sample_desc = sample_item['description']\n",
    "print('The item name is {}\\nThe description is:{}'.format(sample_name,sample_desc))"
   ]
  },
  {
   "cell_type": "code",
   "execution_count": 470,
   "metadata": {},
   "outputs": [
    {
     "name": "stdout",
     "output_type": "stream",
     "text": [
      "Total similar foods count:  20\n"
     ]
    }
   ],
   "source": [
    "recommended_items = recommend(sample_name,food_items,cosine_sim)"
   ]
  },
  {
   "cell_type": "code",
   "execution_count": 472,
   "metadata": {},
   "outputs": [
    {
     "name": "stdout",
     "output_type": "stream",
     "text": [
      "item:  Diced Chicken And Salted Fish With Tofu Hot Pot\n",
      "item:  108. Sizzling Chicken Hot Pot\n",
      "item:  Hot Chicken Wings\n",
      "item:  160. Boneless Chicken Hot Pot\n",
      "item:  Hammer Hot Chicken\n",
      "item:  Salty Fish With Chicken And Bean Curd Hot Pot\n",
      "item:  Singing Chicken Hot Pot\n",
      "item:  254. Salted Fish And Diced Chicken With Eggplant Hot Pot\n",
      "item:  882. Spicy Chicken In Hot Pot\n",
      "item:  Kimchi Hot Pot\n",
      "item:  64. Chicken With Ginger And Green Onion Hot Pot\n",
      "item:  112. Diced Chicken With Salty Fish And Tofu Hot Pot\n",
      "item:  258. Liver And Chinese Sausage With Singing Chicken Hot Pot\n",
      "item:  111. Spicy Szechuan Chicken Hot Pot\n",
      "item:  165. Chicken And Salted Fish With Tofu Hot Pot\n",
      "item:  Chinese Fungus With Chicken Hot Pot\n",
      "item:  Sizzling Chicken Hot Pot\n",
      "item:  84. Singing Chicken Hot Pot\n",
      "item:  Chinese Herb And Chicken Hot Pot With Japanese Mountain Yam\n",
      "item:  111. Diced Chicken And Salted Fish With Tofu Hot Pot\n"
     ]
    }
   ],
   "source": [
    "for item in recommended_items:\n",
    "    print(\"item: \",item)"
   ]
  },
  {
   "cell_type": "markdown",
   "metadata": {},
   "source": [
    "### Now we will recommend based on the user order history and similarity to the top ordered food"
   ]
  },
  {
   "cell_type": "code",
   "execution_count": 475,
   "metadata": {},
   "outputs": [
    {
     "data": {
      "text/plain": [
       "3185"
      ]
     },
     "execution_count": 475,
     "metadata": {},
     "output_type": "execute_result"
    }
   ],
   "source": [
    "user_ids = list(set(orders.userid))\n",
    "sample_userid = orders[orders.userid == random.choice(user_ids)].userid.values[0]\n",
    "sample_userid"
   ]
  },
  {
   "cell_type": "code",
   "execution_count": 476,
   "metadata": {},
   "outputs": [
    {
     "name": "stdout",
     "output_type": "stream",
     "text": [
      "Top order food is:  Crispy Fish Sandwich\n",
      "Top order food description is:  nan\n",
      "Total similar foods count:  6\n"
     ]
    }
   ],
   "source": [
    "recommended_items = historical_recommend(sample_userid,orders,food_items,cosine_sim)"
   ]
  },
  {
   "cell_type": "code",
   "execution_count": 477,
   "metadata": {},
   "outputs": [
    {
     "name": "stdout",
     "output_type": "stream",
     "text": [
      "item:  90. Crispy Pompano Fish With Vietnamese Fish Sauce\n",
      "item:  Sw8. Tuna Fish Sandwich\n",
      "item:  Fish And Chips\n",
      "item:  Fish And Chips (2 Pcs)\n",
      "item:  89. Crispy Pompano Fish In Tomato Sauce\n",
      "item:  B.l.t. Sandwich\n"
     ]
    }
   ],
   "source": [
    "for item in recommended_items:\n",
    "    print(\"item: \",item)"
   ]
  },
  {
   "cell_type": "markdown",
   "metadata": {},
   "source": [
    "This section we just recommend based on selected ingredients"
   ]
  },
  {
   "cell_type": "code",
   "execution_count": 362,
   "metadata": {},
   "outputs": [
    {
     "name": "stdout",
     "output_type": "stream",
     "text": [
      "Total food item found: 1\n",
      "\n",
      "item name: Vegetable Fried Rice\n",
      "item description is: Carrots, corn, onions, mushrooms, and peas with a fried egg.\n"
     ]
    }
   ],
   "source": [
    "ingredient1 = 'mushroom'\n",
    "ingredient2 = 'onion'\n",
    "ingredient3 = 'rice'\n",
    "ingredient4 = 'carrots'\n",
    "\n",
    "ingredients = [ingredient1,ingredient2,ingredient3,ingredient4]\n",
    "ingredient_recommendation(food_items,ingredients)\n"
   ]
  },
  {
   "cell_type": "markdown",
   "metadata": {},
   "source": [
    "Lets explore \"Meal Recommendation\" with Clustering"
   ]
  },
  {
   "cell_type": "code",
   "execution_count": 383,
   "metadata": {},
   "outputs": [
    {
     "data": {
      "text/html": [
       "<div>\n",
       "<style scoped>\n",
       "    .dataframe tbody tr th:only-of-type {\n",
       "        vertical-align: middle;\n",
       "    }\n",
       "\n",
       "    .dataframe tbody tr th {\n",
       "        vertical-align: top;\n",
       "    }\n",
       "\n",
       "    .dataframe thead th {\n",
       "        text-align: right;\n",
       "    }\n",
       "</style>\n",
       "<table border=\"1\" class=\"dataframe\">\n",
       "  <thead>\n",
       "    <tr style=\"text-align: right;\">\n",
       "      <th></th>\n",
       "      <th>orderid</th>\n",
       "      <th>userid</th>\n",
       "      <th>restaurantid</th>\n",
       "      <th>date</th>\n",
       "      <th>rating</th>\n",
       "      <th>comments</th>\n",
       "      <th>address</th>\n",
       "      <th>count</th>\n",
       "      <th>itemid</th>\n",
       "      <th>price</th>\n",
       "      <th>viewcount</th>\n",
       "      <th>name</th>\n",
       "      <th>description</th>\n",
       "      <th>searchvector</th>\n",
       "      <th>type</th>\n",
       "    </tr>\n",
       "  </thead>\n",
       "  <tbody>\n",
       "    <tr>\n",
       "      <th>0</th>\n",
       "      <td>8</td>\n",
       "      <td>113</td>\n",
       "      <td>110</td>\n",
       "      <td>2020-03-28 08:15:25.615002</td>\n",
       "      <td>NaN</td>\n",
       "      <td>NaN</td>\n",
       "      <td>{'Id': 4, 'Lat': 49.28319399999999, 'Lng': -12...</td>\n",
       "      <td>1</td>\n",
       "      <td>211</td>\n",
       "      <td>15.0</td>\n",
       "      <td>0.0</td>\n",
       "      <td>Tableside Spinach Salad</td>\n",
       "      <td>NaN</td>\n",
       "      <td>'almond':8 'babi':4 'bacon':11 'jack':10 'mont...</td>\n",
       "      <td>Main</td>\n",
       "    </tr>\n",
       "    <tr>\n",
       "      <th>1</th>\n",
       "      <td>8</td>\n",
       "      <td>113</td>\n",
       "      <td>110</td>\n",
       "      <td>2020-03-28 08:15:25.615002</td>\n",
       "      <td>NaN</td>\n",
       "      <td>NaN</td>\n",
       "      <td>{'Id': 4, 'Lat': 49.28319399999999, 'Lng': -12...</td>\n",
       "      <td>1</td>\n",
       "      <td>218</td>\n",
       "      <td>27.0</td>\n",
       "      <td>0.0</td>\n",
       "      <td>King Crab</td>\n",
       "      <td>NaN</td>\n",
       "      <td>'blanc':9 'buerr':8 'caper':7 'char':3 'chilli...</td>\n",
       "      <td>Main</td>\n",
       "    </tr>\n",
       "    <tr>\n",
       "      <th>2</th>\n",
       "      <td>293</td>\n",
       "      <td>4</td>\n",
       "      <td>121</td>\n",
       "      <td>2020-05-13 01:20:59.267256</td>\n",
       "      <td>NaN</td>\n",
       "      <td>NaN</td>\n",
       "      <td>NaN</td>\n",
       "      <td>1</td>\n",
       "      <td>440</td>\n",
       "      <td>14.0</td>\n",
       "      <td>1097.0</td>\n",
       "      <td>Joojeh Kabab With Rice</td>\n",
       "      <td>One skewer of chicken breast marinated with yo...</td>\n",
       "      <td>'bbq':14 'chicken':11 'joojeh':1 'juic':9 'kab...</td>\n",
       "      <td>Main</td>\n",
       "    </tr>\n",
       "    <tr>\n",
       "      <th>3</th>\n",
       "      <td>294</td>\n",
       "      <td>3</td>\n",
       "      <td>121</td>\n",
       "      <td>2020-05-13 17:34:35.519326</td>\n",
       "      <td>NaN</td>\n",
       "      <td>NaN</td>\n",
       "      <td>NaN</td>\n",
       "      <td>1</td>\n",
       "      <td>455</td>\n",
       "      <td>1.5</td>\n",
       "      <td>9.0</td>\n",
       "      <td>Regular Coffee</td>\n",
       "      <td>NaN</td>\n",
       "      <td>'coffe':2 'regular':1</td>\n",
       "      <td>Drink</td>\n",
       "    </tr>\n",
       "    <tr>\n",
       "      <th>4</th>\n",
       "      <td>297</td>\n",
       "      <td>142</td>\n",
       "      <td>121</td>\n",
       "      <td>2020-05-14 00:08:48.756423</td>\n",
       "      <td>NaN</td>\n",
       "      <td>NaN</td>\n",
       "      <td>NaN</td>\n",
       "      <td>1</td>\n",
       "      <td>540</td>\n",
       "      <td>9.9</td>\n",
       "      <td>485.0</td>\n",
       "      <td>Kashk Bademjan</td>\n",
       "      <td>Barbequed eggplant, lentils, fried onions, gar...</td>\n",
       "      <td>'bademjan':2 'bbq':8 'egg':10 'eggplant':6 'ga...</td>\n",
       "      <td>Main</td>\n",
       "    </tr>\n",
       "    <tr>\n",
       "      <th>...</th>\n",
       "      <td>...</td>\n",
       "      <td>...</td>\n",
       "      <td>...</td>\n",
       "      <td>...</td>\n",
       "      <td>...</td>\n",
       "      <td>...</td>\n",
       "      <td>...</td>\n",
       "      <td>...</td>\n",
       "      <td>...</td>\n",
       "      <td>...</td>\n",
       "      <td>...</td>\n",
       "      <td>...</td>\n",
       "      <td>...</td>\n",
       "      <td>...</td>\n",
       "      <td>...</td>\n",
       "    </tr>\n",
       "    <tr>\n",
       "      <th>24104</th>\n",
       "      <td>14882</td>\n",
       "      <td>762</td>\n",
       "      <td>299</td>\n",
       "      <td>2022-02-02 01:38:47.001817</td>\n",
       "      <td>NaN</td>\n",
       "      <td>NaN</td>\n",
       "      <td>NaN</td>\n",
       "      <td>1</td>\n",
       "      <td>17561</td>\n",
       "      <td>20.0</td>\n",
       "      <td>1686.0</td>\n",
       "      <td>Vaziri Kabob</td>\n",
       "      <td>A skewer of boneless chicken and A skewer of K...</td>\n",
       "      <td>'beef':3 'chicken':4 'kabob':2 'vaziri':1</td>\n",
       "      <td>Main</td>\n",
       "    </tr>\n",
       "    <tr>\n",
       "      <th>24105</th>\n",
       "      <td>14883</td>\n",
       "      <td>5333</td>\n",
       "      <td>299</td>\n",
       "      <td>2022-02-02 02:27:04.284162</td>\n",
       "      <td>NaN</td>\n",
       "      <td>NaN</td>\n",
       "      <td>{'id': 266, 'area': 'BC', 'city': 'Vancouver',...</td>\n",
       "      <td>1</td>\n",
       "      <td>81494</td>\n",
       "      <td>14.0</td>\n",
       "      <td>851.0</td>\n",
       "      <td>Lamb Shank</td>\n",
       "      <td>Lamb slowly cooked in house-made sauce. Served...</td>\n",
       "      <td>'lamb':1 'shank':2</td>\n",
       "      <td>Main</td>\n",
       "    </tr>\n",
       "    <tr>\n",
       "      <th>24106</th>\n",
       "      <td>14883</td>\n",
       "      <td>5333</td>\n",
       "      <td>299</td>\n",
       "      <td>2022-02-02 02:27:04.284162</td>\n",
       "      <td>NaN</td>\n",
       "      <td>NaN</td>\n",
       "      <td>{'id': 266, 'area': 'BC', 'city': 'Vancouver',...</td>\n",
       "      <td>1</td>\n",
       "      <td>17560</td>\n",
       "      <td>20.0</td>\n",
       "      <td>939.0</td>\n",
       "      <td>Bakhtiari Kabob</td>\n",
       "      <td>A colorful combination of chicken Fillet and S...</td>\n",
       "      <td>'bakhtiari':1 'beef':4 'chicken':3 'kabob':2</td>\n",
       "      <td>Main</td>\n",
       "    </tr>\n",
       "    <tr>\n",
       "      <th>24107</th>\n",
       "      <td>14884</td>\n",
       "      <td>3745</td>\n",
       "      <td>299</td>\n",
       "      <td>2022-02-02 02:49:32.497647</td>\n",
       "      <td>NaN</td>\n",
       "      <td>NaN</td>\n",
       "      <td>NaN</td>\n",
       "      <td>1</td>\n",
       "      <td>81494</td>\n",
       "      <td>14.0</td>\n",
       "      <td>851.0</td>\n",
       "      <td>Lamb Shank</td>\n",
       "      <td>Lamb slowly cooked in house-made sauce. Served...</td>\n",
       "      <td>'lamb':1 'shank':2</td>\n",
       "      <td>Main</td>\n",
       "    </tr>\n",
       "    <tr>\n",
       "      <th>24108</th>\n",
       "      <td>14884</td>\n",
       "      <td>3745</td>\n",
       "      <td>299</td>\n",
       "      <td>2022-02-02 02:49:32.497647</td>\n",
       "      <td>NaN</td>\n",
       "      <td>NaN</td>\n",
       "      <td>NaN</td>\n",
       "      <td>1</td>\n",
       "      <td>81493</td>\n",
       "      <td>13.0</td>\n",
       "      <td>504.0</td>\n",
       "      <td>Chicken Kabob</td>\n",
       "      <td>A skewer of boneless chicken breast marinated ...</td>\n",
       "      <td>'bbq':5 'chicken':1,3 'kabob':2 'tomato':4</td>\n",
       "      <td>Main</td>\n",
       "    </tr>\n",
       "  </tbody>\n",
       "</table>\n",
       "<p>24109 rows × 15 columns</p>\n",
       "</div>"
      ],
      "text/plain": [
       "       orderid  userid  restaurantid                        date  rating  \\\n",
       "0            8     113           110  2020-03-28 08:15:25.615002     NaN   \n",
       "1            8     113           110  2020-03-28 08:15:25.615002     NaN   \n",
       "2          293       4           121  2020-05-13 01:20:59.267256     NaN   \n",
       "3          294       3           121  2020-05-13 17:34:35.519326     NaN   \n",
       "4          297     142           121  2020-05-14 00:08:48.756423     NaN   \n",
       "...        ...     ...           ...                         ...     ...   \n",
       "24104    14882     762           299  2022-02-02 01:38:47.001817     NaN   \n",
       "24105    14883    5333           299  2022-02-02 02:27:04.284162     NaN   \n",
       "24106    14883    5333           299  2022-02-02 02:27:04.284162     NaN   \n",
       "24107    14884    3745           299  2022-02-02 02:49:32.497647     NaN   \n",
       "24108    14884    3745           299  2022-02-02 02:49:32.497647     NaN   \n",
       "\n",
       "      comments                                            address  count  \\\n",
       "0          NaN  {'Id': 4, 'Lat': 49.28319399999999, 'Lng': -12...      1   \n",
       "1          NaN  {'Id': 4, 'Lat': 49.28319399999999, 'Lng': -12...      1   \n",
       "2          NaN                                                NaN      1   \n",
       "3          NaN                                                NaN      1   \n",
       "4          NaN                                                NaN      1   \n",
       "...        ...                                                ...    ...   \n",
       "24104      NaN                                                NaN      1   \n",
       "24105      NaN  {'id': 266, 'area': 'BC', 'city': 'Vancouver',...      1   \n",
       "24106      NaN  {'id': 266, 'area': 'BC', 'city': 'Vancouver',...      1   \n",
       "24107      NaN                                                NaN      1   \n",
       "24108      NaN                                                NaN      1   \n",
       "\n",
       "       itemid  price  viewcount                     name  \\\n",
       "0         211   15.0        0.0  Tableside Spinach Salad   \n",
       "1         218   27.0        0.0                King Crab   \n",
       "2         440   14.0     1097.0   Joojeh Kabab With Rice   \n",
       "3         455    1.5        9.0           Regular Coffee   \n",
       "4         540    9.9      485.0           Kashk Bademjan   \n",
       "...       ...    ...        ...                      ...   \n",
       "24104   17561   20.0     1686.0             Vaziri Kabob   \n",
       "24105   81494   14.0      851.0               Lamb Shank   \n",
       "24106   17560   20.0      939.0          Bakhtiari Kabob   \n",
       "24107   81494   14.0      851.0               Lamb Shank   \n",
       "24108   81493   13.0      504.0            Chicken Kabob   \n",
       "\n",
       "                                             description  \\\n",
       "0                                                    NaN   \n",
       "1                                                    NaN   \n",
       "2      One skewer of chicken breast marinated with yo...   \n",
       "3                                                    NaN   \n",
       "4      Barbequed eggplant, lentils, fried onions, gar...   \n",
       "...                                                  ...   \n",
       "24104  A skewer of boneless chicken and A skewer of K...   \n",
       "24105  Lamb slowly cooked in house-made sauce. Served...   \n",
       "24106  A colorful combination of chicken Fillet and S...   \n",
       "24107  Lamb slowly cooked in house-made sauce. Served...   \n",
       "24108  A skewer of boneless chicken breast marinated ...   \n",
       "\n",
       "                                            searchvector   type  \n",
       "0      'almond':8 'babi':4 'bacon':11 'jack':10 'mont...   Main  \n",
       "1      'blanc':9 'buerr':8 'caper':7 'char':3 'chilli...   Main  \n",
       "2      'bbq':14 'chicken':11 'joojeh':1 'juic':9 'kab...   Main  \n",
       "3                                  'coffe':2 'regular':1  Drink  \n",
       "4      'bademjan':2 'bbq':8 'egg':10 'eggplant':6 'ga...   Main  \n",
       "...                                                  ...    ...  \n",
       "24104          'beef':3 'chicken':4 'kabob':2 'vaziri':1   Main  \n",
       "24105                                 'lamb':1 'shank':2   Main  \n",
       "24106       'bakhtiari':1 'beef':4 'chicken':3 'kabob':2   Main  \n",
       "24107                                 'lamb':1 'shank':2   Main  \n",
       "24108         'bbq':5 'chicken':1,3 'kabob':2 'tomato':4   Main  \n",
       "\n",
       "[24109 rows x 15 columns]"
      ]
     },
     "execution_count": 383,
     "metadata": {},
     "output_type": "execute_result"
    }
   ],
   "source": [
    "orders"
   ]
  },
  {
   "cell_type": "code",
   "execution_count": 423,
   "metadata": {},
   "outputs": [],
   "source": [
    "multiple_items = orders.groupby(['orderid'])['userid'].count()\n",
    "multiple_items = multiple_items.reset_index()\n",
    "multiple_items = multiple_items[multiple_items['userid'] > 1].reset_index(drop=True)\n",
    "\n",
    "list_orders = multiple_items.orderid.values\n",
    "multiple_items.rename(columns = {'userid':'count'}, inplace = True)"
   ]
  },
  {
   "cell_type": "code",
   "execution_count": 424,
   "metadata": {},
   "outputs": [
    {
     "data": {
      "text/html": [
       "<div>\n",
       "<style scoped>\n",
       "    .dataframe tbody tr th:only-of-type {\n",
       "        vertical-align: middle;\n",
       "    }\n",
       "\n",
       "    .dataframe tbody tr th {\n",
       "        vertical-align: top;\n",
       "    }\n",
       "\n",
       "    .dataframe thead th {\n",
       "        text-align: right;\n",
       "    }\n",
       "</style>\n",
       "<table border=\"1\" class=\"dataframe\">\n",
       "  <thead>\n",
       "    <tr style=\"text-align: right;\">\n",
       "      <th></th>\n",
       "      <th>orderid</th>\n",
       "      <th>count</th>\n",
       "    </tr>\n",
       "  </thead>\n",
       "  <tbody>\n",
       "    <tr>\n",
       "      <th>0</th>\n",
       "      <td>8</td>\n",
       "      <td>2</td>\n",
       "    </tr>\n",
       "    <tr>\n",
       "      <th>1</th>\n",
       "      <td>297</td>\n",
       "      <td>2</td>\n",
       "    </tr>\n",
       "    <tr>\n",
       "      <th>2</th>\n",
       "      <td>312</td>\n",
       "      <td>2</td>\n",
       "    </tr>\n",
       "    <tr>\n",
       "      <th>3</th>\n",
       "      <td>313</td>\n",
       "      <td>3</td>\n",
       "    </tr>\n",
       "    <tr>\n",
       "      <th>4</th>\n",
       "      <td>316</td>\n",
       "      <td>2</td>\n",
       "    </tr>\n",
       "    <tr>\n",
       "      <th>...</th>\n",
       "      <td>...</td>\n",
       "      <td>...</td>\n",
       "    </tr>\n",
       "    <tr>\n",
       "      <th>6731</th>\n",
       "      <td>14879</td>\n",
       "      <td>3</td>\n",
       "    </tr>\n",
       "    <tr>\n",
       "      <th>6732</th>\n",
       "      <td>14880</td>\n",
       "      <td>2</td>\n",
       "    </tr>\n",
       "    <tr>\n",
       "      <th>6733</th>\n",
       "      <td>14882</td>\n",
       "      <td>3</td>\n",
       "    </tr>\n",
       "    <tr>\n",
       "      <th>6734</th>\n",
       "      <td>14883</td>\n",
       "      <td>2</td>\n",
       "    </tr>\n",
       "    <tr>\n",
       "      <th>6735</th>\n",
       "      <td>14884</td>\n",
       "      <td>2</td>\n",
       "    </tr>\n",
       "  </tbody>\n",
       "</table>\n",
       "<p>6736 rows × 2 columns</p>\n",
       "</div>"
      ],
      "text/plain": [
       "      orderid  count\n",
       "0           8      2\n",
       "1         297      2\n",
       "2         312      2\n",
       "3         313      3\n",
       "4         316      2\n",
       "...       ...    ...\n",
       "6731    14879      3\n",
       "6732    14880      2\n",
       "6733    14882      3\n",
       "6734    14883      2\n",
       "6735    14884      2\n",
       "\n",
       "[6736 rows x 2 columns]"
      ]
     },
     "execution_count": 424,
     "metadata": {},
     "output_type": "execute_result"
    }
   ],
   "source": [
    "multiple_items"
   ]
  },
  {
   "cell_type": "code",
   "execution_count": 427,
   "metadata": {},
   "outputs": [],
   "source": [
    "multiple_items['orderlist'] = multiple_items.orderid.apply(lambda x: list(orders[orders.orderid == x].name))\n",
    "multiple_items['un-orderlist'] = multiple_items.orderlist.apply(lambda x: ','.join(map(str,x)))\n",
    "multiple_items['tokenized'] = multiple_items['un-orderlist'].apply(tokenize)\n",
    "multiple_items['tokens'] = multiple_items.tokenized.apply(lambda x: ','.join(map(str,x)))"
   ]
  },
  {
   "cell_type": "code",
   "execution_count": 428,
   "metadata": {},
   "outputs": [],
   "source": [
    "# vectorise the tokens\n",
    "counter = CountVectorizer()\n",
    "orders_count_matrix = counter.fit_transform(multiple_items.tokens)\n"
   ]
  },
  {
   "cell_type": "code",
   "execution_count": 436,
   "metadata": {},
   "outputs": [],
   "source": [
    "\n",
    "kmeans_kwargs = {\n",
    "        \"init\": \"random\",\n",
    "        \"n_init\": 10,\n",
    "        \"max_iter\": 1000,\n",
    "        \"random_state\": 42,}\n",
    "\n",
    "\n",
    "# making a list of sum of squared errors for different cluster amounts (1-19)\n",
    "\n",
    "sse = []\n",
    "for k in range(1, 50):\n",
    "    kmeans = KMeans(n_clusters=k, **kmeans_kwargs)\n",
    "    kmeans.fit(orders_count_matrix)\n",
    "    sse.append(kmeans.inertia_)"
   ]
  },
  {
   "cell_type": "code",
   "execution_count": 437,
   "metadata": {},
   "outputs": [
    {
     "data": {
      "text/plain": [
       "[58066.65276128267,\n",
       " 51982.5026812918,\n",
       " 47682.33491083581,\n",
       " 43686.00472182687,\n",
       " 42123.80161074148,\n",
       " 40588.34992495928,\n",
       " 39212.74929329301,\n",
       " 37780.91094254013,\n",
       " 36968.6196160799,\n",
       " 36199.60543382091,\n",
       " 35494.5584999744,\n",
       " 34414.43113391902,\n",
       " 33102.38083422498,\n",
       " 32519.60390377377,\n",
       " 32248.38355290418,\n",
       " 31903.539138207303,\n",
       " 31385.25018297777,\n",
       " 30907.18356823393,\n",
       " 30439.04566754538,\n",
       " 30396.430835469346,\n",
       " 29896.123636553377,\n",
       " 29904.980372364,\n",
       " 29344.907683800073,\n",
       " 29173.239117183515,\n",
       " 28920.017728713094,\n",
       " 28288.33829306334,\n",
       " 27832.416311309844,\n",
       " 27682.236512339947,\n",
       " 27438.514836451286,\n",
       " 27184.75734643325,\n",
       " 26879.37618400248,\n",
       " 26828.381983570707,\n",
       " 26722.459068263983,\n",
       " 26332.039547399938,\n",
       " 26150.783761484752,\n",
       " 26202.44207764981,\n",
       " 26074.020689804096,\n",
       " 25987.400330662924,\n",
       " 25927.38860553921,\n",
       " 25769.213330085724,\n",
       " 25508.242982785414,\n",
       " 25401.85465051501,\n",
       " 25267.720030314187,\n",
       " 25009.338885338897,\n",
       " 25053.94389677364,\n",
       " 24847.33105320158,\n",
       " 24682.751798488476,\n",
       " 24601.413193995813,\n",
       " 24436.695519124572]"
      ]
     },
     "execution_count": 437,
     "metadata": {},
     "output_type": "execute_result"
    }
   ],
   "source": [
    "sse"
   ]
  },
  {
   "cell_type": "code",
   "execution_count": 451,
   "metadata": {},
   "outputs": [
    {
     "data": {
      "image/png": "[encoded data removed]",
      "text/plain": [
       "<Figure size 432x288 with 1 Axes>"
      ]
     },
     "metadata": {},
     "output_type": "display_data"
    }
   ],
   "source": [
    "plt.style.use(\"fivethirtyeight\")\n",
    "plt.plot(range(1, 50), sse)\n",
    "plt.xticks(range(1, 50))\n",
    "plt.xlabel(\"Number of Clusters\")\n",
    "plt.ylabel(\"SSE\")\n",
    "plt.show()"
   ]
  },
  {
   "cell_type": "code",
   "execution_count": 454,
   "metadata": {},
   "outputs": [
    {
     "data": {
      "text/plain": [
       "[0.1583139276523952,\n",
       " 0.12579163046171746,\n",
       " 0.14365628251035392,\n",
       " 0.15655729638542026,\n",
       " 0.13184609315134793,\n",
       " 0.1275696116508418,\n",
       " 0.13624086529605764,\n",
       " 0.13996821714405216,\n",
       " 0.13563417977643924,\n",
       " 0.14795063519770624,\n",
       " 0.12972978170554722,\n",
       " 0.14214999779703769,\n",
       " 0.1414898057929661,\n",
       " 0.13499310318268126,\n",
       " 0.1318665353413548,\n",
       " 0.1527319579662689,\n",
       " 0.13876135991015134,\n",
       " 0.14260892956471904,\n",
       " 0.14300167643738845,\n",
       " 0.14108100675749,\n",
       " 0.1385314471844791,\n",
       " 0.13732457062898903,\n",
       " 0.1334641374141692,\n",
       " 0.14392524173736373,\n",
       " 0.1466544412858571,\n",
       " 0.14834031151632146,\n",
       " 0.1634207151276835,\n",
       " 0.1645758520081318,\n",
       " 0.16416210870748418,\n",
       " 0.16388824915061745,\n",
       " 0.16417287753618967,\n",
       " 0.1459634543761379,\n",
       " 0.13980419115444978,\n",
       " 0.1396482616093659,\n",
       " 0.1620102359534635,\n",
       " 0.15804897557342779,\n",
       " 0.15378209946743496,\n",
       " 0.15294892102855043,\n",
       " 0.15747273969938158,\n",
       " 0.15283762185530173,\n",
       " 0.14359670455362075,\n",
       " 0.1439425674674935,\n",
       " 0.14803351847527713,\n",
       " 0.16275108741702268,\n",
       " 0.15900807647768345,\n",
       " 0.1612760439567,\n",
       " 0.1480813647481159,\n",
       " 0.1469888605125458]"
      ]
     },
     "execution_count": 454,
     "metadata": {},
     "output_type": "execute_result"
    }
   ],
   "source": [
    "silhouette_coefficients = []\n",
    "\n",
    "for k in range(2, 50):\n",
    "    kmeans = KMeans(n_clusters=k, **kmeans_kwargs)\n",
    "    kmeans.fit(orders_count_matrix)\n",
    "    score = silhouette_score(orders_count_matrix, kmeans.labels_)\n",
    "    silhouette_coefficients.append(score)\n",
    "\n",
    "silhouette_coefficients"
   ]
  },
  {
   "cell_type": "code",
   "execution_count": 455,
   "metadata": {},
   "outputs": [
    {
     "data": {
      "image/png": "[encoded data removed]",
      "text/plain": [
       "<Figure size 432x288 with 1 Axes>"
      ]
     },
     "metadata": {},
     "output_type": "display_data"
    }
   ],
   "source": [
    "# plotting the above \n",
    "\n",
    "plt.style.use(\"fivethirtyeight\")\n",
    "plt.plot(range(2, 50), silhouette_coefficients)\n",
    "plt.xticks(range(2, 50))\n",
    "plt.xlabel(\"Number of Clusters\")\n",
    "plt.ylabel(\"Silhouette Coefficient\")\n",
    "plt.show()"
   ]
  },
  {
   "cell_type": "code",
   "execution_count": 457,
   "metadata": {},
   "outputs": [
    {
     "data": {
      "text/plain": [
       "(0.24, 0.08)"
      ]
     },
     "execution_count": 457,
     "metadata": {},
     "output_type": "execute_result"
    }
   ],
   "source": [
    "#comparing silhouette scores for 2 algos\n",
    "\n",
    "# Instantiate k-means and dbscan algorithms\n",
    "kmeans = KMeans(n_clusters=200)\n",
    "dbscan = DBSCAN(eps=1.4)\n",
    "\n",
    "# Fit the algorithms to the features\n",
    "kmeans.fit(orders_count_matrix)\n",
    "dbscan.fit(orders_count_matrix)\n",
    "\n",
    "# Compute the silhouette scores for each algorithm\n",
    "kmeans_silhouette = silhouette_score(orders_count_matrix, kmeans.labels_).round(2)\n",
    "dbscan_silhouette = silhouette_score(orders_count_matrix, dbscan.labels_).round (2)\n",
    "\n",
    "# comapring the KMeans and DBscan silhouette scores\n",
    "kmeans_silhouette, dbscan_silhouette"
   ]
  },
  {
   "cell_type": "code",
   "execution_count": 458,
   "metadata": {},
   "outputs": [],
   "source": [
    "# using the fit and predict methods to generate clusters\n",
    "\n",
    "km = KMeans(n_clusters=200)\n",
    "X_clustered=km.fit_predict(orders_count_matrix)\n",
    "\n",
    "db = DBSCAN(eps=1.4, algorithm='auto')\n",
    "X_clustered2 = db.fit_predict(orders_count_matrix)"
   ]
  },
  {
   "cell_type": "code",
   "execution_count": null,
   "metadata": {},
   "outputs": [],
   "source": []
  },
  {
   "cell_type": "code",
   "execution_count": null,
   "metadata": {},
   "outputs": [],
   "source": []
  },
  {
   "cell_type": "code",
   "execution_count": 464,
   "metadata": {},
   "outputs": [],
   "source": [
    "km = KMeans(n_clusters=50)\n",
    "X_clustered=km.fit_predict(orders_count_matrix)"
   ]
  },
  {
   "cell_type": "code",
   "execution_count": 465,
   "metadata": {},
   "outputs": [],
   "source": [
    "multiple_items['clusters'] = X_clustered"
   ]
  },
  {
   "cell_type": "code",
   "execution_count": 466,
   "metadata": {},
   "outputs": [
    {
     "data": {
      "text/plain": [
       "16    515\n",
       "4     300\n",
       "28    273\n",
       "20    266\n",
       "10    261\n",
       "15    256\n",
       "31    240\n",
       "5     223\n",
       "13    219\n",
       "6     205\n",
       "8     194\n",
       "1     175\n",
       "18    172\n",
       "12    165\n",
       "14    160\n",
       "22    155\n",
       "7     149\n",
       "3     144\n",
       "36    136\n",
       "47    135\n",
       "45    126\n",
       "17    123\n",
       "25    118\n",
       "48    116\n",
       "49    111\n",
       "33    110\n",
       "11    110\n",
       "0     100\n",
       "37     98\n",
       "9      87\n",
       "32     84\n",
       "42     84\n",
       "29     82\n",
       "39     80\n",
       "34     80\n",
       "26     79\n",
       "41     73\n",
       "46     71\n",
       "2      66\n",
       "40     65\n",
       "24     65\n",
       "38     63\n",
       "43     63\n",
       "44     61\n",
       "27     57\n",
       "30     54\n",
       "35     50\n",
       "19     48\n",
       "23     44\n",
       "21     25\n",
       "Name: clusters, dtype: int64"
      ]
     },
     "execution_count": 466,
     "metadata": {},
     "output_type": "execute_result"
    }
   ],
   "source": [
    "multiple_items.clusters.value_counts()"
   ]
  },
  {
   "cell_type": "code",
   "execution_count": 467,
   "metadata": {},
   "outputs": [
    {
     "data": {
      "text/plain": [
       "<matplotlib.collections.PathCollection at 0x7f8ddce7b850>"
      ]
     },
     "execution_count": 467,
     "metadata": {},
     "output_type": "execute_result"
    },
    {
     "data": {
      "image/png": "[encoded data removed]",
      "text/plain": [
       "<Figure size 432x288 with 1 Axes>"
      ]
     },
     "metadata": {},
     "output_type": "display_data"
    }
   ],
   "source": [
    "\n",
    "# Use decomposition.PCA, and pass n_components=2 as parameter\n",
    "pca = PCA(n_components=2)\n",
    "pc1, pc2 = zip(*pca.fit_transform(orders_count_matrix.toarray()))\n",
    "plt.scatter(pc1, pc2, c=X_clustered.tolist())"
   ]
  },
  {
   "cell_type": "code",
   "execution_count": null,
   "metadata": {},
   "outputs": [],
   "source": []
  },
  {
   "cell_type": "code",
   "execution_count": null,
   "metadata": {},
   "outputs": [],
   "source": []
  },
  {
   "cell_type": "code",
   "execution_count": null,
   "metadata": {},
   "outputs": [],
   "source": []
  },
  {
   "cell_type": "code",
   "execution_count": null,
   "metadata": {},
   "outputs": [],
   "source": []
  },
  {
   "cell_type": "code",
   "execution_count": null,
   "metadata": {},
   "outputs": [],
   "source": []
  },
  {
   "cell_type": "code",
   "execution_count": null,
   "metadata": {},
   "outputs": [],
   "source": []
  },
  {
   "cell_type": "code",
   "execution_count": null,
   "metadata": {},
   "outputs": [],
   "source": []
  },
  {
   "cell_type": "code",
   "execution_count": null,
   "metadata": {},
   "outputs": [],
   "source": []
  },
  {
   "cell_type": "code",
   "execution_count": null,
   "metadata": {},
   "outputs": [],
   "source": []
  },
  {
   "cell_type": "code",
   "execution_count": null,
   "metadata": {},
   "outputs": [],
   "source": []
  },
  {
   "cell_type": "code",
   "execution_count": null,
   "metadata": {},
   "outputs": [],
   "source": []
  },
  {
   "cell_type": "code",
   "execution_count": null,
   "metadata": {},
   "outputs": [],
   "source": []
  },
  {
   "cell_type": "code",
   "execution_count": null,
   "metadata": {},
   "outputs": [],
   "source": []
  },
  {
   "cell_type": "code",
   "execution_count": null,
   "metadata": {},
   "outputs": [],
   "source": []
  },
  {
   "cell_type": "code",
   "execution_count": null,
   "metadata": {},
   "outputs": [],
   "source": []
  },
  {
   "cell_type": "code",
   "execution_count": null,
   "metadata": {},
   "outputs": [],
   "source": []
  },
  {
   "cell_type": "code",
   "execution_count": null,
   "metadata": {},
   "outputs": [],
   "source": []
  },
  {
   "cell_type": "code",
   "execution_count": null,
   "metadata": {},
   "outputs": [],
   "source": []
  },
  {
   "cell_type": "code",
   "execution_count": null,
   "metadata": {},
   "outputs": [],
   "source": []
  },
  {
   "cell_type": "code",
   "execution_count": null,
   "metadata": {},
   "outputs": [],
   "source": []
  }
 ],
 "metadata": {
  "interpreter": {
   "hash": "ff514080f6f141fa30927d2eb1cd1793a0032bd7adceb009c10ca689f5dc9966"
  },
  "kernelspec": {
   "display_name": "Python 3 (ipykernel)",
   "language": "python",
   "name": "python3"
  },
  "language_info": {
   "codemirror_mode": {
    "name": "ipython",
    "version": 3
   },
   "file_extension": ".py",
   "mimetype": "text/x-python",
   "name": "python",
   "nbconvert_exporter": "python",
   "pygments_lexer": "ipython3",
   "version": "3.9.7"
  }
 },
 "nbformat": 4,
 "nbformat_minor": 2
}
