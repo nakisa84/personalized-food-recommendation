{
 "cells": [
  {
   "cell_type": "markdown",
   "metadata": {},
   "source": [
    "# Recommendation System using Collaborative Filtering"
   ]
  },
  {
   "cell_type": "markdown",
   "metadata": {},
   "source": [
    "In this notebook we will explore recommending system using collaborative filtering\n"
   ]
  },
  {
   "cell_type": "markdown",
   "metadata": {},
   "source": [
    "### 1. Load data and preprocessing "
   ]
  },
  {
   "cell_type": "code",
   "execution_count": 240,
   "metadata": {},
   "outputs": [],
   "source": [
    "import pandas as pd\n",
    "import matplotlib.pyplot as plt\n",
    "import seaborn as sns\n",
    "from scipy import sparse\n",
    "import numpy as np\n",
    "from sklearn.metrics.pairwise import cosine_similarity\n",
    "from sklearn.ensemble import GradientBoostingClassifier\n",
    "from sklearn.metrics import mean_squared_error\n",
    "import random\n",
    "\n",
    "\n",
    "### functions for similarity calculation\n",
    "def euclidean(s1,s2):\n",
    "    diff = s1 - s2\n",
    "    return 1/(1+np.sqrt(np.sum(diff**2)))\n",
    "\n",
    "def cosine(s1,s2):\n",
    "    return np.sum(s1*s2)/np.sqrt(np.sum(s1**2)*np.sum(s2**2))    \n",
    "\n",
    "def pearson(s1,s2):\n",
    "    s1_c = s1-s1.mean()\n",
    "    s2_c = s2-s2.mean()\n",
    "    return np.sum(s1_c*s2_c)/np.sqrt(np.sum(s1_c**2)*np.sum(s2_c**2))    \n"
   ]
  },
  {
   "cell_type": "code",
   "execution_count": 241,
   "metadata": {},
   "outputs": [],
   "source": [
    "orders = pd.read_csv('../data/full_data.csv')\n",
    "clustered = pd.read_csv('../data/clustered_orders.csv')\n"
   ]
  },
  {
   "cell_type": "code",
   "execution_count": 242,
   "metadata": {},
   "outputs": [
    {
     "data": {
      "text/html": [
       "<div>\n",
       "<style scoped>\n",
       "    .dataframe tbody tr th:only-of-type {\n",
       "        vertical-align: middle;\n",
       "    }\n",
       "\n",
       "    .dataframe tbody tr th {\n",
       "        vertical-align: top;\n",
       "    }\n",
       "\n",
       "    .dataframe thead th {\n",
       "        text-align: right;\n",
       "    }\n",
       "</style>\n",
       "<table border=\"1\" class=\"dataframe\">\n",
       "  <thead>\n",
       "    <tr style=\"text-align: right;\">\n",
       "      <th></th>\n",
       "      <th>OrderId</th>\n",
       "      <th>UserId</th>\n",
       "      <th>RestaurantId</th>\n",
       "      <th>Date</th>\n",
       "      <th>Rating</th>\n",
       "      <th>Comments</th>\n",
       "      <th>Address</th>\n",
       "      <th>Count</th>\n",
       "      <th>ItemId</th>\n",
       "      <th>Price</th>\n",
       "      <th>ViewCount</th>\n",
       "      <th>Name</th>\n",
       "      <th>Description</th>\n",
       "      <th>SearchVector</th>\n",
       "      <th>Type</th>\n",
       "    </tr>\n",
       "  </thead>\n",
       "  <tbody>\n",
       "    <tr>\n",
       "      <th>0</th>\n",
       "      <td>8</td>\n",
       "      <td>113</td>\n",
       "      <td>110</td>\n",
       "      <td>2020-03-28 08:15:25.615002</td>\n",
       "      <td>NaN</td>\n",
       "      <td>NaN</td>\n",
       "      <td>{'Id': 4, 'Lat': 49.28319399999999, 'Lng': -12...</td>\n",
       "      <td>1</td>\n",
       "      <td>211</td>\n",
       "      <td>15.0</td>\n",
       "      <td>0.0</td>\n",
       "      <td>Tableside Spinach Salad</td>\n",
       "      <td>NaN</td>\n",
       "      <td>'almond':8 'babi':4 'bacon':11 'jack':10 'mont...</td>\n",
       "      <td>Main</td>\n",
       "    </tr>\n",
       "    <tr>\n",
       "      <th>1</th>\n",
       "      <td>8</td>\n",
       "      <td>113</td>\n",
       "      <td>110</td>\n",
       "      <td>2020-03-28 08:15:25.615002</td>\n",
       "      <td>NaN</td>\n",
       "      <td>NaN</td>\n",
       "      <td>{'Id': 4, 'Lat': 49.28319399999999, 'Lng': -12...</td>\n",
       "      <td>1</td>\n",
       "      <td>218</td>\n",
       "      <td>27.0</td>\n",
       "      <td>0.0</td>\n",
       "      <td>King Crab</td>\n",
       "      <td>NaN</td>\n",
       "      <td>'blanc':9 'buerr':8 'caper':7 'char':3 'chilli...</td>\n",
       "      <td>Main</td>\n",
       "    </tr>\n",
       "    <tr>\n",
       "      <th>2</th>\n",
       "      <td>293</td>\n",
       "      <td>4</td>\n",
       "      <td>121</td>\n",
       "      <td>2020-05-13 01:20:59.267256</td>\n",
       "      <td>NaN</td>\n",
       "      <td>NaN</td>\n",
       "      <td>NaN</td>\n",
       "      <td>1</td>\n",
       "      <td>440</td>\n",
       "      <td>14.0</td>\n",
       "      <td>1097.0</td>\n",
       "      <td>Joojeh Kabab With Rice</td>\n",
       "      <td>One skewer of chicken breast marinated with yo...</td>\n",
       "      <td>'bbq':14 'chicken':11 'joojeh':1 'juic':9 'kab...</td>\n",
       "      <td>Main</td>\n",
       "    </tr>\n",
       "    <tr>\n",
       "      <th>3</th>\n",
       "      <td>294</td>\n",
       "      <td>3</td>\n",
       "      <td>121</td>\n",
       "      <td>2020-05-13 17:34:35.519326</td>\n",
       "      <td>NaN</td>\n",
       "      <td>NaN</td>\n",
       "      <td>NaN</td>\n",
       "      <td>1</td>\n",
       "      <td>455</td>\n",
       "      <td>1.5</td>\n",
       "      <td>9.0</td>\n",
       "      <td>Regular Coffee</td>\n",
       "      <td>NaN</td>\n",
       "      <td>'coffe':2 'regular':1</td>\n",
       "      <td>Drink</td>\n",
       "    </tr>\n",
       "    <tr>\n",
       "      <th>4</th>\n",
       "      <td>297</td>\n",
       "      <td>142</td>\n",
       "      <td>121</td>\n",
       "      <td>2020-05-14 00:08:48.756423</td>\n",
       "      <td>NaN</td>\n",
       "      <td>NaN</td>\n",
       "      <td>NaN</td>\n",
       "      <td>1</td>\n",
       "      <td>540</td>\n",
       "      <td>9.9</td>\n",
       "      <td>485.0</td>\n",
       "      <td>Kashk Bademjan</td>\n",
       "      <td>Barbequed eggplant, lentils, fried onions, gar...</td>\n",
       "      <td>'bademjan':2 'bbq':8 'egg':10 'eggplant':6 'ga...</td>\n",
       "      <td>Main</td>\n",
       "    </tr>\n",
       "  </tbody>\n",
       "</table>\n",
       "</div>"
      ],
      "text/plain": [
       "   OrderId  UserId  RestaurantId                        Date  Rating Comments  \\\n",
       "0        8     113           110  2020-03-28 08:15:25.615002     NaN      NaN   \n",
       "1        8     113           110  2020-03-28 08:15:25.615002     NaN      NaN   \n",
       "2      293       4           121  2020-05-13 01:20:59.267256     NaN      NaN   \n",
       "3      294       3           121  2020-05-13 17:34:35.519326     NaN      NaN   \n",
       "4      297     142           121  2020-05-14 00:08:48.756423     NaN      NaN   \n",
       "\n",
       "                                             Address  Count  ItemId  Price  \\\n",
       "0  {'Id': 4, 'Lat': 49.28319399999999, 'Lng': -12...      1     211   15.0   \n",
       "1  {'Id': 4, 'Lat': 49.28319399999999, 'Lng': -12...      1     218   27.0   \n",
       "2                                                NaN      1     440   14.0   \n",
       "3                                                NaN      1     455    1.5   \n",
       "4                                                NaN      1     540    9.9   \n",
       "\n",
       "   ViewCount                     Name  \\\n",
       "0        0.0  Tableside Spinach Salad   \n",
       "1        0.0                King Crab   \n",
       "2     1097.0   Joojeh Kabab With Rice   \n",
       "3        9.0           Regular Coffee   \n",
       "4      485.0           Kashk Bademjan   \n",
       "\n",
       "                                         Description  \\\n",
       "0                                                NaN   \n",
       "1                                                NaN   \n",
       "2  One skewer of chicken breast marinated with yo...   \n",
       "3                                                NaN   \n",
       "4  Barbequed eggplant, lentils, fried onions, gar...   \n",
       "\n",
       "                                        SearchVector   Type  \n",
       "0  'almond':8 'babi':4 'bacon':11 'jack':10 'mont...   Main  \n",
       "1  'blanc':9 'buerr':8 'caper':7 'char':3 'chilli...   Main  \n",
       "2  'bbq':14 'chicken':11 'joojeh':1 'juic':9 'kab...   Main  \n",
       "3                              'coffe':2 'regular':1  Drink  \n",
       "4  'bademjan':2 'bbq':8 'egg':10 'eggplant':6 'ga...   Main  "
      ]
     },
     "execution_count": 242,
     "metadata": {},
     "output_type": "execute_result"
    }
   ],
   "source": [
    "orders.head()"
   ]
  },
  {
   "cell_type": "code",
   "execution_count": 243,
   "metadata": {},
   "outputs": [
    {
     "data": {
      "text/plain": [
       "Index(['orderid', 'userid', 'restaurantid', 'date', 'rating', 'comments',\n",
       "       'address', 'count', 'itemid', 'price', 'viewcount', 'name',\n",
       "       'description', 'searchvector', 'type'],\n",
       "      dtype='object')"
      ]
     },
     "execution_count": 243,
     "metadata": {},
     "output_type": "execute_result"
    }
   ],
   "source": [
    "orders.columns = [c.lower() for c in orders.columns]\n",
    "orders.columns"
   ]
  },
  {
   "cell_type": "markdown",
   "metadata": {},
   "source": [
    "Keep the columns we need"
   ]
  },
  {
   "cell_type": "code",
   "execution_count": 244,
   "metadata": {},
   "outputs": [],
   "source": [
    "data = orders[['orderid', 'userid', 'date', 'rating','itemid','name','description']]"
   ]
  },
  {
   "cell_type": "markdown",
   "metadata": {},
   "source": [
    "Lets keep the user info with some extra added columns to a different datafram"
   ]
  },
  {
   "cell_type": "code",
   "execution_count": 245,
   "metadata": {},
   "outputs": [
    {
     "data": {
      "text/html": [
       "<div>\n",
       "<style scoped>\n",
       "    .dataframe tbody tr th:only-of-type {\n",
       "        vertical-align: middle;\n",
       "    }\n",
       "\n",
       "    .dataframe tbody tr th {\n",
       "        vertical-align: top;\n",
       "    }\n",
       "\n",
       "    .dataframe thead th {\n",
       "        text-align: right;\n",
       "    }\n",
       "</style>\n",
       "<table border=\"1\" class=\"dataframe\">\n",
       "  <thead>\n",
       "    <tr style=\"text-align: right;\">\n",
       "      <th></th>\n",
       "      <th>gender</th>\n",
       "      <th>age</th>\n",
       "    </tr>\n",
       "    <tr>\n",
       "      <th>userid</th>\n",
       "      <th></th>\n",
       "      <th></th>\n",
       "    </tr>\n",
       "  </thead>\n",
       "  <tbody>\n",
       "    <tr>\n",
       "      <th>1</th>\n",
       "      <td>M</td>\n",
       "      <td>35</td>\n",
       "    </tr>\n",
       "    <tr>\n",
       "      <th>3</th>\n",
       "      <td>F</td>\n",
       "      <td>65</td>\n",
       "    </tr>\n",
       "    <tr>\n",
       "      <th>4</th>\n",
       "      <td>M</td>\n",
       "      <td>49</td>\n",
       "    </tr>\n",
       "    <tr>\n",
       "      <th>5</th>\n",
       "      <td>M</td>\n",
       "      <td>46</td>\n",
       "    </tr>\n",
       "    <tr>\n",
       "      <th>26</th>\n",
       "      <td>F</td>\n",
       "      <td>52</td>\n",
       "    </tr>\n",
       "  </tbody>\n",
       "</table>\n",
       "</div>"
      ],
      "text/plain": [
       "       gender  age\n",
       "userid            \n",
       "1           M   35\n",
       "3           F   65\n",
       "4           M   49\n",
       "5           M   46\n",
       "26          F   52"
      ]
     },
     "execution_count": 245,
     "metadata": {},
     "output_type": "execute_result"
    }
   ],
   "source": [
    "userids = set(data['userid'])\n",
    "user_info = pd.DataFrame(userids,columns = ['userid']).set_index('userid')\n",
    "\n",
    "user_info['gender'] = [random.choice(['F','M']) for i in range(user_info.shape[0])]\n",
    "user_info['age'] = [random.randrange(18,70,1) for i in range(user_info.shape[0])]\n",
    "user_info.head()"
   ]
  },
  {
   "cell_type": "markdown",
   "metadata": {},
   "source": [
    "Lest add gender and age columns to the order data too"
   ]
  },
  {
   "cell_type": "code",
   "execution_count": 246,
   "metadata": {},
   "outputs": [],
   "source": [
    "data = pd.merge(data,user_info,left_on='userid',right_on='userid', how ='left')"
   ]
  },
  {
   "cell_type": "code",
   "execution_count": 247,
   "metadata": {},
   "outputs": [
    {
     "name": "stdout",
     "output_type": "stream",
     "text": [
      "<class 'pandas.core.frame.DataFrame'>\n",
      "Int64Index: 24109 entries, 0 to 24108\n",
      "Data columns (total 9 columns):\n",
      " #   Column       Non-Null Count  Dtype  \n",
      "---  ------       --------------  -----  \n",
      " 0   orderid      24109 non-null  int64  \n",
      " 1   userid       24109 non-null  int64  \n",
      " 2   date         24109 non-null  object \n",
      " 3   rating       1757 non-null   float64\n",
      " 4   itemid       24109 non-null  int64  \n",
      " 5   name         24109 non-null  object \n",
      " 6   description  14025 non-null  object \n",
      " 7   gender       24109 non-null  object \n",
      " 8   age          24109 non-null  int64  \n",
      "dtypes: float64(1), int64(4), object(4)\n",
      "memory usage: 1.8+ MB\n"
     ]
    }
   ],
   "source": [
    "data.info()"
   ]
  },
  {
   "cell_type": "markdown",
   "metadata": {},
   "source": [
    "As seen above we have not enough ratings for the food. Therefore we compe up with a solution to increase the rate of collabortion with adding a rating to foods that the user has ordered equal to one random choice of 3,4,5. What that means is, that the user is probably liked the food that ordered it, but might not left a comment or rating, also if she ordered it it meanse she liked the ingredient or that food in general.\n",
    "\n",
    "So lets add that arbitarary rate to the ordered food."
   ]
  },
  {
   "cell_type": "code",
   "execution_count": 248,
   "metadata": {},
   "outputs": [
    {
     "data": {
      "text/plain": [
       "orderid        10868\n",
       "userid          4539\n",
       "date           10868\n",
       "rating             5\n",
       "itemid           359\n",
       "name             320\n",
       "description      225\n",
       "gender             2\n",
       "age               52\n",
       "dtype: int64"
      ]
     },
     "execution_count": 248,
     "metadata": {},
     "output_type": "execute_result"
    }
   ],
   "source": [
    "# get the unique number of records\n",
    "data.nunique()"
   ]
  },
  {
   "cell_type": "markdown",
   "metadata": {},
   "source": [
    "Create a column to have random numbers from [3,4,5]."
   ]
  },
  {
   "cell_type": "code",
   "execution_count": 249,
   "metadata": {},
   "outputs": [
    {
     "name": "stdout",
     "output_type": "stream",
     "text": [
      "4    8083\n",
      "3    8051\n",
      "5    7975\n",
      "Name: random, dtype: int64\n"
     ]
    }
   ],
   "source": [
    "data['random'] = [random.randrange(3, 6, 1) for i in range(data.shape[0])]\n",
    "print(data['random'].value_counts())"
   ]
  },
  {
   "cell_type": "markdown",
   "metadata": {},
   "source": [
    "Fill all the NaN values with a record from random column"
   ]
  },
  {
   "cell_type": "code",
   "execution_count": 250,
   "metadata": {},
   "outputs": [],
   "source": [
    "data['rating'].fillna(value = data['random'], inplace= True)"
   ]
  },
  {
   "cell_type": "code",
   "execution_count": 251,
   "metadata": {},
   "outputs": [
    {
     "data": {
      "text/plain": [
       "0"
      ]
     },
     "execution_count": 251,
     "metadata": {},
     "output_type": "execute_result"
    }
   ],
   "source": [
    "data['rating'].isna().sum()"
   ]
  },
  {
   "cell_type": "code",
   "execution_count": 252,
   "metadata": {},
   "outputs": [],
   "source": [
    "# remove all the rows with no ratings\n",
    "# data = data[~(data['rating'].isna())].reset_index()"
   ]
  },
  {
   "cell_type": "code",
   "execution_count": 253,
   "metadata": {},
   "outputs": [
    {
     "data": {
      "text/plain": [
       "5.0    8603\n",
       "4.0    7744\n",
       "3.0    7636\n",
       "1.0      90\n",
       "2.0      36\n",
       "Name: rating, dtype: int64"
      ]
     },
     "execution_count": 253,
     "metadata": {},
     "output_type": "execute_result"
    }
   ],
   "source": [
    "data['rating'].value_counts()"
   ]
  },
  {
   "cell_type": "code",
   "execution_count": 254,
   "metadata": {},
   "outputs": [
    {
     "name": "stdout",
     "output_type": "stream",
     "text": [
      "<class 'pandas.core.frame.DataFrame'>\n",
      "Int64Index: 24109 entries, 0 to 24108\n",
      "Data columns (total 10 columns):\n",
      " #   Column       Non-Null Count  Dtype  \n",
      "---  ------       --------------  -----  \n",
      " 0   orderid      24109 non-null  int64  \n",
      " 1   userid       24109 non-null  int64  \n",
      " 2   date         24109 non-null  object \n",
      " 3   rating       24109 non-null  float64\n",
      " 4   itemid       24109 non-null  int64  \n",
      " 5   name         24109 non-null  object \n",
      " 6   description  14025 non-null  object \n",
      " 7   gender       24109 non-null  object \n",
      " 8   age          24109 non-null  int64  \n",
      " 9   random       24109 non-null  int64  \n",
      "dtypes: float64(1), int64(5), object(4)\n",
      "memory usage: 2.0+ MB\n"
     ]
    }
   ],
   "source": [
    "data.info()"
   ]
  },
  {
   "cell_type": "markdown",
   "metadata": {},
   "source": [
    "### Split Data into Train and Test Data"
   ]
  },
  {
   "cell_type": "code",
   "execution_count": 255,
   "metadata": {},
   "outputs": [],
   "source": [
    "split_perc= int(len(data) * 0.80)\n",
    "train_data = data[:split_perc]\n",
    "test_data = data[split_perc:]"
   ]
  },
  {
   "cell_type": "markdown",
   "metadata": {},
   "source": [
    "### Analysis of Data"
   ]
  },
  {
   "cell_type": "code",
   "execution_count": 256,
   "metadata": {},
   "outputs": [
    {
     "name": "stderr",
     "output_type": "stream",
     "text": [
      "/var/folders/pm/804wbvdx4lz30mqcr3mys38r0000gn/T/ipykernel_18649/2780585729.py:4: UserWarning: FixedFormatter should only be used together with FixedLocator\n",
      "  ax.set_yticklabels([num for num in ax.get_yticks()])\n"
     ]
    },
    {
     "data": {
      "image/png": "[encoded data removed]",
      "text/plain": [
       "<Figure size 720x432 with 1 Axes>"
      ]
     },
     "metadata": {
      "needs_background": "light"
     },
     "output_type": "display_data"
    }
   ],
   "source": [
    "# plot the rating distribution in training data\n",
    "plt.figure(figsize = (10, 6))\n",
    "ax = sns.countplot(x=\"rating\", data=train_data)\n",
    "ax.set_yticklabels([num for num in ax.get_yticks()])\n",
    "plt.tick_params(labelsize = 15)\n",
    "plt.title(\"Count Ratings in train data\", fontsize = 20)\n",
    "plt.xlabel(\"Ratings\", fontsize = 20)\n",
    "plt.ylabel(\"Number of Ratings\", fontsize = 20)\n",
    "plt.show()"
   ]
  },
  {
   "cell_type": "code",
   "execution_count": 257,
   "metadata": {},
   "outputs": [
    {
     "data": {
      "text/plain": [
       "userid\n",
       "863     177\n",
       "1004     64\n",
       "836      53\n",
       "1629     45\n",
       "2558     43\n",
       "1409     40\n",
       "1628     35\n",
       "420      34\n",
       "1252     34\n",
       "1329     33\n",
       "Name: rating, dtype: int64"
      ]
     },
     "execution_count": 257,
     "metadata": {},
     "output_type": "execute_result"
    }
   ],
   "source": [
    "user_rating_no = train_data.groupby(\"userid\")[\"rating\"].count().sort_values(ascending = False)\n",
    "user_rating_no.head(10)"
   ]
  },
  {
   "cell_type": "code",
   "execution_count": 258,
   "metadata": {},
   "outputs": [
    {
     "data": {
      "text/plain": [
       "itemid\n",
       "82659    1757\n",
       "81555    1055\n",
       "81558     896\n",
       "81553     820\n",
       "82674     733\n",
       "82676     661\n",
       "81554     518\n",
       "523       496\n",
       "81557     446\n",
       "82653     441\n",
       "Name: rating, dtype: int64"
      ]
     },
     "execution_count": 258,
     "metadata": {},
     "output_type": "execute_result"
    }
   ],
   "source": [
    "item_rating_no= train_data.groupby(\"itemid\")[\"rating\"].count().sort_values(ascending = False)\n",
    "item_rating_no.head(10)"
   ]
  },
  {
   "cell_type": "markdown",
   "metadata": {},
   "source": [
    "### Check Cold Start Problem for Users"
   ]
  },
  {
   "cell_type": "markdown",
   "metadata": {},
   "source": [
    "Here, 28% of total users are new and they will have no proper rating available. So, this can bring the issue of the cold start problems."
   ]
  },
  {
   "cell_type": "code",
   "execution_count": 259,
   "metadata": {},
   "outputs": [
    {
     "name": "stdout",
     "output_type": "stream",
     "text": [
      "Total no. of Users = 4539\n",
      "No. of Users in train data= 3673\n",
      "No. of Users not present in train data = 866(19.0%)\n"
     ]
    }
   ],
   "source": [
    "total_users = len(np.unique(data[\"userid\"]))\n",
    "train_users = len(np.unique(train_data[\"userid\"]))\n",
    "test_users = total_users - train_users\n",
    "                  \n",
    "print(\"Total no. of Users = {}\".format(total_users))\n",
    "print(\"No. of Users in train data= {}\".format(train_users))\n",
    "print(\"No. of Users not present in train data = {}({}%)\".format(test_users, np.round((test_users/total_users)*100), 2))"
   ]
  },
  {
   "cell_type": "markdown",
   "metadata": {},
   "source": [
    "### Minimal Recommendation Engine: Simple Mean Rating"
   ]
  },
  {
   "cell_type": "code",
   "execution_count": 260,
   "metadata": {},
   "outputs": [],
   "source": [
    "def rmse_calculate(y_pred,y_true):\n",
    "    return np.sqrt(np.nanmean((y_pred - y_true)**2))\n",
    "\n",
    "def evaluate(prediction_f,data):\n",
    "    ids_toestimat = zip(data.userid,test_data.itemid)\n",
    "    estimated = np.array([prediction_f(userid,itemid,data) for (userid,itemid) in ids_toestimat])\n",
    "    reals = data['rating'].values\n",
    "    return rmse_calculate(estimated,reals)\n",
    "\n",
    "def dummy_estimate(userid,itemid,test_data):\n",
    "    return 3    \n",
    "\n",
    "def content_mean(userid,itemid,data):\n",
    "    condition = data.userid == userid\n",
    "    return data.loc[condition]['rating'].mean()\n",
    "\n",
    "def colab_mean(userid,itemid,data):\n",
    "    item_condition = data.itemid == itemid\n",
    "    user_condition = data.userid != userid\n",
    "    result = data.loc[item_condition & user_condition ][['orderid','userid','itemid','name','rating']]\n",
    "    #print(result)\n",
    "    return result['rating'].mean()\n",
    "\n"
   ]
  },
  {
   "cell_type": "code",
   "execution_count": 261,
   "metadata": {},
   "outputs": [
    {
     "data": {
      "text/plain": [
       "1.2973507766767147"
      ]
     },
     "execution_count": 261,
     "metadata": {},
     "output_type": "execute_result"
    }
   ],
   "source": [
    "evaluate(dummy_estimate,test_data)"
   ]
  },
  {
   "cell_type": "code",
   "execution_count": 262,
   "metadata": {},
   "outputs": [
    {
     "data": {
      "text/plain": [
       "0.8489132571394027"
      ]
     },
     "execution_count": 262,
     "metadata": {},
     "output_type": "execute_result"
    }
   ],
   "source": [
    "evaluate(colab_mean,test_data)"
   ]
  },
  {
   "cell_type": "code",
   "execution_count": 263,
   "metadata": {},
   "outputs": [
    {
     "data": {
      "text/plain": [
       "0.7119172916315794"
      ]
     },
     "execution_count": 263,
     "metadata": {},
     "output_type": "execute_result"
    }
   ],
   "source": [
    "evaluate(content_mean,test_data)"
   ]
  },
  {
   "cell_type": "markdown",
   "metadata": {},
   "source": [
    "### Colaborative Recommendation Engine:"
   ]
  },
  {
   "cell_type": "code",
   "execution_count": 264,
   "metadata": {},
   "outputs": [],
   "source": [
    "rating_mtx = pd.pivot_table(train_data,values='rating',index = 'userid',columns ='itemid')"
   ]
  },
  {
   "cell_type": "code",
   "execution_count": 265,
   "metadata": {},
   "outputs": [],
   "source": [
    "gender_mtx = pd.pivot_table(train_data,values='rating',index = 'itemid',columns ='gender', aggfunc=np.mean)"
   ]
  },
  {
   "cell_type": "markdown",
   "metadata": {},
   "source": [
    "### Colaborative Recommendation based on gender and age"
   ]
  },
  {
   "cell_type": "code",
   "execution_count": 266,
   "metadata": {},
   "outputs": [],
   "source": [
    "class CollabGenderRec:\n",
    "    def learn(self,data):\n",
    "        self.means_by_gender = pd.pivot_table(data,values='rating',index='itemid',columns='gender',aggfunc=np.mean)\n",
    "   \n",
    "    def estimate(self,userid,itemid,data):\n",
    "        if itemid not in self.means_by_gender.index:\n",
    "            return 3\n",
    "\n",
    "        user_gender = user_info.loc[userid]['gender']\n",
    "        if ~np.isnan(self.means_by_gender.loc[itemid][user_gender]):\n",
    "            return self.means_by_gender.loc[itemid][user_gender]\n",
    "        else:\n",
    "            return self.means_by_gender.loc[itemid].mean()\n",
    "\n",
    "\n",
    "class CollabAgeRec:\n",
    "    def learn(self,data):\n",
    "        self.means_by_age = pd.pivot_table(data,values='rating',index='itemid',columns='age',aggfunc=np.mean)\n",
    "   \n",
    "    def estimate(self,userid,itemid,data):\n",
    "        if itemid not in self.means_by_age.index:\n",
    "            return 3\n",
    "\n",
    "        user_age = user_info.loc[userid]['age']\n",
    "        if ~np.isnan(self.means_by_age.loc[itemid][user_age]):\n",
    "            return self.means_by_age.loc[itemid][user_age]\n",
    "        else:\n",
    "            return self.means_by_age.loc[itemid].mean()\n"
   ]
  },
  {
   "cell_type": "code",
   "execution_count": 267,
   "metadata": {},
   "outputs": [
    {
     "data": {
      "text/plain": [
       "0.7726062891316434"
      ]
     },
     "execution_count": 267,
     "metadata": {},
     "output_type": "execute_result"
    }
   ],
   "source": [
    "reco = CollabGenderRec()\n",
    "reco.learn(test_data)\n",
    "evaluate(reco.estimate,test_data)\n"
   ]
  },
  {
   "cell_type": "code",
   "execution_count": 268,
   "metadata": {},
   "outputs": [
    {
     "data": {
      "text/plain": [
       "0.9634983682324548"
      ]
     },
     "execution_count": 268,
     "metadata": {},
     "output_type": "execute_result"
    }
   ],
   "source": [
    "reco = CollabAgeRec()\n",
    "reco.learn(train_data)\n",
    "evaluate(reco.estimate,test_data)"
   ]
  },
  {
   "cell_type": "markdown",
   "metadata": {},
   "source": [
    "### Colaborative Recommendation based on user profile and similarity matrix"
   ]
  },
  {
   "cell_type": "code",
   "execution_count": 269,
   "metadata": {},
   "outputs": [],
   "source": [
    "class CollabPearsonRec:\n",
    "    def learn(self,data):\n",
    "        self.all_users_profiles = pd.pivot_table(data,values='rating',index='userid',columns='itemid',aggfunc=np.mean)\n",
    "        self.all_users_profiles = self.all_users_profiles.fillna(0)\n",
    "\n",
    "   \n",
    "    def estimate(self,userid,itemid,data):\n",
    "        user_condition = data.userid != userid\n",
    "        item_condition = data.itemid == itemid\n",
    "        rating_by_others = data.loc[user_condition & item_condition]\n",
    "        if rating_by_others.empty:\n",
    "            return 3\n",
    "\n",
    "        rating_by_others.set_index('userid',inplace=True)\n",
    "        their_ids = rating_by_others.index\n",
    "        their_ratings = rating_by_others.rating\n",
    "        their_profile = self.all_users_profiles.loc[their_ids]\n",
    "        if userid in self.all_users_profiles.index:\n",
    "              user_profile = self.all_users_profiles.loc[userid]\n",
    "        else:\n",
    "            return 3\n",
    "\n",
    "        sims = their_profile.apply(lambda profile: pearson(profile,user_profile), axis=1)\n",
    "        ratings_sims = pd.DataFrame({'sim':sims,'rating':their_ratings})\n",
    "        ratings_sims = ratings_sims[ratings_sims.sim > 0]\n",
    "        if ratings_sims.empty:\n",
    "            return their_ratings.mean()\n",
    "        else:\n",
    "            return np.average(ratings_sims.rating, weights=ratings_sims.sim)\n"
   ]
  },
  {
   "cell_type": "code",
   "execution_count": 270,
   "metadata": {},
   "outputs": [
    {
     "data": {
      "text/plain": [
       "0.8585506073846343"
      ]
     },
     "execution_count": 270,
     "metadata": {},
     "output_type": "execute_result"
    }
   ],
   "source": [
    "rec = CollabPearsonRec()\n",
    "rec.learn(test_data)\n",
    "evaluate(rec.estimate,test_data)\n"
   ]
  },
  {
   "cell_type": "code",
   "execution_count": 271,
   "metadata": {},
   "outputs": [
    {
     "name": "stdout",
     "output_type": "stream",
     "text": [
      "itemid: 83314\n",
      "userid: 1145\n"
     ]
    }
   ],
   "source": [
    "user_ids = list(set(orders.userid))\n",
    "sample_userid = orders[orders.userid == random.choice(user_ids)].userid.values[0]\n",
    "items_ids = list(set(orders.itemid))\n",
    "sample_itemid = orders[orders.itemid == random.choice(items_ids)].itemid.values[0]\n",
    "print('itemid:',sample_itemid)\n",
    "print('userid:',sample_userid)"
   ]
  },
  {
   "cell_type": "code",
   "execution_count": 272,
   "metadata": {},
   "outputs": [
    {
     "data": {
      "text/plain": [
       "3"
      ]
     },
     "execution_count": 272,
     "metadata": {},
     "output_type": "execute_result"
    }
   ],
   "source": [
    "rec = CollabPearsonRec()\n",
    "rec.learn(train_data)\n",
    "rec.estimate(sample_userid,sample_itemid,train_data)"
   ]
  },
  {
   "cell_type": "code",
   "execution_count": 273,
   "metadata": {},
   "outputs": [],
   "source": [
    "from surprise import Reader, Dataset, SVD, KNNWithMeans \n",
    "from surprise.model_selection import cross_validate\n",
    "from surprise.model_selection import GridSearchCV"
   ]
  },
  {
   "cell_type": "code",
   "execution_count": 333,
   "metadata": {},
   "outputs": [],
   "source": [
    "rating_data = train_data[['userid', 'itemid', 'rating']]"
   ]
  },
  {
   "cell_type": "code",
   "execution_count": 334,
   "metadata": {},
   "outputs": [],
   "source": [
    "# instantiate the Reader function\n",
    "reader = Reader()\n",
    "rating_data_surprise = Dataset.load_from_df(rating_data[['userid', 'itemid', 'rating']], reader)"
   ]
  },
  {
   "cell_type": "code",
   "execution_count": 345,
   "metadata": {},
   "outputs": [
    {
     "name": "stdout",
     "output_type": "stream",
     "text": [
      "0.846878770627789\n",
      "{'n_epochs': 10, 'lr_all': 0.005, 'reg_all': 0.6}\n"
     ]
    }
   ],
   "source": [
    " #generate the best hyper parameters using Grid Search CV \n",
    "param_grid = {'n_epochs': [5, 10], 'lr_all': [0.002, 0.005],\n",
    "              'reg_all': [0.4, 0.6]}\n",
    "              \n",
    "gs_svd = GridSearchCV(SVD, param_grid, measures=['rmse', 'mae'], cv=3)\n",
    "gs_svd.fit(rating_data_surprise)\n",
    "print(gs_svd.best_score['rmse'])\n",
    "print(gs_svd.best_params['rmse'])"
   ]
  },
  {
   "cell_type": "code",
   "execution_count": null,
   "metadata": {},
   "outputs": [],
   "source": [
    "# generate the best hyper parameters using Grid Search CV \n",
    "sim_options = {\n",
    "    \"name\": [\"msd\", \"cosine\"],\n",
    "    \"min_support\": [3, 4, 5],\n",
    "    \"user_based\": [False, True],\n",
    "}\n",
    "param_grid = {\"sim_options\": sim_options}\n",
    "gs_knn = GridSearchCV(KNNWithMeans, param_grid, measures=[\"rmse\", \"mae\"], cv=3)\n",
    "gs_knn.fit(rating_data_surprise)\n"
   ]
  },
  {
   "cell_type": "code",
   "execution_count": 342,
   "metadata": {},
   "outputs": [
    {
     "name": "stdout",
     "output_type": "stream",
     "text": [
      "0.9413313583932665\n",
      "{'sim_options': {'name': 'cosine', 'min_support': 4, 'user_based': False}}\n"
     ]
    }
   ],
   "source": [
    "print(gs_knn.best_score[\"rmse\"])\n",
    "print(gs_knn.best_params[\"rmse\"])"
   ]
  },
  {
   "cell_type": "code",
   "execution_count": 328,
   "metadata": {},
   "outputs": [
    {
     "name": "stdout",
     "output_type": "stream",
     "text": [
      "itemid: 83420\n",
      "userid: 2748\n"
     ]
    }
   ],
   "source": [
    "sample_userid = test_data[test_data.userid == random.choice(user_ids)].userid.values[0]\n",
    "sample_itemid = test_data[test_data.itemid == random.choice(items_ids)].itemid.values[0]\n",
    "print('itemid:',sample_itemid)\n",
    "print('userid:',sample_userid)"
   ]
  },
  {
   "cell_type": "code",
   "execution_count": 349,
   "metadata": {},
   "outputs": [
    {
     "name": "stdout",
     "output_type": "stream",
     "text": [
      "Computing the cosine similarity matrix...\n",
      "Done computing similarity matrix.\n",
      "The predicted rating that User 4350 would give item 83420 is 4.03 \n"
     ]
    }
   ],
   "source": [
    "knn = gs_knn.best_estimator['rmse']\n",
    "knn.fit(rating_data_surprise.build_full_trainset())\n",
    "\n",
    "# predict with SVD\n",
    "pred = knn.predict(4350, sample_itemid)\n",
    "print(f'The predicted rating that User {pred[0]} would give item {pred[1]} is {round(pred[3], 2)} ')"
   ]
  },
  {
   "cell_type": "code",
   "execution_count": 350,
   "metadata": {},
   "outputs": [
    {
     "name": "stdout",
     "output_type": "stream",
     "text": [
      "The predicted rating that User 4350 would give item 83420 is 3.92 \n"
     ]
    }
   ],
   "source": [
    "svd = gs_svd.best_estimator['rmse']\n",
    "svd.fit(rating_data_surprise.build_full_trainset())\n",
    "# predict with SVD\n",
    "pred = svd.predict(4350, sample_itemid)\n",
    "print(f'The predicted rating that User {pred[0]} would give item {pred[1]} is {round(pred[3], 2)} ')"
   ]
  },
  {
   "cell_type": "code",
   "execution_count": 351,
   "metadata": {},
   "outputs": [
    {
     "data": {
      "text/html": [
       "<div>\n",
       "<style scoped>\n",
       "    .dataframe tbody tr th:only-of-type {\n",
       "        vertical-align: middle;\n",
       "    }\n",
       "\n",
       "    .dataframe tbody tr th {\n",
       "        vertical-align: top;\n",
       "    }\n",
       "\n",
       "    .dataframe thead th {\n",
       "        text-align: right;\n",
       "    }\n",
       "</style>\n",
       "<table border=\"1\" class=\"dataframe\">\n",
       "  <thead>\n",
       "    <tr style=\"text-align: right;\">\n",
       "      <th></th>\n",
       "      <th>userid</th>\n",
       "      <th>itemid</th>\n",
       "      <th>rating</th>\n",
       "    </tr>\n",
       "  </thead>\n",
       "  <tbody>\n",
       "    <tr>\n",
       "      <th>19785</th>\n",
       "      <td>4350</td>\n",
       "      <td>83420</td>\n",
       "      <td>5.0</td>\n",
       "    </tr>\n",
       "    <tr>\n",
       "      <th>21320</th>\n",
       "      <td>4637</td>\n",
       "      <td>83420</td>\n",
       "      <td>3.0</td>\n",
       "    </tr>\n",
       "    <tr>\n",
       "      <th>21389</th>\n",
       "      <td>4646</td>\n",
       "      <td>83420</td>\n",
       "      <td>5.0</td>\n",
       "    </tr>\n",
       "  </tbody>\n",
       "</table>\n",
       "</div>"
      ],
      "text/plain": [
       "       userid  itemid  rating\n",
       "19785    4350   83420     5.0\n",
       "21320    4637   83420     3.0\n",
       "21389    4646   83420     5.0"
      ]
     },
     "execution_count": 351,
     "metadata": {},
     "output_type": "execute_result"
    }
   ],
   "source": [
    "test_data[test_data.itemid == sample_itemid][['userid', 'itemid', 'rating']]"
   ]
  },
  {
   "cell_type": "code",
   "execution_count": null,
   "metadata": {},
   "outputs": [],
   "source": []
  }
 ],
 "metadata": {
  "interpreter": {
   "hash": "31f2aee4e71d21fbe5cf8b01ff0e069b9275f58929596ceb00d14d90e3e16cd6"
  },
  "kernelspec": {
   "display_name": "Python 3.8.9 64-bit",
   "language": "python",
   "name": "python3"
  },
  "language_info": {
   "codemirror_mode": {
    "name": "ipython",
    "version": 3
   },
   "file_extension": ".py",
   "mimetype": "text/x-python",
   "name": "python",
   "nbconvert_exporter": "python",
   "pygments_lexer": "ipython3",
   "version": "3.9.7"
  },
  "orig_nbformat": 4
 },
 "nbformat": 4,
 "nbformat_minor": 2
}
