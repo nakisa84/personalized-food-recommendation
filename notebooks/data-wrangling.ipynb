{
 "cells": [
  {
   "cell_type": "markdown",
   "id": "bce00b8a",
   "metadata": {},
   "source": [
    "# Personalized Food Recommendation"
   ]
  },
  {
   "cell_type": "markdown",
   "id": "2af7bfdc",
   "metadata": {},
   "source": [
    "To begin this project, first I will load all the dataset( from Fooreco online ordering application) and analyze and uderstand them. Then will continue to clean, impute the data for further analysis.\n",
    "\n",
    "\n"
   ]
  },
  {
   "cell_type": "markdown",
   "id": "c7c74e5a",
   "metadata": {},
   "source": [
    "##  Data Wrangling and Exploratory Data Analysis\n",
    "Lets load the data and check them out "
   ]
  },
  {
   "cell_type": "code",
   "execution_count": 1,
   "id": "a97ddb4d",
   "metadata": {},
   "outputs": [],
   "source": [
    "import pandas as pd\n",
    "import numpy as np\n",
    "import json\n",
    "import matplotlib.pyplot as plt\n",
    "import library.utils \n",
    "import random\n",
    "import seaborn as sns\n",
    "import missingno as msno\n"
   ]
  },
  {
   "cell_type": "code",
   "execution_count": 2,
   "id": "646ffe94",
   "metadata": {},
   "outputs": [],
   "source": [
    "users = pd.read_csv('../data/users.csv')\n",
    "orders = pd.read_csv('../data/orders.csv')\n",
    "feedback = pd.read_csv('../data/feedback.csv')\n",
    "items = pd.read_csv('../data/items.csv')\n",
    "items_info = pd.read_csv('../data/itemsInfo.csv' ,low_memory=False)    #set the low_memory to false to avoid error for ambiguuos data types\n",
    "restaurants = pd.read_csv('../data/restaurants.csv')\n",
    "review = pd.read_csv('../data/review.csv')"
   ]
  },
  {
   "cell_type": "code",
   "execution_count": 3,
   "id": "1aa5dd6a",
   "metadata": {},
   "outputs": [
    {
     "name": "stdout",
     "output_type": "stream",
     "text": [
      "Users: (5268, 23)\n",
      "Orders: (14883, 27)\n",
      "Feedback: (802, 7)\n",
      "Items: (68100, 11)\n",
      "restaurants: (901, 23)\n"
     ]
    }
   ],
   "source": [
    "# Check the shape of the data types\n",
    "print('Users:',users.shape)\n",
    "print('Orders:',orders.shape)\n",
    "print('Feedback:',feedback.shape)\n",
    "print('Items:', items.shape)\n",
    "print('restaurants:', restaurants.shape)"
   ]
  },
  {
   "cell_type": "markdown",
   "id": "c00d0889",
   "metadata": {},
   "source": [
    "### 1. User Data Wrangling "
   ]
  },
  {
   "cell_type": "markdown",
   "id": "54407651",
   "metadata": {},
   "source": [
    "First lets look into users data, how many unique users are signed up? are there any null values in the data?"
   ]
  },
  {
   "cell_type": "code",
   "execution_count": 4,
   "id": "718c4b73",
   "metadata": {},
   "outputs": [
    {
     "data": {
      "text/html": [
       "<div>\n",
       "<style scoped>\n",
       "    .dataframe tbody tr th:only-of-type {\n",
       "        vertical-align: middle;\n",
       "    }\n",
       "\n",
       "    .dataframe tbody tr th {\n",
       "        vertical-align: top;\n",
       "    }\n",
       "\n",
       "    .dataframe thead th {\n",
       "        text-align: right;\n",
       "    }\n",
       "</style>\n",
       "<table border=\"1\" class=\"dataframe\">\n",
       "  <thead>\n",
       "    <tr style=\"text-align: right;\">\n",
       "      <th></th>\n",
       "      <th>AccessFailedCount</th>\n",
       "      <th>EmailConfirmed</th>\n",
       "      <th>Id</th>\n",
       "      <th>LockoutEnabled</th>\n",
       "      <th>LockoutEnd</th>\n",
       "      <th>PhoneNumberConfirmed</th>\n",
       "      <th>TwoFactorEnabled</th>\n",
       "      <th>UserName</th>\n",
       "      <th>NormalizedUserName</th>\n",
       "      <th>Email</th>\n",
       "      <th>...</th>\n",
       "      <th>ConcurrencyStamp</th>\n",
       "      <th>PhoneNumber</th>\n",
       "      <th>IsEnabled</th>\n",
       "      <th>IsCompleted</th>\n",
       "      <th>CreatedDate</th>\n",
       "      <th>FirstName</th>\n",
       "      <th>LastName</th>\n",
       "      <th>PhotoUrl</th>\n",
       "      <th>RecommendedTags</th>\n",
       "      <th>PaymentCustomerId</th>\n",
       "    </tr>\n",
       "  </thead>\n",
       "  <tbody>\n",
       "    <tr>\n",
       "      <th>0</th>\n",
       "      <td>0</td>\n",
       "      <td>True</td>\n",
       "      <td>43</td>\n",
       "      <td>True</td>\n",
       "      <td>NaN</td>\n",
       "      <td>False</td>\n",
       "      <td>False</td>\n",
       "      <td>abdolrezab.ayesteh@gmail.com</td>\n",
       "      <td>ABDOLREZAB.AYESTEH@GMAIL.COM</td>\n",
       "      <td>abdolrezab.ayesteh@gmail.com</td>\n",
       "      <td>...</td>\n",
       "      <td>9b25b262-4e49-43f5-b067-889b156c2f00</td>\n",
       "      <td>NaN</td>\n",
       "      <td>True</td>\n",
       "      <td>True</td>\n",
       "      <td>2018-12-20T23:32:45.168237Z</td>\n",
       "      <td>Abdolreza</td>\n",
       "      <td>Bayesteh</td>\n",
       "      <td>NaN</td>\n",
       "      <td>NaN</td>\n",
       "      <td>NaN</td>\n",
       "    </tr>\n",
       "    <tr>\n",
       "      <th>1</th>\n",
       "      <td>0</td>\n",
       "      <td>False</td>\n",
       "      <td>6</td>\n",
       "      <td>True</td>\n",
       "      <td>NaN</td>\n",
       "      <td>False</td>\n",
       "      <td>False</td>\n",
       "      <td>a.bdolreza.bayesteh@gmail.com</td>\n",
       "      <td>A.BDOLREZA.BAYESTEH@GMAIL.COM</td>\n",
       "      <td>a.bdolreza.bayesteh@gmail.com</td>\n",
       "      <td>...</td>\n",
       "      <td>29953587-a4e1-498f-acaa-e8ff913949b4</td>\n",
       "      <td>NaN</td>\n",
       "      <td>True</td>\n",
       "      <td>True</td>\n",
       "      <td>2018-12-14T08:00:16.447474Z</td>\n",
       "      <td>Reza</td>\n",
       "      <td>Bayesteh</td>\n",
       "      <td>NaN</td>\n",
       "      <td>NaN</td>\n",
       "      <td>NaN</td>\n",
       "    </tr>\n",
       "    <tr>\n",
       "      <th>2</th>\n",
       "      <td>0</td>\n",
       "      <td>False</td>\n",
       "      <td>46</td>\n",
       "      <td>True</td>\n",
       "      <td>NaN</td>\n",
       "      <td>False</td>\n",
       "      <td>False</td>\n",
       "      <td>wayne.zhang@globalrelay.net</td>\n",
       "      <td>WAYNE.ZHANG@GLOBALRELAY.NET</td>\n",
       "      <td>wayne.zhang@globalrelay.net</td>\n",
       "      <td>...</td>\n",
       "      <td>fa87b301-5b54-49a3-b7c1-2cf676867da3</td>\n",
       "      <td>NaN</td>\n",
       "      <td>True</td>\n",
       "      <td>True</td>\n",
       "      <td>2019-01-14T19:35:54.968657Z</td>\n",
       "      <td>Wayne</td>\n",
       "      <td>Zhang</td>\n",
       "      <td>NaN</td>\n",
       "      <td>NaN</td>\n",
       "      <td>NaN</td>\n",
       "    </tr>\n",
       "    <tr>\n",
       "      <th>3</th>\n",
       "      <td>0</td>\n",
       "      <td>True</td>\n",
       "      <td>7</td>\n",
       "      <td>True</td>\n",
       "      <td>NaN</td>\n",
       "      <td>False</td>\n",
       "      <td>False</td>\n",
       "      <td>ab.dolreza.bayesteh@gmail.com</td>\n",
       "      <td>AB.DOLREZA.BAYESTEH@GMAIL.COM</td>\n",
       "      <td>ab.dolreza.bayesteh@gmail.com</td>\n",
       "      <td>...</td>\n",
       "      <td>46e5c130-01cd-4098-b0de-7689ebccff71</td>\n",
       "      <td>NaN</td>\n",
       "      <td>True</td>\n",
       "      <td>True</td>\n",
       "      <td>2018-12-14T17:28:54.565647Z</td>\n",
       "      <td>Reza</td>\n",
       "      <td>Bayesteh</td>\n",
       "      <td>https://res.cloudinary.com/dng7glos4/image/upl...</td>\n",
       "      <td>NaN</td>\n",
       "      <td>NaN</td>\n",
       "    </tr>\n",
       "    <tr>\n",
       "      <th>4</th>\n",
       "      <td>0</td>\n",
       "      <td>False</td>\n",
       "      <td>47</td>\n",
       "      <td>True</td>\n",
       "      <td>NaN</td>\n",
       "      <td>False</td>\n",
       "      <td>False</td>\n",
       "      <td>waynezhangyuwei@Gmail.com</td>\n",
       "      <td>WAYNEZHANGYUWEI@GMAIL.COM</td>\n",
       "      <td>waynezhangyuwei@Gmail.com</td>\n",
       "      <td>...</td>\n",
       "      <td>a670b7da-07d3-47e7-9272-116fcf143e76</td>\n",
       "      <td>NaN</td>\n",
       "      <td>True</td>\n",
       "      <td>True</td>\n",
       "      <td>2019-01-14T19:36:41.291717Z</td>\n",
       "      <td>Wayne</td>\n",
       "      <td>Zhang</td>\n",
       "      <td>NaN</td>\n",
       "      <td>NaN</td>\n",
       "      <td>NaN</td>\n",
       "    </tr>\n",
       "  </tbody>\n",
       "</table>\n",
       "<p>5 rows × 23 columns</p>\n",
       "</div>"
      ],
      "text/plain": [
       "   AccessFailedCount  EmailConfirmed  Id  LockoutEnabled LockoutEnd  \\\n",
       "0                  0            True  43            True        NaN   \n",
       "1                  0           False   6            True        NaN   \n",
       "2                  0           False  46            True        NaN   \n",
       "3                  0            True   7            True        NaN   \n",
       "4                  0           False  47            True        NaN   \n",
       "\n",
       "   PhoneNumberConfirmed  TwoFactorEnabled                       UserName  \\\n",
       "0                 False             False   abdolrezab.ayesteh@gmail.com   \n",
       "1                 False             False  a.bdolreza.bayesteh@gmail.com   \n",
       "2                 False             False    wayne.zhang@globalrelay.net   \n",
       "3                 False             False  ab.dolreza.bayesteh@gmail.com   \n",
       "4                 False             False      waynezhangyuwei@Gmail.com   \n",
       "\n",
       "              NormalizedUserName                          Email  ...  \\\n",
       "0   ABDOLREZAB.AYESTEH@GMAIL.COM   abdolrezab.ayesteh@gmail.com  ...   \n",
       "1  A.BDOLREZA.BAYESTEH@GMAIL.COM  a.bdolreza.bayesteh@gmail.com  ...   \n",
       "2    WAYNE.ZHANG@GLOBALRELAY.NET    wayne.zhang@globalrelay.net  ...   \n",
       "3  AB.DOLREZA.BAYESTEH@GMAIL.COM  ab.dolreza.bayesteh@gmail.com  ...   \n",
       "4      WAYNEZHANGYUWEI@GMAIL.COM      waynezhangyuwei@Gmail.com  ...   \n",
       "\n",
       "                       ConcurrencyStamp PhoneNumber IsEnabled IsCompleted  \\\n",
       "0  9b25b262-4e49-43f5-b067-889b156c2f00         NaN      True        True   \n",
       "1  29953587-a4e1-498f-acaa-e8ff913949b4         NaN      True        True   \n",
       "2  fa87b301-5b54-49a3-b7c1-2cf676867da3         NaN      True        True   \n",
       "3  46e5c130-01cd-4098-b0de-7689ebccff71         NaN      True        True   \n",
       "4  a670b7da-07d3-47e7-9272-116fcf143e76         NaN      True        True   \n",
       "\n",
       "                   CreatedDate  FirstName  LastName  \\\n",
       "0  2018-12-20T23:32:45.168237Z  Abdolreza  Bayesteh   \n",
       "1  2018-12-14T08:00:16.447474Z       Reza  Bayesteh   \n",
       "2  2019-01-14T19:35:54.968657Z      Wayne     Zhang   \n",
       "3  2018-12-14T17:28:54.565647Z       Reza  Bayesteh   \n",
       "4  2019-01-14T19:36:41.291717Z      Wayne     Zhang   \n",
       "\n",
       "                                            PhotoUrl RecommendedTags  \\\n",
       "0                                                NaN             NaN   \n",
       "1                                                NaN             NaN   \n",
       "2                                                NaN             NaN   \n",
       "3  https://res.cloudinary.com/dng7glos4/image/upl...             NaN   \n",
       "4                                                NaN             NaN   \n",
       "\n",
       "  PaymentCustomerId  \n",
       "0               NaN  \n",
       "1               NaN  \n",
       "2               NaN  \n",
       "3               NaN  \n",
       "4               NaN  \n",
       "\n",
       "[5 rows x 23 columns]"
      ]
     },
     "execution_count": 4,
     "metadata": {},
     "output_type": "execute_result"
    }
   ],
   "source": [
    "# check the rows and columns\n",
    "users.head()"
   ]
  },
  {
   "cell_type": "code",
   "execution_count": 5,
   "id": "99225ddc",
   "metadata": {},
   "outputs": [
    {
     "name": "stdout",
     "output_type": "stream",
     "text": [
      "<class 'pandas.core.frame.DataFrame'>\n",
      "RangeIndex: 5268 entries, 0 to 5267\n",
      "Data columns (total 23 columns):\n",
      " #   Column                Non-Null Count  Dtype \n",
      "---  ------                --------------  ----- \n",
      " 0   AccessFailedCount     5268 non-null   int64 \n",
      " 1   EmailConfirmed        5268 non-null   bool  \n",
      " 2   Id                    5268 non-null   int64 \n",
      " 3   LockoutEnabled        5268 non-null   bool  \n",
      " 4   LockoutEnd            9 non-null      object\n",
      " 5   PhoneNumberConfirmed  5268 non-null   bool  \n",
      " 6   TwoFactorEnabled      5268 non-null   bool  \n",
      " 7   UserName              5268 non-null   object\n",
      " 8   NormalizedUserName    5268 non-null   object\n",
      " 9   Email                 5268 non-null   object\n",
      " 10  NormalizedEmail       5268 non-null   object\n",
      " 11  PasswordHash          549 non-null    object\n",
      " 12  SecurityStamp         5268 non-null   object\n",
      " 13  ConcurrencyStamp      5268 non-null   object\n",
      " 14  PhoneNumber           3293 non-null   object\n",
      " 15  IsEnabled             5268 non-null   bool  \n",
      " 16  IsCompleted           5268 non-null   bool  \n",
      " 17  CreatedDate           5268 non-null   object\n",
      " 18  FirstName             5251 non-null   object\n",
      " 19  LastName              5180 non-null   object\n",
      " 20  PhotoUrl              2341 non-null   object\n",
      " 21  RecommendedTags       5 non-null      object\n",
      " 22  PaymentCustomerId     707 non-null    object\n",
      "dtypes: bool(6), int64(2), object(15)\n",
      "memory usage: 730.6+ KB\n"
     ]
    }
   ],
   "source": [
    "# general information\n",
    "users.info()"
   ]
  },
  {
   "cell_type": "markdown",
   "id": "b91640b2",
   "metadata": {},
   "source": [
    "As seen above, there are not much important information about the users that can help on clustering the customers, therfore we will just keep the userIds. Also its safer not to user users email or phone numbers due to privacy issues."
   ]
  },
  {
   "cell_type": "code",
   "execution_count": 6,
   "id": "bfb955b9",
   "metadata": {},
   "outputs": [
    {
     "data": {
      "text/plain": [
       "False"
      ]
     },
     "execution_count": 6,
     "metadata": {},
     "output_type": "execute_result"
    }
   ],
   "source": [
    "userIds = users[['Id']]\n",
    "# check for user id duplicattion \n",
    "userIds.duplicated().any()"
   ]
  },
  {
   "cell_type": "code",
   "execution_count": 7,
   "id": "5fe713d3",
   "metadata": {},
   "outputs": [
    {
     "name": "stdout",
     "output_type": "stream",
     "text": [
      "A file already exists with this name.\n",
      "\n"
     ]
    }
   ],
   "source": [
    "# save the users file to keep it\n",
    "file_path = '../data'\n",
    "library.utils.save_file(userIds,'userId.csv',file_path)"
   ]
  },
  {
   "cell_type": "markdown",
   "id": "49abdcc6",
   "metadata": {},
   "source": [
    "### 2. Orders Data wrangling\n",
    "\n",
    "This dataset contains all the information for the orders has been submitted by the users."
   ]
  },
  {
   "cell_type": "code",
   "execution_count": 8,
   "id": "4b2ee779",
   "metadata": {},
   "outputs": [
    {
     "data": {
      "text/html": [
       "<div>\n",
       "<style scoped>\n",
       "    .dataframe tbody tr th:only-of-type {\n",
       "        vertical-align: middle;\n",
       "    }\n",
       "\n",
       "    .dataframe tbody tr th {\n",
       "        vertical-align: top;\n",
       "    }\n",
       "\n",
       "    .dataframe thead th {\n",
       "        text-align: right;\n",
       "    }\n",
       "</style>\n",
       "<table border=\"1\" class=\"dataframe\">\n",
       "  <thead>\n",
       "    <tr style=\"text-align: right;\">\n",
       "      <th></th>\n",
       "      <th>Id</th>\n",
       "      <th>UserId</th>\n",
       "      <th>RestaurantId</th>\n",
       "      <th>Created</th>\n",
       "      <th>PaymentId</th>\n",
       "      <th>CheckoutId</th>\n",
       "      <th>Status</th>\n",
       "      <th>Details</th>\n",
       "      <th>AcceptedDate</th>\n",
       "      <th>CompletedDate</th>\n",
       "      <th>...</th>\n",
       "      <th>Nickname</th>\n",
       "      <th>PhoneNumber</th>\n",
       "      <th>PreorderDate</th>\n",
       "      <th>RestaurantOrderId</th>\n",
       "      <th>HasFeedback</th>\n",
       "      <th>PlatformFee</th>\n",
       "      <th>PaymentType</th>\n",
       "      <th>PaymentFailedDate</th>\n",
       "      <th>PaymentFailureMessage</th>\n",
       "      <th>RejectedDate</th>\n",
       "    </tr>\n",
       "  </thead>\n",
       "  <tbody>\n",
       "    <tr>\n",
       "      <th>0</th>\n",
       "      <td>8</td>\n",
       "      <td>113.0</td>\n",
       "      <td>110</td>\n",
       "      <td>2020-03-28T08:15:25.615002Z</td>\n",
       "      <td>pi_1GRZqUAAWyjnNOlkiFjgpPyE</td>\n",
       "      <td>b165e2b9-ceb0-43a4-b5f5-15b15cbb018c</td>\n",
       "      <td>6</td>\n",
       "      <td>{\"Id\": 8, \"Tax\": 5.0400, \"Tip\": 0, \"User\": {\"I...</td>\n",
       "      <td>2020-04-15T06:01:25.273238Z</td>\n",
       "      <td>2020-04-15T15:54:00.38724Z</td>\n",
       "      <td>...</td>\n",
       "      <td>NaN</td>\n",
       "      <td>NaN</td>\n",
       "      <td>NaN</td>\n",
       "      <td>NaN</td>\n",
       "      <td>NaN</td>\n",
       "      <td>NaN</td>\n",
       "      <td>Online</td>\n",
       "      <td>NaN</td>\n",
       "      <td>NaN</td>\n",
       "      <td>NaN</td>\n",
       "    </tr>\n",
       "    <tr>\n",
       "      <th>1</th>\n",
       "      <td>45</td>\n",
       "      <td>113.0</td>\n",
       "      <td>110</td>\n",
       "      <td>2020-04-15T21:32:36.397056Z</td>\n",
       "      <td>pi_1GYIqbAAWyjnNOlkaCZ35F1f</td>\n",
       "      <td>9e1952e5-0432-4815-8f3a-b6660dd5fc0f</td>\n",
       "      <td>6</td>\n",
       "      <td>{\"Tax\": 4.8000, \"Tip\": 0, \"Items\": [{\"Count\": ...</td>\n",
       "      <td>2020-04-15T21:34:13.23458Z</td>\n",
       "      <td>2020-04-15T21:35:27.029812Z</td>\n",
       "      <td>...</td>\n",
       "      <td>NaN</td>\n",
       "      <td>NaN</td>\n",
       "      <td>NaN</td>\n",
       "      <td>NaN</td>\n",
       "      <td>NaN</td>\n",
       "      <td>NaN</td>\n",
       "      <td>Online</td>\n",
       "      <td>NaN</td>\n",
       "      <td>NaN</td>\n",
       "      <td>NaN</td>\n",
       "    </tr>\n",
       "    <tr>\n",
       "      <th>2</th>\n",
       "      <td>5</td>\n",
       "      <td>1.0</td>\n",
       "      <td>110</td>\n",
       "      <td>2020-03-26T05:40:08.022949Z</td>\n",
       "      <td>pi_1GRTn9AAWyjnNOlkIa4IwZIr</td>\n",
       "      <td>38f4af09-7cf2-4297-8108-133d129a64c7</td>\n",
       "      <td>6</td>\n",
       "      <td>{\"Id\": 5, \"Tax\": 38.5200, \"Tip\": 0, \"Items\": [...</td>\n",
       "      <td>2020-04-06T07:50:46.779871Z</td>\n",
       "      <td>2020-04-08T18:04:11.39916Z</td>\n",
       "      <td>...</td>\n",
       "      <td>NaN</td>\n",
       "      <td>NaN</td>\n",
       "      <td>NaN</td>\n",
       "      <td>NaN</td>\n",
       "      <td>NaN</td>\n",
       "      <td>NaN</td>\n",
       "      <td>Online</td>\n",
       "      <td>NaN</td>\n",
       "      <td>NaN</td>\n",
       "      <td>NaN</td>\n",
       "    </tr>\n",
       "    <tr>\n",
       "      <th>3</th>\n",
       "      <td>2</td>\n",
       "      <td>4.0</td>\n",
       "      <td>110</td>\n",
       "      <td>2020-03-20T19:31:44.139248Z</td>\n",
       "      <td>pi_1GPJaxAAWyjnNOlkt4L7WfYh</td>\n",
       "      <td>d78a7d5d-e5d6-4a3c-8efd-6e32a9722807</td>\n",
       "      <td>6</td>\n",
       "      <td>{\"Id\": 2, \"Tax\": 4.08, \"Tip\": 0, \"Items\": [{\"C...</td>\n",
       "      <td>2020-04-06T07:50:49.604742Z</td>\n",
       "      <td>2020-04-08T18:04:04.017236Z</td>\n",
       "      <td>...</td>\n",
       "      <td>NaN</td>\n",
       "      <td>NaN</td>\n",
       "      <td>NaN</td>\n",
       "      <td>NaN</td>\n",
       "      <td>NaN</td>\n",
       "      <td>NaN</td>\n",
       "      <td>Online</td>\n",
       "      <td>NaN</td>\n",
       "      <td>NaN</td>\n",
       "      <td>NaN</td>\n",
       "    </tr>\n",
       "    <tr>\n",
       "      <th>4</th>\n",
       "      <td>4</td>\n",
       "      <td>115.0</td>\n",
       "      <td>110</td>\n",
       "      <td>2020-03-22T06:52:54.185165Z</td>\n",
       "      <td>pi_1GPNhgAAWyjnNOlkT7fki2dX</td>\n",
       "      <td>e7b23017-dec2-43a4-ab14-6e266b910c89</td>\n",
       "      <td>6</td>\n",
       "      <td>{\"Id\": 4, \"Tax\": 5.04, \"Tip\": 0, \"Items\": [{\"C...</td>\n",
       "      <td>2020-04-06T07:50:47.742422Z</td>\n",
       "      <td>2020-04-08T18:04:07.880017Z</td>\n",
       "      <td>...</td>\n",
       "      <td>NaN</td>\n",
       "      <td>NaN</td>\n",
       "      <td>NaN</td>\n",
       "      <td>NaN</td>\n",
       "      <td>NaN</td>\n",
       "      <td>NaN</td>\n",
       "      <td>Online</td>\n",
       "      <td>NaN</td>\n",
       "      <td>NaN</td>\n",
       "      <td>NaN</td>\n",
       "    </tr>\n",
       "  </tbody>\n",
       "</table>\n",
       "<p>5 rows × 27 columns</p>\n",
       "</div>"
      ],
      "text/plain": [
       "   Id  UserId  RestaurantId                      Created  \\\n",
       "0   8   113.0           110  2020-03-28T08:15:25.615002Z   \n",
       "1  45   113.0           110  2020-04-15T21:32:36.397056Z   \n",
       "2   5     1.0           110  2020-03-26T05:40:08.022949Z   \n",
       "3   2     4.0           110  2020-03-20T19:31:44.139248Z   \n",
       "4   4   115.0           110  2020-03-22T06:52:54.185165Z   \n",
       "\n",
       "                     PaymentId                            CheckoutId  Status  \\\n",
       "0  pi_1GRZqUAAWyjnNOlkiFjgpPyE  b165e2b9-ceb0-43a4-b5f5-15b15cbb018c       6   \n",
       "1  pi_1GYIqbAAWyjnNOlkaCZ35F1f  9e1952e5-0432-4815-8f3a-b6660dd5fc0f       6   \n",
       "2  pi_1GRTn9AAWyjnNOlkIa4IwZIr  38f4af09-7cf2-4297-8108-133d129a64c7       6   \n",
       "3  pi_1GPJaxAAWyjnNOlkt4L7WfYh  d78a7d5d-e5d6-4a3c-8efd-6e32a9722807       6   \n",
       "4  pi_1GPNhgAAWyjnNOlkT7fki2dX  e7b23017-dec2-43a4-ab14-6e266b910c89       6   \n",
       "\n",
       "                                             Details  \\\n",
       "0  {\"Id\": 8, \"Tax\": 5.0400, \"Tip\": 0, \"User\": {\"I...   \n",
       "1  {\"Tax\": 4.8000, \"Tip\": 0, \"Items\": [{\"Count\": ...   \n",
       "2  {\"Id\": 5, \"Tax\": 38.5200, \"Tip\": 0, \"Items\": [...   \n",
       "3  {\"Id\": 2, \"Tax\": 4.08, \"Tip\": 0, \"Items\": [{\"C...   \n",
       "4  {\"Id\": 4, \"Tax\": 5.04, \"Tip\": 0, \"Items\": [{\"C...   \n",
       "\n",
       "                  AcceptedDate                CompletedDate  ... Nickname  \\\n",
       "0  2020-04-15T06:01:25.273238Z   2020-04-15T15:54:00.38724Z  ...      NaN   \n",
       "1   2020-04-15T21:34:13.23458Z  2020-04-15T21:35:27.029812Z  ...      NaN   \n",
       "2  2020-04-06T07:50:46.779871Z   2020-04-08T18:04:11.39916Z  ...      NaN   \n",
       "3  2020-04-06T07:50:49.604742Z  2020-04-08T18:04:04.017236Z  ...      NaN   \n",
       "4  2020-04-06T07:50:47.742422Z  2020-04-08T18:04:07.880017Z  ...      NaN   \n",
       "\n",
       "  PhoneNumber PreorderDate  RestaurantOrderId HasFeedback PlatformFee  \\\n",
       "0         NaN          NaN                NaN         NaN         NaN   \n",
       "1         NaN          NaN                NaN         NaN         NaN   \n",
       "2         NaN          NaN                NaN         NaN         NaN   \n",
       "3         NaN          NaN                NaN         NaN         NaN   \n",
       "4         NaN          NaN                NaN         NaN         NaN   \n",
       "\n",
       "  PaymentType PaymentFailedDate PaymentFailureMessage RejectedDate  \n",
       "0      Online               NaN                   NaN          NaN  \n",
       "1      Online               NaN                   NaN          NaN  \n",
       "2      Online               NaN                   NaN          NaN  \n",
       "3      Online               NaN                   NaN          NaN  \n",
       "4      Online               NaN                   NaN          NaN  \n",
       "\n",
       "[5 rows x 27 columns]"
      ]
     },
     "execution_count": 8,
     "metadata": {},
     "output_type": "execute_result"
    }
   ],
   "source": [
    "# How the data look like\n",
    "orders.head()"
   ]
  },
  {
   "cell_type": "code",
   "execution_count": 9,
   "id": "62bd6a98",
   "metadata": {},
   "outputs": [
    {
     "name": "stdout",
     "output_type": "stream",
     "text": [
      "<class 'pandas.core.frame.DataFrame'>\n",
      "RangeIndex: 14883 entries, 0 to 14882\n",
      "Data columns (total 27 columns):\n",
      " #   Column                 Non-Null Count  Dtype  \n",
      "---  ------                 --------------  -----  \n",
      " 0   Id                     14883 non-null  int64  \n",
      " 1   UserId                 6903 non-null   float64\n",
      " 2   RestaurantId           14883 non-null  int64  \n",
      " 3   Created                14883 non-null  object \n",
      " 4   PaymentId              10718 non-null  object \n",
      " 5   CheckoutId             14883 non-null  object \n",
      " 6   Status                 14883 non-null  int64  \n",
      " 7   Details                11629 non-null  object \n",
      " 8   AcceptedDate           5983 non-null   object \n",
      " 9   CompletedDate          11440 non-null  object \n",
      " 10  PaymentDate            11544 non-null  object \n",
      " 11  ProcessedDate          11485 non-null  object \n",
      " 12  SubmittedDate          11629 non-null  object \n",
      " 13  OrderType              14883 non-null  int64  \n",
      " 14  CanceledDate           118 non-null    object \n",
      " 15  ProcessingTime         5429 non-null   object \n",
      " 16  EmailAddress           96 non-null     object \n",
      " 17  Nickname               4900 non-null   object \n",
      " 18  PhoneNumber            1315 non-null   object \n",
      " 19  PreorderDate           285 non-null    object \n",
      " 20  RestaurantOrderId      10943 non-null  float64\n",
      " 21  HasFeedback            802 non-null    object \n",
      " 22  PlatformFee            9385 non-null   float64\n",
      " 23  PaymentType            14883 non-null  object \n",
      " 24  PaymentFailedDate      141 non-null    object \n",
      " 25  PaymentFailureMessage  35 non-null     object \n",
      " 26  RejectedDate           1 non-null      object \n",
      "dtypes: float64(3), int64(4), object(20)\n",
      "memory usage: 3.1+ MB\n"
     ]
    }
   ],
   "source": [
    "# some general information for all the columns\n",
    "orders.info()"
   ]
  },
  {
   "cell_type": "markdown",
   "id": "d2f347f2",
   "metadata": {},
   "source": [
    "There are 26 fearue that is recorded for each order. Some columns are related to the user, some to the food, and some to the payment process."
   ]
  },
  {
   "cell_type": "code",
   "execution_count": 10,
   "id": "25485045",
   "metadata": {},
   "outputs": [
    {
     "name": "stdout",
     "output_type": "stream",
     "text": [
      "There are 14883 orders made with 6903 users with user Id\n"
     ]
    }
   ],
   "source": [
    "print('There are',orders.Id.count(),'orders made with',orders.UserId.count(),'users with user Id') "
   ]
  },
  {
   "cell_type": "code",
   "execution_count": 11,
   "id": "290b034d",
   "metadata": {},
   "outputs": [
    {
     "data": {
      "text/plain": [
       "4282"
      ]
     },
     "execution_count": 11,
     "metadata": {},
     "output_type": "execute_result"
    }
   ],
   "source": [
    "#Let check how many orders have been made by unique users.\n",
    "orders.UserId.nunique()"
   ]
  },
  {
   "cell_type": "code",
   "execution_count": 12,
   "id": "0828041d",
   "metadata": {},
   "outputs": [
    {
     "name": "stdout",
     "output_type": "stream",
     "text": [
      "There are 7980 orders that are made with guest account and they dont have user Ids\n"
     ]
    }
   ],
   "source": [
    "guest_orders = orders.UserId.isnull().sum()\n",
    "print('There are',guest_orders,'orders that are made with guest account and they dont have user Ids')"
   ]
  },
  {
   "cell_type": "markdown",
   "id": "e285e75a",
   "metadata": {},
   "source": [
    "#### 2.1 Missing data Imputation\n"
   ]
  },
  {
   "cell_type": "code",
   "execution_count": 13,
   "id": "9208d86a",
   "metadata": {},
   "outputs": [
    {
     "data": {
      "text/plain": [
       "<AxesSubplot:>"
      ]
     },
     "execution_count": 13,
     "metadata": {},
     "output_type": "execute_result"
    },
    {
     "data": {
      "image/png": "[encoded data removed]",
      "text/plain": [
       "<Figure size 432x288 with 1 Axes>"
      ]
     },
     "metadata": {
      "needs_background": "light"
     },
     "output_type": "display_data"
    }
   ],
   "source": [
    "#lets reorder the data by order Id\n",
    "orders = orders.sort_values('Id').reset_index(drop=True)\n",
    "\n",
    "# Visualize the distribution of null values\n",
    "sns.heatmap(orders.isnull(), cbar=False)"
   ]
  },
  {
   "cell_type": "markdown",
   "id": "5452d68b",
   "metadata": {},
   "source": [
    "As seen in the above graph, as expected( due to guests orders) there are many missing Users Ids. To get a better undestanding of the missing data lets visualize the users Id data."
   ]
  },
  {
   "cell_type": "code",
   "execution_count": 14,
   "id": "bb254faa",
   "metadata": {},
   "outputs": [
    {
     "data": {
      "text/plain": [
       "<AxesSubplot:>"
      ]
     },
     "execution_count": 14,
     "metadata": {},
     "output_type": "execute_result"
    },
    {
     "data": {
      "image/png": "[encoded data removed]",
      "text/plain": [
       "<Figure size 432x288 with 1 Axes>"
      ]
     },
     "metadata": {
      "needs_background": "light"
     },
     "output_type": "display_data"
    }
   ],
   "source": [
    "orders.UserId.plot()"
   ]
  },
  {
   "cell_type": "code",
   "execution_count": 15,
   "id": "f547b2e3",
   "metadata": {},
   "outputs": [
    {
     "data": {
      "text/plain": [
       "<AxesSubplot:>"
      ]
     },
     "execution_count": 15,
     "metadata": {},
     "output_type": "execute_result"
    },
    {
     "data": {
      "image/png": "[encoded data removed]",
      "text/plain": [
       "<Figure size 432x288 with 1 Axes>"
      ]
     },
     "metadata": {
      "needs_background": "light"
     },
     "output_type": "display_data"
    }
   ],
   "source": [
    "# zoom a little bit\n",
    "orders.UserId.iloc[1000:2000].plot()"
   ]
  },
  {
   "cell_type": "markdown",
   "id": "72a487a1",
   "metadata": {},
   "source": [
    "We need to fill these null value to make sure we wont lose our data. Also as seen above the best solution to fill these data is using interpolation to fill these gaps"
   ]
  },
  {
   "cell_type": "code",
   "execution_count": 16,
   "id": "d0f10392",
   "metadata": {},
   "outputs": [
    {
     "data": {
      "text/plain": [
       "<AxesSubplot:>"
      ]
     },
     "execution_count": 16,
     "metadata": {},
     "output_type": "execute_result"
    },
    {
     "data": {
      "image/png": "[encoded data removed]",
      "text/plain": [
       "<Figure size 432x288 with 1 Axes>"
      ]
     },
     "metadata": {
      "needs_background": "light"
     },
     "output_type": "display_data"
    }
   ],
   "source": [
    "# fillout the missing data by interporalation method\n",
    "orders.UserId = orders.UserId.interpolate()\n",
    "\n",
    "# Visualize the distribution of null values\n",
    "sns.heatmap(orders.isnull(), cbar=False)"
   ]
  },
  {
   "cell_type": "code",
   "execution_count": 17,
   "id": "62feb508",
   "metadata": {},
   "outputs": [
    {
     "data": {
      "text/plain": [
       "<AxesSubplot:>"
      ]
     },
     "execution_count": 17,
     "metadata": {},
     "output_type": "execute_result"
    },
    {
     "data": {
      "image/png": "[encoded data removed]",
      "text/plain": [
       "<Figure size 432x288 with 1 Axes>"
      ]
     },
     "metadata": {
      "needs_background": "light"
     },
     "output_type": "display_data"
    }
   ],
   "source": [
    "# zoom a little bit again\n",
    "orders.UserId.iloc[1000:2000].plot()"
   ]
  },
  {
   "cell_type": "code",
   "execution_count": 18,
   "id": "80fe2a3a",
   "metadata": {},
   "outputs": [
    {
     "data": {
      "text/plain": [
       "False"
      ]
     },
     "execution_count": 18,
     "metadata": {},
     "output_type": "execute_result"
    }
   ],
   "source": [
    "# double check the mull values\n",
    "orders.UserId.isnull().any()"
   ]
  },
  {
   "cell_type": "markdown",
   "id": "816601a9",
   "metadata": {},
   "source": [
    "We dont need all the details from order object. Lets filter the features we need to keep."
   ]
  },
  {
   "cell_type": "code",
   "execution_count": 19,
   "id": "84561573",
   "metadata": {},
   "outputs": [],
   "source": [
    "orders.drop(['PaymentId', 'CheckoutId',\n",
    "       'Status', 'AcceptedDate', 'CompletedDate', 'PaymentDate',\n",
    "       'ProcessedDate', 'SubmittedDate', 'OrderType', 'CanceledDate',\n",
    "       'ProcessingTime', 'EmailAddress', 'Nickname', 'PhoneNumber',\n",
    "       'PreorderDate', 'RestaurantOrderId', 'HasFeedback', 'PlatformFee',\n",
    "       'PaymentType', 'PaymentFailedDate', 'PaymentFailureMessage',\n",
    "       'RejectedDate'] , inplace = True, axis= 1)"
   ]
  },
  {
   "cell_type": "code",
   "execution_count": 20,
   "id": "96147b6a",
   "metadata": {},
   "outputs": [
    {
     "name": "stdout",
     "output_type": "stream",
     "text": [
      "<class 'pandas.core.frame.DataFrame'>\n",
      "RangeIndex: 14883 entries, 0 to 14882\n",
      "Data columns (total 5 columns):\n",
      " #   Column        Non-Null Count  Dtype  \n",
      "---  ------        --------------  -----  \n",
      " 0   Id            14883 non-null  int64  \n",
      " 1   UserId        14883 non-null  float64\n",
      " 2   RestaurantId  14883 non-null  int64  \n",
      " 3   Created       14883 non-null  object \n",
      " 4   Details       11629 non-null  object \n",
      "dtypes: float64(1), int64(2), object(2)\n",
      "memory usage: 581.5+ KB\n"
     ]
    }
   ],
   "source": [
    "# check the info for the remaining features\n",
    "orders.info()"
   ]
  },
  {
   "cell_type": "code",
   "execution_count": 21,
   "id": "8f661db2",
   "metadata": {},
   "outputs": [
    {
     "name": "stdout",
     "output_type": "stream",
     "text": [
      "int64\n"
     ]
    }
   ],
   "source": [
    "# change the userId type to int\n",
    "orders.UserId = orders.UserId.astype(int);\n",
    "print(orders.UserId.dtype)"
   ]
  },
  {
   "cell_type": "code",
   "execution_count": 22,
   "id": "bbf7387f",
   "metadata": {},
   "outputs": [
    {
     "data": {
      "text/html": [
       "<div>\n",
       "<style scoped>\n",
       "    .dataframe tbody tr th:only-of-type {\n",
       "        vertical-align: middle;\n",
       "    }\n",
       "\n",
       "    .dataframe tbody tr th {\n",
       "        vertical-align: top;\n",
       "    }\n",
       "\n",
       "    .dataframe thead th {\n",
       "        text-align: right;\n",
       "    }\n",
       "</style>\n",
       "<table border=\"1\" class=\"dataframe\">\n",
       "  <thead>\n",
       "    <tr style=\"text-align: right;\">\n",
       "      <th></th>\n",
       "      <th>count</th>\n",
       "      <th>mean</th>\n",
       "      <th>std</th>\n",
       "      <th>min</th>\n",
       "      <th>25%</th>\n",
       "      <th>50%</th>\n",
       "      <th>75%</th>\n",
       "      <th>max</th>\n",
       "    </tr>\n",
       "  </thead>\n",
       "  <tbody>\n",
       "    <tr>\n",
       "      <th>Id</th>\n",
       "      <td>14883.0</td>\n",
       "      <td>7442.802459</td>\n",
       "      <td>4296.770944</td>\n",
       "      <td>1.0</td>\n",
       "      <td>3722.5</td>\n",
       "      <td>7443.0</td>\n",
       "      <td>11163.5</td>\n",
       "      <td>14884.0</td>\n",
       "    </tr>\n",
       "    <tr>\n",
       "      <th>UserId</th>\n",
       "      <td>14883.0</td>\n",
       "      <td>2192.572331</td>\n",
       "      <td>1467.500858</td>\n",
       "      <td>1.0</td>\n",
       "      <td>902.5</td>\n",
       "      <td>1933.0</td>\n",
       "      <td>3399.5</td>\n",
       "      <td>5333.0</td>\n",
       "    </tr>\n",
       "    <tr>\n",
       "      <th>RestaurantId</th>\n",
       "      <td>14883.0</td>\n",
       "      <td>750.362293</td>\n",
       "      <td>399.393425</td>\n",
       "      <td>110.0</td>\n",
       "      <td>299.0</td>\n",
       "      <td>1029.0</td>\n",
       "      <td>1029.0</td>\n",
       "      <td>1048.0</td>\n",
       "    </tr>\n",
       "  </tbody>\n",
       "</table>\n",
       "</div>"
      ],
      "text/plain": [
       "                count         mean          std    min     25%     50%  \\\n",
       "Id            14883.0  7442.802459  4296.770944    1.0  3722.5  7443.0   \n",
       "UserId        14883.0  2192.572331  1467.500858    1.0   902.5  1933.0   \n",
       "RestaurantId  14883.0   750.362293   399.393425  110.0   299.0  1029.0   \n",
       "\n",
       "                  75%      max  \n",
       "Id            11163.5  14884.0  \n",
       "UserId         3399.5   5333.0  \n",
       "RestaurantId   1029.0   1048.0  "
      ]
     },
     "execution_count": 22,
     "metadata": {},
     "output_type": "execute_result"
    }
   ],
   "source": [
    "orders.describe().T"
   ]
  },
  {
   "cell_type": "code",
   "execution_count": 23,
   "id": "c6f6e78d",
   "metadata": {},
   "outputs": [
    {
     "name": "stdout",
     "output_type": "stream",
     "text": [
      "unique orders: 14883\n"
     ]
    }
   ],
   "source": [
    "# How many unique orders are there\n",
    "print('unique orders:',orders.Id.nunique())"
   ]
  },
  {
   "cell_type": "markdown",
   "id": "9a6a2beb",
   "metadata": {},
   "source": [
    "Lets move to Details column, and investigate more."
   ]
  },
  {
   "cell_type": "code",
   "execution_count": 24,
   "id": "e6608209",
   "metadata": {},
   "outputs": [
    {
     "data": {
      "text/plain": [
       "0    {\"Id\": 1, \"Tax\": 3.48, \"Tip\": 0, \"Items\": [{\"C...\n",
       "1    {\"Id\": 2, \"Tax\": 4.08, \"Tip\": 0, \"Items\": [{\"C...\n",
       "2    {\"Id\": 3, \"Tax\": 3.96, \"Tip\": 0, \"Items\": [{\"C...\n",
       "3    {\"Id\": 4, \"Tax\": 5.04, \"Tip\": 0, \"Items\": [{\"C...\n",
       "4    {\"Id\": 5, \"Tax\": 38.5200, \"Tip\": 0, \"Items\": [...\n",
       "Name: Details, dtype: object"
      ]
     },
     "execution_count": 24,
     "metadata": {},
     "output_type": "execute_result"
    }
   ],
   "source": [
    "orders.Details.head()"
   ]
  },
  {
   "cell_type": "markdown",
   "id": "7a6b3d27",
   "metadata": {},
   "source": [
    "As seen above, Details feature has all the information for the ordered food. Therefor if there is an order without details we really dont need that. Lets drop the orders that do not have details."
   ]
  },
  {
   "cell_type": "code",
   "execution_count": 25,
   "id": "09575a77",
   "metadata": {},
   "outputs": [
    {
     "name": "stdout",
     "output_type": "stream",
     "text": [
      "The number of orders without details: 3254\n"
     ]
    },
    {
     "data": {
      "text/html": [
       "<div>\n",
       "<style scoped>\n",
       "    .dataframe tbody tr th:only-of-type {\n",
       "        vertical-align: middle;\n",
       "    }\n",
       "\n",
       "    .dataframe tbody tr th {\n",
       "        vertical-align: top;\n",
       "    }\n",
       "\n",
       "    .dataframe thead th {\n",
       "        text-align: right;\n",
       "    }\n",
       "</style>\n",
       "<table border=\"1\" class=\"dataframe\">\n",
       "  <thead>\n",
       "    <tr style=\"text-align: right;\">\n",
       "      <th></th>\n",
       "      <th>Id</th>\n",
       "      <th>UserId</th>\n",
       "      <th>RestaurantId</th>\n",
       "      <th>Created</th>\n",
       "      <th>Details</th>\n",
       "    </tr>\n",
       "  </thead>\n",
       "  <tbody>\n",
       "    <tr>\n",
       "      <th>20</th>\n",
       "      <td>21</td>\n",
       "      <td>113</td>\n",
       "      <td>110</td>\n",
       "      <td>2020-04-04T16:50:05.015058Z</td>\n",
       "      <td>NaN</td>\n",
       "    </tr>\n",
       "    <tr>\n",
       "      <th>36</th>\n",
       "      <td>37</td>\n",
       "      <td>117</td>\n",
       "      <td>110</td>\n",
       "      <td>2020-04-09T01:45:25.487403Z</td>\n",
       "      <td>NaN</td>\n",
       "    </tr>\n",
       "    <tr>\n",
       "      <th>134</th>\n",
       "      <td>135</td>\n",
       "      <td>122</td>\n",
       "      <td>110</td>\n",
       "      <td>2020-04-26T05:34:00.234702Z</td>\n",
       "      <td>NaN</td>\n",
       "    </tr>\n",
       "    <tr>\n",
       "      <th>205</th>\n",
       "      <td>206</td>\n",
       "      <td>5</td>\n",
       "      <td>110</td>\n",
       "      <td>2020-05-04T22:34:04.55215Z</td>\n",
       "      <td>NaN</td>\n",
       "    </tr>\n",
       "    <tr>\n",
       "      <th>217</th>\n",
       "      <td>218</td>\n",
       "      <td>133</td>\n",
       "      <td>110</td>\n",
       "      <td>2020-05-05T04:37:32.140257Z</td>\n",
       "      <td>NaN</td>\n",
       "    </tr>\n",
       "    <tr>\n",
       "      <th>...</th>\n",
       "      <td>...</td>\n",
       "      <td>...</td>\n",
       "      <td>...</td>\n",
       "      <td>...</td>\n",
       "      <td>...</td>\n",
       "    </tr>\n",
       "    <tr>\n",
       "      <th>14848</th>\n",
       "      <td>14850</td>\n",
       "      <td>5212</td>\n",
       "      <td>121</td>\n",
       "      <td>2022-01-28T01:46:09.584711Z</td>\n",
       "      <td>NaN</td>\n",
       "    </tr>\n",
       "    <tr>\n",
       "      <th>14863</th>\n",
       "      <td>14865</td>\n",
       "      <td>5207</td>\n",
       "      <td>121</td>\n",
       "      <td>2022-01-30T01:42:44.675157Z</td>\n",
       "      <td>NaN</td>\n",
       "    </tr>\n",
       "    <tr>\n",
       "      <th>14866</th>\n",
       "      <td>14868</td>\n",
       "      <td>3752</td>\n",
       "      <td>121</td>\n",
       "      <td>2022-01-30T04:24:41.487706Z</td>\n",
       "      <td>NaN</td>\n",
       "    </tr>\n",
       "    <tr>\n",
       "      <th>14868</th>\n",
       "      <td>14870</td>\n",
       "      <td>5325</td>\n",
       "      <td>121</td>\n",
       "      <td>2022-01-31T02:17:49.938171Z</td>\n",
       "      <td>NaN</td>\n",
       "    </tr>\n",
       "    <tr>\n",
       "      <th>14869</th>\n",
       "      <td>14871</td>\n",
       "      <td>5325</td>\n",
       "      <td>121</td>\n",
       "      <td>2022-01-31T02:21:31.335219Z</td>\n",
       "      <td>NaN</td>\n",
       "    </tr>\n",
       "  </tbody>\n",
       "</table>\n",
       "<p>3254 rows × 5 columns</p>\n",
       "</div>"
      ],
      "text/plain": [
       "          Id  UserId  RestaurantId                      Created Details\n",
       "20        21     113           110  2020-04-04T16:50:05.015058Z     NaN\n",
       "36        37     117           110  2020-04-09T01:45:25.487403Z     NaN\n",
       "134      135     122           110  2020-04-26T05:34:00.234702Z     NaN\n",
       "205      206       5           110   2020-05-04T22:34:04.55215Z     NaN\n",
       "217      218     133           110  2020-05-05T04:37:32.140257Z     NaN\n",
       "...      ...     ...           ...                          ...     ...\n",
       "14848  14850    5212           121  2022-01-28T01:46:09.584711Z     NaN\n",
       "14863  14865    5207           121  2022-01-30T01:42:44.675157Z     NaN\n",
       "14866  14868    3752           121  2022-01-30T04:24:41.487706Z     NaN\n",
       "14868  14870    5325           121  2022-01-31T02:17:49.938171Z     NaN\n",
       "14869  14871    5325           121  2022-01-31T02:21:31.335219Z     NaN\n",
       "\n",
       "[3254 rows x 5 columns]"
      ]
     },
     "execution_count": 25,
     "metadata": {},
     "output_type": "execute_result"
    }
   ],
   "source": [
    "print('The number of orders without details:',orders.Details.isnull().sum())\n",
    "orders[orders.Details.isnull()]"
   ]
  },
  {
   "cell_type": "code",
   "execution_count": 26,
   "id": "a3f68a70",
   "metadata": {},
   "outputs": [],
   "source": [
    "orders.dropna(subset = ['Details'], inplace = True)"
   ]
  },
  {
   "cell_type": "markdown",
   "id": "43903add",
   "metadata": {},
   "source": [
    "Lets take the Items out from the Details object, but first lets take a look at one sample"
   ]
  },
  {
   "cell_type": "code",
   "execution_count": 27,
   "id": "ceb6ac96",
   "metadata": {},
   "outputs": [
    {
     "data": {
      "text/plain": [
       "'{\"Tax\": 1.0800, \"Tip\": 0, \"Items\": [{\"Count\": 1, \"Price\": 9.00, \"Total\": 9.00, \"Options\": null, \"MenuItem\": {\"Id\": 198, \"Name\": \"B+b Potatoes\", \"Price\": 9.00, \"Description\": null}}], \"Total\": 10.0800, \"Address\": null, \"Payment\": {\"Id\": \"pm_1GZsfWAAWyjnNOlkfa9q6xWR\", \"Brand\": \"visa\", \"Last4\": \"4242\", \"ExpYear\": 2023, \"ExpMonth\": 3}, \"Currency\": \"cad\", \"Subtotal\": 9.00, \"DeliveryFee\": 0, \"TaxPercentage\": 12.00}'"
      ]
     },
     "execution_count": 27,
     "metadata": {},
     "output_type": "execute_result"
    }
   ],
   "source": [
    "orders.Details.iloc[100]"
   ]
  },
  {
   "cell_type": "markdown",
   "id": "e74d6794",
   "metadata": {},
   "source": [
    "As seen above all the information for ordered foods are combined in a dictionary format object, we need to extract the Items from the object and add it to another column. Also we will the address too, for geographical analysis."
   ]
  },
  {
   "cell_type": "code",
   "execution_count": 28,
   "id": "e432188a",
   "metadata": {},
   "outputs": [],
   "source": [
    "orders.Details = orders.Details.apply(lambda x : json.loads(x))\n",
    "orders['Address']= orders.Details.apply(lambda x : library.utils.return_value('address',x))\n",
    "orders['Items']= orders.Details.apply(lambda x : library.utils.return_value('items',x))"
   ]
  },
  {
   "cell_type": "code",
   "execution_count": 29,
   "id": "fb4e0bd1",
   "metadata": {},
   "outputs": [
    {
     "name": "stdout",
     "output_type": "stream",
     "text": [
      "<class 'pandas.core.frame.DataFrame'>\n",
      "Int64Index: 11629 entries, 0 to 14882\n",
      "Data columns (total 7 columns):\n",
      " #   Column        Non-Null Count  Dtype \n",
      "---  ------        --------------  ----- \n",
      " 0   Id            11629 non-null  int64 \n",
      " 1   UserId        11629 non-null  int64 \n",
      " 2   RestaurantId  11629 non-null  int64 \n",
      " 3   Created       11629 non-null  object\n",
      " 4   Details       11629 non-null  object\n",
      " 5   Address       350 non-null    object\n",
      " 6   Items         11629 non-null  object\n",
      "dtypes: int64(3), object(4)\n",
      "memory usage: 726.8+ KB\n"
     ]
    }
   ],
   "source": [
    "orders.info()"
   ]
  },
  {
   "cell_type": "markdown",
   "id": "0eaffd70",
   "metadata": {},
   "source": [
    "Rename the Created to Date and change the type to date time"
   ]
  },
  {
   "cell_type": "code",
   "execution_count": 30,
   "id": "214d6415",
   "metadata": {},
   "outputs": [],
   "source": [
    "orders.rename(columns = {'Created' : 'Date'} , inplace=True)\n",
    "orders.Date = orders.Date.astype('datetime64')"
   ]
  },
  {
   "cell_type": "code",
   "execution_count": null,
   "id": "29fea015",
   "metadata": {},
   "outputs": [],
   "source": []
  },
  {
   "cell_type": "markdown",
   "id": "85ebcb29",
   "metadata": {},
   "source": [
    "Lets explore the week days orders"
   ]
  },
  {
   "cell_type": "code",
   "execution_count": 31,
   "id": "491f3c44",
   "metadata": {},
   "outputs": [
    {
     "data": {
      "text/plain": [
       "Text(0, 0.5, 'Order Numbers')"
      ]
     },
     "execution_count": 31,
     "metadata": {},
     "output_type": "execute_result"
    },
    {
     "data": {
      "image/png": "[encoded data removed]",
      "text/plain": [
       "<Figure size 432x288 with 1 Axes>"
      ]
     },
     "metadata": {
      "needs_background": "light"
     },
     "output_type": "display_data"
    }
   ],
   "source": [
    "weekday_count = orders.Date.dt.day_name().value_counts()\n",
    "weekday_count.plot(kind = 'bar', color='green')\n",
    "plt.ylabel('Order Numbers')"
   ]
  },
  {
   "cell_type": "code",
   "execution_count": 32,
   "id": "caed240c",
   "metadata": {},
   "outputs": [
    {
     "data": {
      "image/png": "[encoded data removed]",
      "text/plain": [
       "<Figure size 432x288 with 1 Axes>"
      ]
     },
     "metadata": {},
     "output_type": "display_data"
    }
   ],
   "source": [
    "plt.pie(weekday_count, labels = weekday_count.index,textprops=dict(color=\"w\") ,autopct='%1.0f%%');\n",
    "plt.show()"
   ]
  },
  {
   "cell_type": "code",
   "execution_count": 33,
   "id": "f16ca877",
   "metadata": {},
   "outputs": [
    {
     "data": {
      "text/plain": [
       "Text(0, 0.5, 'Order Numbers')"
      ]
     },
     "execution_count": 33,
     "metadata": {},
     "output_type": "execute_result"
    },
    {
     "data": {
      "image/png": "[encoded data removed]",
      "text/plain": [
       "<Figure size 432x288 with 1 Axes>"
      ]
     },
     "metadata": {
      "needs_background": "light"
     },
     "output_type": "display_data"
    }
   ],
   "source": [
    "month_count = orders.Date.dt.month_name().value_counts()\n",
    "month_count.plot(kind = 'bar', color='purple')\n",
    "plt.ylabel('Order Numbers')"
   ]
  },
  {
   "cell_type": "code",
   "execution_count": 34,
   "id": "074b1d57",
   "metadata": {},
   "outputs": [
    {
     "data": {
      "image/png": "[encoded data removed]",
      "text/plain": [
       "<Figure size 432x288 with 1 Axes>"
      ]
     },
     "metadata": {},
     "output_type": "display_data"
    }
   ],
   "source": [
    "plt.pie(month_count, labels = month_count.index,textprops=dict(color=\"w\") ,autopct='%1.0f%%');\n",
    "plt.show()"
   ]
  },
  {
   "cell_type": "code",
   "execution_count": 35,
   "id": "f6fb5a2b",
   "metadata": {},
   "outputs": [
    {
     "data": {
      "text/html": [
       "<div>\n",
       "<style scoped>\n",
       "    .dataframe tbody tr th:only-of-type {\n",
       "        vertical-align: middle;\n",
       "    }\n",
       "\n",
       "    .dataframe tbody tr th {\n",
       "        vertical-align: top;\n",
       "    }\n",
       "\n",
       "    .dataframe thead th {\n",
       "        text-align: right;\n",
       "    }\n",
       "</style>\n",
       "<table border=\"1\" class=\"dataframe\">\n",
       "  <thead>\n",
       "    <tr style=\"text-align: right;\">\n",
       "      <th></th>\n",
       "      <th>Id</th>\n",
       "      <th>UserId</th>\n",
       "      <th>RestaurantId</th>\n",
       "      <th>Date</th>\n",
       "      <th>Details</th>\n",
       "      <th>Address</th>\n",
       "      <th>Items</th>\n",
       "    </tr>\n",
       "  </thead>\n",
       "  <tbody>\n",
       "    <tr>\n",
       "      <th>0</th>\n",
       "      <td>1</td>\n",
       "      <td>1</td>\n",
       "      <td>110</td>\n",
       "      <td>2020-03-19 22:52:18.410595</td>\n",
       "      <td>{'Id': 1, 'Tax': 3.48, 'Tip': 0, 'Items': [{'C...</td>\n",
       "      <td>{'Id': 1, 'Area': 'BC', 'City': 'Coquitlam', '...</td>\n",
       "      <td>[{'Count': 1, 'Price': 29.0, 'Options': None, ...</td>\n",
       "    </tr>\n",
       "    <tr>\n",
       "      <th>1</th>\n",
       "      <td>2</td>\n",
       "      <td>4</td>\n",
       "      <td>110</td>\n",
       "      <td>2020-03-20 19:31:44.139248</td>\n",
       "      <td>{'Id': 2, 'Tax': 4.08, 'Tip': 0, 'Items': [{'C...</td>\n",
       "      <td>{'Id': 2, 'Area': 'BC', 'City': 'Coquitlam', '...</td>\n",
       "      <td>[{'Count': 1, 'Price': 18.0, 'Options': None, ...</td>\n",
       "    </tr>\n",
       "    <tr>\n",
       "      <th>2</th>\n",
       "      <td>3</td>\n",
       "      <td>1</td>\n",
       "      <td>110</td>\n",
       "      <td>2020-03-22 05:06:22.862927</td>\n",
       "      <td>{'Id': 3, 'Tax': 3.96, 'Tip': 0, 'Items': [{'C...</td>\n",
       "      <td>{'Id': 1, 'Area': 'BC', 'City': 'Coquitlam', '...</td>\n",
       "      <td>[{'Count': 1, 'Price': 24.0, 'Options': None, ...</td>\n",
       "    </tr>\n",
       "    <tr>\n",
       "      <th>3</th>\n",
       "      <td>4</td>\n",
       "      <td>115</td>\n",
       "      <td>110</td>\n",
       "      <td>2020-03-22 06:52:54.185165</td>\n",
       "      <td>{'Id': 4, 'Tax': 5.04, 'Tip': 0, 'Items': [{'C...</td>\n",
       "      <td>{'Id': 3, 'Area': 'BC', 'City': 'Coquitlam', '...</td>\n",
       "      <td>[{'Count': 1, 'Price': 18.0, 'Options': None, ...</td>\n",
       "    </tr>\n",
       "    <tr>\n",
       "      <th>4</th>\n",
       "      <td>5</td>\n",
       "      <td>1</td>\n",
       "      <td>110</td>\n",
       "      <td>2020-03-26 05:40:08.022949</td>\n",
       "      <td>{'Id': 5, 'Tax': 38.52, 'Tip': 0, 'Items': [{'...</td>\n",
       "      <td>{'Id': 1, 'Lat': 49.28168059999999, 'Lng': -12...</td>\n",
       "      <td>[{'Count': 5, 'Price': 18.0, 'Total': 90.0, 'O...</td>\n",
       "    </tr>\n",
       "  </tbody>\n",
       "</table>\n",
       "</div>"
      ],
      "text/plain": [
       "   Id  UserId  RestaurantId                       Date  \\\n",
       "0   1       1           110 2020-03-19 22:52:18.410595   \n",
       "1   2       4           110 2020-03-20 19:31:44.139248   \n",
       "2   3       1           110 2020-03-22 05:06:22.862927   \n",
       "3   4     115           110 2020-03-22 06:52:54.185165   \n",
       "4   5       1           110 2020-03-26 05:40:08.022949   \n",
       "\n",
       "                                             Details  \\\n",
       "0  {'Id': 1, 'Tax': 3.48, 'Tip': 0, 'Items': [{'C...   \n",
       "1  {'Id': 2, 'Tax': 4.08, 'Tip': 0, 'Items': [{'C...   \n",
       "2  {'Id': 3, 'Tax': 3.96, 'Tip': 0, 'Items': [{'C...   \n",
       "3  {'Id': 4, 'Tax': 5.04, 'Tip': 0, 'Items': [{'C...   \n",
       "4  {'Id': 5, 'Tax': 38.52, 'Tip': 0, 'Items': [{'...   \n",
       "\n",
       "                                             Address  \\\n",
       "0  {'Id': 1, 'Area': 'BC', 'City': 'Coquitlam', '...   \n",
       "1  {'Id': 2, 'Area': 'BC', 'City': 'Coquitlam', '...   \n",
       "2  {'Id': 1, 'Area': 'BC', 'City': 'Coquitlam', '...   \n",
       "3  {'Id': 3, 'Area': 'BC', 'City': 'Coquitlam', '...   \n",
       "4  {'Id': 1, 'Lat': 49.28168059999999, 'Lng': -12...   \n",
       "\n",
       "                                               Items  \n",
       "0  [{'Count': 1, 'Price': 29.0, 'Options': None, ...  \n",
       "1  [{'Count': 1, 'Price': 18.0, 'Options': None, ...  \n",
       "2  [{'Count': 1, 'Price': 24.0, 'Options': None, ...  \n",
       "3  [{'Count': 1, 'Price': 18.0, 'Options': None, ...  \n",
       "4  [{'Count': 5, 'Price': 18.0, 'Total': 90.0, 'O...  "
      ]
     },
     "execution_count": 35,
     "metadata": {},
     "output_type": "execute_result"
    }
   ],
   "source": [
    "orders.head()"
   ]
  },
  {
   "cell_type": "code",
   "execution_count": 36,
   "id": "73aa3305",
   "metadata": {},
   "outputs": [
    {
     "data": {
      "text/plain": [
       "Id                  0\n",
       "UserId              0\n",
       "RestaurantId        0\n",
       "Date                0\n",
       "Details             0\n",
       "Address         11279\n",
       "Items               0\n",
       "dtype: int64"
      ]
     },
     "execution_count": 36,
     "metadata": {},
     "output_type": "execute_result"
    }
   ],
   "source": [
    "orders.isnull().sum()"
   ]
  },
  {
   "cell_type": "markdown",
   "id": "bb407b7a",
   "metadata": {},
   "source": [
    "We know most of the orders do not have address as they were for dine in, not delivery."
   ]
  },
  {
   "cell_type": "code",
   "execution_count": 37,
   "id": "bd936e1c",
   "metadata": {},
   "outputs": [
    {
     "data": {
      "text/plain": [
       "6988"
      ]
     },
     "execution_count": 37,
     "metadata": {},
     "output_type": "execute_result"
    }
   ],
   "source": [
    "# There are some users that have ordered multiple times, lets check how many of them exists\n",
    "orders.UserId.duplicated().sum()"
   ]
  },
  {
   "cell_type": "markdown",
   "id": "a0270950",
   "metadata": {},
   "source": [
    "### 3. Feedback Data Wrangling"
   ]
  },
  {
   "cell_type": "code",
   "execution_count": 38,
   "id": "ccdbcf59",
   "metadata": {},
   "outputs": [
    {
     "data": {
      "text/html": [
       "<div>\n",
       "<style scoped>\n",
       "    .dataframe tbody tr th:only-of-type {\n",
       "        vertical-align: middle;\n",
       "    }\n",
       "\n",
       "    .dataframe tbody tr th {\n",
       "        vertical-align: top;\n",
       "    }\n",
       "\n",
       "    .dataframe thead th {\n",
       "        text-align: right;\n",
       "    }\n",
       "</style>\n",
       "<table border=\"1\" class=\"dataframe\">\n",
       "  <thead>\n",
       "    <tr style=\"text-align: right;\">\n",
       "      <th></th>\n",
       "      <th>Id</th>\n",
       "      <th>VirtualMenuStar</th>\n",
       "      <th>OrderingProcessStar</th>\n",
       "      <th>OnlinePaymentStar</th>\n",
       "      <th>OtherComments</th>\n",
       "      <th>UserOrderId</th>\n",
       "      <th>CreatedDate</th>\n",
       "    </tr>\n",
       "  </thead>\n",
       "  <tbody>\n",
       "    <tr>\n",
       "      <th>0</th>\n",
       "      <td>802</td>\n",
       "      <td>5</td>\n",
       "      <td>5</td>\n",
       "      <td>5</td>\n",
       "      <td>NaN</td>\n",
       "      <td>14777</td>\n",
       "      <td>2022-01-16T00:43:33.844237Z</td>\n",
       "    </tr>\n",
       "    <tr>\n",
       "      <th>1</th>\n",
       "      <td>801</td>\n",
       "      <td>5</td>\n",
       "      <td>1</td>\n",
       "      <td>5</td>\n",
       "      <td>Food arrived 50 minutes later than the request...</td>\n",
       "      <td>14479</td>\n",
       "      <td>2021-12-08T17:26:32.295815Z</td>\n",
       "    </tr>\n",
       "    <tr>\n",
       "      <th>2</th>\n",
       "      <td>800</td>\n",
       "      <td>5</td>\n",
       "      <td>5</td>\n",
       "      <td>5</td>\n",
       "      <td>Smile</td>\n",
       "      <td>13892</td>\n",
       "      <td>2021-09-21T05:21:33.518309Z</td>\n",
       "    </tr>\n",
       "    <tr>\n",
       "      <th>3</th>\n",
       "      <td>799</td>\n",
       "      <td>5</td>\n",
       "      <td>5</td>\n",
       "      <td>5</td>\n",
       "      <td>NaN</td>\n",
       "      <td>13886</td>\n",
       "      <td>2021-09-20T02:11:48.826812Z</td>\n",
       "    </tr>\n",
       "    <tr>\n",
       "      <th>4</th>\n",
       "      <td>798</td>\n",
       "      <td>5</td>\n",
       "      <td>5</td>\n",
       "      <td>5</td>\n",
       "      <td>Your hammer sandwich that you say is Spicy but...</td>\n",
       "      <td>13607</td>\n",
       "      <td>2021-08-29T23:56:25.635394Z</td>\n",
       "    </tr>\n",
       "  </tbody>\n",
       "</table>\n",
       "</div>"
      ],
      "text/plain": [
       "    Id  VirtualMenuStar  OrderingProcessStar  OnlinePaymentStar  \\\n",
       "0  802                5                    5                  5   \n",
       "1  801                5                    1                  5   \n",
       "2  800                5                    5                  5   \n",
       "3  799                5                    5                  5   \n",
       "4  798                5                    5                  5   \n",
       "\n",
       "                                       OtherComments  UserOrderId  \\\n",
       "0                                                NaN        14777   \n",
       "1  Food arrived 50 minutes later than the request...        14479   \n",
       "2                                             Smile         13892   \n",
       "3                                                NaN        13886   \n",
       "4  Your hammer sandwich that you say is Spicy but...        13607   \n",
       "\n",
       "                   CreatedDate  \n",
       "0  2022-01-16T00:43:33.844237Z  \n",
       "1  2021-12-08T17:26:32.295815Z  \n",
       "2  2021-09-21T05:21:33.518309Z  \n",
       "3  2021-09-20T02:11:48.826812Z  \n",
       "4  2021-08-29T23:56:25.635394Z  "
      ]
     },
     "execution_count": 38,
     "metadata": {},
     "output_type": "execute_result"
    }
   ],
   "source": [
    "feedback.head()"
   ]
  },
  {
   "cell_type": "markdown",
   "id": "b874a1a7",
   "metadata": {},
   "source": [
    "Lets filter the feature we need from the feedback dataset"
   ]
  },
  {
   "cell_type": "code",
   "execution_count": 39,
   "id": "d9af02df",
   "metadata": {},
   "outputs": [
    {
     "data": {
      "text/plain": [
       "Index(['Id', 'VirtualMenuStar', 'OrderingProcessStar', 'OnlinePaymentStar',\n",
       "       'OtherComments', 'UserOrderId', 'CreatedDate'],\n",
       "      dtype='object')"
      ]
     },
     "execution_count": 39,
     "metadata": {},
     "output_type": "execute_result"
    }
   ],
   "source": [
    "feedback.columns"
   ]
  },
  {
   "cell_type": "code",
   "execution_count": 40,
   "id": "9b75193d",
   "metadata": {},
   "outputs": [],
   "source": [
    "feedback.drop(['VirtualMenuStar', 'OnlinePaymentStar', 'CreatedDate'], axis = 1, inplace=True)"
   ]
  },
  {
   "cell_type": "code",
   "execution_count": 41,
   "id": "a70fdc7d",
   "metadata": {},
   "outputs": [],
   "source": [
    "feedback.rename(columns={'OrderingProcessStar' : 'Rating', 'OtherComments' :'Comments','UserOrderId': 'OrderId'}, inplace= True)"
   ]
  },
  {
   "cell_type": "code",
   "execution_count": 42,
   "id": "4f313a3c",
   "metadata": {},
   "outputs": [
    {
     "name": "stdout",
     "output_type": "stream",
     "text": [
      "<class 'pandas.core.frame.DataFrame'>\n",
      "RangeIndex: 802 entries, 0 to 801\n",
      "Data columns (total 4 columns):\n",
      " #   Column    Non-Null Count  Dtype \n",
      "---  ------    --------------  ----- \n",
      " 0   Id        802 non-null    int64 \n",
      " 1   Rating    802 non-null    int64 \n",
      " 2   Comments  155 non-null    object\n",
      " 3   OrderId   802 non-null    int64 \n",
      "dtypes: int64(3), object(1)\n",
      "memory usage: 25.2+ KB\n"
     ]
    }
   ],
   "source": [
    "feedback.info()"
   ]
  },
  {
   "cell_type": "code",
   "execution_count": 43,
   "id": "152c920e",
   "metadata": {},
   "outputs": [
    {
     "name": "stdout",
     "output_type": "stream",
     "text": [
      "From all the available orders 802 of them have rating.\n"
     ]
    }
   ],
   "source": [
    "print('From all the available orders', len(feedback.Rating), 'of them have rating.')"
   ]
  },
  {
   "cell_type": "code",
   "execution_count": 44,
   "id": "8b2de748",
   "metadata": {},
   "outputs": [
    {
     "data": {
      "text/plain": [
       "Text(0, 0.5, 'Order Numbers')"
      ]
     },
     "execution_count": 44,
     "metadata": {},
     "output_type": "execute_result"
    },
    {
     "data": {
      "image/png": "[encoded data removed]",
      "text/plain": [
       "<Figure size 432x288 with 1 Axes>"
      ]
     },
     "metadata": {
      "needs_background": "light"
     },
     "output_type": "display_data"
    }
   ],
   "source": [
    "# Explore the distribution of ratings\n",
    "rating_count = feedback.Rating.value_counts()\n",
    "\n",
    "rating_count.plot(kind = 'bar', color='green')\n",
    "plt.ylabel('Order Numbers')"
   ]
  },
  {
   "cell_type": "code",
   "execution_count": 45,
   "id": "3f95b158",
   "metadata": {},
   "outputs": [
    {
     "data": {
      "image/png": "[encoded data removed]",
      "text/plain": [
       "<Figure size 432x288 with 1 Axes>"
      ]
     },
     "metadata": {},
     "output_type": "display_data"
    }
   ],
   "source": [
    "plt.pie(rating_count,labels = rating_count.index,textprops=dict(color=\"w\") ,autopct='%1.0f%%');"
   ]
  },
  {
   "cell_type": "markdown",
   "id": "9f83ac5e",
   "metadata": {},
   "source": [
    "### 4. Items Data Wrangling"
   ]
  },
  {
   "cell_type": "code",
   "execution_count": 82,
   "id": "26f6ffa7",
   "metadata": {},
   "outputs": [
    {
     "data": {
      "text/html": [
       "<div>\n",
       "<style scoped>\n",
       "    .dataframe tbody tr th:only-of-type {\n",
       "        vertical-align: middle;\n",
       "    }\n",
       "\n",
       "    .dataframe tbody tr th {\n",
       "        vertical-align: top;\n",
       "    }\n",
       "\n",
       "    .dataframe thead th {\n",
       "        text-align: right;\n",
       "    }\n",
       "</style>\n",
       "<table border=\"1\" class=\"dataframe\">\n",
       "  <thead>\n",
       "    <tr style=\"text-align: right;\">\n",
       "      <th></th>\n",
       "      <th>Id</th>\n",
       "      <th>Price</th>\n",
       "      <th>MenuBookCategoryId</th>\n",
       "      <th>MenuBookId</th>\n",
       "      <th>AvailableDays</th>\n",
       "      <th>OrderIndex</th>\n",
       "      <th>IsAvailable</th>\n",
       "      <th>InfoId</th>\n",
       "      <th>ViewCount</th>\n",
       "      <th>DiscountId</th>\n",
       "      <th>IsHidden</th>\n",
       "    </tr>\n",
       "  </thead>\n",
       "  <tbody>\n",
       "    <tr>\n",
       "      <th>0</th>\n",
       "      <td>8345</td>\n",
       "      <td>0.9</td>\n",
       "      <td>1150</td>\n",
       "      <td>240</td>\n",
       "      <td>NaN</td>\n",
       "      <td>0</td>\n",
       "      <td>True</td>\n",
       "      <td>8258</td>\n",
       "      <td>0</td>\n",
       "      <td>NaN</td>\n",
       "      <td>False</td>\n",
       "    </tr>\n",
       "    <tr>\n",
       "      <th>1</th>\n",
       "      <td>8346</td>\n",
       "      <td>7.0</td>\n",
       "      <td>1150</td>\n",
       "      <td>240</td>\n",
       "      <td>NaN</td>\n",
       "      <td>0</td>\n",
       "      <td>True</td>\n",
       "      <td>8259</td>\n",
       "      <td>0</td>\n",
       "      <td>NaN</td>\n",
       "      <td>False</td>\n",
       "    </tr>\n",
       "    <tr>\n",
       "      <th>2</th>\n",
       "      <td>2046</td>\n",
       "      <td>18.0</td>\n",
       "      <td>343</td>\n",
       "      <td>172</td>\n",
       "      <td>NaN</td>\n",
       "      <td>0</td>\n",
       "      <td>True</td>\n",
       "      <td>1959</td>\n",
       "      <td>0</td>\n",
       "      <td>NaN</td>\n",
       "      <td>False</td>\n",
       "    </tr>\n",
       "    <tr>\n",
       "      <th>3</th>\n",
       "      <td>2047</td>\n",
       "      <td>18.0</td>\n",
       "      <td>343</td>\n",
       "      <td>172</td>\n",
       "      <td>NaN</td>\n",
       "      <td>0</td>\n",
       "      <td>True</td>\n",
       "      <td>1960</td>\n",
       "      <td>0</td>\n",
       "      <td>NaN</td>\n",
       "      <td>False</td>\n",
       "    </tr>\n",
       "    <tr>\n",
       "      <th>4</th>\n",
       "      <td>2048</td>\n",
       "      <td>18.0</td>\n",
       "      <td>343</td>\n",
       "      <td>172</td>\n",
       "      <td>NaN</td>\n",
       "      <td>0</td>\n",
       "      <td>True</td>\n",
       "      <td>1961</td>\n",
       "      <td>0</td>\n",
       "      <td>NaN</td>\n",
       "      <td>False</td>\n",
       "    </tr>\n",
       "  </tbody>\n",
       "</table>\n",
       "</div>"
      ],
      "text/plain": [
       "     Id  Price  MenuBookCategoryId  MenuBookId AvailableDays  OrderIndex  \\\n",
       "0  8345    0.9                1150         240           NaN           0   \n",
       "1  8346    7.0                1150         240           NaN           0   \n",
       "2  2046   18.0                 343         172           NaN           0   \n",
       "3  2047   18.0                 343         172           NaN           0   \n",
       "4  2048   18.0                 343         172           NaN           0   \n",
       "\n",
       "   IsAvailable  InfoId  ViewCount  DiscountId  IsHidden  \n",
       "0         True    8258          0         NaN     False  \n",
       "1         True    8259          0         NaN     False  \n",
       "2         True    1959          0         NaN     False  \n",
       "3         True    1960          0         NaN     False  \n",
       "4         True    1961          0         NaN     False  "
      ]
     },
     "execution_count": 82,
     "metadata": {},
     "output_type": "execute_result"
    }
   ],
   "source": [
    "items.head()"
   ]
  },
  {
   "cell_type": "code",
   "execution_count": 47,
   "id": "602dddf5",
   "metadata": {},
   "outputs": [
    {
     "data": {
      "text/plain": [
       "Index(['Id', 'Price', 'MenuBookCategoryId', 'MenuBookId', 'AvailableDays',\n",
       "       'OrderIndex', 'IsAvailable', 'InfoId', 'ViewCount', 'DiscountId',\n",
       "       'IsHidden'],\n",
       "      dtype='object')"
      ]
     },
     "execution_count": 47,
     "metadata": {},
     "output_type": "execute_result"
    }
   ],
   "source": [
    "items.columns"
   ]
  },
  {
   "cell_type": "code",
   "execution_count": 90,
   "id": "605c0fa5",
   "metadata": {},
   "outputs": [
    {
     "data": {
      "text/html": [
       "<div>\n",
       "<style scoped>\n",
       "    .dataframe tbody tr th:only-of-type {\n",
       "        vertical-align: middle;\n",
       "    }\n",
       "\n",
       "    .dataframe tbody tr th {\n",
       "        vertical-align: top;\n",
       "    }\n",
       "\n",
       "    .dataframe thead th {\n",
       "        text-align: right;\n",
       "    }\n",
       "</style>\n",
       "<table border=\"1\" class=\"dataframe\">\n",
       "  <thead>\n",
       "    <tr style=\"text-align: right;\">\n",
       "      <th></th>\n",
       "      <th>Id</th>\n",
       "      <th>Name</th>\n",
       "      <th>Description</th>\n",
       "      <th>PhotoUrl</th>\n",
       "      <th>TagsString</th>\n",
       "      <th>Rating</th>\n",
       "      <th>RatingCount</th>\n",
       "      <th>Calories</th>\n",
       "      <th>Fiber</th>\n",
       "      <th>Carbohydrate</th>\n",
       "      <th>SearchVector</th>\n",
       "      <th>IsGlobal</th>\n",
       "      <th>Property</th>\n",
       "      <th>Sku</th>\n",
       "      <th>Type</th>\n",
       "    </tr>\n",
       "  </thead>\n",
       "  <tbody>\n",
       "    <tr>\n",
       "      <th>83350</th>\n",
       "      <td>82536</td>\n",
       "      <td>Shoestring Fries (G)</td>\n",
       "      <td>NaN</td>\n",
       "      <td>https://res.cloudinary.com/fooreco/image/uploa...</td>\n",
       "      <td>Potatoes</td>\n",
       "      <td>5.0</td>\n",
       "      <td>2</td>\n",
       "      <td>NaN</td>\n",
       "      <td>NaN</td>\n",
       "      <td>NaN</td>\n",
       "      <td>'fri':2 'g':3 'potato':4 'shoestr':1</td>\n",
       "      <td>False</td>\n",
       "      <td>NaN</td>\n",
       "      <td>NaN</td>\n",
       "      <td>Main</td>\n",
       "    </tr>\n",
       "  </tbody>\n",
       "</table>\n",
       "</div>"
      ],
      "text/plain": [
       "          Id                  Name Description  \\\n",
       "83350  82536  Shoestring Fries (G)         NaN   \n",
       "\n",
       "                                                PhotoUrl TagsString  Rating  \\\n",
       "83350  https://res.cloudinary.com/fooreco/image/uploa...   Potatoes     5.0   \n",
       "\n",
       "       RatingCount  Calories  Fiber  Carbohydrate  \\\n",
       "83350            2       NaN    NaN           NaN   \n",
       "\n",
       "                               SearchVector  IsGlobal Property  Sku  Type  \n",
       "83350  'fri':2 'g':3 'potato':4 'shoestr':1     False      NaN  NaN  Main  "
      ]
     },
     "execution_count": 90,
     "metadata": {},
     "output_type": "execute_result"
    }
   ],
   "source": [
    "infoId = items[items.Id == 82659].InfoId.values[0]\n",
    "items_info[items_info.Id == infoId]"
   ]
  },
  {
   "cell_type": "markdown",
   "id": "8356c5c5",
   "metadata": {},
   "source": [
    "All the information for the foods are in the iteminfo table."
   ]
  },
  {
   "cell_type": "code",
   "execution_count": 48,
   "id": "0afd57ac",
   "metadata": {},
   "outputs": [
    {
     "data": {
      "text/html": [
       "<div>\n",
       "<style scoped>\n",
       "    .dataframe tbody tr th:only-of-type {\n",
       "        vertical-align: middle;\n",
       "    }\n",
       "\n",
       "    .dataframe tbody tr th {\n",
       "        vertical-align: top;\n",
       "    }\n",
       "\n",
       "    .dataframe thead th {\n",
       "        text-align: right;\n",
       "    }\n",
       "</style>\n",
       "<table border=\"1\" class=\"dataframe\">\n",
       "  <thead>\n",
       "    <tr style=\"text-align: right;\">\n",
       "      <th></th>\n",
       "      <th>Id</th>\n",
       "      <th>Name</th>\n",
       "      <th>Description</th>\n",
       "      <th>PhotoUrl</th>\n",
       "      <th>TagsString</th>\n",
       "      <th>Rating</th>\n",
       "      <th>RatingCount</th>\n",
       "      <th>Calories</th>\n",
       "      <th>Fiber</th>\n",
       "      <th>Carbohydrate</th>\n",
       "      <th>SearchVector</th>\n",
       "      <th>IsGlobal</th>\n",
       "      <th>Property</th>\n",
       "      <th>Sku</th>\n",
       "      <th>Type</th>\n",
       "    </tr>\n",
       "  </thead>\n",
       "  <tbody>\n",
       "    <tr>\n",
       "      <th>0</th>\n",
       "      <td>81465</td>\n",
       "      <td>Popina Bottled Water</td>\n",
       "      <td>NaN</td>\n",
       "      <td>https://res.cloudinary.com/fooreco/image/uploa...</td>\n",
       "      <td>NaN</td>\n",
       "      <td>NaN</td>\n",
       "      <td>0</td>\n",
       "      <td>NaN</td>\n",
       "      <td>NaN</td>\n",
       "      <td>NaN</td>\n",
       "      <td>'bottl':2 'popina':1 'water':3</td>\n",
       "      <td>False</td>\n",
       "      <td>NaN</td>\n",
       "      <td>NaN</td>\n",
       "      <td>Drink</td>\n",
       "    </tr>\n",
       "    <tr>\n",
       "      <th>1</th>\n",
       "      <td>81456</td>\n",
       "      <td>Mayhem, Pinot Gris (bottle)</td>\n",
       "      <td>750 ML</td>\n",
       "      <td>https://res.cloudinary.com/fooreco/image/uploa...</td>\n",
       "      <td>Alcohol</td>\n",
       "      <td>NaN</td>\n",
       "      <td>0</td>\n",
       "      <td>NaN</td>\n",
       "      <td>NaN</td>\n",
       "      <td>NaN</td>\n",
       "      <td>'alcohol':5 'bottl':4 'gris':3 'mayhem':1 'pin...</td>\n",
       "      <td>False</td>\n",
       "      <td>NaN</td>\n",
       "      <td>NaN</td>\n",
       "      <td>Liquor</td>\n",
       "    </tr>\n",
       "    <tr>\n",
       "      <th>2</th>\n",
       "      <td>81457</td>\n",
       "      <td>Bartier Bros, Merlot (bottle)</td>\n",
       "      <td>NaN</td>\n",
       "      <td>https://res.cloudinary.com/fooreco/image/uploa...</td>\n",
       "      <td>Alcohol</td>\n",
       "      <td>NaN</td>\n",
       "      <td>0</td>\n",
       "      <td>NaN</td>\n",
       "      <td>NaN</td>\n",
       "      <td>NaN</td>\n",
       "      <td>'alcohol':5 'bartier':1 'bottl':4 'bros':2 'me...</td>\n",
       "      <td>False</td>\n",
       "      <td>NaN</td>\n",
       "      <td>NaN</td>\n",
       "      <td>Liquor</td>\n",
       "    </tr>\n",
       "    <tr>\n",
       "      <th>3</th>\n",
       "      <td>81458</td>\n",
       "      <td>Joie Brut, sparkling wine (1/2 Bottle)</td>\n",
       "      <td>NaN</td>\n",
       "      <td>https://res.cloudinary.com/fooreco/image/uploa...</td>\n",
       "      <td>Alcohol</td>\n",
       "      <td>NaN</td>\n",
       "      <td>0</td>\n",
       "      <td>NaN</td>\n",
       "      <td>NaN</td>\n",
       "      <td>NaN</td>\n",
       "      <td>'1/2':5 'alcohol':7 'bottl':6 'brut':2 'joie':...</td>\n",
       "      <td>False</td>\n",
       "      <td>NaN</td>\n",
       "      <td>NaN</td>\n",
       "      <td>Liquor</td>\n",
       "    </tr>\n",
       "    <tr>\n",
       "      <th>4</th>\n",
       "      <td>81460</td>\n",
       "      <td>Powell Street, Ode to Citra  (473 Ml)</td>\n",
       "      <td>NaN</td>\n",
       "      <td>https://res.cloudinary.com/fooreco/image/uploa...</td>\n",
       "      <td>Alcohol</td>\n",
       "      <td>NaN</td>\n",
       "      <td>0</td>\n",
       "      <td>NaN</td>\n",
       "      <td>NaN</td>\n",
       "      <td>NaN</td>\n",
       "      <td>'473':6 'alcohol':8 'citra':5 'ml':7 'ode':3 '...</td>\n",
       "      <td>False</td>\n",
       "      <td>NaN</td>\n",
       "      <td>NaN</td>\n",
       "      <td>Liquor</td>\n",
       "    </tr>\n",
       "  </tbody>\n",
       "</table>\n",
       "</div>"
      ],
      "text/plain": [
       "      Id                                    Name Description  \\\n",
       "0  81465                    Popina Bottled Water         NaN   \n",
       "1  81456             Mayhem, Pinot Gris (bottle)     750 ML    \n",
       "2  81457           Bartier Bros, Merlot (bottle)         NaN   \n",
       "3  81458  Joie Brut, sparkling wine (1/2 Bottle)         NaN   \n",
       "4  81460   Powell Street, Ode to Citra  (473 Ml)         NaN   \n",
       "\n",
       "                                            PhotoUrl TagsString  Rating  \\\n",
       "0  https://res.cloudinary.com/fooreco/image/uploa...        NaN     NaN   \n",
       "1  https://res.cloudinary.com/fooreco/image/uploa...    Alcohol     NaN   \n",
       "2  https://res.cloudinary.com/fooreco/image/uploa...    Alcohol     NaN   \n",
       "3  https://res.cloudinary.com/fooreco/image/uploa...    Alcohol     NaN   \n",
       "4  https://res.cloudinary.com/fooreco/image/uploa...    Alcohol     NaN   \n",
       "\n",
       "   RatingCount  Calories  Fiber  Carbohydrate  \\\n",
       "0            0       NaN    NaN           NaN   \n",
       "1            0       NaN    NaN           NaN   \n",
       "2            0       NaN    NaN           NaN   \n",
       "3            0       NaN    NaN           NaN   \n",
       "4            0       NaN    NaN           NaN   \n",
       "\n",
       "                                        SearchVector  IsGlobal Property  Sku  \\\n",
       "0                     'bottl':2 'popina':1 'water':3     False      NaN  NaN   \n",
       "1  'alcohol':5 'bottl':4 'gris':3 'mayhem':1 'pin...     False      NaN  NaN   \n",
       "2  'alcohol':5 'bartier':1 'bottl':4 'bros':2 'me...     False      NaN  NaN   \n",
       "3  '1/2':5 'alcohol':7 'bottl':6 'brut':2 'joie':...     False      NaN  NaN   \n",
       "4  '473':6 'alcohol':8 'citra':5 'ml':7 'ode':3 '...     False      NaN  NaN   \n",
       "\n",
       "     Type  \n",
       "0   Drink  \n",
       "1  Liquor  \n",
       "2  Liquor  \n",
       "3  Liquor  \n",
       "4  Liquor  "
      ]
     },
     "execution_count": 48,
     "metadata": {},
     "output_type": "execute_result"
    }
   ],
   "source": [
    "items_info.head()"
   ]
  },
  {
   "cell_type": "markdown",
   "id": "65b77669",
   "metadata": {},
   "source": [
    "Lets merge the item with iteminfo."
   ]
  },
  {
   "cell_type": "code",
   "execution_count": 93,
   "id": "d6141e85",
   "metadata": {},
   "outputs": [],
   "source": [
    "itemsInfo_df = pd.merge(items,items_info, left_on = 'InfoId' , right_on = 'Id', how = 'left' )"
   ]
  },
  {
   "cell_type": "code",
   "execution_count": 94,
   "id": "fc02aa78",
   "metadata": {},
   "outputs": [
    {
     "data": {
      "text/plain": [
       "Index(['Id_x', 'Price', 'MenuBookCategoryId', 'MenuBookId', 'AvailableDays',\n",
       "       'OrderIndex', 'IsAvailable', 'InfoId', 'ViewCount', 'DiscountId',\n",
       "       'IsHidden', 'Id_y', 'Name', 'Description', 'PhotoUrl', 'TagsString',\n",
       "       'Rating', 'RatingCount', 'Calories', 'Fiber', 'Carbohydrate',\n",
       "       'SearchVector', 'IsGlobal', 'Property', 'Sku', 'Type'],\n",
       "      dtype='object')"
      ]
     },
     "execution_count": 94,
     "metadata": {},
     "output_type": "execute_result"
    }
   ],
   "source": [
    "itemsInfo_df.columns"
   ]
  },
  {
   "cell_type": "code",
   "execution_count": 95,
   "id": "51a8b87c",
   "metadata": {},
   "outputs": [],
   "source": [
    "# Just keep the features we need\n",
    "itemsInfo_df = itemsInfo_df.drop([ 'MenuBookCategoryId', 'MenuBookId', 'AvailableDays',\n",
    "       'OrderIndex', 'IsAvailable', 'InfoId', 'DiscountId','Rating','RatingCount',\n",
    "       'IsHidden', 'PhotoUrl', 'Calories', 'Fiber', 'Carbohydrate',\n",
    "       'IsGlobal', 'Property', 'Sku','Id_y'] ,axis = 1)"
   ]
  },
  {
   "cell_type": "code",
   "execution_count": 96,
   "id": "5fcf09d8",
   "metadata": {},
   "outputs": [
    {
     "name": "stdout",
     "output_type": "stream",
     "text": [
      "<class 'pandas.core.frame.DataFrame'>\n",
      "Int64Index: 68100 entries, 0 to 68099\n",
      "Data columns (total 8 columns):\n",
      " #   Column        Non-Null Count  Dtype  \n",
      "---  ------        --------------  -----  \n",
      " 0   Id_x          68100 non-null  int64  \n",
      " 1   Price         67938 non-null  float64\n",
      " 2   ViewCount     68100 non-null  int64  \n",
      " 3   Name          68082 non-null  object \n",
      " 4   Description   48742 non-null  object \n",
      " 5   TagsString    34591 non-null  object \n",
      " 6   SearchVector  68081 non-null  object \n",
      " 7   Type          68082 non-null  object \n",
      "dtypes: float64(1), int64(2), object(5)\n",
      "memory usage: 4.7+ MB\n"
     ]
    }
   ],
   "source": [
    "itemsInfo_df.info()"
   ]
  },
  {
   "cell_type": "code",
   "execution_count": 97,
   "id": "2bb44f0d",
   "metadata": {},
   "outputs": [],
   "source": [
    "itemsInfo_df.rename(columns={'Id_x' : 'Id'}, inplace = True)"
   ]
  },
  {
   "cell_type": "code",
   "execution_count": 54,
   "id": "8eef609b",
   "metadata": {},
   "outputs": [],
   "source": [
    "# check the items that do not have description\n",
    "filter = itemsInfo_df.Description.isnull()\n",
    "\n",
    "empty_desc = itemsInfo_df[filter].shape[0]"
   ]
  },
  {
   "cell_type": "code",
   "execution_count": 98,
   "id": "ea3f7501",
   "metadata": {},
   "outputs": [
    {
     "name": "stdout",
     "output_type": "stream",
     "text": [
      "There are 19358 item with no description\n"
     ]
    }
   ],
   "source": [
    "print('There are',empty_desc,'item with no description')"
   ]
  },
  {
   "cell_type": "code",
   "execution_count": 56,
   "id": "e9c9884b",
   "metadata": {},
   "outputs": [
    {
     "data": {
      "text/plain": [
       "Main      19251\n",
       "Drink        48\n",
       "Liquor       32\n",
       "Side          9\n",
       "Name: Type, dtype: int64"
      ]
     },
     "execution_count": 56,
     "metadata": {},
     "output_type": "execute_result"
    }
   ],
   "source": [
    "#check the type for the items with no description\n",
    "itemsInfo_df[filter].Type.value_counts()"
   ]
  },
  {
   "cell_type": "markdown",
   "id": "11474f46",
   "metadata": {},
   "source": [
    "As seen above many of the items that do not have description are Main, and we will keep them for now."
   ]
  },
  {
   "cell_type": "markdown",
   "id": "20a34396",
   "metadata": {},
   "source": [
    "Almost all the items are categorized as Main, very few items with other types. Lets see which items appear the most in the menus."
   ]
  },
  {
   "cell_type": "code",
   "execution_count": 57,
   "id": "d076133b",
   "metadata": {},
   "outputs": [
    {
     "data": {
      "image/png": "[encoded data removed]",
      "text/plain": [
       "<Figure size 432x288 with 1 Axes>"
      ]
     },
     "metadata": {
      "needs_background": "light"
     },
     "output_type": "display_data"
    }
   ],
   "source": [
    "# Lets see among all the availble food which ones are the most common in all the availbale restauarants\n",
    "itemsInfo_df['Name'].value_counts()[0:10].plot(kind = 'barh', fontsize= 10, color='navy').invert_yaxis()"
   ]
  },
  {
   "cell_type": "code",
   "execution_count": 58,
   "id": "32ce0a79",
   "metadata": {},
   "outputs": [],
   "source": [
    "#if we remove filter out the juices \n",
    "mask = (itemsInfo_df.Name != 'Pop') & (itemsInfo_df.Name != 'Juice') & (itemsInfo_df.Name != 'Bottled Water') & (itemsInfo_df.Name != 'Canned Pop')\n",
    "itemsInfo_masked = itemsInfo_df[mask]"
   ]
  },
  {
   "cell_type": "code",
   "execution_count": 59,
   "id": "d2cb7214",
   "metadata": {},
   "outputs": [
    {
     "data": {
      "image/png": "[encoded data removed]",
      "text/plain": [
       "<Figure size 432x288 with 1 Axes>"
      ]
     },
     "metadata": {
      "needs_background": "light"
     },
     "output_type": "display_data"
    }
   ],
   "source": [
    "itemsInfo_masked['Name'].value_counts()[0:10].plot(kind = 'barh',fontsize= 10, color='orange').invert_yaxis()"
   ]
  },
  {
   "cell_type": "code",
   "execution_count": 106,
   "id": "e5ce3169",
   "metadata": {},
   "outputs": [
    {
     "data": {
      "text/html": [
       "<div>\n",
       "<style scoped>\n",
       "    .dataframe tbody tr th:only-of-type {\n",
       "        vertical-align: middle;\n",
       "    }\n",
       "\n",
       "    .dataframe tbody tr th {\n",
       "        vertical-align: top;\n",
       "    }\n",
       "\n",
       "    .dataframe thead th {\n",
       "        text-align: right;\n",
       "    }\n",
       "</style>\n",
       "<table border=\"1\" class=\"dataframe\">\n",
       "  <thead>\n",
       "    <tr style=\"text-align: right;\">\n",
       "      <th></th>\n",
       "      <th>Id</th>\n",
       "      <th>Price</th>\n",
       "      <th>ViewCount</th>\n",
       "      <th>Name</th>\n",
       "      <th>Description</th>\n",
       "      <th>TagsString</th>\n",
       "      <th>SearchVector</th>\n",
       "      <th>Type</th>\n",
       "    </tr>\n",
       "  </thead>\n",
       "  <tbody>\n",
       "    <tr>\n",
       "      <th>67316</th>\n",
       "      <td>82659</td>\n",
       "      <td>4.5</td>\n",
       "      <td>2877</td>\n",
       "      <td>Shoestring Fries (G)</td>\n",
       "      <td>NaN</td>\n",
       "      <td>Potatoes</td>\n",
       "      <td>'fri':2 'g':3 'potato':4 'shoestr':1</td>\n",
       "      <td>Main</td>\n",
       "    </tr>\n",
       "  </tbody>\n",
       "</table>\n",
       "</div>"
      ],
      "text/plain": [
       "          Id  Price  ViewCount                  Name Description TagsString  \\\n",
       "67316  82659    4.5       2877  Shoestring Fries (G)         NaN   Potatoes   \n",
       "\n",
       "                               SearchVector  Type  \n",
       "67316  'fri':2 'g':3 'potato':4 'shoestr':1  Main  "
      ]
     },
     "execution_count": 106,
     "metadata": {},
     "output_type": "execute_result"
    }
   ],
   "source": [
    "itemsInfo_df[itemsInfo_df.Id == 82659]"
   ]
  },
  {
   "cell_type": "markdown",
   "id": "f5321469",
   "metadata": {},
   "source": [
    "### 5 .Finalize data cleanup "
   ]
  },
  {
   "cell_type": "markdown",
   "id": "9ec56ef3",
   "metadata": {},
   "source": [
    "Lets merge the feedback dataset with the order dataset."
   ]
  },
  {
   "cell_type": "code",
   "execution_count": 60,
   "id": "dd815078",
   "metadata": {},
   "outputs": [
    {
     "data": {
      "text/html": [
       "<div>\n",
       "<style scoped>\n",
       "    .dataframe tbody tr th:only-of-type {\n",
       "        vertical-align: middle;\n",
       "    }\n",
       "\n",
       "    .dataframe tbody tr th {\n",
       "        vertical-align: top;\n",
       "    }\n",
       "\n",
       "    .dataframe thead th {\n",
       "        text-align: right;\n",
       "    }\n",
       "</style>\n",
       "<table border=\"1\" class=\"dataframe\">\n",
       "  <thead>\n",
       "    <tr style=\"text-align: right;\">\n",
       "      <th></th>\n",
       "      <th>Id</th>\n",
       "      <th>Rating</th>\n",
       "      <th>Comments</th>\n",
       "      <th>OrderId</th>\n",
       "    </tr>\n",
       "  </thead>\n",
       "  <tbody>\n",
       "    <tr>\n",
       "      <th>0</th>\n",
       "      <td>802</td>\n",
       "      <td>5</td>\n",
       "      <td>NaN</td>\n",
       "      <td>14777</td>\n",
       "    </tr>\n",
       "    <tr>\n",
       "      <th>1</th>\n",
       "      <td>801</td>\n",
       "      <td>1</td>\n",
       "      <td>Food arrived 50 minutes later than the request...</td>\n",
       "      <td>14479</td>\n",
       "    </tr>\n",
       "    <tr>\n",
       "      <th>2</th>\n",
       "      <td>800</td>\n",
       "      <td>5</td>\n",
       "      <td>Smile</td>\n",
       "      <td>13892</td>\n",
       "    </tr>\n",
       "    <tr>\n",
       "      <th>3</th>\n",
       "      <td>799</td>\n",
       "      <td>5</td>\n",
       "      <td>NaN</td>\n",
       "      <td>13886</td>\n",
       "    </tr>\n",
       "    <tr>\n",
       "      <th>4</th>\n",
       "      <td>798</td>\n",
       "      <td>5</td>\n",
       "      <td>Your hammer sandwich that you say is Spicy but...</td>\n",
       "      <td>13607</td>\n",
       "    </tr>\n",
       "  </tbody>\n",
       "</table>\n",
       "</div>"
      ],
      "text/plain": [
       "    Id  Rating                                           Comments  OrderId\n",
       "0  802       5                                                NaN    14777\n",
       "1  801       1  Food arrived 50 minutes later than the request...    14479\n",
       "2  800       5                                             Smile     13892\n",
       "3  799       5                                                NaN    13886\n",
       "4  798       5  Your hammer sandwich that you say is Spicy but...    13607"
      ]
     },
     "execution_count": 60,
     "metadata": {},
     "output_type": "execute_result"
    }
   ],
   "source": [
    "feedback.head()"
   ]
  },
  {
   "cell_type": "code",
   "execution_count": 61,
   "id": "ffdfb99f",
   "metadata": {},
   "outputs": [
    {
     "data": {
      "text/html": [
       "<div>\n",
       "<style scoped>\n",
       "    .dataframe tbody tr th:only-of-type {\n",
       "        vertical-align: middle;\n",
       "    }\n",
       "\n",
       "    .dataframe tbody tr th {\n",
       "        vertical-align: top;\n",
       "    }\n",
       "\n",
       "    .dataframe thead th {\n",
       "        text-align: right;\n",
       "    }\n",
       "</style>\n",
       "<table border=\"1\" class=\"dataframe\">\n",
       "  <thead>\n",
       "    <tr style=\"text-align: right;\">\n",
       "      <th></th>\n",
       "      <th>Id</th>\n",
       "      <th>Message</th>\n",
       "      <th>Rating</th>\n",
       "      <th>CreatedDate</th>\n",
       "      <th>UserId</th>\n",
       "      <th>MenuBookItemInfoId</th>\n",
       "      <th>Status</th>\n",
       "      <th>Bitter</th>\n",
       "      <th>Salty</th>\n",
       "      <th>Savory</th>\n",
       "      <th>Sour</th>\n",
       "      <th>Sweet</th>\n",
       "    </tr>\n",
       "  </thead>\n",
       "  <tbody>\n",
       "    <tr>\n",
       "      <th>0</th>\n",
       "      <td>84</td>\n",
       "      <td>rrrrrrr</td>\n",
       "      <td>4</td>\n",
       "      <td>2019-09-30T20:46:57.829856Z</td>\n",
       "      <td>1</td>\n",
       "      <td>7</td>\n",
       "      <td>3</td>\n",
       "      <td>NaN</td>\n",
       "      <td>NaN</td>\n",
       "      <td>NaN</td>\n",
       "      <td>NaN</td>\n",
       "      <td>NaN</td>\n",
       "    </tr>\n",
       "    <tr>\n",
       "      <th>1</th>\n",
       "      <td>76</td>\n",
       "      <td>⁦✌️⁩⁦✌️⁩👍👍😍</td>\n",
       "      <td>3</td>\n",
       "      <td>2019-07-13T04:18:21.348956Z</td>\n",
       "      <td>4</td>\n",
       "      <td>320</td>\n",
       "      <td>3</td>\n",
       "      <td>NaN</td>\n",
       "      <td>NaN</td>\n",
       "      <td>NaN</td>\n",
       "      <td>NaN</td>\n",
       "      <td>NaN</td>\n",
       "    </tr>\n",
       "    <tr>\n",
       "      <th>2</th>\n",
       "      <td>74</td>\n",
       "      <td>Best sooooooosis</td>\n",
       "      <td>5</td>\n",
       "      <td>2019-06-17T04:16:12.559684Z</td>\n",
       "      <td>105</td>\n",
       "      <td>320</td>\n",
       "      <td>3</td>\n",
       "      <td>NaN</td>\n",
       "      <td>NaN</td>\n",
       "      <td>NaN</td>\n",
       "      <td>NaN</td>\n",
       "      <td>NaN</td>\n",
       "    </tr>\n",
       "    <tr>\n",
       "      <th>3</th>\n",
       "      <td>47</td>\n",
       "      <td>Wow It is so good</td>\n",
       "      <td>5</td>\n",
       "      <td>2019-01-02T21:12:35.894906Z</td>\n",
       "      <td>8</td>\n",
       "      <td>40</td>\n",
       "      <td>3</td>\n",
       "      <td>NaN</td>\n",
       "      <td>NaN</td>\n",
       "      <td>NaN</td>\n",
       "      <td>NaN</td>\n",
       "      <td>NaN</td>\n",
       "    </tr>\n",
       "    <tr>\n",
       "      <th>4</th>\n",
       "      <td>44</td>\n",
       "      <td>Wow so good</td>\n",
       "      <td>4</td>\n",
       "      <td>2018-12-24T08:18:51.017771Z</td>\n",
       "      <td>8</td>\n",
       "      <td>299</td>\n",
       "      <td>3</td>\n",
       "      <td>NaN</td>\n",
       "      <td>NaN</td>\n",
       "      <td>NaN</td>\n",
       "      <td>NaN</td>\n",
       "      <td>NaN</td>\n",
       "    </tr>\n",
       "  </tbody>\n",
       "</table>\n",
       "</div>"
      ],
      "text/plain": [
       "   Id            Message  Rating                  CreatedDate  UserId  \\\n",
       "0  84            rrrrrrr       4  2019-09-30T20:46:57.829856Z       1   \n",
       "1  76        ⁦✌️⁩⁦✌️⁩👍👍😍       3  2019-07-13T04:18:21.348956Z       4   \n",
       "2  74   Best sooooooosis       5  2019-06-17T04:16:12.559684Z     105   \n",
       "3  47  Wow It is so good       5  2019-01-02T21:12:35.894906Z       8   \n",
       "4  44        Wow so good       4  2018-12-24T08:18:51.017771Z       8   \n",
       "\n",
       "   MenuBookItemInfoId  Status  Bitter  Salty  Savory  Sour  Sweet  \n",
       "0                   7       3     NaN    NaN     NaN   NaN    NaN  \n",
       "1                 320       3     NaN    NaN     NaN   NaN    NaN  \n",
       "2                 320       3     NaN    NaN     NaN   NaN    NaN  \n",
       "3                  40       3     NaN    NaN     NaN   NaN    NaN  \n",
       "4                 299       3     NaN    NaN     NaN   NaN    NaN  "
      ]
     },
     "execution_count": 61,
     "metadata": {},
     "output_type": "execute_result"
    }
   ],
   "source": [
    "review.head()"
   ]
  },
  {
   "cell_type": "code",
   "execution_count": 62,
   "id": "c5555927",
   "metadata": {},
   "outputs": [
    {
     "data": {
      "text/html": [
       "<div>\n",
       "<style scoped>\n",
       "    .dataframe tbody tr th:only-of-type {\n",
       "        vertical-align: middle;\n",
       "    }\n",
       "\n",
       "    .dataframe tbody tr th {\n",
       "        vertical-align: top;\n",
       "    }\n",
       "\n",
       "    .dataframe thead th {\n",
       "        text-align: right;\n",
       "    }\n",
       "</style>\n",
       "<table border=\"1\" class=\"dataframe\">\n",
       "  <thead>\n",
       "    <tr style=\"text-align: right;\">\n",
       "      <th></th>\n",
       "      <th>Id</th>\n",
       "      <th>UserId</th>\n",
       "      <th>RestaurantId</th>\n",
       "      <th>Date</th>\n",
       "      <th>Details</th>\n",
       "      <th>Address</th>\n",
       "      <th>Items</th>\n",
       "    </tr>\n",
       "  </thead>\n",
       "  <tbody>\n",
       "    <tr>\n",
       "      <th>0</th>\n",
       "      <td>1</td>\n",
       "      <td>1</td>\n",
       "      <td>110</td>\n",
       "      <td>2020-03-19 22:52:18.410595</td>\n",
       "      <td>{'Id': 1, 'Tax': 3.48, 'Tip': 0, 'Items': [{'C...</td>\n",
       "      <td>{'Id': 1, 'Area': 'BC', 'City': 'Coquitlam', '...</td>\n",
       "      <td>[{'Count': 1, 'Price': 29.0, 'Options': None, ...</td>\n",
       "    </tr>\n",
       "    <tr>\n",
       "      <th>1</th>\n",
       "      <td>2</td>\n",
       "      <td>4</td>\n",
       "      <td>110</td>\n",
       "      <td>2020-03-20 19:31:44.139248</td>\n",
       "      <td>{'Id': 2, 'Tax': 4.08, 'Tip': 0, 'Items': [{'C...</td>\n",
       "      <td>{'Id': 2, 'Area': 'BC', 'City': 'Coquitlam', '...</td>\n",
       "      <td>[{'Count': 1, 'Price': 18.0, 'Options': None, ...</td>\n",
       "    </tr>\n",
       "    <tr>\n",
       "      <th>2</th>\n",
       "      <td>3</td>\n",
       "      <td>1</td>\n",
       "      <td>110</td>\n",
       "      <td>2020-03-22 05:06:22.862927</td>\n",
       "      <td>{'Id': 3, 'Tax': 3.96, 'Tip': 0, 'Items': [{'C...</td>\n",
       "      <td>{'Id': 1, 'Area': 'BC', 'City': 'Coquitlam', '...</td>\n",
       "      <td>[{'Count': 1, 'Price': 24.0, 'Options': None, ...</td>\n",
       "    </tr>\n",
       "    <tr>\n",
       "      <th>3</th>\n",
       "      <td>4</td>\n",
       "      <td>115</td>\n",
       "      <td>110</td>\n",
       "      <td>2020-03-22 06:52:54.185165</td>\n",
       "      <td>{'Id': 4, 'Tax': 5.04, 'Tip': 0, 'Items': [{'C...</td>\n",
       "      <td>{'Id': 3, 'Area': 'BC', 'City': 'Coquitlam', '...</td>\n",
       "      <td>[{'Count': 1, 'Price': 18.0, 'Options': None, ...</td>\n",
       "    </tr>\n",
       "    <tr>\n",
       "      <th>4</th>\n",
       "      <td>5</td>\n",
       "      <td>1</td>\n",
       "      <td>110</td>\n",
       "      <td>2020-03-26 05:40:08.022949</td>\n",
       "      <td>{'Id': 5, 'Tax': 38.52, 'Tip': 0, 'Items': [{'...</td>\n",
       "      <td>{'Id': 1, 'Lat': 49.28168059999999, 'Lng': -12...</td>\n",
       "      <td>[{'Count': 5, 'Price': 18.0, 'Total': 90.0, 'O...</td>\n",
       "    </tr>\n",
       "  </tbody>\n",
       "</table>\n",
       "</div>"
      ],
      "text/plain": [
       "   Id  UserId  RestaurantId                       Date  \\\n",
       "0   1       1           110 2020-03-19 22:52:18.410595   \n",
       "1   2       4           110 2020-03-20 19:31:44.139248   \n",
       "2   3       1           110 2020-03-22 05:06:22.862927   \n",
       "3   4     115           110 2020-03-22 06:52:54.185165   \n",
       "4   5       1           110 2020-03-26 05:40:08.022949   \n",
       "\n",
       "                                             Details  \\\n",
       "0  {'Id': 1, 'Tax': 3.48, 'Tip': 0, 'Items': [{'C...   \n",
       "1  {'Id': 2, 'Tax': 4.08, 'Tip': 0, 'Items': [{'C...   \n",
       "2  {'Id': 3, 'Tax': 3.96, 'Tip': 0, 'Items': [{'C...   \n",
       "3  {'Id': 4, 'Tax': 5.04, 'Tip': 0, 'Items': [{'C...   \n",
       "4  {'Id': 5, 'Tax': 38.52, 'Tip': 0, 'Items': [{'...   \n",
       "\n",
       "                                             Address  \\\n",
       "0  {'Id': 1, 'Area': 'BC', 'City': 'Coquitlam', '...   \n",
       "1  {'Id': 2, 'Area': 'BC', 'City': 'Coquitlam', '...   \n",
       "2  {'Id': 1, 'Area': 'BC', 'City': 'Coquitlam', '...   \n",
       "3  {'Id': 3, 'Area': 'BC', 'City': 'Coquitlam', '...   \n",
       "4  {'Id': 1, 'Lat': 49.28168059999999, 'Lng': -12...   \n",
       "\n",
       "                                               Items  \n",
       "0  [{'Count': 1, 'Price': 29.0, 'Options': None, ...  \n",
       "1  [{'Count': 1, 'Price': 18.0, 'Options': None, ...  \n",
       "2  [{'Count': 1, 'Price': 24.0, 'Options': None, ...  \n",
       "3  [{'Count': 1, 'Price': 18.0, 'Options': None, ...  \n",
       "4  [{'Count': 5, 'Price': 18.0, 'Total': 90.0, 'O...  "
      ]
     },
     "execution_count": 62,
     "metadata": {},
     "output_type": "execute_result"
    }
   ],
   "source": [
    "orders.head()"
   ]
  },
  {
   "cell_type": "code",
   "execution_count": 63,
   "id": "16c3a1b1",
   "metadata": {},
   "outputs": [
    {
     "name": "stdout",
     "output_type": "stream",
     "text": [
      "<class 'pandas.core.frame.DataFrame'>\n",
      "Int64Index: 11629 entries, 0 to 11628\n",
      "Data columns (total 11 columns):\n",
      " #   Column        Non-Null Count  Dtype         \n",
      "---  ------        --------------  -----         \n",
      " 0   Id_x          11629 non-null  int64         \n",
      " 1   UserId        11629 non-null  int64         \n",
      " 2   RestaurantId  11629 non-null  int64         \n",
      " 3   Date          11629 non-null  datetime64[ns]\n",
      " 4   Details       11629 non-null  object        \n",
      " 5   Address       350 non-null    object        \n",
      " 6   Items         11629 non-null  object        \n",
      " 7   Id_y          802 non-null    float64       \n",
      " 8   Rating        802 non-null    float64       \n",
      " 9   Comments      155 non-null    object        \n",
      " 10  OrderId       802 non-null    float64       \n",
      "dtypes: datetime64[ns](1), float64(3), int64(3), object(4)\n",
      "memory usage: 1.1+ MB\n"
     ]
    }
   ],
   "source": [
    "order_feedback= pd.merge(orders , feedback , left_on= 'Id' , right_on= 'OrderId' , how='left')\n",
    "order_feedback.info()"
   ]
  },
  {
   "cell_type": "code",
   "execution_count": 64,
   "id": "213d874a",
   "metadata": {},
   "outputs": [
    {
     "data": {
      "text/html": [
       "<div>\n",
       "<style scoped>\n",
       "    .dataframe tbody tr th:only-of-type {\n",
       "        vertical-align: middle;\n",
       "    }\n",
       "\n",
       "    .dataframe tbody tr th {\n",
       "        vertical-align: top;\n",
       "    }\n",
       "\n",
       "    .dataframe thead th {\n",
       "        text-align: right;\n",
       "    }\n",
       "</style>\n",
       "<table border=\"1\" class=\"dataframe\">\n",
       "  <thead>\n",
       "    <tr style=\"text-align: right;\">\n",
       "      <th></th>\n",
       "      <th>Id_x</th>\n",
       "      <th>UserId</th>\n",
       "      <th>RestaurantId</th>\n",
       "      <th>Date</th>\n",
       "      <th>Details</th>\n",
       "      <th>Address</th>\n",
       "      <th>Items</th>\n",
       "      <th>Id_y</th>\n",
       "      <th>Rating</th>\n",
       "      <th>Comments</th>\n",
       "    </tr>\n",
       "  </thead>\n",
       "  <tbody>\n",
       "    <tr>\n",
       "      <th>0</th>\n",
       "      <td>1</td>\n",
       "      <td>1</td>\n",
       "      <td>110</td>\n",
       "      <td>2020-03-19 22:52:18.410595</td>\n",
       "      <td>{'Id': 1, 'Tax': 3.48, 'Tip': 0, 'Items': [{'C...</td>\n",
       "      <td>{'Id': 1, 'Area': 'BC', 'City': 'Coquitlam', '...</td>\n",
       "      <td>[{'Count': 1, 'Price': 29.0, 'Options': None, ...</td>\n",
       "      <td>NaN</td>\n",
       "      <td>NaN</td>\n",
       "      <td>NaN</td>\n",
       "    </tr>\n",
       "    <tr>\n",
       "      <th>1</th>\n",
       "      <td>2</td>\n",
       "      <td>4</td>\n",
       "      <td>110</td>\n",
       "      <td>2020-03-20 19:31:44.139248</td>\n",
       "      <td>{'Id': 2, 'Tax': 4.08, 'Tip': 0, 'Items': [{'C...</td>\n",
       "      <td>{'Id': 2, 'Area': 'BC', 'City': 'Coquitlam', '...</td>\n",
       "      <td>[{'Count': 1, 'Price': 18.0, 'Options': None, ...</td>\n",
       "      <td>NaN</td>\n",
       "      <td>NaN</td>\n",
       "      <td>NaN</td>\n",
       "    </tr>\n",
       "    <tr>\n",
       "      <th>2</th>\n",
       "      <td>3</td>\n",
       "      <td>1</td>\n",
       "      <td>110</td>\n",
       "      <td>2020-03-22 05:06:22.862927</td>\n",
       "      <td>{'Id': 3, 'Tax': 3.96, 'Tip': 0, 'Items': [{'C...</td>\n",
       "      <td>{'Id': 1, 'Area': 'BC', 'City': 'Coquitlam', '...</td>\n",
       "      <td>[{'Count': 1, 'Price': 24.0, 'Options': None, ...</td>\n",
       "      <td>NaN</td>\n",
       "      <td>NaN</td>\n",
       "      <td>NaN</td>\n",
       "    </tr>\n",
       "    <tr>\n",
       "      <th>3</th>\n",
       "      <td>4</td>\n",
       "      <td>115</td>\n",
       "      <td>110</td>\n",
       "      <td>2020-03-22 06:52:54.185165</td>\n",
       "      <td>{'Id': 4, 'Tax': 5.04, 'Tip': 0, 'Items': [{'C...</td>\n",
       "      <td>{'Id': 3, 'Area': 'BC', 'City': 'Coquitlam', '...</td>\n",
       "      <td>[{'Count': 1, 'Price': 18.0, 'Options': None, ...</td>\n",
       "      <td>NaN</td>\n",
       "      <td>NaN</td>\n",
       "      <td>NaN</td>\n",
       "    </tr>\n",
       "    <tr>\n",
       "      <th>4</th>\n",
       "      <td>5</td>\n",
       "      <td>1</td>\n",
       "      <td>110</td>\n",
       "      <td>2020-03-26 05:40:08.022949</td>\n",
       "      <td>{'Id': 5, 'Tax': 38.52, 'Tip': 0, 'Items': [{'...</td>\n",
       "      <td>{'Id': 1, 'Lat': 49.28168059999999, 'Lng': -12...</td>\n",
       "      <td>[{'Count': 5, 'Price': 18.0, 'Total': 90.0, 'O...</td>\n",
       "      <td>NaN</td>\n",
       "      <td>NaN</td>\n",
       "      <td>NaN</td>\n",
       "    </tr>\n",
       "  </tbody>\n",
       "</table>\n",
       "</div>"
      ],
      "text/plain": [
       "   Id_x  UserId  RestaurantId                       Date  \\\n",
       "0     1       1           110 2020-03-19 22:52:18.410595   \n",
       "1     2       4           110 2020-03-20 19:31:44.139248   \n",
       "2     3       1           110 2020-03-22 05:06:22.862927   \n",
       "3     4     115           110 2020-03-22 06:52:54.185165   \n",
       "4     5       1           110 2020-03-26 05:40:08.022949   \n",
       "\n",
       "                                             Details  \\\n",
       "0  {'Id': 1, 'Tax': 3.48, 'Tip': 0, 'Items': [{'C...   \n",
       "1  {'Id': 2, 'Tax': 4.08, 'Tip': 0, 'Items': [{'C...   \n",
       "2  {'Id': 3, 'Tax': 3.96, 'Tip': 0, 'Items': [{'C...   \n",
       "3  {'Id': 4, 'Tax': 5.04, 'Tip': 0, 'Items': [{'C...   \n",
       "4  {'Id': 5, 'Tax': 38.52, 'Tip': 0, 'Items': [{'...   \n",
       "\n",
       "                                             Address  \\\n",
       "0  {'Id': 1, 'Area': 'BC', 'City': 'Coquitlam', '...   \n",
       "1  {'Id': 2, 'Area': 'BC', 'City': 'Coquitlam', '...   \n",
       "2  {'Id': 1, 'Area': 'BC', 'City': 'Coquitlam', '...   \n",
       "3  {'Id': 3, 'Area': 'BC', 'City': 'Coquitlam', '...   \n",
       "4  {'Id': 1, 'Lat': 49.28168059999999, 'Lng': -12...   \n",
       "\n",
       "                                               Items  Id_y  Rating Comments  \n",
       "0  [{'Count': 1, 'Price': 29.0, 'Options': None, ...   NaN     NaN      NaN  \n",
       "1  [{'Count': 1, 'Price': 18.0, 'Options': None, ...   NaN     NaN      NaN  \n",
       "2  [{'Count': 1, 'Price': 24.0, 'Options': None, ...   NaN     NaN      NaN  \n",
       "3  [{'Count': 1, 'Price': 18.0, 'Options': None, ...   NaN     NaN      NaN  \n",
       "4  [{'Count': 5, 'Price': 18.0, 'Total': 90.0, 'O...   NaN     NaN      NaN  "
      ]
     },
     "execution_count": 64,
     "metadata": {},
     "output_type": "execute_result"
    }
   ],
   "source": [
    "order_feedback.drop('OrderId', axis = 1, inplace= True)\n",
    "order_feedback.head()"
   ]
  },
  {
   "cell_type": "markdown",
   "id": "1d4b0057",
   "metadata": {},
   "source": [
    "As seen before Items feature may have more than one item, below we will extract and split them in different rows for better analysis"
   ]
  },
  {
   "cell_type": "code",
   "execution_count": 65,
   "id": "d4e71e74",
   "metadata": {},
   "outputs": [],
   "source": [
    "#rename the columns \n",
    "order_feedback = order_feedback.rename(columns={'Id_x' : 'OrderId', 'Id_y' : 'RatingId'})\n",
    "data_list = library.utils.extract_items(order_feedback)"
   ]
  },
  {
   "cell_type": "code",
   "execution_count": 66,
   "id": "35d1496f",
   "metadata": {},
   "outputs": [],
   "source": [
    "orders_user_feedback =  pd.DataFrame(data_list, columns =['OrderId','UserId','Item','RestaurantId','Date','Rating','Comments','Address','Count'])"
   ]
  },
  {
   "cell_type": "code",
   "execution_count": 67,
   "id": "707b9553",
   "metadata": {},
   "outputs": [
    {
     "name": "stdout",
     "output_type": "stream",
     "text": [
      "<class 'pandas.core.frame.DataFrame'>\n",
      "RangeIndex: 26821 entries, 0 to 26820\n",
      "Data columns (total 9 columns):\n",
      " #   Column        Non-Null Count  Dtype         \n",
      "---  ------        --------------  -----         \n",
      " 0   OrderId       26821 non-null  int64         \n",
      " 1   UserId        26821 non-null  int64         \n",
      " 2   Item          26821 non-null  object        \n",
      " 3   RestaurantId  26821 non-null  int64         \n",
      " 4   Date          26821 non-null  datetime64[ns]\n",
      " 5   Rating        1963 non-null   float64       \n",
      " 6   Comments      412 non-null    object        \n",
      " 7   Address       905 non-null    object        \n",
      " 8   Count         26821 non-null  int64         \n",
      "dtypes: datetime64[ns](1), float64(1), int64(4), object(3)\n",
      "memory usage: 1.8+ MB\n"
     ]
    }
   ],
   "source": [
    "orders_user_feedback.info()"
   ]
  },
  {
   "cell_type": "code",
   "execution_count": 68,
   "id": "46622cf7",
   "metadata": {},
   "outputs": [
    {
     "data": {
      "text/plain": [
       "11629"
      ]
     },
     "execution_count": 68,
     "metadata": {},
     "output_type": "execute_result"
    }
   ],
   "source": [
    "orders_user_feedback.OrderId.nunique()"
   ]
  },
  {
   "cell_type": "code",
   "execution_count": 69,
   "id": "a2946d01",
   "metadata": {},
   "outputs": [],
   "source": [
    "orders_user_feedback['ItemId'] = orders_user_feedback.Item.apply(lambda x : library.utils.return_value('id',x))\n",
    "orders_user_feedback['ItemName'] = orders_user_feedback.Item.apply(lambda x : library.utils.return_value('name',x))"
   ]
  },
  {
   "cell_type": "code",
   "execution_count": 70,
   "id": "63766dae",
   "metadata": {},
   "outputs": [],
   "source": [
    "full_data =  pd.merge(orders_user_feedback,itemsInfo_df , left_on= 'ItemId', right_on= 'Id', how='left')"
   ]
  },
  {
   "cell_type": "code",
   "execution_count": 71,
   "id": "24dbf990",
   "metadata": {},
   "outputs": [
    {
     "data": {
      "text/plain": [
       "Index(['OrderId', 'UserId', 'Item', 'RestaurantId', 'Date', 'Rating',\n",
       "       'Comments', 'Address', 'Count', 'ItemId', 'ItemName', 'Id', 'Price',\n",
       "       'ViewCount', 'Name', 'Description', 'SearchVector', 'Type'],\n",
       "      dtype='object')"
      ]
     },
     "execution_count": 71,
     "metadata": {},
     "output_type": "execute_result"
    }
   ],
   "source": [
    "full_data.columns"
   ]
  },
  {
   "cell_type": "code",
   "execution_count": 72,
   "id": "0a52642b",
   "metadata": {},
   "outputs": [],
   "source": [
    "filter = full_data['ItemName'] == full_data['Name']\n",
    "full_data = full_data[filter]"
   ]
  },
  {
   "cell_type": "code",
   "execution_count": 73,
   "id": "1a18e14f",
   "metadata": {},
   "outputs": [
    {
     "data": {
      "text/plain": [
       "OrderId             0\n",
       "UserId              0\n",
       "Item                0\n",
       "RestaurantId        0\n",
       "Date                0\n",
       "Rating          22352\n",
       "Comments        23754\n",
       "Address         23700\n",
       "Count               0\n",
       "ItemId              0\n",
       "ItemName            0\n",
       "Id                  0\n",
       "Price            3137\n",
       "ViewCount           0\n",
       "Name                0\n",
       "Description     10084\n",
       "SearchVector        0\n",
       "Type                0\n",
       "dtype: int64"
      ]
     },
     "execution_count": 73,
     "metadata": {},
     "output_type": "execute_result"
    }
   ],
   "source": [
    "full_data.isna().sum()"
   ]
  },
  {
   "cell_type": "code",
   "execution_count": 74,
   "id": "3564f0d7",
   "metadata": {},
   "outputs": [
    {
     "name": "stdout",
     "output_type": "stream",
     "text": [
      "<class 'pandas.core.frame.DataFrame'>\n",
      "Int64Index: 24109 entries, 15 to 26820\n",
      "Data columns (total 18 columns):\n",
      " #   Column        Non-Null Count  Dtype         \n",
      "---  ------        --------------  -----         \n",
      " 0   OrderId       24109 non-null  int64         \n",
      " 1   UserId        24109 non-null  int64         \n",
      " 2   Item          24109 non-null  object        \n",
      " 3   RestaurantId  24109 non-null  int64         \n",
      " 4   Date          24109 non-null  datetime64[ns]\n",
      " 5   Rating        1757 non-null   float64       \n",
      " 6   Comments      355 non-null    object        \n",
      " 7   Address       409 non-null    object        \n",
      " 8   Count         24109 non-null  int64         \n",
      " 9   ItemId        24109 non-null  int64         \n",
      " 10  ItemName      24109 non-null  object        \n",
      " 11  Id            24109 non-null  float64       \n",
      " 12  Price         20972 non-null  float64       \n",
      " 13  ViewCount     24109 non-null  float64       \n",
      " 14  Name          24109 non-null  object        \n",
      " 15  Description   14025 non-null  object        \n",
      " 16  SearchVector  24109 non-null  object        \n",
      " 17  Type          24109 non-null  object        \n",
      "dtypes: datetime64[ns](1), float64(4), int64(5), object(8)\n",
      "memory usage: 3.5+ MB\n"
     ]
    }
   ],
   "source": [
    "full_data.info()"
   ]
  },
  {
   "cell_type": "code",
   "execution_count": 77,
   "id": "30b70559",
   "metadata": {},
   "outputs": [
    {
     "data": {
      "text/html": [
       "<div>\n",
       "<style scoped>\n",
       "    .dataframe tbody tr th:only-of-type {\n",
       "        vertical-align: middle;\n",
       "    }\n",
       "\n",
       "    .dataframe tbody tr th {\n",
       "        vertical-align: top;\n",
       "    }\n",
       "\n",
       "    .dataframe thead th {\n",
       "        text-align: right;\n",
       "    }\n",
       "</style>\n",
       "<table border=\"1\" class=\"dataframe\">\n",
       "  <thead>\n",
       "    <tr style=\"text-align: right;\">\n",
       "      <th></th>\n",
       "      <th>OrderId</th>\n",
       "      <th>UserId</th>\n",
       "      <th>Item</th>\n",
       "      <th>RestaurantId</th>\n",
       "      <th>Date</th>\n",
       "      <th>Rating</th>\n",
       "      <th>Comments</th>\n",
       "      <th>Address</th>\n",
       "      <th>Count</th>\n",
       "      <th>ItemId</th>\n",
       "      <th>ItemName</th>\n",
       "      <th>Id</th>\n",
       "      <th>Price</th>\n",
       "      <th>ViewCount</th>\n",
       "      <th>Name</th>\n",
       "      <th>Description</th>\n",
       "      <th>SearchVector</th>\n",
       "      <th>Type</th>\n",
       "    </tr>\n",
       "  </thead>\n",
       "  <tbody>\n",
       "    <tr>\n",
       "      <th>15</th>\n",
       "      <td>8</td>\n",
       "      <td>113</td>\n",
       "      <td>{'Id': 211, 'Name': 'Tableside Spinach Salad',...</td>\n",
       "      <td>110</td>\n",
       "      <td>2020-03-28 08:15:25.615002</td>\n",
       "      <td>NaN</td>\n",
       "      <td>NaN</td>\n",
       "      <td>{'Id': 4, 'Lat': 49.28319399999999, 'Lng': -12...</td>\n",
       "      <td>1</td>\n",
       "      <td>211</td>\n",
       "      <td>Tableside Spinach Salad</td>\n",
       "      <td>211.0</td>\n",
       "      <td>15.0</td>\n",
       "      <td>0.0</td>\n",
       "      <td>Tableside Spinach Salad</td>\n",
       "      <td>NaN</td>\n",
       "      <td>'almond':8 'babi':4 'bacon':11 'jack':10 'mont...</td>\n",
       "      <td>Main</td>\n",
       "    </tr>\n",
       "    <tr>\n",
       "      <th>16</th>\n",
       "      <td>8</td>\n",
       "      <td>113</td>\n",
       "      <td>{'Id': 218, 'Name': 'King Crab', 'Price': 27.0...</td>\n",
       "      <td>110</td>\n",
       "      <td>2020-03-28 08:15:25.615002</td>\n",
       "      <td>NaN</td>\n",
       "      <td>NaN</td>\n",
       "      <td>{'Id': 4, 'Lat': 49.28319399999999, 'Lng': -12...</td>\n",
       "      <td>1</td>\n",
       "      <td>218</td>\n",
       "      <td>King Crab</td>\n",
       "      <td>218.0</td>\n",
       "      <td>27.0</td>\n",
       "      <td>0.0</td>\n",
       "      <td>King Crab</td>\n",
       "      <td>NaN</td>\n",
       "      <td>'blanc':9 'buerr':8 'caper':7 'char':3 'chilli...</td>\n",
       "      <td>Main</td>\n",
       "    </tr>\n",
       "    <tr>\n",
       "      <th>443</th>\n",
       "      <td>293</td>\n",
       "      <td>4</td>\n",
       "      <td>{'id': 440, 'name': 'Joojeh Kabab With Rice', ...</td>\n",
       "      <td>121</td>\n",
       "      <td>2020-05-13 01:20:59.267256</td>\n",
       "      <td>NaN</td>\n",
       "      <td>NaN</td>\n",
       "      <td>None</td>\n",
       "      <td>1</td>\n",
       "      <td>440</td>\n",
       "      <td>Joojeh Kabab With Rice</td>\n",
       "      <td>440.0</td>\n",
       "      <td>14.0</td>\n",
       "      <td>1097.0</td>\n",
       "      <td>Joojeh Kabab With Rice</td>\n",
       "      <td>One skewer of chicken breast marinated with yo...</td>\n",
       "      <td>'bbq':14 'chicken':11 'joojeh':1 'juic':9 'kab...</td>\n",
       "      <td>Main</td>\n",
       "    </tr>\n",
       "    <tr>\n",
       "      <th>444</th>\n",
       "      <td>294</td>\n",
       "      <td>3</td>\n",
       "      <td>{'id': 455, 'name': 'Regular Coffee', 'price':...</td>\n",
       "      <td>121</td>\n",
       "      <td>2020-05-13 17:34:35.519326</td>\n",
       "      <td>NaN</td>\n",
       "      <td>NaN</td>\n",
       "      <td>None</td>\n",
       "      <td>1</td>\n",
       "      <td>455</td>\n",
       "      <td>Regular Coffee</td>\n",
       "      <td>455.0</td>\n",
       "      <td>1.5</td>\n",
       "      <td>9.0</td>\n",
       "      <td>Regular Coffee</td>\n",
       "      <td>NaN</td>\n",
       "      <td>'coffe':2 'regular':1</td>\n",
       "      <td>Drink</td>\n",
       "    </tr>\n",
       "    <tr>\n",
       "      <th>445</th>\n",
       "      <td>297</td>\n",
       "      <td>142</td>\n",
       "      <td>{'id': 540, 'name': 'Kashk Bademjan', 'price':...</td>\n",
       "      <td>121</td>\n",
       "      <td>2020-05-14 00:08:48.756423</td>\n",
       "      <td>NaN</td>\n",
       "      <td>NaN</td>\n",
       "      <td>None</td>\n",
       "      <td>1</td>\n",
       "      <td>540</td>\n",
       "      <td>Kashk Bademjan</td>\n",
       "      <td>540.0</td>\n",
       "      <td>9.9</td>\n",
       "      <td>485.0</td>\n",
       "      <td>Kashk Bademjan</td>\n",
       "      <td>Barbequed eggplant, lentils, fried onions, gar...</td>\n",
       "      <td>'bademjan':2 'bbq':8 'egg':10 'eggplant':6 'ga...</td>\n",
       "      <td>Main</td>\n",
       "    </tr>\n",
       "  </tbody>\n",
       "</table>\n",
       "</div>"
      ],
      "text/plain": [
       "     OrderId  UserId                                               Item  \\\n",
       "15         8     113  {'Id': 211, 'Name': 'Tableside Spinach Salad',...   \n",
       "16         8     113  {'Id': 218, 'Name': 'King Crab', 'Price': 27.0...   \n",
       "443      293       4  {'id': 440, 'name': 'Joojeh Kabab With Rice', ...   \n",
       "444      294       3  {'id': 455, 'name': 'Regular Coffee', 'price':...   \n",
       "445      297     142  {'id': 540, 'name': 'Kashk Bademjan', 'price':...   \n",
       "\n",
       "     RestaurantId                       Date  Rating Comments  \\\n",
       "15            110 2020-03-28 08:15:25.615002     NaN      NaN   \n",
       "16            110 2020-03-28 08:15:25.615002     NaN      NaN   \n",
       "443           121 2020-05-13 01:20:59.267256     NaN      NaN   \n",
       "444           121 2020-05-13 17:34:35.519326     NaN      NaN   \n",
       "445           121 2020-05-14 00:08:48.756423     NaN      NaN   \n",
       "\n",
       "                                               Address  Count  ItemId  \\\n",
       "15   {'Id': 4, 'Lat': 49.28319399999999, 'Lng': -12...      1     211   \n",
       "16   {'Id': 4, 'Lat': 49.28319399999999, 'Lng': -12...      1     218   \n",
       "443                                               None      1     440   \n",
       "444                                               None      1     455   \n",
       "445                                               None      1     540   \n",
       "\n",
       "                    ItemName     Id  Price  ViewCount  \\\n",
       "15   Tableside Spinach Salad  211.0   15.0        0.0   \n",
       "16                 King Crab  218.0   27.0        0.0   \n",
       "443   Joojeh Kabab With Rice  440.0   14.0     1097.0   \n",
       "444           Regular Coffee  455.0    1.5        9.0   \n",
       "445           Kashk Bademjan  540.0    9.9      485.0   \n",
       "\n",
       "                        Name  \\\n",
       "15   Tableside Spinach Salad   \n",
       "16                 King Crab   \n",
       "443   Joojeh Kabab With Rice   \n",
       "444           Regular Coffee   \n",
       "445           Kashk Bademjan   \n",
       "\n",
       "                                           Description  \\\n",
       "15                                                 NaN   \n",
       "16                                                 NaN   \n",
       "443  One skewer of chicken breast marinated with yo...   \n",
       "444                                                NaN   \n",
       "445  Barbequed eggplant, lentils, fried onions, gar...   \n",
       "\n",
       "                                          SearchVector   Type  \n",
       "15   'almond':8 'babi':4 'bacon':11 'jack':10 'mont...   Main  \n",
       "16   'blanc':9 'buerr':8 'caper':7 'char':3 'chilli...   Main  \n",
       "443  'bbq':14 'chicken':11 'joojeh':1 'juic':9 'kab...   Main  \n",
       "444                              'coffe':2 'regular':1  Drink  \n",
       "445  'bademjan':2 'bbq':8 'egg':10 'eggplant':6 'ga...   Main  "
      ]
     },
     "execution_count": 77,
     "metadata": {},
     "output_type": "execute_result"
    }
   ],
   "source": [
    "full_data.head()"
   ]
  },
  {
   "cell_type": "code",
   "execution_count": 78,
   "id": "324f271b",
   "metadata": {},
   "outputs": [],
   "source": [
    "full_data.drop(['Item','ItemName','Id'], axis = 1 , inplace=True)\n"
   ]
  },
  {
   "cell_type": "code",
   "execution_count": 79,
   "id": "cc5a51e4",
   "metadata": {},
   "outputs": [
    {
     "data": {
      "text/plain": [
       "OrderId         10868\n",
       "UserId           4539\n",
       "RestaurantId        7\n",
       "Date            10868\n",
       "Rating              5\n",
       "Comments          141\n",
       "Count              12\n",
       "ItemId            359\n",
       "Price              62\n",
       "ViewCount         275\n",
       "Name              320\n",
       "Description       225\n",
       "SearchVector      325\n",
       "Type                5\n",
       "dtype: int64"
      ]
     },
     "execution_count": 79,
     "metadata": {},
     "output_type": "execute_result"
    }
   ],
   "source": [
    "full_data.drop('Address', axis = 1).nunique()"
   ]
  },
  {
   "cell_type": "code",
   "execution_count": 80,
   "id": "2140244e",
   "metadata": {},
   "outputs": [
    {
     "data": {
      "image/png": "[encoded data removed]",
      "text/plain": [
       "<Figure size 432x288 with 1 Axes>"
      ]
     },
     "metadata": {
      "needs_background": "light"
     },
     "output_type": "display_data"
    }
   ],
   "source": [
    "#top 10 orders among all restaurants\n",
    "full_data['Name'].value_counts()[0:10].plot(kind = 'barh', fontsize=15, color='navy').invert_yaxis()\n"
   ]
  },
  {
   "cell_type": "code",
   "execution_count": null,
   "id": "b9819d7e",
   "metadata": {},
   "outputs": [
    {
     "data": {
      "text/plain": [
       "1029    16451\n",
       "121      3281\n",
       "1034     2600\n",
       "299      1748\n",
       "1048       17\n",
       "1040        9\n",
       "110         3\n",
       "Name: RestaurantId, dtype: int64"
      ]
     },
     "execution_count": 193,
     "metadata": {},
     "output_type": "execute_result"
    }
   ],
   "source": [
    "full_data['RestaurantId'].value_counts()"
   ]
  },
  {
   "cell_type": "code",
   "execution_count": null,
   "id": "4303880b",
   "metadata": {},
   "outputs": [
    {
     "data": {
      "image/png": "[encoded data removed]",
      "text/plain": [
       "<Figure size 432x288 with 1 Axes>"
      ]
     },
     "metadata": {
      "needs_background": "light"
     },
     "output_type": "display_data"
    }
   ],
   "source": [
    "# compare the number od orders in different restaurants\n",
    "full_data['RestaurantId'].value_counts()[0:6].plot(kind = 'barh', fontsize=15, color='gray').invert_yaxis()"
   ]
  },
  {
   "cell_type": "markdown",
   "id": "6c5a1c43",
   "metadata": {},
   "source": [
    "### Calculate the sparsity of the Rating Data"
   ]
  },
  {
   "cell_type": "code",
   "execution_count": null,
   "id": "7b5ca80d",
   "metadata": {},
   "outputs": [
    {
     "name": "stdout",
     "output_type": "stream",
     "text": [
      "the sparsity is: %f 0.9987903447896013\n"
     ]
    }
   ],
   "source": [
    "user_rating_food = full_data[['UserId','Rating','Name']]\n",
    "rating_count = user_rating_food.Rating.count()\n",
    "users_count = user_rating_food.UserId.nunique()\n",
    "food_count = user_rating_food.Name.nunique()\n",
    "denominator = food_count * users_count\n",
    "sparsity = 1 - (rating_count * 1.0 )/denominator\n",
    "print('the sparsity is: %f', sparsity)"
   ]
  },
  {
   "cell_type": "code",
   "execution_count": null,
   "id": "500952a8",
   "metadata": {},
   "outputs": [
    {
     "name": "stdout",
     "output_type": "stream",
     "text": [
      "A file already exists with this name.\n",
      "\n"
     ]
    }
   ],
   "source": [
    "# save th final cleaned data\n",
    "fpath = '../data'\n",
    "library.utils.save_file(full_data,'full_data.csv',fpath)"
   ]
  },
  {
   "cell_type": "code",
   "execution_count": 107,
   "id": "bed6eddd",
   "metadata": {},
   "outputs": [
    {
     "name": "stdout",
     "output_type": "stream",
     "text": [
      "Writing file.  \"../data/itemsInfo_full.csv\"\n"
     ]
    },
    {
     "data": {
      "text/html": [
       "<div>\n",
       "<style scoped>\n",
       "    .dataframe tbody tr th:only-of-type {\n",
       "        vertical-align: middle;\n",
       "    }\n",
       "\n",
       "    .dataframe tbody tr th {\n",
       "        vertical-align: top;\n",
       "    }\n",
       "\n",
       "    .dataframe thead th {\n",
       "        text-align: right;\n",
       "    }\n",
       "</style>\n",
       "<table border=\"1\" class=\"dataframe\">\n",
       "  <thead>\n",
       "    <tr style=\"text-align: right;\">\n",
       "      <th></th>\n",
       "      <th>Id</th>\n",
       "      <th>Price</th>\n",
       "      <th>ViewCount</th>\n",
       "      <th>Name</th>\n",
       "      <th>Description</th>\n",
       "      <th>TagsString</th>\n",
       "      <th>SearchVector</th>\n",
       "      <th>Type</th>\n",
       "    </tr>\n",
       "  </thead>\n",
       "  <tbody>\n",
       "    <tr>\n",
       "      <th>0</th>\n",
       "      <td>8345</td>\n",
       "      <td>0.9</td>\n",
       "      <td>0</td>\n",
       "      <td>Cookie</td>\n",
       "      <td>Freshly baked cookies. One order comes with on...</td>\n",
       "      <td>NaN</td>\n",
       "      <td>'cooki':1</td>\n",
       "      <td>Main</td>\n",
       "    </tr>\n",
       "    <tr>\n",
       "      <th>1</th>\n",
       "      <td>8346</td>\n",
       "      <td>7.0</td>\n",
       "      <td>0</td>\n",
       "      <td>12 Cookies</td>\n",
       "      <td>Freshly baked cookies. One order comes with tw...</td>\n",
       "      <td>NaN</td>\n",
       "      <td>'12':1 'cooki':2</td>\n",
       "      <td>Main</td>\n",
       "    </tr>\n",
       "    <tr>\n",
       "      <th>2</th>\n",
       "      <td>2046</td>\n",
       "      <td>18.0</td>\n",
       "      <td>0</td>\n",
       "      <td>Sausage Hash-n-eggs</td>\n",
       "      <td>NaN</td>\n",
       "      <td>NaN</td>\n",
       "      <td>'egg':5 'hash':3 'hash-n-egg':2 'n':4 'sausag':1</td>\n",
       "      <td>Main</td>\n",
       "    </tr>\n",
       "    <tr>\n",
       "      <th>3</th>\n",
       "      <td>2047</td>\n",
       "      <td>18.0</td>\n",
       "      <td>0</td>\n",
       "      <td>Ham Hash-n-eggs</td>\n",
       "      <td>NaN</td>\n",
       "      <td>NaN</td>\n",
       "      <td>'egg':5 'ham':1 'hash':3 'hash-n-egg':2 'n':4</td>\n",
       "      <td>Main</td>\n",
       "    </tr>\n",
       "    <tr>\n",
       "      <th>4</th>\n",
       "      <td>2048</td>\n",
       "      <td>18.0</td>\n",
       "      <td>0</td>\n",
       "      <td>Debakon Hash-n-eggs</td>\n",
       "      <td>DeBakon with hash-n-eggs.</td>\n",
       "      <td>NaN</td>\n",
       "      <td>'debakon':1 'egg':5 'hash':3 'hash-n-egg':2 'n':4</td>\n",
       "      <td>Main</td>\n",
       "    </tr>\n",
       "    <tr>\n",
       "      <th>...</th>\n",
       "      <td>...</td>\n",
       "      <td>...</td>\n",
       "      <td>...</td>\n",
       "      <td>...</td>\n",
       "      <td>...</td>\n",
       "      <td>...</td>\n",
       "      <td>...</td>\n",
       "      <td>...</td>\n",
       "    </tr>\n",
       "    <tr>\n",
       "      <th>68095</th>\n",
       "      <td>83491</td>\n",
       "      <td>3.2</td>\n",
       "      <td>1</td>\n",
       "      <td>NaN</td>\n",
       "      <td>NaN</td>\n",
       "      <td>NaN</td>\n",
       "      <td>NaN</td>\n",
       "      <td>NaN</td>\n",
       "    </tr>\n",
       "    <tr>\n",
       "      <th>68096</th>\n",
       "      <td>83492</td>\n",
       "      <td>4.8</td>\n",
       "      <td>3</td>\n",
       "      <td>NaN</td>\n",
       "      <td>NaN</td>\n",
       "      <td>NaN</td>\n",
       "      <td>NaN</td>\n",
       "      <td>NaN</td>\n",
       "    </tr>\n",
       "    <tr>\n",
       "      <th>68097</th>\n",
       "      <td>83478</td>\n",
       "      <td>3.8</td>\n",
       "      <td>3</td>\n",
       "      <td>Shio Koji Pickles</td>\n",
       "      <td>White radish, carrot, mini cucumber, Japanese ...</td>\n",
       "      <td>Wheat Soy Sesame</td>\n",
       "      <td>'koji':2 'pickl':3 'sesam':6 'shio':1 'soy':5 ...</td>\n",
       "      <td>Main</td>\n",
       "    </tr>\n",
       "    <tr>\n",
       "      <th>68098</th>\n",
       "      <td>83501</td>\n",
       "      <td>8.0</td>\n",
       "      <td>3</td>\n",
       "      <td>NaN</td>\n",
       "      <td>NaN</td>\n",
       "      <td>NaN</td>\n",
       "      <td>NaN</td>\n",
       "      <td>NaN</td>\n",
       "    </tr>\n",
       "    <tr>\n",
       "      <th>68099</th>\n",
       "      <td>83505</td>\n",
       "      <td>7.2</td>\n",
       "      <td>4</td>\n",
       "      <td>NaN</td>\n",
       "      <td>NaN</td>\n",
       "      <td>NaN</td>\n",
       "      <td>NaN</td>\n",
       "      <td>NaN</td>\n",
       "    </tr>\n",
       "  </tbody>\n",
       "</table>\n",
       "<p>68100 rows × 8 columns</p>\n",
       "</div>"
      ],
      "text/plain": [
       "          Id  Price  ViewCount                 Name  \\\n",
       "0       8345    0.9          0               Cookie   \n",
       "1       8346    7.0          0           12 Cookies   \n",
       "2       2046   18.0          0  Sausage Hash-n-eggs   \n",
       "3       2047   18.0          0      Ham Hash-n-eggs   \n",
       "4       2048   18.0          0  Debakon Hash-n-eggs   \n",
       "...      ...    ...        ...                  ...   \n",
       "68095  83491    3.2          1                  NaN   \n",
       "68096  83492    4.8          3                  NaN   \n",
       "68097  83478    3.8          3    Shio Koji Pickles   \n",
       "68098  83501    8.0          3                  NaN   \n",
       "68099  83505    7.2          4                  NaN   \n",
       "\n",
       "                                             Description         TagsString  \\\n",
       "0      Freshly baked cookies. One order comes with on...                NaN   \n",
       "1      Freshly baked cookies. One order comes with tw...                NaN   \n",
       "2                                                    NaN                NaN   \n",
       "3                                                    NaN                NaN   \n",
       "4                              DeBakon with hash-n-eggs.                NaN   \n",
       "...                                                  ...                ...   \n",
       "68095                                                NaN                NaN   \n",
       "68096                                                NaN                NaN   \n",
       "68097  White radish, carrot, mini cucumber, Japanese ...   Wheat Soy Sesame   \n",
       "68098                                                NaN                NaN   \n",
       "68099                                                NaN                NaN   \n",
       "\n",
       "                                            SearchVector  Type  \n",
       "0                                              'cooki':1  Main  \n",
       "1                                       '12':1 'cooki':2  Main  \n",
       "2       'egg':5 'hash':3 'hash-n-egg':2 'n':4 'sausag':1  Main  \n",
       "3          'egg':5 'ham':1 'hash':3 'hash-n-egg':2 'n':4  Main  \n",
       "4      'debakon':1 'egg':5 'hash':3 'hash-n-egg':2 'n':4  Main  \n",
       "...                                                  ...   ...  \n",
       "68095                                                NaN   NaN  \n",
       "68096                                                NaN   NaN  \n",
       "68097  'koji':2 'pickl':3 'sesam':6 'shio':1 'soy':5 ...  Main  \n",
       "68098                                                NaN   NaN  \n",
       "68099                                                NaN   NaN  \n",
       "\n",
       "[68100 rows x 8 columns]"
      ]
     },
     "execution_count": 107,
     "metadata": {},
     "output_type": "execute_result"
    }
   ],
   "source": [
    "fpath = '../data'\n",
    "library.utils.save_file(itemsInfo_df,'itemsInfo_full.csv',fpath)\n",
    "itemsInfo_df"
   ]
  },
  {
   "cell_type": "code",
   "execution_count": null,
   "id": "bc8d3bad",
   "metadata": {},
   "outputs": [],
   "source": []
  }
 ],
 "metadata": {
  "kernelspec": {
   "display_name": "Python 3",
   "language": "python",
   "name": "python3"
  },
  "language_info": {
   "codemirror_mode": {
    "name": "ipython",
    "version": 3
   },
   "file_extension": ".py",
   "mimetype": "text/x-python",
   "name": "python",
   "nbconvert_exporter": "python",
   "pygments_lexer": "ipython3",
   "version": "3.9.7"
  }
 },
 "nbformat": 4,
 "nbformat_minor": 5
}
