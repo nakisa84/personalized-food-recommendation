{
 "cells": [
  {
   "cell_type": "code",
   "execution_count": 1,
   "metadata": {},
   "outputs": [],
   "source": [
    "import pandas as pd"
   ]
  },
  {
   "cell_type": "code",
   "execution_count": 4,
   "metadata": {},
   "outputs": [],
   "source": [
    "data = pd.read_csv('../data/yelp_review_cropped.csv')"
   ]
  },
  {
   "cell_type": "code",
   "execution_count": 5,
   "metadata": {},
   "outputs": [
    {
     "name": "stdout",
     "output_type": "stream",
     "text": [
      "<class 'pandas.core.frame.DataFrame'>\n",
      "RangeIndex: 9000 entries, 0 to 8999\n",
      "Data columns (total 9 columns):\n",
      " #   Column       Non-Null Count  Dtype \n",
      "---  ------       --------------  ----- \n",
      " 0   review_id    9000 non-null   object\n",
      " 1   user_id      9000 non-null   object\n",
      " 2   business_id  9000 non-null   object\n",
      " 3   stars        9000 non-null   int64 \n",
      " 4   date         9000 non-null   object\n",
      " 5   text         9000 non-null   object\n",
      " 6   useful       9000 non-null   int64 \n",
      " 7   funny        9000 non-null   int64 \n",
      " 8   cool         9000 non-null   int64 \n",
      "dtypes: int64(4), object(5)\n",
      "memory usage: 632.9+ KB\n"
     ]
    }
   ],
   "source": [
    "data.info()"
   ]
  },
  {
   "cell_type": "code",
   "execution_count": 6,
   "metadata": {},
   "outputs": [
    {
     "data": {
      "text/html": [
       "<div>\n",
       "<style scoped>\n",
       "    .dataframe tbody tr th:only-of-type {\n",
       "        vertical-align: middle;\n",
       "    }\n",
       "\n",
       "    .dataframe tbody tr th {\n",
       "        vertical-align: top;\n",
       "    }\n",
       "\n",
       "    .dataframe thead th {\n",
       "        text-align: right;\n",
       "    }\n",
       "</style>\n",
       "<table border=\"1\" class=\"dataframe\">\n",
       "  <thead>\n",
       "    <tr style=\"text-align: right;\">\n",
       "      <th></th>\n",
       "      <th>review_id</th>\n",
       "      <th>user_id</th>\n",
       "      <th>business_id</th>\n",
       "      <th>stars</th>\n",
       "      <th>date</th>\n",
       "      <th>text</th>\n",
       "      <th>useful</th>\n",
       "      <th>funny</th>\n",
       "      <th>cool</th>\n",
       "    </tr>\n",
       "  </thead>\n",
       "  <tbody>\n",
       "    <tr>\n",
       "      <th>0</th>\n",
       "      <td>B4sSnDIAzHUh8YSFu1LNeg</td>\n",
       "      <td>BytRWk8X1OelSgwwfXd8Aw</td>\n",
       "      <td>SNn_I8VMds60C4bSXCyUtw</td>\n",
       "      <td>5</td>\n",
       "      <td>2015-11-29</td>\n",
       "      <td>Every dish we tried was cooked to perfection w...</td>\n",
       "      <td>2</td>\n",
       "      <td>1</td>\n",
       "      <td>3</td>\n",
       "    </tr>\n",
       "    <tr>\n",
       "      <th>1</th>\n",
       "      <td>P22ibdsG1tryITxKEK_a4Q</td>\n",
       "      <td>BytRWk8X1OelSgwwfXd8Aw</td>\n",
       "      <td>rfa_0AOmpwLTj32RL2Zvyw</td>\n",
       "      <td>5</td>\n",
       "      <td>2014-11-06</td>\n",
       "      <td>yum yum yum!\\n\\nWent with a party of four - we...</td>\n",
       "      <td>1</td>\n",
       "      <td>0</td>\n",
       "      <td>1</td>\n",
       "    </tr>\n",
       "    <tr>\n",
       "      <th>2</th>\n",
       "      <td>SR6d_AmgGBK10ieEHsqk0Q</td>\n",
       "      <td>BytRWk8X1OelSgwwfXd8Aw</td>\n",
       "      <td>ky8BMyjQm83cqq9fx_Rn3w</td>\n",
       "      <td>3</td>\n",
       "      <td>2016-05-03</td>\n",
       "      <td>I get the whole rustic coffee shop feel that i...</td>\n",
       "      <td>2</td>\n",
       "      <td>0</td>\n",
       "      <td>0</td>\n",
       "    </tr>\n",
       "    <tr>\n",
       "      <th>3</th>\n",
       "      <td>ceg_wwrykBiqITCqP411kw</td>\n",
       "      <td>BytRWk8X1OelSgwwfXd8Aw</td>\n",
       "      <td>t7R-p3dhGV78dSARAFKEOA</td>\n",
       "      <td>5</td>\n",
       "      <td>2015-07-18</td>\n",
       "      <td>Amazing place for lunch.\\n\\nThe salads are del...</td>\n",
       "      <td>1</td>\n",
       "      <td>0</td>\n",
       "      <td>0</td>\n",
       "    </tr>\n",
       "    <tr>\n",
       "      <th>4</th>\n",
       "      <td>Ft62sweGiYYZyAjinuTbVg</td>\n",
       "      <td>BytRWk8X1OelSgwwfXd8Aw</td>\n",
       "      <td>NncsqhAElh0zykYdUULByg</td>\n",
       "      <td>4</td>\n",
       "      <td>2016-01-24</td>\n",
       "      <td>The standard for decor and atmosphere for Mont...</td>\n",
       "      <td>1</td>\n",
       "      <td>0</td>\n",
       "      <td>1</td>\n",
       "    </tr>\n",
       "  </tbody>\n",
       "</table>\n",
       "</div>"
      ],
      "text/plain": [
       "                review_id                 user_id             business_id  \\\n",
       "0  B4sSnDIAzHUh8YSFu1LNeg  BytRWk8X1OelSgwwfXd8Aw  SNn_I8VMds60C4bSXCyUtw   \n",
       "1  P22ibdsG1tryITxKEK_a4Q  BytRWk8X1OelSgwwfXd8Aw  rfa_0AOmpwLTj32RL2Zvyw   \n",
       "2  SR6d_AmgGBK10ieEHsqk0Q  BytRWk8X1OelSgwwfXd8Aw  ky8BMyjQm83cqq9fx_Rn3w   \n",
       "3  ceg_wwrykBiqITCqP411kw  BytRWk8X1OelSgwwfXd8Aw  t7R-p3dhGV78dSARAFKEOA   \n",
       "4  Ft62sweGiYYZyAjinuTbVg  BytRWk8X1OelSgwwfXd8Aw  NncsqhAElh0zykYdUULByg   \n",
       "\n",
       "   stars        date                                               text  \\\n",
       "0      5  2015-11-29  Every dish we tried was cooked to perfection w...   \n",
       "1      5  2014-11-06  yum yum yum!\\n\\nWent with a party of four - we...   \n",
       "2      3  2016-05-03  I get the whole rustic coffee shop feel that i...   \n",
       "3      5  2015-07-18  Amazing place for lunch.\\n\\nThe salads are del...   \n",
       "4      4  2016-01-24  The standard for decor and atmosphere for Mont...   \n",
       "\n",
       "   useful  funny  cool  \n",
       "0       2      1     3  \n",
       "1       1      0     1  \n",
       "2       2      0     0  \n",
       "3       1      0     0  \n",
       "4       1      0     1  "
      ]
     },
     "execution_count": 6,
     "metadata": {},
     "output_type": "execute_result"
    }
   ],
   "source": [
    "data.head()"
   ]
  },
  {
   "cell_type": "markdown",
   "metadata": {},
   "source": []
  }
 ],
 "metadata": {
  "interpreter": {
   "hash": "ff514080f6f141fa30927d2eb1cd1793a0032bd7adceb009c10ca689f5dc9966"
  },
  "kernelspec": {
   "display_name": "Python 3.9.7 ('base')",
   "language": "python",
   "name": "python3"
  },
  "language_info": {
   "codemirror_mode": {
    "name": "ipython",
    "version": 3
   },
   "file_extension": ".py",
   "mimetype": "text/x-python",
   "name": "python",
   "nbconvert_exporter": "python",
   "pygments_lexer": "ipython3",
   "version": "3.9.7"
  },
  "orig_nbformat": 4
 },
 "nbformat": 4,
 "nbformat_minor": 2
}
