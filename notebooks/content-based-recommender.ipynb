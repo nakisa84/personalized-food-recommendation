{
 "cells": [
  {
   "cell_type": "code",
   "execution_count": 764,
   "metadata": {},
   "outputs": [],
   "source": [
    "from rake_nltk import Rake\n",
    "import pandas as pd\n",
    "import numpy as np\n",
    "from sklearn.metrics.pairwise import cosine_similarity\n",
    "from sklearn.feature_extraction.text import CountVectorizer\n",
    "import random\n",
    "\n",
    "\n",
    "\n",
    "\n",
    "### Function to actually recommend similar foods\n",
    "similarity_thereshold = 0.5\n",
    "def recommend(name,data,cosine_sim):\n",
    "    indices = pd.Series(data['name'])\n",
    "    recommended_items = []\n",
    "    \n",
    "    if indices[indices == name].any():\n",
    "        idx = indices[indices == name].index[0]\n",
    "        score_series = pd.Series(cosine_sim[idx]).sort_values(ascending = False)\n",
    "        count = score_series.apply(lambda x : x > similarity_thereshold).sum()\n",
    "        top_indices = list(score_series.iloc[1 : count+1].index)\n",
    "        print('Total similar foods count: ', count)\n",
    "\n",
    "        for i in top_indices:\n",
    "            recommended_items.append(data.iloc[i]['name'])\n",
    "        return list(set(recommended_items))\n",
    "    else:\n",
    "        print('Oops, Item Not Found :(') \n",
    "\n",
    "### Fuction to recommend based on the highest order item\n",
    "def historical_recommend(userid, orders, items, cosine_sim):\n",
    "    items_order_by_user = orders[orders.userid == userid].itemid.value_counts()\n",
    "    highest_order_item = items_order_by_user.idxmax()\n",
    "\n",
    "    print(highest_order_item)\n",
    "    item_name = items[items.id == highest_order_item].name.values[0]\n",
    "    print('Higest order food is: ',item_name)\n",
    "\n",
    "    return recommend(item_name,food_items,cosine_sim)     "
   ]
  },
  {
   "cell_type": "code",
   "execution_count": 667,
   "metadata": {},
   "outputs": [
    {
     "data": {
      "text/html": [
       "<div>\n",
       "<style scoped>\n",
       "    .dataframe tbody tr th:only-of-type {\n",
       "        vertical-align: middle;\n",
       "    }\n",
       "\n",
       "    .dataframe tbody tr th {\n",
       "        vertical-align: top;\n",
       "    }\n",
       "\n",
       "    .dataframe thead th {\n",
       "        text-align: right;\n",
       "    }\n",
       "</style>\n",
       "<table border=\"1\" class=\"dataframe\">\n",
       "  <thead>\n",
       "    <tr style=\"text-align: right;\">\n",
       "      <th></th>\n",
       "      <th>OrderId</th>\n",
       "      <th>UserId</th>\n",
       "      <th>RestaurantId</th>\n",
       "      <th>Date</th>\n",
       "      <th>Rating</th>\n",
       "      <th>Comments</th>\n",
       "      <th>Address</th>\n",
       "      <th>Count</th>\n",
       "      <th>ItemId</th>\n",
       "      <th>Price</th>\n",
       "      <th>ViewCount</th>\n",
       "      <th>Name</th>\n",
       "      <th>Description</th>\n",
       "      <th>SearchVector</th>\n",
       "      <th>Type</th>\n",
       "    </tr>\n",
       "  </thead>\n",
       "  <tbody>\n",
       "    <tr>\n",
       "      <th>0</th>\n",
       "      <td>8</td>\n",
       "      <td>113</td>\n",
       "      <td>110</td>\n",
       "      <td>2020-03-28 08:15:25.615002</td>\n",
       "      <td>NaN</td>\n",
       "      <td>NaN</td>\n",
       "      <td>{'Id': 4, 'Lat': 49.28319399999999, 'Lng': -12...</td>\n",
       "      <td>1</td>\n",
       "      <td>211</td>\n",
       "      <td>15.0</td>\n",
       "      <td>0.0</td>\n",
       "      <td>Tableside Spinach Salad</td>\n",
       "      <td>NaN</td>\n",
       "      <td>'almond':8 'babi':4 'bacon':11 'jack':10 'mont...</td>\n",
       "      <td>Main</td>\n",
       "    </tr>\n",
       "    <tr>\n",
       "      <th>1</th>\n",
       "      <td>8</td>\n",
       "      <td>113</td>\n",
       "      <td>110</td>\n",
       "      <td>2020-03-28 08:15:25.615002</td>\n",
       "      <td>NaN</td>\n",
       "      <td>NaN</td>\n",
       "      <td>{'Id': 4, 'Lat': 49.28319399999999, 'Lng': -12...</td>\n",
       "      <td>1</td>\n",
       "      <td>218</td>\n",
       "      <td>27.0</td>\n",
       "      <td>0.0</td>\n",
       "      <td>King Crab</td>\n",
       "      <td>NaN</td>\n",
       "      <td>'blanc':9 'buerr':8 'caper':7 'char':3 'chilli...</td>\n",
       "      <td>Main</td>\n",
       "    </tr>\n",
       "    <tr>\n",
       "      <th>2</th>\n",
       "      <td>293</td>\n",
       "      <td>4</td>\n",
       "      <td>121</td>\n",
       "      <td>2020-05-13 01:20:59.267256</td>\n",
       "      <td>NaN</td>\n",
       "      <td>NaN</td>\n",
       "      <td>NaN</td>\n",
       "      <td>1</td>\n",
       "      <td>440</td>\n",
       "      <td>14.0</td>\n",
       "      <td>1097.0</td>\n",
       "      <td>Joojeh Kabab With Rice</td>\n",
       "      <td>One skewer of chicken breast marinated with yo...</td>\n",
       "      <td>'bbq':14 'chicken':11 'joojeh':1 'juic':9 'kab...</td>\n",
       "      <td>Main</td>\n",
       "    </tr>\n",
       "  </tbody>\n",
       "</table>\n",
       "</div>"
      ],
      "text/plain": [
       "   OrderId  UserId  RestaurantId                        Date  Rating Comments  \\\n",
       "0        8     113           110  2020-03-28 08:15:25.615002     NaN      NaN   \n",
       "1        8     113           110  2020-03-28 08:15:25.615002     NaN      NaN   \n",
       "2      293       4           121  2020-05-13 01:20:59.267256     NaN      NaN   \n",
       "\n",
       "                                             Address  Count  ItemId  Price  \\\n",
       "0  {'Id': 4, 'Lat': 49.28319399999999, 'Lng': -12...      1     211   15.0   \n",
       "1  {'Id': 4, 'Lat': 49.28319399999999, 'Lng': -12...      1     218   27.0   \n",
       "2                                                NaN      1     440   14.0   \n",
       "\n",
       "   ViewCount                     Name  \\\n",
       "0        0.0  Tableside Spinach Salad   \n",
       "1        0.0                King Crab   \n",
       "2     1097.0   Joojeh Kabab With Rice   \n",
       "\n",
       "                                         Description  \\\n",
       "0                                                NaN   \n",
       "1                                                NaN   \n",
       "2  One skewer of chicken breast marinated with yo...   \n",
       "\n",
       "                                        SearchVector  Type  \n",
       "0  'almond':8 'babi':4 'bacon':11 'jack':10 'mont...  Main  \n",
       "1  'blanc':9 'buerr':8 'caper':7 'char':3 'chilli...  Main  \n",
       "2  'bbq':14 'chicken':11 'joojeh':1 'juic':9 'kab...  Main  "
      ]
     },
     "execution_count": 667,
     "metadata": {},
     "output_type": "execute_result"
    }
   ],
   "source": [
    "orders = pd.read_csv('../data/full_data.csv',low_memory=False)\n",
    "orders.head(3)"
   ]
  },
  {
   "cell_type": "code",
   "execution_count": 669,
   "metadata": {},
   "outputs": [
    {
     "data": {
      "text/html": [
       "<div>\n",
       "<style scoped>\n",
       "    .dataframe tbody tr th:only-of-type {\n",
       "        vertical-align: middle;\n",
       "    }\n",
       "\n",
       "    .dataframe tbody tr th {\n",
       "        vertical-align: top;\n",
       "    }\n",
       "\n",
       "    .dataframe thead th {\n",
       "        text-align: right;\n",
       "    }\n",
       "</style>\n",
       "<table border=\"1\" class=\"dataframe\">\n",
       "  <thead>\n",
       "    <tr style=\"text-align: right;\">\n",
       "      <th></th>\n",
       "      <th>Id</th>\n",
       "      <th>Price</th>\n",
       "      <th>ViewCount</th>\n",
       "      <th>Name</th>\n",
       "      <th>Description</th>\n",
       "      <th>TagsString</th>\n",
       "      <th>SearchVector</th>\n",
       "      <th>Type</th>\n",
       "    </tr>\n",
       "  </thead>\n",
       "  <tbody>\n",
       "    <tr>\n",
       "      <th>0</th>\n",
       "      <td>8345</td>\n",
       "      <td>0.9</td>\n",
       "      <td>0</td>\n",
       "      <td>Cookie</td>\n",
       "      <td>Freshly baked cookies. One order comes with on...</td>\n",
       "      <td>NaN</td>\n",
       "      <td>'cooki':1</td>\n",
       "      <td>Main</td>\n",
       "    </tr>\n",
       "    <tr>\n",
       "      <th>1</th>\n",
       "      <td>8346</td>\n",
       "      <td>7.0</td>\n",
       "      <td>0</td>\n",
       "      <td>12 Cookies</td>\n",
       "      <td>Freshly baked cookies. One order comes with tw...</td>\n",
       "      <td>NaN</td>\n",
       "      <td>'12':1 'cooki':2</td>\n",
       "      <td>Main</td>\n",
       "    </tr>\n",
       "    <tr>\n",
       "      <th>2</th>\n",
       "      <td>2046</td>\n",
       "      <td>18.0</td>\n",
       "      <td>0</td>\n",
       "      <td>Sausage Hash-n-eggs</td>\n",
       "      <td>NaN</td>\n",
       "      <td>NaN</td>\n",
       "      <td>'egg':5 'hash':3 'hash-n-egg':2 'n':4 'sausag':1</td>\n",
       "      <td>Main</td>\n",
       "    </tr>\n",
       "    <tr>\n",
       "      <th>3</th>\n",
       "      <td>2047</td>\n",
       "      <td>18.0</td>\n",
       "      <td>0</td>\n",
       "      <td>Ham Hash-n-eggs</td>\n",
       "      <td>NaN</td>\n",
       "      <td>NaN</td>\n",
       "      <td>'egg':5 'ham':1 'hash':3 'hash-n-egg':2 'n':4</td>\n",
       "      <td>Main</td>\n",
       "    </tr>\n",
       "    <tr>\n",
       "      <th>4</th>\n",
       "      <td>2048</td>\n",
       "      <td>18.0</td>\n",
       "      <td>0</td>\n",
       "      <td>Debakon Hash-n-eggs</td>\n",
       "      <td>DeBakon with hash-n-eggs.</td>\n",
       "      <td>NaN</td>\n",
       "      <td>'debakon':1 'egg':5 'hash':3 'hash-n-egg':2 'n':4</td>\n",
       "      <td>Main</td>\n",
       "    </tr>\n",
       "  </tbody>\n",
       "</table>\n",
       "</div>"
      ],
      "text/plain": [
       "     Id  Price  ViewCount                 Name  \\\n",
       "0  8345    0.9          0               Cookie   \n",
       "1  8346    7.0          0           12 Cookies   \n",
       "2  2046   18.0          0  Sausage Hash-n-eggs   \n",
       "3  2047   18.0          0      Ham Hash-n-eggs   \n",
       "4  2048   18.0          0  Debakon Hash-n-eggs   \n",
       "\n",
       "                                         Description TagsString  \\\n",
       "0  Freshly baked cookies. One order comes with on...        NaN   \n",
       "1  Freshly baked cookies. One order comes with tw...        NaN   \n",
       "2                                                NaN        NaN   \n",
       "3                                                NaN        NaN   \n",
       "4                          DeBakon with hash-n-eggs.        NaN   \n",
       "\n",
       "                                        SearchVector  Type  \n",
       "0                                          'cooki':1  Main  \n",
       "1                                   '12':1 'cooki':2  Main  \n",
       "2   'egg':5 'hash':3 'hash-n-egg':2 'n':4 'sausag':1  Main  \n",
       "3      'egg':5 'ham':1 'hash':3 'hash-n-egg':2 'n':4  Main  \n",
       "4  'debakon':1 'egg':5 'hash':3 'hash-n-egg':2 'n':4  Main  "
      ]
     },
     "execution_count": 669,
     "metadata": {},
     "output_type": "execute_result"
    }
   ],
   "source": [
    "food_items = pd.read_csv('../data/itemsInfo_full.csv',low_memory=False)\n",
    "food_items.head()"
   ]
  },
  {
   "cell_type": "code",
   "execution_count": 670,
   "metadata": {},
   "outputs": [],
   "source": [
    "food_items.columns = [c.lower() for c in food_items.columns]\n",
    "orders.columns = [c.lower() for c in orders.columns]"
   ]
  },
  {
   "cell_type": "code",
   "execution_count": 671,
   "metadata": {},
   "outputs": [
    {
     "name": "stdout",
     "output_type": "stream",
     "text": [
      "<class 'pandas.core.frame.DataFrame'>\n",
      "RangeIndex: 68100 entries, 0 to 68099\n",
      "Data columns (total 8 columns):\n",
      " #   Column        Non-Null Count  Dtype  \n",
      "---  ------        --------------  -----  \n",
      " 0   id            68100 non-null  int64  \n",
      " 1   price         67938 non-null  float64\n",
      " 2   viewcount     68100 non-null  int64  \n",
      " 3   name          68082 non-null  object \n",
      " 4   description   48742 non-null  object \n",
      " 5   tagsstring    34591 non-null  object \n",
      " 6   searchvector  68081 non-null  object \n",
      " 7   type          68082 non-null  object \n",
      "dtypes: float64(1), int64(2), object(5)\n",
      "memory usage: 4.2+ MB\n"
     ]
    }
   ],
   "source": [
    "food_items.info()"
   ]
  },
  {
   "cell_type": "code",
   "execution_count": 672,
   "metadata": {},
   "outputs": [
    {
     "data": {
      "text/plain": [
       "19358"
      ]
     },
     "execution_count": 672,
     "metadata": {},
     "output_type": "execute_result"
    }
   ],
   "source": [
    "food_items.description.isna().sum()"
   ]
  },
  {
   "cell_type": "code",
   "execution_count": 212,
   "metadata": {},
   "outputs": [],
   "source": [
    "#items = items[~items.description.isna()].reset_index(drop=True)"
   ]
  },
  {
   "cell_type": "code",
   "execution_count": 673,
   "metadata": {},
   "outputs": [
    {
     "data": {
      "text/plain": [
       "0        Freshly baked cookies. One order comes with on...\n",
       "1        Freshly baked cookies. One order comes with tw...\n",
       "2                                                      NaN\n",
       "3                                                      NaN\n",
       "4                                DeBakon with hash-n-eggs.\n",
       "                               ...                        \n",
       "68095                                                  NaN\n",
       "68096                                                  NaN\n",
       "68097    White radish, carrot, mini cucumber, Japanese ...\n",
       "68098                                                  NaN\n",
       "68099                                                  NaN\n",
       "Name: description, Length: 68100, dtype: object"
      ]
     },
     "execution_count": 673,
     "metadata": {},
     "output_type": "execute_result"
    }
   ],
   "source": [
    "food_items.description"
   ]
  },
  {
   "cell_type": "code",
   "execution_count": 674,
   "metadata": {},
   "outputs": [
    {
     "data": {
      "image/png": "[encoded data removed]",
      "text/plain": [
       "<Figure size 576x360 with 1 Axes>"
      ]
     },
     "metadata": {
      "needs_background": "light"
     },
     "output_type": "display_data"
    }
   ],
   "source": [
    "food_items['name'].value_counts()[0:10].plot(kind ='barh', figsize=[8,5], fontsize=15, color='navy').invert_yaxis()\n"
   ]
  },
  {
   "cell_type": "code",
   "execution_count": 218,
   "metadata": {},
   "outputs": [],
   "source": [
    "#items = items[~(items.description.duplicated() & items.name)].reset_index(drop=True)"
   ]
  },
  {
   "cell_type": "code",
   "execution_count": 675,
   "metadata": {},
   "outputs": [],
   "source": [
    "food_items.drop_duplicates(subset = ['name','description'], keep = 'first', inplace = True)\n",
    "food_items.reset_index(drop=True, inplace=True);"
   ]
  },
  {
   "cell_type": "code",
   "execution_count": 676,
   "metadata": {},
   "outputs": [
    {
     "data": {
      "text/plain": [
       "RangeIndex(start=0, stop=49316, step=1)"
      ]
     },
     "execution_count": 676,
     "metadata": {},
     "output_type": "execute_result"
    }
   ],
   "source": [
    "food_items.index"
   ]
  },
  {
   "cell_type": "code",
   "execution_count": 677,
   "metadata": {},
   "outputs": [],
   "source": [
    "def tokenize(text):\n",
    "    r = Rake()\n",
    "    r.extract_keywords_from_text(text.lower().replace('nan',' '))\n",
    "    return r.get_ranked_phrases()[0:10]\n"
   ]
  },
  {
   "cell_type": "code",
   "execution_count": 678,
   "metadata": {},
   "outputs": [
    {
     "data": {
      "text/plain": [
       "Index(['id', 'price', 'viewcount', 'name', 'description', 'tagsstring',\n",
       "       'searchvector', 'type'],\n",
       "      dtype='object')"
      ]
     },
     "execution_count": 678,
     "metadata": {},
     "output_type": "execute_result"
    }
   ],
   "source": [
    "food_items.columns"
   ]
  },
  {
   "cell_type": "code",
   "execution_count": 679,
   "metadata": {},
   "outputs": [],
   "source": [
    "food_items['bow'] = food_items['name'].map(str) + ',' + food_items['description'].map(str)\n"
   ]
  },
  {
   "cell_type": "code",
   "execution_count": 680,
   "metadata": {},
   "outputs": [],
   "source": [
    "food_items['tokenized'] = food_items.bow.apply(tokenize)"
   ]
  },
  {
   "cell_type": "code",
   "execution_count": 684,
   "metadata": {},
   "outputs": [
    {
     "data": {
      "text/plain": [
       "['chocolate chunk cookie', '210 cals ),']"
      ]
     },
     "execution_count": 684,
     "metadata": {},
     "output_type": "execute_result"
    }
   ],
   "source": [
    "food_items['tokenized'].iloc[100]"
   ]
  },
  {
   "cell_type": "code",
   "execution_count": 685,
   "metadata": {},
   "outputs": [],
   "source": [
    "food_items['tokens'] = food_items.tokenized.apply(lambda x: ','.join(map(str,x)))"
   ]
  },
  {
   "cell_type": "code",
   "execution_count": 686,
   "metadata": {},
   "outputs": [
    {
     "data": {
      "text/plain": [
       "'chocolate chunk cookie,210 cals ),'"
      ]
     },
     "execution_count": 686,
     "metadata": {},
     "output_type": "execute_result"
    }
   ],
   "source": [
    "food_items['tokens'].iloc[100]"
   ]
  },
  {
   "cell_type": "code",
   "execution_count": 687,
   "metadata": {},
   "outputs": [
    {
     "name": "stdout",
     "output_type": "stream",
     "text": [
      "<class 'pandas.core.frame.DataFrame'>\n",
      "RangeIndex: 49316 entries, 0 to 49315\n",
      "Data columns (total 11 columns):\n",
      " #   Column        Non-Null Count  Dtype  \n",
      "---  ------        --------------  -----  \n",
      " 0   id            49316 non-null  int64  \n",
      " 1   price         49167 non-null  float64\n",
      " 2   viewcount     49316 non-null  int64  \n",
      " 3   name          49315 non-null  object \n",
      " 4   description   35456 non-null  object \n",
      " 5   tagsstring    26058 non-null  object \n",
      " 6   searchvector  49314 non-null  object \n",
      " 7   type          49315 non-null  object \n",
      " 8   bow           49316 non-null  object \n",
      " 9   tokenized     49316 non-null  object \n",
      " 10  tokens        49316 non-null  object \n",
      "dtypes: float64(1), int64(2), object(8)\n",
      "memory usage: 4.1+ MB\n"
     ]
    }
   ],
   "source": [
    "food_items.info()"
   ]
  },
  {
   "cell_type": "code",
   "execution_count": 688,
   "metadata": {},
   "outputs": [],
   "source": [
    "# vectorise the tokens\n",
    "counter = CountVectorizer()\n",
    "count_matrix = counter.fit_transform(food_items.tokens)"
   ]
  },
  {
   "cell_type": "code",
   "execution_count": 689,
   "metadata": {},
   "outputs": [
    {
     "name": "stdout",
     "output_type": "stream",
     "text": [
      "[[1.         0.85280287 0.         ... 0.         0.         0.        ]\n",
      " [0.85280287 1.         0.         ... 0.         0.         0.        ]\n",
      " [0.         0.         1.         ... 0.         0.         0.        ]\n",
      " ...\n",
      " [0.         0.         0.         ... 1.         0.         0.        ]\n",
      " [0.         0.         0.         ... 0.         1.         0.05634362]\n",
      " [0.         0.         0.         ... 0.         0.05634362 1.        ]]\n"
     ]
    }
   ],
   "source": [
    "cosine_sim = cosine_similarity(count_matrix)\n",
    "print(cosine_sim)"
   ]
  },
  {
   "cell_type": "markdown",
   "metadata": {},
   "source": [
    "### Sample recommendation based on similar food"
   ]
  },
  {
   "cell_type": "code",
   "execution_count": 770,
   "metadata": {},
   "outputs": [
    {
     "name": "stdout",
     "output_type": "stream",
     "text": [
      "The item name is Chocolate Chunk Cookie (210 Cals)\n",
      "The description is:nan\n"
     ]
    }
   ],
   "source": [
    "sample_item = food_items.iloc[100]\n",
    "sample_name = sample_item['name']\n",
    "sample_desc = sample_item['description']\n",
    "print('The item name is {}\\nThe description is:{}'.format(sample_name,sample_desc))"
   ]
  },
  {
   "cell_type": "code",
   "execution_count": 771,
   "metadata": {},
   "outputs": [
    {
     "name": "stdout",
     "output_type": "stream",
     "text": [
      "Total similar foods count:  8\n"
     ]
    },
    {
     "data": {
      "text/plain": [
       "['Chocolate Chunk Cookie (large)',\n",
       " 'Chocolate Peanut Butter Cookie',\n",
       " 'Double Chocolate Chunk',\n",
       " 'Chocolate Chunk Cookie',\n",
       " 'Chocolate Chip Cookie',\n",
       " \"Chocolate Chip With M&m's® Candies Cookie (210 Cals)\",\n",
       " 'Cookie',\n",
       " 'Chocolate Pecan Cookie']"
      ]
     },
     "execution_count": 771,
     "metadata": {},
     "output_type": "execute_result"
    }
   ],
   "source": [
    "recommend(sample_name,food_items,cosine_sim)"
   ]
  },
  {
   "cell_type": "markdown",
   "metadata": {},
   "source": [
    "### Now we will recommend based on the user history and the similar food to highest order item"
   ]
  },
  {
   "cell_type": "code",
   "execution_count": 772,
   "metadata": {},
   "outputs": [
    {
     "data": {
      "text/plain": [
       "4577"
      ]
     },
     "execution_count": 772,
     "metadata": {},
     "output_type": "execute_result"
    }
   ],
   "source": [
    "user_ids = list(set(orders.userid))\n",
    "sample_user = orders[orders.userid == random.choice(user_ids)].userid.values[0]\n",
    "sample_user"
   ]
  },
  {
   "cell_type": "code",
   "execution_count": 773,
   "metadata": {},
   "outputs": [
    {
     "name": "stdout",
     "output_type": "stream",
     "text": [
      "81558\n",
      "Higest order food is:  Fish And Chips (G)\n",
      "Total similar foods count:  25\n"
     ]
    },
    {
     "data": {
      "text/plain": [
       "['Fish And Chips',\n",
       " 'Pacific Cod (2 Pcs) And Chips',\n",
       " 'Cod & Chips',\n",
       " 'Fish N’ Chips',\n",
       " '2 Piece Fish And Chips',\n",
       " 'Japanese-style Fish And Chips',\n",
       " 'Tartar Sauce',\n",
       " 'Pacific Cod And Chips',\n",
       " '4. Homestyle Fish And Chips With Coleslaw',\n",
       " 'Fish (1 Pc) And Chips',\n",
       " 'London-style Fish And Chips',\n",
       " 'Fish (3 Pcs) And Chips Combo',\n",
       " 'Fish Burger',\n",
       " 'Cod And Chips (2 Pcs)']"
      ]
     },
     "execution_count": 773,
     "metadata": {},
     "output_type": "execute_result"
    }
   ],
   "source": [
    "historical_recommend(sample_user,orders,food_items,cosine_sim)\n"
   ]
  },
  {
   "cell_type": "code",
   "execution_count": null,
   "metadata": {},
   "outputs": [],
   "source": []
  },
  {
   "cell_type": "code",
   "execution_count": null,
   "metadata": {},
   "outputs": [],
   "source": []
  },
  {
   "cell_type": "code",
   "execution_count": null,
   "metadata": {},
   "outputs": [],
   "source": []
  },
  {
   "cell_type": "code",
   "execution_count": null,
   "metadata": {},
   "outputs": [],
   "source": []
  },
  {
   "cell_type": "code",
   "execution_count": null,
   "metadata": {},
   "outputs": [],
   "source": []
  },
  {
   "cell_type": "code",
   "execution_count": null,
   "metadata": {},
   "outputs": [],
   "source": []
  },
  {
   "cell_type": "code",
   "execution_count": null,
   "metadata": {},
   "outputs": [],
   "source": []
  },
  {
   "cell_type": "code",
   "execution_count": null,
   "metadata": {},
   "outputs": [],
   "source": []
  },
  {
   "cell_type": "code",
   "execution_count": null,
   "metadata": {},
   "outputs": [],
   "source": []
  },
  {
   "cell_type": "code",
   "execution_count": null,
   "metadata": {},
   "outputs": [],
   "source": []
  },
  {
   "cell_type": "code",
   "execution_count": null,
   "metadata": {},
   "outputs": [],
   "source": []
  },
  {
   "cell_type": "code",
   "execution_count": null,
   "metadata": {},
   "outputs": [],
   "source": []
  },
  {
   "cell_type": "code",
   "execution_count": null,
   "metadata": {},
   "outputs": [],
   "source": []
  },
  {
   "cell_type": "code",
   "execution_count": null,
   "metadata": {},
   "outputs": [],
   "source": []
  },
  {
   "cell_type": "code",
   "execution_count": null,
   "metadata": {},
   "outputs": [],
   "source": []
  },
  {
   "cell_type": "code",
   "execution_count": null,
   "metadata": {},
   "outputs": [],
   "source": []
  },
  {
   "cell_type": "code",
   "execution_count": null,
   "metadata": {},
   "outputs": [],
   "source": []
  },
  {
   "cell_type": "code",
   "execution_count": null,
   "metadata": {},
   "outputs": [],
   "source": []
  },
  {
   "cell_type": "code",
   "execution_count": 751,
   "metadata": {},
   "outputs": [
    {
     "data": {
      "text/html": [
       "<div>\n",
       "<style scoped>\n",
       "    .dataframe tbody tr th:only-of-type {\n",
       "        vertical-align: middle;\n",
       "    }\n",
       "\n",
       "    .dataframe tbody tr th {\n",
       "        vertical-align: top;\n",
       "    }\n",
       "\n",
       "    .dataframe thead th {\n",
       "        text-align: right;\n",
       "    }\n",
       "</style>\n",
       "<table border=\"1\" class=\"dataframe\">\n",
       "  <thead>\n",
       "    <tr style=\"text-align: right;\">\n",
       "      <th></th>\n",
       "      <th>id</th>\n",
       "      <th>price</th>\n",
       "      <th>viewcount</th>\n",
       "      <th>name</th>\n",
       "      <th>description</th>\n",
       "      <th>tagsstring</th>\n",
       "      <th>searchvector</th>\n",
       "      <th>type</th>\n",
       "      <th>bow</th>\n",
       "      <th>tokenized</th>\n",
       "      <th>tokens</th>\n",
       "    </tr>\n",
       "  </thead>\n",
       "  <tbody>\n",
       "    <tr>\n",
       "      <th>0</th>\n",
       "      <td>8345</td>\n",
       "      <td>0.9</td>\n",
       "      <td>0</td>\n",
       "      <td>Cookie</td>\n",
       "      <td>Freshly baked cookies. One order comes with on...</td>\n",
       "      <td>NaN</td>\n",
       "      <td>'cooki':1</td>\n",
       "      <td>Main</td>\n",
       "      <td>Cookie,Freshly baked cookies. One order comes ...</td>\n",
       "      <td>[230 cals per cookie, freshly baked cookies, s...</td>\n",
       "      <td>230 cals per cookie,freshly baked cookies,swee...</td>\n",
       "    </tr>\n",
       "    <tr>\n",
       "      <th>1</th>\n",
       "      <td>8346</td>\n",
       "      <td>7.0</td>\n",
       "      <td>0</td>\n",
       "      <td>12 Cookies</td>\n",
       "      <td>Freshly baked cookies. One order comes with tw...</td>\n",
       "      <td>NaN</td>\n",
       "      <td>'12':1 'cooki':2</td>\n",
       "      <td>Main</td>\n",
       "      <td>12 Cookies,Freshly baked cookies. One order co...</td>\n",
       "      <td>[230 cals per cookie, sweet assorted cookie, o...</td>\n",
       "      <td>230 cals per cookie,sweet assorted cookie,one ...</td>\n",
       "    </tr>\n",
       "    <tr>\n",
       "      <th>2</th>\n",
       "      <td>2046</td>\n",
       "      <td>18.0</td>\n",
       "      <td>0</td>\n",
       "      <td>Sausage Hash-n-eggs</td>\n",
       "      <td>NaN</td>\n",
       "      <td>NaN</td>\n",
       "      <td>'egg':5 'hash':3 'hash-n-egg':2 'n':4 'sausag':1</td>\n",
       "      <td>Main</td>\n",
       "      <td>Sausage Hash-n-eggs,nan</td>\n",
       "      <td>[sausage hash, n, eggs]</td>\n",
       "      <td>sausage hash,n,eggs</td>\n",
       "    </tr>\n",
       "    <tr>\n",
       "      <th>3</th>\n",
       "      <td>2047</td>\n",
       "      <td>18.0</td>\n",
       "      <td>0</td>\n",
       "      <td>Ham Hash-n-eggs</td>\n",
       "      <td>NaN</td>\n",
       "      <td>NaN</td>\n",
       "      <td>'egg':5 'ham':1 'hash':3 'hash-n-egg':2 'n':4</td>\n",
       "      <td>Main</td>\n",
       "      <td>Ham Hash-n-eggs,nan</td>\n",
       "      <td>[ham hash, n, eggs]</td>\n",
       "      <td>ham hash,n,eggs</td>\n",
       "    </tr>\n",
       "    <tr>\n",
       "      <th>4</th>\n",
       "      <td>2048</td>\n",
       "      <td>18.0</td>\n",
       "      <td>0</td>\n",
       "      <td>Debakon Hash-n-eggs</td>\n",
       "      <td>DeBakon with hash-n-eggs.</td>\n",
       "      <td>NaN</td>\n",
       "      <td>'debakon':1 'egg':5 'hash':3 'hash-n-egg':2 'n':4</td>\n",
       "      <td>Main</td>\n",
       "      <td>Debakon Hash-n-eggs,DeBakon with hash-n-eggs.</td>\n",
       "      <td>[debakon hash, hash, debakon, n, n, eggs, eggs]</td>\n",
       "      <td>debakon hash,hash,debakon,n,n,eggs,eggs</td>\n",
       "    </tr>\n",
       "  </tbody>\n",
       "</table>\n",
       "</div>"
      ],
      "text/plain": [
       "     id  price  viewcount                 name  \\\n",
       "0  8345    0.9          0               Cookie   \n",
       "1  8346    7.0          0           12 Cookies   \n",
       "2  2046   18.0          0  Sausage Hash-n-eggs   \n",
       "3  2047   18.0          0      Ham Hash-n-eggs   \n",
       "4  2048   18.0          0  Debakon Hash-n-eggs   \n",
       "\n",
       "                                         description tagsstring  \\\n",
       "0  Freshly baked cookies. One order comes with on...        NaN   \n",
       "1  Freshly baked cookies. One order comes with tw...        NaN   \n",
       "2                                                NaN        NaN   \n",
       "3                                                NaN        NaN   \n",
       "4                          DeBakon with hash-n-eggs.        NaN   \n",
       "\n",
       "                                        searchvector  type  \\\n",
       "0                                          'cooki':1  Main   \n",
       "1                                   '12':1 'cooki':2  Main   \n",
       "2   'egg':5 'hash':3 'hash-n-egg':2 'n':4 'sausag':1  Main   \n",
       "3      'egg':5 'ham':1 'hash':3 'hash-n-egg':2 'n':4  Main   \n",
       "4  'debakon':1 'egg':5 'hash':3 'hash-n-egg':2 'n':4  Main   \n",
       "\n",
       "                                                 bow  \\\n",
       "0  Cookie,Freshly baked cookies. One order comes ...   \n",
       "1  12 Cookies,Freshly baked cookies. One order co...   \n",
       "2                            Sausage Hash-n-eggs,nan   \n",
       "3                                Ham Hash-n-eggs,nan   \n",
       "4      Debakon Hash-n-eggs,DeBakon with hash-n-eggs.   \n",
       "\n",
       "                                           tokenized  \\\n",
       "0  [230 cals per cookie, freshly baked cookies, s...   \n",
       "1  [230 cals per cookie, sweet assorted cookie, o...   \n",
       "2                            [sausage hash, n, eggs]   \n",
       "3                                [ham hash, n, eggs]   \n",
       "4    [debakon hash, hash, debakon, n, n, eggs, eggs]   \n",
       "\n",
       "                                              tokens  \n",
       "0  230 cals per cookie,freshly baked cookies,swee...  \n",
       "1  230 cals per cookie,sweet assorted cookie,one ...  \n",
       "2                                sausage hash,n,eggs  \n",
       "3                                    ham hash,n,eggs  \n",
       "4            debakon hash,hash,debakon,n,n,eggs,eggs  "
      ]
     },
     "execution_count": 751,
     "metadata": {},
     "output_type": "execute_result"
    }
   ],
   "source": [
    "food_items.head()"
   ]
  },
  {
   "cell_type": "code",
   "execution_count": 752,
   "metadata": {},
   "outputs": [
    {
     "data": {
      "text/html": [
       "<div>\n",
       "<style scoped>\n",
       "    .dataframe tbody tr th:only-of-type {\n",
       "        vertical-align: middle;\n",
       "    }\n",
       "\n",
       "    .dataframe tbody tr th {\n",
       "        vertical-align: top;\n",
       "    }\n",
       "\n",
       "    .dataframe thead th {\n",
       "        text-align: right;\n",
       "    }\n",
       "</style>\n",
       "<table border=\"1\" class=\"dataframe\">\n",
       "  <thead>\n",
       "    <tr style=\"text-align: right;\">\n",
       "      <th></th>\n",
       "      <th>orderid</th>\n",
       "      <th>userid</th>\n",
       "      <th>restaurantid</th>\n",
       "      <th>date</th>\n",
       "      <th>rating</th>\n",
       "      <th>comments</th>\n",
       "      <th>address</th>\n",
       "      <th>count</th>\n",
       "      <th>itemid</th>\n",
       "      <th>price</th>\n",
       "      <th>viewcount</th>\n",
       "      <th>name</th>\n",
       "      <th>description</th>\n",
       "      <th>searchvector</th>\n",
       "      <th>type</th>\n",
       "    </tr>\n",
       "  </thead>\n",
       "  <tbody>\n",
       "    <tr>\n",
       "      <th>0</th>\n",
       "      <td>8</td>\n",
       "      <td>113</td>\n",
       "      <td>110</td>\n",
       "      <td>2020-03-28 08:15:25.615002</td>\n",
       "      <td>NaN</td>\n",
       "      <td>NaN</td>\n",
       "      <td>{'Id': 4, 'Lat': 49.28319399999999, 'Lng': -12...</td>\n",
       "      <td>1</td>\n",
       "      <td>211</td>\n",
       "      <td>15.0</td>\n",
       "      <td>0.0</td>\n",
       "      <td>Tableside Spinach Salad</td>\n",
       "      <td>NaN</td>\n",
       "      <td>'almond':8 'babi':4 'bacon':11 'jack':10 'mont...</td>\n",
       "      <td>Main</td>\n",
       "    </tr>\n",
       "    <tr>\n",
       "      <th>1</th>\n",
       "      <td>8</td>\n",
       "      <td>113</td>\n",
       "      <td>110</td>\n",
       "      <td>2020-03-28 08:15:25.615002</td>\n",
       "      <td>NaN</td>\n",
       "      <td>NaN</td>\n",
       "      <td>{'Id': 4, 'Lat': 49.28319399999999, 'Lng': -12...</td>\n",
       "      <td>1</td>\n",
       "      <td>218</td>\n",
       "      <td>27.0</td>\n",
       "      <td>0.0</td>\n",
       "      <td>King Crab</td>\n",
       "      <td>NaN</td>\n",
       "      <td>'blanc':9 'buerr':8 'caper':7 'char':3 'chilli...</td>\n",
       "      <td>Main</td>\n",
       "    </tr>\n",
       "    <tr>\n",
       "      <th>2</th>\n",
       "      <td>293</td>\n",
       "      <td>4</td>\n",
       "      <td>121</td>\n",
       "      <td>2020-05-13 01:20:59.267256</td>\n",
       "      <td>NaN</td>\n",
       "      <td>NaN</td>\n",
       "      <td>NaN</td>\n",
       "      <td>1</td>\n",
       "      <td>440</td>\n",
       "      <td>14.0</td>\n",
       "      <td>1097.0</td>\n",
       "      <td>Joojeh Kabab With Rice</td>\n",
       "      <td>One skewer of chicken breast marinated with yo...</td>\n",
       "      <td>'bbq':14 'chicken':11 'joojeh':1 'juic':9 'kab...</td>\n",
       "      <td>Main</td>\n",
       "    </tr>\n",
       "    <tr>\n",
       "      <th>3</th>\n",
       "      <td>294</td>\n",
       "      <td>3</td>\n",
       "      <td>121</td>\n",
       "      <td>2020-05-13 17:34:35.519326</td>\n",
       "      <td>NaN</td>\n",
       "      <td>NaN</td>\n",
       "      <td>NaN</td>\n",
       "      <td>1</td>\n",
       "      <td>455</td>\n",
       "      <td>1.5</td>\n",
       "      <td>9.0</td>\n",
       "      <td>Regular Coffee</td>\n",
       "      <td>NaN</td>\n",
       "      <td>'coffe':2 'regular':1</td>\n",
       "      <td>Drink</td>\n",
       "    </tr>\n",
       "    <tr>\n",
       "      <th>4</th>\n",
       "      <td>297</td>\n",
       "      <td>142</td>\n",
       "      <td>121</td>\n",
       "      <td>2020-05-14 00:08:48.756423</td>\n",
       "      <td>NaN</td>\n",
       "      <td>NaN</td>\n",
       "      <td>NaN</td>\n",
       "      <td>1</td>\n",
       "      <td>540</td>\n",
       "      <td>9.9</td>\n",
       "      <td>485.0</td>\n",
       "      <td>Kashk Bademjan</td>\n",
       "      <td>Barbequed eggplant, lentils, fried onions, gar...</td>\n",
       "      <td>'bademjan':2 'bbq':8 'egg':10 'eggplant':6 'ga...</td>\n",
       "      <td>Main</td>\n",
       "    </tr>\n",
       "  </tbody>\n",
       "</table>\n",
       "</div>"
      ],
      "text/plain": [
       "   orderid  userid  restaurantid                        date  rating comments  \\\n",
       "0        8     113           110  2020-03-28 08:15:25.615002     NaN      NaN   \n",
       "1        8     113           110  2020-03-28 08:15:25.615002     NaN      NaN   \n",
       "2      293       4           121  2020-05-13 01:20:59.267256     NaN      NaN   \n",
       "3      294       3           121  2020-05-13 17:34:35.519326     NaN      NaN   \n",
       "4      297     142           121  2020-05-14 00:08:48.756423     NaN      NaN   \n",
       "\n",
       "                                             address  count  itemid  price  \\\n",
       "0  {'Id': 4, 'Lat': 49.28319399999999, 'Lng': -12...      1     211   15.0   \n",
       "1  {'Id': 4, 'Lat': 49.28319399999999, 'Lng': -12...      1     218   27.0   \n",
       "2                                                NaN      1     440   14.0   \n",
       "3                                                NaN      1     455    1.5   \n",
       "4                                                NaN      1     540    9.9   \n",
       "\n",
       "   viewcount                     name  \\\n",
       "0        0.0  Tableside Spinach Salad   \n",
       "1        0.0                King Crab   \n",
       "2     1097.0   Joojeh Kabab With Rice   \n",
       "3        9.0           Regular Coffee   \n",
       "4      485.0           Kashk Bademjan   \n",
       "\n",
       "                                         description  \\\n",
       "0                                                NaN   \n",
       "1                                                NaN   \n",
       "2  One skewer of chicken breast marinated with yo...   \n",
       "3                                                NaN   \n",
       "4  Barbequed eggplant, lentils, fried onions, gar...   \n",
       "\n",
       "                                        searchvector   type  \n",
       "0  'almond':8 'babi':4 'bacon':11 'jack':10 'mont...   Main  \n",
       "1  'blanc':9 'buerr':8 'caper':7 'char':3 'chilli...   Main  \n",
       "2  'bbq':14 'chicken':11 'joojeh':1 'juic':9 'kab...   Main  \n",
       "3                              'coffe':2 'regular':1  Drink  \n",
       "4  'bademjan':2 'bbq':8 'egg':10 'eggplant':6 'ga...   Main  "
      ]
     },
     "execution_count": 752,
     "metadata": {},
     "output_type": "execute_result"
    }
   ],
   "source": [
    "orders.head()"
   ]
  },
  {
   "cell_type": "code",
   "execution_count": null,
   "metadata": {},
   "outputs": [],
   "source": []
  },
  {
   "cell_type": "code",
   "execution_count": 749,
   "metadata": {},
   "outputs": [],
   "source": [
    "items_ordered = pd.merge(\n",
    "    orders,\n",
    "    food_items,\n",
    "    left_on='itemid',\n",
    "    right_on='id',\n",
    "    how='left'\n",
    ")"
   ]
  },
  {
   "cell_type": "code",
   "execution_count": 750,
   "metadata": {},
   "outputs": [
    {
     "data": {
      "text/html": [
       "<div>\n",
       "<style scoped>\n",
       "    .dataframe tbody tr th:only-of-type {\n",
       "        vertical-align: middle;\n",
       "    }\n",
       "\n",
       "    .dataframe tbody tr th {\n",
       "        vertical-align: top;\n",
       "    }\n",
       "\n",
       "    .dataframe thead th {\n",
       "        text-align: right;\n",
       "    }\n",
       "</style>\n",
       "<table border=\"1\" class=\"dataframe\">\n",
       "  <thead>\n",
       "    <tr style=\"text-align: right;\">\n",
       "      <th></th>\n",
       "      <th>orderid</th>\n",
       "      <th>userid</th>\n",
       "      <th>restaurantid</th>\n",
       "      <th>date</th>\n",
       "      <th>rating</th>\n",
       "      <th>comments</th>\n",
       "      <th>address</th>\n",
       "      <th>count</th>\n",
       "      <th>itemid</th>\n",
       "      <th>price_x</th>\n",
       "      <th>...</th>\n",
       "      <th>price_y</th>\n",
       "      <th>viewcount_y</th>\n",
       "      <th>name_y</th>\n",
       "      <th>description_y</th>\n",
       "      <th>tagsstring</th>\n",
       "      <th>searchvector_y</th>\n",
       "      <th>type_y</th>\n",
       "      <th>bow</th>\n",
       "      <th>tokenized</th>\n",
       "      <th>tokens</th>\n",
       "    </tr>\n",
       "  </thead>\n",
       "  <tbody>\n",
       "    <tr>\n",
       "      <th>0</th>\n",
       "      <td>8</td>\n",
       "      <td>113</td>\n",
       "      <td>110</td>\n",
       "      <td>2020-03-28 08:15:25.615002</td>\n",
       "      <td>NaN</td>\n",
       "      <td>NaN</td>\n",
       "      <td>{'Id': 4, 'Lat': 49.28319399999999, 'Lng': -12...</td>\n",
       "      <td>1</td>\n",
       "      <td>211</td>\n",
       "      <td>15.0</td>\n",
       "      <td>...</td>\n",
       "      <td>15.0</td>\n",
       "      <td>0.0</td>\n",
       "      <td>Tableside Spinach Salad</td>\n",
       "      <td>NaN</td>\n",
       "      <td>Baby Spinach Mushrooms Toasted Almonds Monter...</td>\n",
       "      <td>'almond':8 'babi':4 'bacon':11 'jack':10 'mont...</td>\n",
       "      <td>Main</td>\n",
       "      <td>Tableside Spinach Salad,nan</td>\n",
       "      <td>[tableside spinach salad]</td>\n",
       "      <td>tableside spinach salad</td>\n",
       "    </tr>\n",
       "    <tr>\n",
       "      <th>1</th>\n",
       "      <td>8</td>\n",
       "      <td>113</td>\n",
       "      <td>110</td>\n",
       "      <td>2020-03-28 08:15:25.615002</td>\n",
       "      <td>NaN</td>\n",
       "      <td>NaN</td>\n",
       "      <td>{'Id': 4, 'Lat': 49.28319399999999, 'Lng': -12...</td>\n",
       "      <td>1</td>\n",
       "      <td>218</td>\n",
       "      <td>27.0</td>\n",
       "      <td>...</td>\n",
       "      <td>27.0</td>\n",
       "      <td>0.0</td>\n",
       "      <td>King Crab</td>\n",
       "      <td>NaN</td>\n",
       "      <td>Charred Lemon Serrano Chillies Caper Buerre B...</td>\n",
       "      <td>'blanc':9 'buerr':8 'caper':7 'char':3 'chilli...</td>\n",
       "      <td>Main</td>\n",
       "      <td>King Crab,nan</td>\n",
       "      <td>[king crab]</td>\n",
       "      <td>king crab</td>\n",
       "    </tr>\n",
       "    <tr>\n",
       "      <th>2</th>\n",
       "      <td>293</td>\n",
       "      <td>4</td>\n",
       "      <td>121</td>\n",
       "      <td>2020-05-13 01:20:59.267256</td>\n",
       "      <td>NaN</td>\n",
       "      <td>NaN</td>\n",
       "      <td>NaN</td>\n",
       "      <td>1</td>\n",
       "      <td>440</td>\n",
       "      <td>14.0</td>\n",
       "      <td>...</td>\n",
       "      <td>14.0</td>\n",
       "      <td>1097.0</td>\n",
       "      <td>Joojeh Kabab With Rice</td>\n",
       "      <td>One skewer of chicken breast marinated with yo...</td>\n",
       "      <td>Olive Oil Saffron Lemon Juice Yogurt Chicken ...</td>\n",
       "      <td>'bbq':14 'chicken':11 'joojeh':1 'juic':9 'kab...</td>\n",
       "      <td>Main</td>\n",
       "      <td>Joojeh Kabab With Rice,One skewer of chicken b...</td>\n",
       "      <td>[chicken breast marinated, one skewer, olive o...</td>\n",
       "      <td>chicken breast marinated,one skewer,olive oil,...</td>\n",
       "    </tr>\n",
       "    <tr>\n",
       "      <th>3</th>\n",
       "      <td>294</td>\n",
       "      <td>3</td>\n",
       "      <td>121</td>\n",
       "      <td>2020-05-13 17:34:35.519326</td>\n",
       "      <td>NaN</td>\n",
       "      <td>NaN</td>\n",
       "      <td>NaN</td>\n",
       "      <td>1</td>\n",
       "      <td>455</td>\n",
       "      <td>1.5</td>\n",
       "      <td>...</td>\n",
       "      <td>1.5</td>\n",
       "      <td>9.0</td>\n",
       "      <td>Regular Coffee</td>\n",
       "      <td>NaN</td>\n",
       "      <td>NaN</td>\n",
       "      <td>'coffe':2 'regular':1</td>\n",
       "      <td>Drink</td>\n",
       "      <td>Regular Coffee,nan</td>\n",
       "      <td>[regular coffee]</td>\n",
       "      <td>regular coffee</td>\n",
       "    </tr>\n",
       "    <tr>\n",
       "      <th>4</th>\n",
       "      <td>297</td>\n",
       "      <td>142</td>\n",
       "      <td>121</td>\n",
       "      <td>2020-05-14 00:08:48.756423</td>\n",
       "      <td>NaN</td>\n",
       "      <td>NaN</td>\n",
       "      <td>NaN</td>\n",
       "      <td>1</td>\n",
       "      <td>540</td>\n",
       "      <td>9.9</td>\n",
       "      <td>...</td>\n",
       "      <td>NaN</td>\n",
       "      <td>NaN</td>\n",
       "      <td>NaN</td>\n",
       "      <td>NaN</td>\n",
       "      <td>NaN</td>\n",
       "      <td>NaN</td>\n",
       "      <td>NaN</td>\n",
       "      <td>NaN</td>\n",
       "      <td>NaN</td>\n",
       "      <td>NaN</td>\n",
       "    </tr>\n",
       "  </tbody>\n",
       "</table>\n",
       "<p>5 rows × 26 columns</p>\n",
       "</div>"
      ],
      "text/plain": [
       "   orderid  userid  restaurantid                        date  rating comments  \\\n",
       "0        8     113           110  2020-03-28 08:15:25.615002     NaN      NaN   \n",
       "1        8     113           110  2020-03-28 08:15:25.615002     NaN      NaN   \n",
       "2      293       4           121  2020-05-13 01:20:59.267256     NaN      NaN   \n",
       "3      294       3           121  2020-05-13 17:34:35.519326     NaN      NaN   \n",
       "4      297     142           121  2020-05-14 00:08:48.756423     NaN      NaN   \n",
       "\n",
       "                                             address  count  itemid  price_x  \\\n",
       "0  {'Id': 4, 'Lat': 49.28319399999999, 'Lng': -12...      1     211     15.0   \n",
       "1  {'Id': 4, 'Lat': 49.28319399999999, 'Lng': -12...      1     218     27.0   \n",
       "2                                                NaN      1     440     14.0   \n",
       "3                                                NaN      1     455      1.5   \n",
       "4                                                NaN      1     540      9.9   \n",
       "\n",
       "   ...  price_y viewcount_y                   name_y  \\\n",
       "0  ...     15.0         0.0  Tableside Spinach Salad   \n",
       "1  ...     27.0         0.0                King Crab   \n",
       "2  ...     14.0      1097.0   Joojeh Kabab With Rice   \n",
       "3  ...      1.5         9.0           Regular Coffee   \n",
       "4  ...      NaN         NaN                      NaN   \n",
       "\n",
       "                                       description_y  \\\n",
       "0                                                NaN   \n",
       "1                                                NaN   \n",
       "2  One skewer of chicken breast marinated with yo...   \n",
       "3                                                NaN   \n",
       "4                                                NaN   \n",
       "\n",
       "                                          tagsstring  \\\n",
       "0   Baby Spinach Mushrooms Toasted Almonds Monter...   \n",
       "1   Charred Lemon Serrano Chillies Caper Buerre B...   \n",
       "2   Olive Oil Saffron Lemon Juice Yogurt Chicken ...   \n",
       "3                                                NaN   \n",
       "4                                                NaN   \n",
       "\n",
       "                                      searchvector_y  type_y  \\\n",
       "0  'almond':8 'babi':4 'bacon':11 'jack':10 'mont...    Main   \n",
       "1  'blanc':9 'buerr':8 'caper':7 'char':3 'chilli...    Main   \n",
       "2  'bbq':14 'chicken':11 'joojeh':1 'juic':9 'kab...    Main   \n",
       "3                              'coffe':2 'regular':1   Drink   \n",
       "4                                                NaN     NaN   \n",
       "\n",
       "                                                 bow  \\\n",
       "0                        Tableside Spinach Salad,nan   \n",
       "1                                      King Crab,nan   \n",
       "2  Joojeh Kabab With Rice,One skewer of chicken b...   \n",
       "3                                 Regular Coffee,nan   \n",
       "4                                                NaN   \n",
       "\n",
       "                                           tokenized  \\\n",
       "0                          [tableside spinach salad]   \n",
       "1                                        [king crab]   \n",
       "2  [chicken breast marinated, one skewer, olive o...   \n",
       "3                                   [regular coffee]   \n",
       "4                                                NaN   \n",
       "\n",
       "                                              tokens  \n",
       "0                            tableside spinach salad  \n",
       "1                                          king crab  \n",
       "2  chicken breast marinated,one skewer,olive oil,...  \n",
       "3                                     regular coffee  \n",
       "4                                                NaN  \n",
       "\n",
       "[5 rows x 26 columns]"
      ]
     },
     "execution_count": 750,
     "metadata": {},
     "output_type": "execute_result"
    }
   ],
   "source": [
    "items_ordered.head()"
   ]
  },
  {
   "cell_type": "code",
   "execution_count": 30,
   "metadata": {},
   "outputs": [],
   "source": [
    "items_ordered = items_ordered[['orderid','restaurantid','userid','itemid','name']]"
   ]
  },
  {
   "cell_type": "code",
   "execution_count": 31,
   "metadata": {},
   "outputs": [],
   "source": [
    "orders = orders[orders.restaurantid == 1029]"
   ]
  },
  {
   "cell_type": "code",
   "execution_count": 32,
   "metadata": {},
   "outputs": [],
   "source": [
    "orders_count = counter.transform(orders.name)"
   ]
  },
  {
   "cell_type": "code",
   "execution_count": 33,
   "metadata": {},
   "outputs": [],
   "source": [
    "orders_count = orders_count.toarray()"
   ]
  },
  {
   "cell_type": "code",
   "execution_count": 34,
   "metadata": {},
   "outputs": [
    {
     "data": {
      "text/plain": [
       "(16451, 6365)"
      ]
     },
     "execution_count": 34,
     "metadata": {},
     "output_type": "execute_result"
    }
   ],
   "source": [
    "orders_count.shape"
   ]
  },
  {
   "cell_type": "code",
   "execution_count": null,
   "metadata": {},
   "outputs": [
    {
     "data": {
      "text/plain": [
       "[53703.979675637864,\n",
       " 48334.07746095134,\n",
       " 45285.21622746169,\n",
       " 44571.756469531945,\n",
       " 42207.35414237622,\n",
       " 41469.26686794766,\n",
       " 39215.23208438727,\n",
       " 37960.587284991896,\n",
       " 36883.30144744937,\n",
       " 32856.93499369147,\n",
       " 30611.300289741634,\n",
       " 29466.254928579925,\n",
       " 27029.486289573088,\n",
       " 27023.431975510517,\n",
       " 26834.849241737476,\n",
       " 25347.300501888967,\n",
       " 25146.05534633927,\n",
       " 24688.501800025333,\n",
       " 24464.667261687926]"
      ]
     },
     "execution_count": 215,
     "metadata": {},
     "output_type": "execute_result"
    }
   ],
   "source": [
    "kmeans_kwargs = {\n",
    "        \"init\": \"random\",\n",
    "        \"n_init\": 10,\n",
    "        \"max_iter\": 1000,\n",
    "        \"random_state\": 42,}\n",
    "\n",
    "\n",
    "# making a list of sum of squared errors for different cluster amounts (1-19)\n",
    "\n",
    "sse = []\n",
    "for k in range(1, 20):\n",
    "    kmeans = KMeans(n_clusters=k, **kmeans_kwargs)\n",
    "    kmeans.fit(orders_count)\n",
    "    sse.append(kmeans.inertia_)\n",
    "\n",
    "sse"
   ]
  },
  {
   "cell_type": "code",
   "execution_count": null,
   "metadata": {},
   "outputs": [
    {
     "data": {
      "image/png": "[encoded data removed]",
      "text/plain": [
       "<Figure size 432x288 with 1 Axes>"
      ]
     },
     "metadata": {},
     "output_type": "display_data"
    }
   ],
   "source": [
    "plt.style.use(\"fivethirtyeight\")\n",
    "plt.plot(range(1, 20), sse)\n",
    "plt.xticks(range(1, 20))\n",
    "plt.xlabel(\"Number of Clusters\")\n",
    "plt.ylabel(\"SSE\")\n",
    "plt.show()"
   ]
  },
  {
   "cell_type": "code",
   "execution_count": 39,
   "metadata": {},
   "outputs": [],
   "source": [
    "km = KMeans(n_clusters=20)\n",
    "X_clustered=km.fit_predict(orders_count)\n"
   ]
  },
  {
   "cell_type": "code",
   "execution_count": 40,
   "metadata": {},
   "outputs": [],
   "source": [
    "orders['clusters'] = X_clustered"
   ]
  },
  {
   "cell_type": "code",
   "execution_count": 41,
   "metadata": {},
   "outputs": [
    {
     "data": {
      "text/html": [
       "<div>\n",
       "<style scoped>\n",
       "    .dataframe tbody tr th:only-of-type {\n",
       "        vertical-align: middle;\n",
       "    }\n",
       "\n",
       "    .dataframe tbody tr th {\n",
       "        vertical-align: top;\n",
       "    }\n",
       "\n",
       "    .dataframe thead th {\n",
       "        text-align: right;\n",
       "    }\n",
       "</style>\n",
       "<table border=\"1\" class=\"dataframe\">\n",
       "  <thead>\n",
       "    <tr style=\"text-align: right;\">\n",
       "      <th></th>\n",
       "      <th>orderid</th>\n",
       "      <th>restaurantid</th>\n",
       "      <th>userid</th>\n",
       "      <th>itemid</th>\n",
       "      <th>name</th>\n",
       "      <th>clusters</th>\n",
       "    </tr>\n",
       "  </thead>\n",
       "  <tbody>\n",
       "    <tr>\n",
       "      <th>68</th>\n",
       "      <td>373</td>\n",
       "      <td>1029</td>\n",
       "      <td>215</td>\n",
       "      <td>82659</td>\n",
       "      <td>Shoestring Fries (G)</td>\n",
       "      <td>3</td>\n",
       "    </tr>\n",
       "    <tr>\n",
       "      <th>71</th>\n",
       "      <td>379</td>\n",
       "      <td>1029</td>\n",
       "      <td>165</td>\n",
       "      <td>81580</td>\n",
       "      <td>Popina Bottled Water</td>\n",
       "      <td>16</td>\n",
       "    </tr>\n",
       "    <tr>\n",
       "      <th>72</th>\n",
       "      <td>380</td>\n",
       "      <td>1029</td>\n",
       "      <td>110</td>\n",
       "      <td>81580</td>\n",
       "      <td>Popina Bottled Water</td>\n",
       "      <td>16</td>\n",
       "    </tr>\n",
       "    <tr>\n",
       "      <th>73</th>\n",
       "      <td>381</td>\n",
       "      <td>1029</td>\n",
       "      <td>110</td>\n",
       "      <td>81580</td>\n",
       "      <td>Popina Bottled Water</td>\n",
       "      <td>16</td>\n",
       "    </tr>\n",
       "    <tr>\n",
       "      <th>74</th>\n",
       "      <td>382</td>\n",
       "      <td>1029</td>\n",
       "      <td>122</td>\n",
       "      <td>81555</td>\n",
       "      <td>Crispy Free Run Chicken Sandwich</td>\n",
       "      <td>2</td>\n",
       "    </tr>\n",
       "  </tbody>\n",
       "</table>\n",
       "</div>"
      ],
      "text/plain": [
       "    orderid  restaurantid  userid  itemid                              name  \\\n",
       "68      373          1029     215   82659              Shoestring Fries (G)   \n",
       "71      379          1029     165   81580              Popina Bottled Water   \n",
       "72      380          1029     110   81580              Popina Bottled Water   \n",
       "73      381          1029     110   81580              Popina Bottled Water   \n",
       "74      382          1029     122   81555  Crispy Free Run Chicken Sandwich   \n",
       "\n",
       "    clusters  \n",
       "68         3  \n",
       "71        16  \n",
       "72        16  \n",
       "73        16  \n",
       "74         2  "
      ]
     },
     "execution_count": 41,
     "metadata": {},
     "output_type": "execute_result"
    }
   ],
   "source": [
    "orders.head()"
   ]
  },
  {
   "cell_type": "code",
   "execution_count": 43,
   "metadata": {},
   "outputs": [
    {
     "data": {
      "text/plain": [
       "13    2476\n",
       "3     2390\n",
       "2     1399\n",
       "0     1371\n",
       "8     1045\n",
       "1      906\n",
       "12     767\n",
       "5      552\n",
       "11     548\n",
       "9      541\n",
       "4      520\n",
       "15     508\n",
       "6      500\n",
       "14     465\n",
       "10     453\n",
       "7      452\n",
       "18     420\n",
       "16     396\n",
       "19     381\n",
       "17     361\n",
       "Name: clusters, dtype: int64"
      ]
     },
     "execution_count": 43,
     "metadata": {},
     "output_type": "execute_result"
    }
   ],
   "source": [
    "orders.clusters.value_counts()"
   ]
  },
  {
   "cell_type": "code",
   "execution_count": 47,
   "metadata": {},
   "outputs": [],
   "source": [
    "import matplotlib.pyplot as plt"
   ]
  },
  {
   "cell_type": "code",
   "execution_count": 48,
   "metadata": {},
   "outputs": [
    {
     "data": {
      "text/plain": [
       "<matplotlib.collections.PathCollection at 0x7f7d718d4820>"
      ]
     },
     "execution_count": 48,
     "metadata": {},
     "output_type": "execute_result"
    },
    {
     "data": {
      "image/png": "[encoded data removed]",
      "text/plain": [
       "<Figure size 432x288 with 1 Axes>"
      ]
     },
     "metadata": {
      "needs_background": "light"
     },
     "output_type": "display_data"
    }
   ],
   "source": [
    "model= cluster.KMeans(n_clusters=20)\n",
    "# Call a fit_predict() on X \n",
    "cluster_assignments = model.fit_predict(orders_count)\n",
    "\n",
    "# Use decomposition.PCA, and pass n_components=2 as parameter\n",
    "pca = sklearn.decomposition.PCA(n_components=2)\n",
    "pc1, pc2 = zip(*pca.fit_transform(orders_count))\n",
    "plt.scatter(pc1, pc2, c=cluster_assignments.tolist())"
   ]
  },
  {
   "cell_type": "code",
   "execution_count": 55,
   "metadata": {},
   "outputs": [
    {
     "data": {
      "text/html": [
       "<div>\n",
       "<style scoped>\n",
       "    .dataframe tbody tr th:only-of-type {\n",
       "        vertical-align: middle;\n",
       "    }\n",
       "\n",
       "    .dataframe tbody tr th {\n",
       "        vertical-align: top;\n",
       "    }\n",
       "\n",
       "    .dataframe thead th {\n",
       "        text-align: right;\n",
       "    }\n",
       "</style>\n",
       "<table border=\"1\" class=\"dataframe\">\n",
       "  <thead>\n",
       "    <tr style=\"text-align: right;\">\n",
       "      <th></th>\n",
       "      <th>orderid</th>\n",
       "      <th>restaurantid</th>\n",
       "      <th>userid</th>\n",
       "      <th>itemid</th>\n",
       "      <th>name</th>\n",
       "      <th>clusters</th>\n",
       "    </tr>\n",
       "  </thead>\n",
       "  <tbody>\n",
       "    <tr>\n",
       "      <th>157</th>\n",
       "      <td>422</td>\n",
       "      <td>1029</td>\n",
       "      <td>230</td>\n",
       "      <td>82673</td>\n",
       "      <td>Pino Gris White 5oz</td>\n",
       "      <td>13</td>\n",
       "    </tr>\n",
       "    <tr>\n",
       "      <th>163</th>\n",
       "      <td>424</td>\n",
       "      <td>1029</td>\n",
       "      <td>230</td>\n",
       "      <td>82672</td>\n",
       "      <td>Merlot Red 5oz</td>\n",
       "      <td>13</td>\n",
       "    </tr>\n",
       "    <tr>\n",
       "      <th>165</th>\n",
       "      <td>425</td>\n",
       "      <td>1029</td>\n",
       "      <td>230</td>\n",
       "      <td>82660</td>\n",
       "      <td>Mayhem, Pinot Gris 6 Oz</td>\n",
       "      <td>13</td>\n",
       "    </tr>\n",
       "    <tr>\n",
       "      <th>181</th>\n",
       "      <td>435</td>\n",
       "      <td>1029</td>\n",
       "      <td>232</td>\n",
       "      <td>82673</td>\n",
       "      <td>Pino Gris White 5oz</td>\n",
       "      <td>13</td>\n",
       "    </tr>\n",
       "    <tr>\n",
       "      <th>185</th>\n",
       "      <td>438</td>\n",
       "      <td>1029</td>\n",
       "      <td>232</td>\n",
       "      <td>81576</td>\n",
       "      <td>Paloma</td>\n",
       "      <td>13</td>\n",
       "    </tr>\n",
       "    <tr>\n",
       "      <th>...</th>\n",
       "      <td>...</td>\n",
       "      <td>...</td>\n",
       "      <td>...</td>\n",
       "      <td>...</td>\n",
       "      <td>...</td>\n",
       "      <td>...</td>\n",
       "    </tr>\n",
       "    <tr>\n",
       "      <th>22016</th>\n",
       "      <td>13650</td>\n",
       "      <td>1029</td>\n",
       "      <td>4775</td>\n",
       "      <td>82672</td>\n",
       "      <td>Merlot Red 5oz</td>\n",
       "      <td>13</td>\n",
       "    </tr>\n",
       "    <tr>\n",
       "      <th>22018</th>\n",
       "      <td>13650</td>\n",
       "      <td>1029</td>\n",
       "      <td>4775</td>\n",
       "      <td>82668</td>\n",
       "      <td>Tequila</td>\n",
       "      <td>13</td>\n",
       "    </tr>\n",
       "    <tr>\n",
       "      <th>22024</th>\n",
       "      <td>13654</td>\n",
       "      <td>1029</td>\n",
       "      <td>4776</td>\n",
       "      <td>82672</td>\n",
       "      <td>Merlot Red 5oz</td>\n",
       "      <td>13</td>\n",
       "    </tr>\n",
       "    <tr>\n",
       "      <th>22027</th>\n",
       "      <td>13655</td>\n",
       "      <td>1029</td>\n",
       "      <td>4776</td>\n",
       "      <td>82673</td>\n",
       "      <td>Pino Gris White 5oz</td>\n",
       "      <td>13</td>\n",
       "    </tr>\n",
       "    <tr>\n",
       "      <th>22036</th>\n",
       "      <td>13659</td>\n",
       "      <td>1029</td>\n",
       "      <td>4777</td>\n",
       "      <td>82661</td>\n",
       "      <td>Mayhem, Pinot Gris 9oz</td>\n",
       "      <td>13</td>\n",
       "    </tr>\n",
       "  </tbody>\n",
       "</table>\n",
       "<p>2476 rows × 6 columns</p>\n",
       "</div>"
      ],
      "text/plain": [
       "       orderid  restaurantid  userid  itemid                     name  \\\n",
       "157        422          1029     230   82673      Pino Gris White 5oz   \n",
       "163        424          1029     230   82672           Merlot Red 5oz   \n",
       "165        425          1029     230   82660  Mayhem, Pinot Gris 6 Oz   \n",
       "181        435          1029     232   82673      Pino Gris White 5oz   \n",
       "185        438          1029     232   81576                   Paloma   \n",
       "...        ...           ...     ...     ...                      ...   \n",
       "22016    13650          1029    4775   82672           Merlot Red 5oz   \n",
       "22018    13650          1029    4775   82668                  Tequila   \n",
       "22024    13654          1029    4776   82672           Merlot Red 5oz   \n",
       "22027    13655          1029    4776   82673      Pino Gris White 5oz   \n",
       "22036    13659          1029    4777   82661   Mayhem, Pinot Gris 9oz   \n",
       "\n",
       "       clusters  \n",
       "157          13  \n",
       "163          13  \n",
       "165          13  \n",
       "181          13  \n",
       "185          13  \n",
       "...         ...  \n",
       "22016        13  \n",
       "22018        13  \n",
       "22024        13  \n",
       "22027        13  \n",
       "22036        13  \n",
       "\n",
       "[2476 rows x 6 columns]"
      ]
     },
     "execution_count": 55,
     "metadata": {},
     "output_type": "execute_result"
    }
   ],
   "source": [
    "filtered_label0 = orders[X_clustered == 13]\n",
    "filtered_label0[:]"
   ]
  },
  {
   "cell_type": "code",
   "execution_count": 54,
   "metadata": {},
   "outputs": [
    {
     "data": {
      "image/png": "[encoded data removed]",
      "text/plain": [
       "<Figure size 432x288 with 1 Axes>"
      ]
     },
     "metadata": {
      "needs_background": "light"
     },
     "output_type": "display_data"
    }
   ],
   "source": [
    "#filter rows of original data\n",
    "filtered_label0 = orders[X_clustered == 3]\n",
    "\n",
    " \n",
    "#plotting the results\n",
    "plt.scatter(filtered_label0[:].index , filtered_label0[:].name)\n",
    "plt.show()"
   ]
  },
  {
   "cell_type": "code",
   "execution_count": null,
   "metadata": {},
   "outputs": [
    {
     "data": {
      "text/plain": [
       "1029    16451\n",
       "121      3281\n",
       "1034     2600\n",
       "299      1748\n",
       "1048       17\n",
       "1040        9\n",
       "110         3\n",
       "Name: restaurantid, dtype: int64"
      ]
     },
     "execution_count": 249,
     "metadata": {},
     "output_type": "execute_result"
    }
   ],
   "source": [
    "orders.restaurantid.value_counts()"
   ]
  },
  {
   "cell_type": "code",
   "execution_count": 53,
   "metadata": {},
   "outputs": [
    {
     "data": {
      "image/png": "[encoded data removed]",
      "text/plain": [
       "<Figure size 432x288 with 1 Axes>"
      ]
     },
     "metadata": {
      "needs_background": "light"
     },
     "output_type": "display_data"
    }
   ],
   "source": [
    "#Getting unique labels\n",
    " \n",
    "u_labels = np.unique(X_clustered)\n",
    " \n",
    "#plotting the results:\n",
    "plt.Figure(figsize=[10,50])\n",
    "for i in u_labels:\n",
    "    plt.scatter(orders[X_clustered == i].index , orders[X_clustered == i].name, label = i )\n",
    "plt.legend()\n",
    "plt.show()"
   ]
  },
  {
   "cell_type": "code",
   "execution_count": 74,
   "metadata": {},
   "outputs": [
    {
     "data": {
      "text/plain": [
       "0                                                  750 ML \n",
       "1        8 oz grass-fed BC beef caramelized on flat top...\n",
       "2        8oz boneless chicken leg marinated in buttermi...\n",
       "3        4 oz grass-fed BC beef caramelized on flat top...\n",
       "4                         Yogurt drink with special herbs.\n",
       "                               ...                        \n",
       "19898    Lettuce, cucumbers, tomatoes, and Indian-style...\n",
       "19899    Fresh cucumbers and broiled potatoes in cold y...\n",
       "19900                                  Sweet mango relish.\n",
       "19901                          Two spiced lentil crackers.\n",
       "19902    Mixed Indian pickles (mangoes, lemons, limes, ...\n",
       "Name: description, Length: 19903, dtype: object"
      ]
     },
     "execution_count": 74,
     "metadata": {},
     "output_type": "execute_result"
    }
   ],
   "source": [
    "train_data.description"
   ]
  },
  {
   "cell_type": "code",
   "execution_count": 83,
   "metadata": {},
   "outputs": [],
   "source": [
    "def get_list_ingredients(df):\n",
    "    ''' Helper function to get the frequency of ingredients from a DataFrame'''\n",
    "    \n",
    "    possible_ingredients = {}\n",
    "    def inc_dict(ing):\n",
    "        if ing in possible_ingredients.keys():\n",
    "            possible_ingredients[ing] += 1\n",
    "            print(possible_ingredients[ing])\n",
    "            return\n",
    "        possible_ingredients[ing] = 1\n",
    "    \n",
    "    type_ = float\n",
    "    \n",
    "    # Compute the frequency of ingredients in a data frame\n",
    "    train_data['description'].apply(lambda x: [inc_dict(ing) for ing in x])\n",
    "    \n",
    "    # Cast dict to list\n",
    "    ing_data = np.array([[a[0], a[1]]for a in possible_ingredients.items()])\n",
    "    ing_data[:,1] = (ing_data[:,1].astype(type_))\n",
    "    \n",
    "    label = 'Number of apparition'\n",
    "    df_ing = pd.DataFrame(data={'description': ing_data[:, 0], label: ing_data[:, 1].astype(float)})\n",
    "    return df_ing\n"
   ]
  },
  {
   "cell_type": "code",
   "execution_count": null,
   "metadata": {},
   "outputs": [],
   "source": [
    "# Get the frequencies of all ingredients\n",
    "ingredients = get_list_ingredients(train_data)\n",
    "freqs = dict([tuple(x) for x in ingredients.values])\n",
    "\n",
    "# Plot simple bar chart\n",
    "ax= ingredients.sort_values(by='Number of apparition', ascending=False).head(20).plot(x='description', y='Number of apparition', kind='bar')\n",
    "ax.set_title('Distribution of the ingredients')\n",
    "b=ax.set_ylabel('Number of apparition')"
   ]
  },
  {
   "cell_type": "code",
   "execution_count": 75,
   "metadata": {},
   "outputs": [
    {
     "data": {
      "text/html": [
       "<div>\n",
       "<style scoped>\n",
       "    .dataframe tbody tr th:only-of-type {\n",
       "        vertical-align: middle;\n",
       "    }\n",
       "\n",
       "    .dataframe tbody tr th {\n",
       "        vertical-align: top;\n",
       "    }\n",
       "\n",
       "    .dataframe thead th {\n",
       "        text-align: right;\n",
       "    }\n",
       "</style>\n",
       "<table border=\"1\" class=\"dataframe\">\n",
       "  <thead>\n",
       "    <tr style=\"text-align: right;\">\n",
       "      <th></th>\n",
       "      <th>description</th>\n",
       "      <th>Number of apparition</th>\n",
       "    </tr>\n",
       "  </thead>\n",
       "  <tbody>\n",
       "    <tr>\n",
       "      <th>0</th>\n",
       "      <td>7</td>\n",
       "      <td>157.0</td>\n",
       "    </tr>\n",
       "    <tr>\n",
       "      <th>1</th>\n",
       "      <td>5</td>\n",
       "      <td>493.0</td>\n",
       "    </tr>\n",
       "    <tr>\n",
       "      <th>2</th>\n",
       "      <td>0</td>\n",
       "      <td>1068.0</td>\n",
       "    </tr>\n",
       "    <tr>\n",
       "      <th>3</th>\n",
       "      <td></td>\n",
       "      <td>229054.0</td>\n",
       "    </tr>\n",
       "    <tr>\n",
       "      <th>4</th>\n",
       "      <td>M</td>\n",
       "      <td>1233.0</td>\n",
       "    </tr>\n",
       "    <tr>\n",
       "      <th>...</th>\n",
       "      <td>...</td>\n",
       "      <td>...</td>\n",
       "    </tr>\n",
       "    <tr>\n",
       "      <th>105</th>\n",
       "      <td>¢</td>\n",
       "      <td>1.0</td>\n",
       "    </tr>\n",
       "    <tr>\n",
       "      <th>106</th>\n",
       "      <td>\\</td>\n",
       "      <td>2.0</td>\n",
       "    </tr>\n",
       "    <tr>\n",
       "      <th>107</th>\n",
       "      <td>]</td>\n",
       "      <td>1.0</td>\n",
       "    </tr>\n",
       "    <tr>\n",
       "      <th>108</th>\n",
       "      <td>ü</td>\n",
       "      <td>2.0</td>\n",
       "    </tr>\n",
       "    <tr>\n",
       "      <th>109</th>\n",
       "      <td>â</td>\n",
       "      <td>1.0</td>\n",
       "    </tr>\n",
       "  </tbody>\n",
       "</table>\n",
       "<p>110 rows × 2 columns</p>\n",
       "</div>"
      ],
      "text/plain": [
       "    description  Number of apparition\n",
       "0             7                 157.0\n",
       "1             5                 493.0\n",
       "2             0                1068.0\n",
       "3                            229054.0\n",
       "4             M                1233.0\n",
       "..          ...                   ...\n",
       "105           ¢                   1.0\n",
       "106           \\                   2.0\n",
       "107           ]                   1.0\n",
       "108           ü                   2.0\n",
       "109           â                   1.0\n",
       "\n",
       "[110 rows x 2 columns]"
      ]
     },
     "execution_count": 75,
     "metadata": {},
     "output_type": "execute_result"
    }
   ],
   "source": [
    "ingredients"
   ]
  },
  {
   "cell_type": "code",
   "execution_count": null,
   "metadata": {},
   "outputs": [],
   "source": [
    "# Get the frequencies of all ingredients\n",
    "ingredients = get_list_ingredients(df)\n",
    "freqs = dict([tuple(x) for x in ingredients.values])\n",
    "\n",
    "# Plot simple bar chart\n",
    "ax= ingredients.sort_values(by='Number of apparition', ascending=False).head(20).plot(x='Ingredient', y='Number of apparition', kind='bar')\n",
    "ax.set_title('Distribution of the ingredients')\n",
    "b=ax.set_ylabel('Number of apparition')"
   ]
  },
  {
   "cell_type": "markdown",
   "metadata": {},
   "source": [
    "### Clustering "
   ]
  },
  {
   "cell_type": "code",
   "execution_count": null,
   "metadata": {},
   "outputs": [
    {
     "data": {
      "text/html": [
       "<div>\n",
       "<style scoped>\n",
       "    .dataframe tbody tr th:only-of-type {\n",
       "        vertical-align: middle;\n",
       "    }\n",
       "\n",
       "    .dataframe tbody tr th {\n",
       "        vertical-align: top;\n",
       "    }\n",
       "\n",
       "    .dataframe thead th {\n",
       "        text-align: right;\n",
       "    }\n",
       "</style>\n",
       "<table border=\"1\" class=\"dataframe\">\n",
       "  <thead>\n",
       "    <tr style=\"text-align: right;\">\n",
       "      <th></th>\n",
       "      <th>id</th>\n",
       "      <th>name</th>\n",
       "      <th>description</th>\n",
       "      <th>photourl</th>\n",
       "      <th>tagsstring</th>\n",
       "      <th>rating</th>\n",
       "      <th>ratingcount</th>\n",
       "      <th>calories</th>\n",
       "      <th>fiber</th>\n",
       "      <th>carbohydrate</th>\n",
       "      <th>searchvector</th>\n",
       "      <th>isglobal</th>\n",
       "      <th>property</th>\n",
       "      <th>sku</th>\n",
       "      <th>type</th>\n",
       "      <th>tokenized</th>\n",
       "      <th>tokens</th>\n",
       "    </tr>\n",
       "  </thead>\n",
       "  <tbody>\n",
       "    <tr>\n",
       "      <th>0</th>\n",
       "      <td>81456</td>\n",
       "      <td>Mayhem, Pinot Gris (bottle)</td>\n",
       "      <td>750 ML</td>\n",
       "      <td>https://res.cloudinary.com/fooreco/image/uploa...</td>\n",
       "      <td>Alcohol</td>\n",
       "      <td>NaN</td>\n",
       "      <td>0</td>\n",
       "      <td>NaN</td>\n",
       "      <td>NaN</td>\n",
       "      <td>NaN</td>\n",
       "      <td>'alcohol':5 'bottl':4 'gris':3 'mayhem':1 'pin...</td>\n",
       "      <td>False</td>\n",
       "      <td>NaN</td>\n",
       "      <td>NaN</td>\n",
       "      <td>Liquor</td>\n",
       "      <td>[750 ml]</td>\n",
       "      <td>750 ml</td>\n",
       "    </tr>\n",
       "    <tr>\n",
       "      <th>1</th>\n",
       "      <td>81439</td>\n",
       "      <td>Grass Fed BC Double Cheeseburger (8oz)</td>\n",
       "      <td>8 oz grass-fed BC beef caramelized on flat top...</td>\n",
       "      <td>https://res.cloudinary.com/fooreco/image/uploa...</td>\n",
       "      <td>0</td>\n",
       "      <td>3.7</td>\n",
       "      <td>3</td>\n",
       "      <td>NaN</td>\n",
       "      <td>NaN</td>\n",
       "      <td>NaN</td>\n",
       "      <td>'8oz':6 'bc':3 'cheeseburg':5 'doubl':4 'fed':...</td>\n",
       "      <td>False</td>\n",
       "      <td>NaN</td>\n",
       "      <td>NaN</td>\n",
       "      <td>Main</td>\n",
       "      <td>[8 oz grassfed bc beef caramelized, sliced rom...</td>\n",
       "      <td>8 oz grassfed bc beef caramelized,sliced roma ...</td>\n",
       "    </tr>\n",
       "    <tr>\n",
       "      <th>2</th>\n",
       "      <td>81440</td>\n",
       "      <td>Crispy Free Run Chicken Sandwich</td>\n",
       "      <td>8oz boneless chicken leg marinated in buttermi...</td>\n",
       "      <td>https://res.cloudinary.com/fooreco/image/uploa...</td>\n",
       "      <td>Onions Chicken Honey Gluten</td>\n",
       "      <td>1.0</td>\n",
       "      <td>1</td>\n",
       "      <td>NaN</td>\n",
       "      <td>NaN</td>\n",
       "      <td>NaN</td>\n",
       "      <td>'chicken':4,7 'crispi':1 'free':2 'gluten':9 '...</td>\n",
       "      <td>False</td>\n",
       "      <td>NaN</td>\n",
       "      <td>NaN</td>\n",
       "      <td>Main</td>\n",
       "      <td>[8oz boneless chicken leg marinated, choosing ...</td>\n",
       "      <td>8oz boneless chicken leg marinated,choosing gf...</td>\n",
       "    </tr>\n",
       "    <tr>\n",
       "      <th>3</th>\n",
       "      <td>81438</td>\n",
       "      <td>Grass Fed Bc Beef Cheesburger (4oz)</td>\n",
       "      <td>4 oz grass-fed BC beef caramelized on flat top...</td>\n",
       "      <td>https://res.cloudinary.com/fooreco/image/uploa...</td>\n",
       "      <td>Beef Onions Tomato Gluten</td>\n",
       "      <td>2.7</td>\n",
       "      <td>3</td>\n",
       "      <td>NaN</td>\n",
       "      <td>NaN</td>\n",
       "      <td>NaN</td>\n",
       "      <td>'4oz':6 'bc':3 'beef':4,7 'cheesburg':5 'fed':...</td>\n",
       "      <td>False</td>\n",
       "      <td>NaN</td>\n",
       "      <td>NaN</td>\n",
       "      <td>Main</td>\n",
       "      <td>[4 oz grassfed bc beef caramelized, sliced rom...</td>\n",
       "      <td>4 oz grassfed bc beef caramelized,sliced roma ...</td>\n",
       "    </tr>\n",
       "    <tr>\n",
       "      <th>4</th>\n",
       "      <td>313</td>\n",
       "      <td>Doogh (pitcher)</td>\n",
       "      <td>Yogurt drink with special herbs.</td>\n",
       "      <td>NaN</td>\n",
       "      <td>Yogurt</td>\n",
       "      <td>NaN</td>\n",
       "      <td>0</td>\n",
       "      <td>NaN</td>\n",
       "      <td>NaN</td>\n",
       "      <td>NaN</td>\n",
       "      <td>'doogh':1 'pitcher':2 'yogurt':3</td>\n",
       "      <td>False</td>\n",
       "      <td>NaN</td>\n",
       "      <td>NaN</td>\n",
       "      <td>Drink</td>\n",
       "      <td>[yogurt drink, special herbs]</td>\n",
       "      <td>yogurt drink,special herbs</td>\n",
       "    </tr>\n",
       "  </tbody>\n",
       "</table>\n",
       "</div>"
      ],
      "text/plain": [
       "      id                                    name  \\\n",
       "0  81456             Mayhem, Pinot Gris (bottle)   \n",
       "1  81439  Grass Fed BC Double Cheeseburger (8oz)   \n",
       "2  81440        Crispy Free Run Chicken Sandwich   \n",
       "3  81438     Grass Fed Bc Beef Cheesburger (4oz)   \n",
       "4    313                         Doogh (pitcher)   \n",
       "\n",
       "                                         description  \\\n",
       "0                                            750 ML    \n",
       "1  8 oz grass-fed BC beef caramelized on flat top...   \n",
       "2  8oz boneless chicken leg marinated in buttermi...   \n",
       "3  4 oz grass-fed BC beef caramelized on flat top...   \n",
       "4                   Yogurt drink with special herbs.   \n",
       "\n",
       "                                            photourl  \\\n",
       "0  https://res.cloudinary.com/fooreco/image/uploa...   \n",
       "1  https://res.cloudinary.com/fooreco/image/uploa...   \n",
       "2  https://res.cloudinary.com/fooreco/image/uploa...   \n",
       "3  https://res.cloudinary.com/fooreco/image/uploa...   \n",
       "4                                                NaN   \n",
       "\n",
       "                          tagsstring  rating  ratingcount  calories  fiber  \\\n",
       "0                            Alcohol     NaN            0       NaN    NaN   \n",
       "1                                  0     3.7            3       NaN    NaN   \n",
       "2        Onions Chicken Honey Gluten     1.0            1       NaN    NaN   \n",
       "3          Beef Onions Tomato Gluten     2.7            3       NaN    NaN   \n",
       "4                             Yogurt     NaN            0       NaN    NaN   \n",
       "\n",
       "   carbohydrate                                       searchvector  isglobal  \\\n",
       "0           NaN  'alcohol':5 'bottl':4 'gris':3 'mayhem':1 'pin...     False   \n",
       "1           NaN  '8oz':6 'bc':3 'cheeseburg':5 'doubl':4 'fed':...     False   \n",
       "2           NaN  'chicken':4,7 'crispi':1 'free':2 'gluten':9 '...     False   \n",
       "3           NaN  '4oz':6 'bc':3 'beef':4,7 'cheesburg':5 'fed':...     False   \n",
       "4           NaN                   'doogh':1 'pitcher':2 'yogurt':3     False   \n",
       "\n",
       "  property  sku    type                                          tokenized  \\\n",
       "0      NaN  NaN  Liquor                                           [750 ml]   \n",
       "1      NaN  NaN    Main  [8 oz grassfed bc beef caramelized, sliced rom...   \n",
       "2      NaN  NaN    Main  [8oz boneless chicken leg marinated, choosing ...   \n",
       "3      NaN  NaN    Main  [4 oz grassfed bc beef caramelized, sliced rom...   \n",
       "4      NaN  NaN   Drink                      [yogurt drink, special herbs]   \n",
       "\n",
       "                                              tokens  \n",
       "0                                             750 ml  \n",
       "1  8 oz grassfed bc beef caramelized,sliced roma ...  \n",
       "2  8oz boneless chicken leg marinated,choosing gf...  \n",
       "3  4 oz grassfed bc beef caramelized,sliced roma ...  \n",
       "4                         yogurt drink,special herbs  "
      ]
     },
     "execution_count": 27,
     "metadata": {},
     "output_type": "execute_result"
    }
   ],
   "source": [
    "train_data.head()"
   ]
  },
  {
   "cell_type": "code",
   "execution_count": null,
   "metadata": {},
   "outputs": [
    {
     "data": {
      "text/plain": [
       "(5000, 17)"
      ]
     },
     "execution_count": 79,
     "metadata": {},
     "output_type": "execute_result"
    }
   ],
   "source": [
    "#subset of the data\n",
    "train_reduced = train_data.sample(n=5000)\n",
    "train_reduced.shape"
   ]
  },
  {
   "cell_type": "code",
   "execution_count": null,
   "metadata": {},
   "outputs": [],
   "source": [
    "count_matrix_reduced = counter.transform(train_reduced.tokens)"
   ]
  },
  {
   "cell_type": "code",
   "execution_count": 37,
   "metadata": {},
   "outputs": [],
   "source": [
    "from sklearn.cluster import KMeans, DBSCAN"
   ]
  },
  {
   "cell_type": "code",
   "execution_count": null,
   "metadata": {},
   "outputs": [],
   "source": [
    "kmeans = KMeans(\n",
    "init=\"random\",\n",
    "n_clusters=500,\n",
    "n_init=10,\n",
    "max_iter=1000,\n",
    "random_state=42)"
   ]
  },
  {
   "cell_type": "code",
   "execution_count": null,
   "metadata": {},
   "outputs": [
    {
     "data": {
      "text/plain": [
       "29308.09883514442"
      ]
     },
     "execution_count": 84,
     "metadata": {},
     "output_type": "execute_result"
    }
   ],
   "source": [
    "# fit to data array\n",
    "kmeans.fit(count_matrix_reduced)\n",
    "\n",
    "# The lowest SSE value\n",
    "kmeans.inertia_"
   ]
  },
  {
   "cell_type": "code",
   "execution_count": null,
   "metadata": {},
   "outputs": [
    {
     "data": {
      "text/plain": [
       "[51878.49240000002,\n",
       " 49709.26810997462,\n",
       " 48688.59775426932,\n",
       " 47545.35981387897,\n",
       " 46925.510607664095,\n",
       " 46507.89830996783,\n",
       " 46331.27755454228,\n",
       " 45827.924694460395,\n",
       " 45610.93753842718,\n",
       " 45178.5579811292,\n",
       " 45081.92806141897,\n",
       " 44534.134615509494,\n",
       " 44240.78551989259,\n",
       " 43902.53755124756,\n",
       " 43722.72358059298,\n",
       " 43632.85800991136,\n",
       " 43401.33264833872,\n",
       " 43275.316061883685,\n",
       " 42972.625408174375]"
      ]
     },
     "execution_count": 85,
     "metadata": {},
     "output_type": "execute_result"
    }
   ],
   "source": [
    "# setting key-word arguments\n",
    "\n",
    "kmeans_kwargs = {\n",
    "        \"init\": \"random\",\n",
    "        \"n_init\": 10,\n",
    "        \"max_iter\": 1000,\n",
    "        \"random_state\": 42,}\n",
    "\n",
    "\n",
    "# making a list of sum of squared errors for different cluster amounts (1-19)\n",
    "\n",
    "sse = []\n",
    "for k in range(1, 20):\n",
    "    kmeans = KMeans(n_clusters=k, **kmeans_kwargs)\n",
    "    kmeans.fit(count_matrix_reduced)\n",
    "    sse.append(kmeans.inertia_)\n",
    "\n",
    "sse"
   ]
  },
  {
   "cell_type": "code",
   "execution_count": null,
   "metadata": {},
   "outputs": [],
   "source": [
    "import matplotlib.pyplot as plt\n",
    "from sklearn.metrics import silhouette_score"
   ]
  },
  {
   "cell_type": "code",
   "execution_count": null,
   "metadata": {},
   "outputs": [
    {
     "data": {
      "image/png": "[encoded data removed]",
      "text/plain": [
       "<Figure size 432x288 with 1 Axes>"
      ]
     },
     "metadata": {},
     "output_type": "display_data"
    }
   ],
   "source": [
    "# plotting the above info \n",
    "\n",
    "plt.style.use(\"fivethirtyeight\")\n",
    "plt.plot(range(1, 20), sse)\n",
    "plt.xticks(range(1, 20))\n",
    "plt.xlabel(\"Number of Clusters\")\n",
    "plt.ylabel(\"SSE\")\n",
    "plt.show()"
   ]
  },
  {
   "cell_type": "code",
   "execution_count": null,
   "metadata": {},
   "outputs": [
    {
     "data": {
      "text/plain": [
       "[0.20101321531819188,\n",
       " 0.05853937654772239,\n",
       " 0.059298726881011905,\n",
       " 0.05544774369285615,\n",
       " 0.045072666403557775,\n",
       " 0.030282305674296513,\n",
       " 0.0382429280911515,\n",
       " 0.02414662203998417,\n",
       " 0.04484834729703896,\n",
       " 0.02286348616171906,\n",
       " 0.024088189752064032,\n",
       " 0.023021314935212395,\n",
       " 0.02414192002498217,\n",
       " 0.02244450072404686,\n",
       " 0.021434093065925634,\n",
       " 0.02293343427200681,\n",
       " 0.022462619771941125,\n",
       " 0.02310817349809465]"
      ]
     },
     "execution_count": 89,
     "metadata": {},
     "output_type": "execute_result"
    }
   ],
   "source": [
    "# Creating a list of silhouette coefficients\n",
    "\n",
    "silhouette_coefficients = []\n",
    "\n",
    "for k in range(2, 20):\n",
    "    kmeans = KMeans(n_clusters=k, **kmeans_kwargs)\n",
    "    kmeans.fit(count_matrix_reduced)\n",
    "    score = silhouette_score(count_matrix_reduced, kmeans.labels_)\n",
    "    silhouette_coefficients.append(score)\n",
    "\n",
    "silhouette_coefficients"
   ]
  },
  {
   "cell_type": "code",
   "execution_count": null,
   "metadata": {},
   "outputs": [
    {
     "data": {
      "image/png": "[encoded data removed]",
      "text/plain": [
       "<Figure size 432x288 with 1 Axes>"
      ]
     },
     "metadata": {},
     "output_type": "display_data"
    }
   ],
   "source": [
    "# plotting the above \n",
    "\n",
    "plt.style.use(\"fivethirtyeight\")\n",
    "plt.plot(range(2, 20), silhouette_coefficients)\n",
    "plt.xticks(range(2, 20))\n",
    "plt.xlabel(\"Number of Clusters\")\n",
    "plt.ylabel(\"Silhouette Coefficient\")\n",
    "plt.show()"
   ]
  },
  {
   "cell_type": "code",
   "execution_count": null,
   "metadata": {},
   "outputs": [
    {
     "data": {
      "text/plain": [
       "(0.02, -0.25)"
      ]
     },
     "execution_count": 92,
     "metadata": {},
     "output_type": "execute_result"
    }
   ],
   "source": [
    "#comparing silhouette scores for 2 algos\n",
    "\n",
    "# Instantiate k-means and dbscan algorithms\n",
    "kmeans = KMeans(n_clusters=200)\n",
    "dbscan = DBSCAN(eps=1.4)\n",
    "\n",
    "# Fit the algorithms to the features\n",
    "kmeans.fit(count_matrix_reduced)\n",
    "dbscan.fit(count_matrix_reduced)\n",
    "\n",
    "# Compute the silhouette scores for each algorithm\n",
    "kmeans_silhouette = silhouette_score(count_matrix_reduced, kmeans.labels_).round(2)\n",
    "dbscan_silhouette = silhouette_score(count_matrix_reduced, dbscan.labels_).round (2)\n",
    "\n",
    "# comapring the KMeans and DBscan silhouette scores\n",
    "kmeans_silhouette, dbscan_silhouette"
   ]
  },
  {
   "cell_type": "code",
   "execution_count": null,
   "metadata": {},
   "outputs": [],
   "source": [
    "# using the fit and predict methods to generate clusters\n",
    "\n",
    "km = KMeans(n_clusters=300)\n",
    "X_clustered=km.fit_predict(count_matrix_reduced)\n",
    "\n",
    "db = DBSCAN(eps=1.4, algorithm='auto')\n",
    "X_clustered2 = db.fit_predict(count_matrix_reduced)"
   ]
  },
  {
   "cell_type": "code",
   "execution_count": null,
   "metadata": {},
   "outputs": [
    {
     "name": "stderr",
     "output_type": "stream",
     "text": [
      "/var/folders/pm/804wbvdx4lz30mqcr3mys38r0000gn/T/ipykernel_96778/3176517310.py:1: SettingWithCopyWarning: \n",
      "A value is trying to be set on a copy of a slice from a DataFrame.\n",
      "Try using .loc[row_indexer,col_indexer] = value instead\n",
      "\n",
      "See the caveats in the documentation: https://pandas.pydata.org/pandas-docs/stable/user_guide/indexing.html#returning-a-view-versus-a-copy\n",
      "  train_data['cluster_1'] = X_clustered\n"
     ]
    }
   ],
   "source": [
    "train_data['cluster_1'] = X_clustered\n"
   ]
  },
  {
   "cell_type": "code",
   "execution_count": null,
   "metadata": {},
   "outputs": [
    {
     "name": "stderr",
     "output_type": "stream",
     "text": [
      "/var/folders/pm/804wbvdx4lz30mqcr3mys38r0000gn/T/ipykernel_96778/4124583156.py:1: SettingWithCopyWarning: \n",
      "A value is trying to be set on a copy of a slice from a DataFrame.\n",
      "Try using .loc[row_indexer,col_indexer] = value instead\n",
      "\n",
      "See the caveats in the documentation: https://pandas.pydata.org/pandas-docs/stable/user_guide/indexing.html#returning-a-view-versus-a-copy\n",
      "  train_data['cluster_2'] = X_clustered2\n"
     ]
    }
   ],
   "source": [
    "train_data['cluster_2'] = X_clustered2\n"
   ]
  },
  {
   "cell_type": "code",
   "execution_count": null,
   "metadata": {},
   "outputs": [
    {
     "data": {
      "text/html": [
       "<div>\n",
       "<style scoped>\n",
       "    .dataframe tbody tr th:only-of-type {\n",
       "        vertical-align: middle;\n",
       "    }\n",
       "\n",
       "    .dataframe tbody tr th {\n",
       "        vertical-align: top;\n",
       "    }\n",
       "\n",
       "    .dataframe thead th {\n",
       "        text-align: right;\n",
       "    }\n",
       "</style>\n",
       "<table border=\"1\" class=\"dataframe\">\n",
       "  <thead>\n",
       "    <tr style=\"text-align: right;\">\n",
       "      <th></th>\n",
       "      <th>id</th>\n",
       "      <th>name</th>\n",
       "      <th>description</th>\n",
       "      <th>photourl</th>\n",
       "      <th>tagsstring</th>\n",
       "      <th>rating</th>\n",
       "      <th>ratingcount</th>\n",
       "      <th>calories</th>\n",
       "      <th>fiber</th>\n",
       "      <th>carbohydrate</th>\n",
       "      <th>searchvector</th>\n",
       "      <th>isglobal</th>\n",
       "      <th>property</th>\n",
       "      <th>sku</th>\n",
       "      <th>type</th>\n",
       "      <th>tokenized</th>\n",
       "      <th>tokens</th>\n",
       "      <th>cluster_1</th>\n",
       "      <th>cluster_2</th>\n",
       "    </tr>\n",
       "  </thead>\n",
       "  <tbody>\n",
       "    <tr>\n",
       "      <th>0</th>\n",
       "      <td>81456</td>\n",
       "      <td>Mayhem, Pinot Gris (bottle)</td>\n",
       "      <td>750 ML</td>\n",
       "      <td>https://res.cloudinary.com/fooreco/image/uploa...</td>\n",
       "      <td>Alcohol</td>\n",
       "      <td>NaN</td>\n",
       "      <td>0</td>\n",
       "      <td>NaN</td>\n",
       "      <td>NaN</td>\n",
       "      <td>NaN</td>\n",
       "      <td>'alcohol':5 'bottl':4 'gris':3 'mayhem':1 'pin...</td>\n",
       "      <td>False</td>\n",
       "      <td>NaN</td>\n",
       "      <td>NaN</td>\n",
       "      <td>Liquor</td>\n",
       "      <td>[750 ml]</td>\n",
       "      <td>750 ml</td>\n",
       "      <td>14</td>\n",
       "      <td>-1</td>\n",
       "    </tr>\n",
       "    <tr>\n",
       "      <th>1</th>\n",
       "      <td>81439</td>\n",
       "      <td>Grass Fed BC Double Cheeseburger (8oz)</td>\n",
       "      <td>8 oz grass-fed BC beef caramelized on flat top...</td>\n",
       "      <td>https://res.cloudinary.com/fooreco/image/uploa...</td>\n",
       "      <td>0</td>\n",
       "      <td>3.7</td>\n",
       "      <td>3</td>\n",
       "      <td>NaN</td>\n",
       "      <td>NaN</td>\n",
       "      <td>NaN</td>\n",
       "      <td>'8oz':6 'bc':3 'cheeseburg':5 'doubl':4 'fed':...</td>\n",
       "      <td>False</td>\n",
       "      <td>NaN</td>\n",
       "      <td>NaN</td>\n",
       "      <td>Main</td>\n",
       "      <td>[8 oz grassfed bc beef caramelized, sliced rom...</td>\n",
       "      <td>8 oz grassfed bc beef caramelized,sliced roma ...</td>\n",
       "      <td>116</td>\n",
       "      <td>-1</td>\n",
       "    </tr>\n",
       "    <tr>\n",
       "      <th>2</th>\n",
       "      <td>81440</td>\n",
       "      <td>Crispy Free Run Chicken Sandwich</td>\n",
       "      <td>8oz boneless chicken leg marinated in buttermi...</td>\n",
       "      <td>https://res.cloudinary.com/fooreco/image/uploa...</td>\n",
       "      <td>Onions Chicken Honey Gluten</td>\n",
       "      <td>1.0</td>\n",
       "      <td>1</td>\n",
       "      <td>NaN</td>\n",
       "      <td>NaN</td>\n",
       "      <td>NaN</td>\n",
       "      <td>'chicken':4,7 'crispi':1 'free':2 'gluten':9 '...</td>\n",
       "      <td>False</td>\n",
       "      <td>NaN</td>\n",
       "      <td>NaN</td>\n",
       "      <td>Main</td>\n",
       "      <td>[8oz boneless chicken leg marinated, choosing ...</td>\n",
       "      <td>8oz boneless chicken leg marinated,choosing gf...</td>\n",
       "      <td>116</td>\n",
       "      <td>-1</td>\n",
       "    </tr>\n",
       "    <tr>\n",
       "      <th>3</th>\n",
       "      <td>81438</td>\n",
       "      <td>Grass Fed Bc Beef Cheesburger (4oz)</td>\n",
       "      <td>4 oz grass-fed BC beef caramelized on flat top...</td>\n",
       "      <td>https://res.cloudinary.com/fooreco/image/uploa...</td>\n",
       "      <td>Beef Onions Tomato Gluten</td>\n",
       "      <td>2.7</td>\n",
       "      <td>3</td>\n",
       "      <td>NaN</td>\n",
       "      <td>NaN</td>\n",
       "      <td>NaN</td>\n",
       "      <td>'4oz':6 'bc':3 'beef':4,7 'cheesburg':5 'fed':...</td>\n",
       "      <td>False</td>\n",
       "      <td>NaN</td>\n",
       "      <td>NaN</td>\n",
       "      <td>Main</td>\n",
       "      <td>[4 oz grassfed bc beef caramelized, sliced rom...</td>\n",
       "      <td>4 oz grassfed bc beef caramelized,sliced roma ...</td>\n",
       "      <td>116</td>\n",
       "      <td>-1</td>\n",
       "    </tr>\n",
       "    <tr>\n",
       "      <th>4</th>\n",
       "      <td>313</td>\n",
       "      <td>Doogh (pitcher)</td>\n",
       "      <td>Yogurt drink with special herbs.</td>\n",
       "      <td>NaN</td>\n",
       "      <td>Yogurt</td>\n",
       "      <td>NaN</td>\n",
       "      <td>0</td>\n",
       "      <td>NaN</td>\n",
       "      <td>NaN</td>\n",
       "      <td>NaN</td>\n",
       "      <td>'doogh':1 'pitcher':2 'yogurt':3</td>\n",
       "      <td>False</td>\n",
       "      <td>NaN</td>\n",
       "      <td>NaN</td>\n",
       "      <td>Drink</td>\n",
       "      <td>[yogurt drink, special herbs]</td>\n",
       "      <td>yogurt drink,special herbs</td>\n",
       "      <td>160</td>\n",
       "      <td>-1</td>\n",
       "    </tr>\n",
       "  </tbody>\n",
       "</table>\n",
       "</div>"
      ],
      "text/plain": [
       "      id                                    name  \\\n",
       "0  81456             Mayhem, Pinot Gris (bottle)   \n",
       "1  81439  Grass Fed BC Double Cheeseburger (8oz)   \n",
       "2  81440        Crispy Free Run Chicken Sandwich   \n",
       "3  81438     Grass Fed Bc Beef Cheesburger (4oz)   \n",
       "4    313                         Doogh (pitcher)   \n",
       "\n",
       "                                         description  \\\n",
       "0                                            750 ML    \n",
       "1  8 oz grass-fed BC beef caramelized on flat top...   \n",
       "2  8oz boneless chicken leg marinated in buttermi...   \n",
       "3  4 oz grass-fed BC beef caramelized on flat top...   \n",
       "4                   Yogurt drink with special herbs.   \n",
       "\n",
       "                                            photourl  \\\n",
       "0  https://res.cloudinary.com/fooreco/image/uploa...   \n",
       "1  https://res.cloudinary.com/fooreco/image/uploa...   \n",
       "2  https://res.cloudinary.com/fooreco/image/uploa...   \n",
       "3  https://res.cloudinary.com/fooreco/image/uploa...   \n",
       "4                                                NaN   \n",
       "\n",
       "                          tagsstring  rating  ratingcount  calories  fiber  \\\n",
       "0                            Alcohol     NaN            0       NaN    NaN   \n",
       "1                                  0     3.7            3       NaN    NaN   \n",
       "2        Onions Chicken Honey Gluten     1.0            1       NaN    NaN   \n",
       "3          Beef Onions Tomato Gluten     2.7            3       NaN    NaN   \n",
       "4                             Yogurt     NaN            0       NaN    NaN   \n",
       "\n",
       "   carbohydrate                                       searchvector  isglobal  \\\n",
       "0           NaN  'alcohol':5 'bottl':4 'gris':3 'mayhem':1 'pin...     False   \n",
       "1           NaN  '8oz':6 'bc':3 'cheeseburg':5 'doubl':4 'fed':...     False   \n",
       "2           NaN  'chicken':4,7 'crispi':1 'free':2 'gluten':9 '...     False   \n",
       "3           NaN  '4oz':6 'bc':3 'beef':4,7 'cheesburg':5 'fed':...     False   \n",
       "4           NaN                   'doogh':1 'pitcher':2 'yogurt':3     False   \n",
       "\n",
       "  property  sku    type                                          tokenized  \\\n",
       "0      NaN  NaN  Liquor                                           [750 ml]   \n",
       "1      NaN  NaN    Main  [8 oz grassfed bc beef caramelized, sliced rom...   \n",
       "2      NaN  NaN    Main  [8oz boneless chicken leg marinated, choosing ...   \n",
       "3      NaN  NaN    Main  [4 oz grassfed bc beef caramelized, sliced rom...   \n",
       "4      NaN  NaN   Drink                      [yogurt drink, special herbs]   \n",
       "\n",
       "                                              tokens  cluster_1  cluster_2  \n",
       "0                                             750 ml         14         -1  \n",
       "1  8 oz grassfed bc beef caramelized,sliced roma ...        116         -1  \n",
       "2  8oz boneless chicken leg marinated,choosing gf...        116         -1  \n",
       "3  4 oz grassfed bc beef caramelized,sliced roma ...        116         -1  \n",
       "4                         yogurt drink,special herbs        160         -1  "
      ]
     },
     "execution_count": 41,
     "metadata": {},
     "output_type": "execute_result"
    }
   ],
   "source": [
    "train_data.head()"
   ]
  },
  {
   "cell_type": "code",
   "execution_count": null,
   "metadata": {},
   "outputs": [
    {
     "data": {
      "text/plain": [
       "(19903, 19)"
      ]
     },
     "execution_count": 73,
     "metadata": {},
     "output_type": "execute_result"
    }
   ],
   "source": [
    "train_data.shape"
   ]
  },
  {
   "cell_type": "code",
   "execution_count": null,
   "metadata": {},
   "outputs": [
    {
     "data": {
      "text/plain": [
       "14     2017\n",
       "73      440\n",
       "65      339\n",
       "110     313\n",
       "262     305\n",
       "169     277\n",
       "99      269\n",
       "62      254\n",
       "42      239\n",
       "152     236\n",
       "39      235\n",
       "227     233\n",
       "237     232\n",
       "256     231\n",
       "137     227\n",
       "19      219\n",
       "189     211\n",
       "177     206\n",
       "75      201\n",
       "270     197\n",
       "13      195\n",
       "258     195\n",
       "140     182\n",
       "56      172\n",
       "196     171\n",
       "251     170\n",
       "259     166\n",
       "87      165\n",
       "81      161\n",
       "267     161\n",
       "Name: cluster_1, dtype: int64"
      ]
     },
     "execution_count": 63,
     "metadata": {},
     "output_type": "execute_result"
    }
   ],
   "source": [
    "train_data.cluster_1.value_counts().sort_values(ascending = False).head(30)"
   ]
  },
  {
   "cell_type": "code",
   "execution_count": 45,
   "metadata": {},
   "outputs": [],
   "source": [
    "import sklearn.decomposition\n",
    "import matplotlib.colors\n",
    "import sklearn.cluster as cluster"
   ]
  },
  {
   "cell_type": "code",
   "execution_count": null,
   "metadata": {},
   "outputs": [
    {
     "data": {
      "text/plain": [
       "<matplotlib.collections.PathCollection at 0x7fc443fe5310>"
      ]
     },
     "execution_count": 104,
     "metadata": {},
     "output_type": "execute_result"
    },
    {
     "data": {
      "image/png": "[encoded data removed]",
      "text/plain": [
       "<Figure size 432x288 with 1 Axes>"
      ]
     },
     "metadata": {},
     "output_type": "display_data"
    }
   ],
   "source": [
    "# K Means algo\n",
    "import sklearn.decomposition\n",
    "import matplotlib.colors\n",
    "import sklearn.cluster as cluster\n",
    "# Make a variable called model. \n",
    "model= cluster.KMeans(n_clusters=200)\n",
    "# Call a fit_predict() on X \n",
    "cluster_assignments = model.fit_predict(count_matrix_reduced)\n",
    "\n",
    "# Use decomposition.PCA, and pass n_components=2 as parameter\n",
    "pca = sklearn.decomposition.PCA(n_components=2)\n",
    "pc1, pc2 = zip(*pca.fit_transform(count_matrix_reduced))\n",
    "plt.scatter(pc1, pc2, c=cluster_assignments.tolist())"
   ]
  },
  {
   "cell_type": "code",
   "execution_count": null,
   "metadata": {},
   "outputs": [
    {
     "data": {
      "image/png": "[encoded data removed]",
      "text/plain": [
       "<Figure size 720x2880 with 1 Axes>"
      ]
     },
     "metadata": {},
     "output_type": "display_data"
    }
   ],
   "source": [
    "#filter rows of original data\n",
    "filtered_label = train_data[X_clustered == 19]\n",
    "filtered_label_1 = train_data[X_clustered == 75]\n",
    " \n",
    "#plotting the results\n",
    "plt.figure(figsize=[10,40])\n",
    "plt.scatter(filtered_label.iloc[:].cluster_1 , filtered_label.iloc[:].index)\n",
    "plt.scatter(filtered_label_1.iloc[:].cluster_1 , filtered_label_1.iloc[:].index)\n",
    "plt.show()"
   ]
  },
  {
   "cell_type": "code",
   "execution_count": null,
   "metadata": {},
   "outputs": [
    {
     "data": {
      "text/plain": [
       "Int64Index([    7,    21,   225,   249,   260,   429,   638,   913,   943,\n",
       "              966,\n",
       "            ...\n",
       "            19566, 19567, 19591, 19592, 19593, 19594, 19664, 19669, 19702,\n",
       "            19703],\n",
       "           dtype='int64', length=313)"
      ]
     },
     "execution_count": 52,
     "metadata": {},
     "output_type": "execute_result"
    }
   ],
   "source": [
    "filtered_label.iloc[:].index"
   ]
  },
  {
   "cell_type": "code",
   "execution_count": null,
   "metadata": {},
   "outputs": [],
   "source": []
  },
  {
   "cell_type": "code",
   "execution_count": null,
   "metadata": {},
   "outputs": [],
   "source": []
  },
  {
   "cell_type": "code",
   "execution_count": null,
   "metadata": {},
   "outputs": [],
   "source": []
  },
  {
   "cell_type": "code",
   "execution_count": null,
   "metadata": {},
   "outputs": [],
   "source": []
  },
  {
   "cell_type": "code",
   "execution_count": null,
   "metadata": {},
   "outputs": [],
   "source": []
  },
  {
   "cell_type": "code",
   "execution_count": 204,
   "metadata": {},
   "outputs": [
    {
     "name": "stderr",
     "output_type": "stream",
     "text": [
      "/Users/nakisaabbasi/opt/anaconda3/lib/python3.9/site-packages/IPython/core/interactiveshell.py:3444: DtypeWarning: Columns (12) have mixed types.Specify dtype option on import or set low_memory=False.\n",
      "  exec(code_obj, self.user_global_ns, self.user_ns)\n"
     ]
    }
   ],
   "source": [
    "info_items = pd.read_csv('../data/itemsInfo.csv')\n",
    "items = pd.read_csv('../data/items.csv')\n",
    "orders = pd.read_csv('../data/full_data.csv')\n",
    "items_full = pd.read_csv('../data/itemsInfo_full.csv')\n"
   ]
  },
  {
   "cell_type": "code",
   "execution_count": 184,
   "metadata": {},
   "outputs": [
    {
     "data": {
      "text/html": [
       "<div>\n",
       "<style scoped>\n",
       "    .dataframe tbody tr th:only-of-type {\n",
       "        vertical-align: middle;\n",
       "    }\n",
       "\n",
       "    .dataframe tbody tr th {\n",
       "        vertical-align: top;\n",
       "    }\n",
       "\n",
       "    .dataframe thead th {\n",
       "        text-align: right;\n",
       "    }\n",
       "</style>\n",
       "<table border=\"1\" class=\"dataframe\">\n",
       "  <thead>\n",
       "    <tr style=\"text-align: right;\">\n",
       "      <th></th>\n",
       "      <th>Id</th>\n",
       "      <th>Name</th>\n",
       "      <th>Description</th>\n",
       "      <th>PhotoUrl</th>\n",
       "      <th>TagsString</th>\n",
       "      <th>Rating</th>\n",
       "      <th>RatingCount</th>\n",
       "      <th>Calories</th>\n",
       "      <th>Fiber</th>\n",
       "      <th>Carbohydrate</th>\n",
       "      <th>SearchVector</th>\n",
       "      <th>IsGlobal</th>\n",
       "      <th>Property</th>\n",
       "      <th>Sku</th>\n",
       "      <th>Type</th>\n",
       "    </tr>\n",
       "  </thead>\n",
       "  <tbody>\n",
       "    <tr>\n",
       "      <th>0</th>\n",
       "      <td>81465</td>\n",
       "      <td>Popina Bottled Water</td>\n",
       "      <td>NaN</td>\n",
       "      <td>https://res.cloudinary.com/fooreco/image/uploa...</td>\n",
       "      <td>NaN</td>\n",
       "      <td>NaN</td>\n",
       "      <td>0</td>\n",
       "      <td>NaN</td>\n",
       "      <td>NaN</td>\n",
       "      <td>NaN</td>\n",
       "      <td>'bottl':2 'popina':1 'water':3</td>\n",
       "      <td>False</td>\n",
       "      <td>NaN</td>\n",
       "      <td>NaN</td>\n",
       "      <td>Drink</td>\n",
       "    </tr>\n",
       "    <tr>\n",
       "      <th>1</th>\n",
       "      <td>81456</td>\n",
       "      <td>Mayhem, Pinot Gris (bottle)</td>\n",
       "      <td>750 ML</td>\n",
       "      <td>https://res.cloudinary.com/fooreco/image/uploa...</td>\n",
       "      <td>Alcohol</td>\n",
       "      <td>NaN</td>\n",
       "      <td>0</td>\n",
       "      <td>NaN</td>\n",
       "      <td>NaN</td>\n",
       "      <td>NaN</td>\n",
       "      <td>'alcohol':5 'bottl':4 'gris':3 'mayhem':1 'pin...</td>\n",
       "      <td>False</td>\n",
       "      <td>NaN</td>\n",
       "      <td>NaN</td>\n",
       "      <td>Liquor</td>\n",
       "    </tr>\n",
       "    <tr>\n",
       "      <th>2</th>\n",
       "      <td>81457</td>\n",
       "      <td>Bartier Bros, Merlot (bottle)</td>\n",
       "      <td>NaN</td>\n",
       "      <td>https://res.cloudinary.com/fooreco/image/uploa...</td>\n",
       "      <td>Alcohol</td>\n",
       "      <td>NaN</td>\n",
       "      <td>0</td>\n",
       "      <td>NaN</td>\n",
       "      <td>NaN</td>\n",
       "      <td>NaN</td>\n",
       "      <td>'alcohol':5 'bartier':1 'bottl':4 'bros':2 'me...</td>\n",
       "      <td>False</td>\n",
       "      <td>NaN</td>\n",
       "      <td>NaN</td>\n",
       "      <td>Liquor</td>\n",
       "    </tr>\n",
       "  </tbody>\n",
       "</table>\n",
       "</div>"
      ],
      "text/plain": [
       "      Id                            Name Description  \\\n",
       "0  81465            Popina Bottled Water         NaN   \n",
       "1  81456     Mayhem, Pinot Gris (bottle)     750 ML    \n",
       "2  81457   Bartier Bros, Merlot (bottle)         NaN   \n",
       "\n",
       "                                            PhotoUrl TagsString  Rating  \\\n",
       "0  https://res.cloudinary.com/fooreco/image/uploa...        NaN     NaN   \n",
       "1  https://res.cloudinary.com/fooreco/image/uploa...    Alcohol     NaN   \n",
       "2  https://res.cloudinary.com/fooreco/image/uploa...    Alcohol     NaN   \n",
       "\n",
       "   RatingCount  Calories  Fiber  Carbohydrate  \\\n",
       "0            0       NaN    NaN           NaN   \n",
       "1            0       NaN    NaN           NaN   \n",
       "2            0       NaN    NaN           NaN   \n",
       "\n",
       "                                        SearchVector  IsGlobal Property  Sku  \\\n",
       "0                     'bottl':2 'popina':1 'water':3     False      NaN  NaN   \n",
       "1  'alcohol':5 'bottl':4 'gris':3 'mayhem':1 'pin...     False      NaN  NaN   \n",
       "2  'alcohol':5 'bartier':1 'bottl':4 'bros':2 'me...     False      NaN  NaN   \n",
       "\n",
       "     Type  \n",
       "0   Drink  \n",
       "1  Liquor  \n",
       "2  Liquor  "
      ]
     },
     "execution_count": 184,
     "metadata": {},
     "output_type": "execute_result"
    }
   ],
   "source": [
    "info_items.head(3)"
   ]
  },
  {
   "cell_type": "code",
   "execution_count": 185,
   "metadata": {},
   "outputs": [
    {
     "data": {
      "text/html": [
       "<div>\n",
       "<style scoped>\n",
       "    .dataframe tbody tr th:only-of-type {\n",
       "        vertical-align: middle;\n",
       "    }\n",
       "\n",
       "    .dataframe tbody tr th {\n",
       "        vertical-align: top;\n",
       "    }\n",
       "\n",
       "    .dataframe thead th {\n",
       "        text-align: right;\n",
       "    }\n",
       "</style>\n",
       "<table border=\"1\" class=\"dataframe\">\n",
       "  <thead>\n",
       "    <tr style=\"text-align: right;\">\n",
       "      <th></th>\n",
       "      <th>Id</th>\n",
       "      <th>Price</th>\n",
       "      <th>MenuBookCategoryId</th>\n",
       "      <th>MenuBookId</th>\n",
       "      <th>AvailableDays</th>\n",
       "      <th>OrderIndex</th>\n",
       "      <th>IsAvailable</th>\n",
       "      <th>InfoId</th>\n",
       "      <th>ViewCount</th>\n",
       "      <th>DiscountId</th>\n",
       "      <th>IsHidden</th>\n",
       "    </tr>\n",
       "  </thead>\n",
       "  <tbody>\n",
       "    <tr>\n",
       "      <th>0</th>\n",
       "      <td>8345</td>\n",
       "      <td>0.9</td>\n",
       "      <td>1150</td>\n",
       "      <td>240</td>\n",
       "      <td>NaN</td>\n",
       "      <td>0</td>\n",
       "      <td>True</td>\n",
       "      <td>8258</td>\n",
       "      <td>0</td>\n",
       "      <td>NaN</td>\n",
       "      <td>False</td>\n",
       "    </tr>\n",
       "    <tr>\n",
       "      <th>1</th>\n",
       "      <td>8346</td>\n",
       "      <td>7.0</td>\n",
       "      <td>1150</td>\n",
       "      <td>240</td>\n",
       "      <td>NaN</td>\n",
       "      <td>0</td>\n",
       "      <td>True</td>\n",
       "      <td>8259</td>\n",
       "      <td>0</td>\n",
       "      <td>NaN</td>\n",
       "      <td>False</td>\n",
       "    </tr>\n",
       "    <tr>\n",
       "      <th>2</th>\n",
       "      <td>2046</td>\n",
       "      <td>18.0</td>\n",
       "      <td>343</td>\n",
       "      <td>172</td>\n",
       "      <td>NaN</td>\n",
       "      <td>0</td>\n",
       "      <td>True</td>\n",
       "      <td>1959</td>\n",
       "      <td>0</td>\n",
       "      <td>NaN</td>\n",
       "      <td>False</td>\n",
       "    </tr>\n",
       "  </tbody>\n",
       "</table>\n",
       "</div>"
      ],
      "text/plain": [
       "     Id  Price  MenuBookCategoryId  MenuBookId AvailableDays  OrderIndex  \\\n",
       "0  8345    0.9                1150         240           NaN           0   \n",
       "1  8346    7.0                1150         240           NaN           0   \n",
       "2  2046   18.0                 343         172           NaN           0   \n",
       "\n",
       "   IsAvailable  InfoId  ViewCount  DiscountId  IsHidden  \n",
       "0         True    8258          0         NaN     False  \n",
       "1         True    8259          0         NaN     False  \n",
       "2         True    1959          0         NaN     False  "
      ]
     },
     "execution_count": 185,
     "metadata": {},
     "output_type": "execute_result"
    }
   ],
   "source": [
    "items.head(3)"
   ]
  },
  {
   "cell_type": "code",
   "execution_count": 186,
   "metadata": {},
   "outputs": [
    {
     "data": {
      "text/html": [
       "<div>\n",
       "<style scoped>\n",
       "    .dataframe tbody tr th:only-of-type {\n",
       "        vertical-align: middle;\n",
       "    }\n",
       "\n",
       "    .dataframe tbody tr th {\n",
       "        vertical-align: top;\n",
       "    }\n",
       "\n",
       "    .dataframe thead th {\n",
       "        text-align: right;\n",
       "    }\n",
       "</style>\n",
       "<table border=\"1\" class=\"dataframe\">\n",
       "  <thead>\n",
       "    <tr style=\"text-align: right;\">\n",
       "      <th></th>\n",
       "      <th>OrderId</th>\n",
       "      <th>UserId</th>\n",
       "      <th>RestaurantId</th>\n",
       "      <th>Date</th>\n",
       "      <th>Rating</th>\n",
       "      <th>Comments</th>\n",
       "      <th>Address</th>\n",
       "      <th>Count</th>\n",
       "      <th>ItemId</th>\n",
       "      <th>Price</th>\n",
       "      <th>ViewCount</th>\n",
       "      <th>Name</th>\n",
       "      <th>Description</th>\n",
       "      <th>SearchVector</th>\n",
       "      <th>Type</th>\n",
       "    </tr>\n",
       "  </thead>\n",
       "  <tbody>\n",
       "    <tr>\n",
       "      <th>0</th>\n",
       "      <td>8</td>\n",
       "      <td>113</td>\n",
       "      <td>110</td>\n",
       "      <td>2020-03-28 08:15:25.615002</td>\n",
       "      <td>NaN</td>\n",
       "      <td>NaN</td>\n",
       "      <td>{'Id': 4, 'Lat': 49.28319399999999, 'Lng': -12...</td>\n",
       "      <td>1</td>\n",
       "      <td>211</td>\n",
       "      <td>15.0</td>\n",
       "      <td>0.0</td>\n",
       "      <td>Tableside Spinach Salad</td>\n",
       "      <td>NaN</td>\n",
       "      <td>'almond':8 'babi':4 'bacon':11 'jack':10 'mont...</td>\n",
       "      <td>Main</td>\n",
       "    </tr>\n",
       "    <tr>\n",
       "      <th>1</th>\n",
       "      <td>8</td>\n",
       "      <td>113</td>\n",
       "      <td>110</td>\n",
       "      <td>2020-03-28 08:15:25.615002</td>\n",
       "      <td>NaN</td>\n",
       "      <td>NaN</td>\n",
       "      <td>{'Id': 4, 'Lat': 49.28319399999999, 'Lng': -12...</td>\n",
       "      <td>1</td>\n",
       "      <td>218</td>\n",
       "      <td>27.0</td>\n",
       "      <td>0.0</td>\n",
       "      <td>King Crab</td>\n",
       "      <td>NaN</td>\n",
       "      <td>'blanc':9 'buerr':8 'caper':7 'char':3 'chilli...</td>\n",
       "      <td>Main</td>\n",
       "    </tr>\n",
       "    <tr>\n",
       "      <th>2</th>\n",
       "      <td>293</td>\n",
       "      <td>4</td>\n",
       "      <td>121</td>\n",
       "      <td>2020-05-13 01:20:59.267256</td>\n",
       "      <td>NaN</td>\n",
       "      <td>NaN</td>\n",
       "      <td>NaN</td>\n",
       "      <td>1</td>\n",
       "      <td>440</td>\n",
       "      <td>14.0</td>\n",
       "      <td>1097.0</td>\n",
       "      <td>Joojeh Kabab With Rice</td>\n",
       "      <td>One skewer of chicken breast marinated with yo...</td>\n",
       "      <td>'bbq':14 'chicken':11 'joojeh':1 'juic':9 'kab...</td>\n",
       "      <td>Main</td>\n",
       "    </tr>\n",
       "  </tbody>\n",
       "</table>\n",
       "</div>"
      ],
      "text/plain": [
       "   OrderId  UserId  RestaurantId                        Date  Rating Comments  \\\n",
       "0        8     113           110  2020-03-28 08:15:25.615002     NaN      NaN   \n",
       "1        8     113           110  2020-03-28 08:15:25.615002     NaN      NaN   \n",
       "2      293       4           121  2020-05-13 01:20:59.267256     NaN      NaN   \n",
       "\n",
       "                                             Address  Count  ItemId  Price  \\\n",
       "0  {'Id': 4, 'Lat': 49.28319399999999, 'Lng': -12...      1     211   15.0   \n",
       "1  {'Id': 4, 'Lat': 49.28319399999999, 'Lng': -12...      1     218   27.0   \n",
       "2                                                NaN      1     440   14.0   \n",
       "\n",
       "   ViewCount                     Name  \\\n",
       "0        0.0  Tableside Spinach Salad   \n",
       "1        0.0                King Crab   \n",
       "2     1097.0   Joojeh Kabab With Rice   \n",
       "\n",
       "                                         Description  \\\n",
       "0                                                NaN   \n",
       "1                                                NaN   \n",
       "2  One skewer of chicken breast marinated with yo...   \n",
       "\n",
       "                                        SearchVector  Type  \n",
       "0  'almond':8 'babi':4 'bacon':11 'jack':10 'mont...  Main  \n",
       "1  'blanc':9 'buerr':8 'caper':7 'char':3 'chilli...  Main  \n",
       "2  'bbq':14 'chicken':11 'joojeh':1 'juic':9 'kab...  Main  "
      ]
     },
     "execution_count": 186,
     "metadata": {},
     "output_type": "execute_result"
    }
   ],
   "source": [
    "orders.head(3)"
   ]
  },
  {
   "cell_type": "code",
   "execution_count": 205,
   "metadata": {},
   "outputs": [
    {
     "data": {
      "text/html": [
       "<div>\n",
       "<style scoped>\n",
       "    .dataframe tbody tr th:only-of-type {\n",
       "        vertical-align: middle;\n",
       "    }\n",
       "\n",
       "    .dataframe tbody tr th {\n",
       "        vertical-align: top;\n",
       "    }\n",
       "\n",
       "    .dataframe thead th {\n",
       "        text-align: right;\n",
       "    }\n",
       "</style>\n",
       "<table border=\"1\" class=\"dataframe\">\n",
       "  <thead>\n",
       "    <tr style=\"text-align: right;\">\n",
       "      <th></th>\n",
       "      <th>Id</th>\n",
       "      <th>Price</th>\n",
       "      <th>ViewCount</th>\n",
       "      <th>Name</th>\n",
       "      <th>Description</th>\n",
       "      <th>SearchVector</th>\n",
       "      <th>Type</th>\n",
       "    </tr>\n",
       "  </thead>\n",
       "  <tbody>\n",
       "    <tr>\n",
       "      <th>0</th>\n",
       "      <td>8345</td>\n",
       "      <td>0.9</td>\n",
       "      <td>0</td>\n",
       "      <td>Cookie</td>\n",
       "      <td>Freshly baked cookies. One order comes with on...</td>\n",
       "      <td>'cooki':1</td>\n",
       "      <td>Main</td>\n",
       "    </tr>\n",
       "    <tr>\n",
       "      <th>1</th>\n",
       "      <td>8346</td>\n",
       "      <td>7.0</td>\n",
       "      <td>0</td>\n",
       "      <td>12 Cookies</td>\n",
       "      <td>Freshly baked cookies. One order comes with tw...</td>\n",
       "      <td>'12':1 'cooki':2</td>\n",
       "      <td>Main</td>\n",
       "    </tr>\n",
       "    <tr>\n",
       "      <th>2</th>\n",
       "      <td>2046</td>\n",
       "      <td>18.0</td>\n",
       "      <td>0</td>\n",
       "      <td>Sausage Hash-n-eggs</td>\n",
       "      <td>NaN</td>\n",
       "      <td>'egg':5 'hash':3 'hash-n-egg':2 'n':4 'sausag':1</td>\n",
       "      <td>Main</td>\n",
       "    </tr>\n",
       "    <tr>\n",
       "      <th>3</th>\n",
       "      <td>2047</td>\n",
       "      <td>18.0</td>\n",
       "      <td>0</td>\n",
       "      <td>Ham Hash-n-eggs</td>\n",
       "      <td>NaN</td>\n",
       "      <td>'egg':5 'ham':1 'hash':3 'hash-n-egg':2 'n':4</td>\n",
       "      <td>Main</td>\n",
       "    </tr>\n",
       "    <tr>\n",
       "      <th>4</th>\n",
       "      <td>2048</td>\n",
       "      <td>18.0</td>\n",
       "      <td>0</td>\n",
       "      <td>Debakon Hash-n-eggs</td>\n",
       "      <td>DeBakon with hash-n-eggs.</td>\n",
       "      <td>'debakon':1 'egg':5 'hash':3 'hash-n-egg':2 'n':4</td>\n",
       "      <td>Main</td>\n",
       "    </tr>\n",
       "  </tbody>\n",
       "</table>\n",
       "</div>"
      ],
      "text/plain": [
       "     Id  Price  ViewCount                 Name  \\\n",
       "0  8345    0.9          0               Cookie   \n",
       "1  8346    7.0          0           12 Cookies   \n",
       "2  2046   18.0          0  Sausage Hash-n-eggs   \n",
       "3  2047   18.0          0      Ham Hash-n-eggs   \n",
       "4  2048   18.0          0  Debakon Hash-n-eggs   \n",
       "\n",
       "                                         Description  \\\n",
       "0  Freshly baked cookies. One order comes with on...   \n",
       "1  Freshly baked cookies. One order comes with tw...   \n",
       "2                                                NaN   \n",
       "3                                                NaN   \n",
       "4                          DeBakon with hash-n-eggs.   \n",
       "\n",
       "                                        SearchVector  Type  \n",
       "0                                          'cooki':1  Main  \n",
       "1                                   '12':1 'cooki':2  Main  \n",
       "2   'egg':5 'hash':3 'hash-n-egg':2 'n':4 'sausag':1  Main  \n",
       "3      'egg':5 'ham':1 'hash':3 'hash-n-egg':2 'n':4  Main  \n",
       "4  'debakon':1 'egg':5 'hash':3 'hash-n-egg':2 'n':4  Main  "
      ]
     },
     "execution_count": 205,
     "metadata": {},
     "output_type": "execute_result"
    }
   ],
   "source": [
    "items_full.head()"
   ]
  },
  {
   "cell_type": "code",
   "execution_count": 188,
   "metadata": {},
   "outputs": [
    {
     "data": {
      "text/plain": [
       "211"
      ]
     },
     "execution_count": 188,
     "metadata": {},
     "output_type": "execute_result"
    }
   ],
   "source": [
    "item_id = orders.iloc[0].ItemId\n",
    "item_id"
   ]
  },
  {
   "cell_type": "code",
   "execution_count": 190,
   "metadata": {},
   "outputs": [
    {
     "data": {
      "text/plain": [
       "'Tableside Spinach Salad'"
      ]
     },
     "execution_count": 190,
     "metadata": {},
     "output_type": "execute_result"
    }
   ],
   "source": [
    "item_name = orders.iloc[0].Name\n",
    "item_name"
   ]
  },
  {
   "cell_type": "code",
   "execution_count": 202,
   "metadata": {},
   "outputs": [
    {
     "data": {
      "text/plain": [
       "82536"
      ]
     },
     "execution_count": 202,
     "metadata": {},
     "output_type": "execute_result"
    }
   ],
   "source": [
    "infoId = items[items.Id == 82659].InfoId.values[0]\n",
    "infoId"
   ]
  },
  {
   "cell_type": "code",
   "execution_count": 203,
   "metadata": {},
   "outputs": [
    {
     "data": {
      "text/html": [
       "<div>\n",
       "<style scoped>\n",
       "    .dataframe tbody tr th:only-of-type {\n",
       "        vertical-align: middle;\n",
       "    }\n",
       "\n",
       "    .dataframe tbody tr th {\n",
       "        vertical-align: top;\n",
       "    }\n",
       "\n",
       "    .dataframe thead th {\n",
       "        text-align: right;\n",
       "    }\n",
       "</style>\n",
       "<table border=\"1\" class=\"dataframe\">\n",
       "  <thead>\n",
       "    <tr style=\"text-align: right;\">\n",
       "      <th></th>\n",
       "      <th>Id</th>\n",
       "      <th>Name</th>\n",
       "      <th>Description</th>\n",
       "      <th>PhotoUrl</th>\n",
       "      <th>TagsString</th>\n",
       "      <th>Rating</th>\n",
       "      <th>RatingCount</th>\n",
       "      <th>Calories</th>\n",
       "      <th>Fiber</th>\n",
       "      <th>Carbohydrate</th>\n",
       "      <th>SearchVector</th>\n",
       "      <th>IsGlobal</th>\n",
       "      <th>Property</th>\n",
       "      <th>Sku</th>\n",
       "      <th>Type</th>\n",
       "    </tr>\n",
       "  </thead>\n",
       "  <tbody>\n",
       "    <tr>\n",
       "      <th>83350</th>\n",
       "      <td>82536</td>\n",
       "      <td>Shoestring Fries (G)</td>\n",
       "      <td>NaN</td>\n",
       "      <td>https://res.cloudinary.com/fooreco/image/uploa...</td>\n",
       "      <td>Potatoes</td>\n",
       "      <td>5.0</td>\n",
       "      <td>2</td>\n",
       "      <td>NaN</td>\n",
       "      <td>NaN</td>\n",
       "      <td>NaN</td>\n",
       "      <td>'fri':2 'g':3 'potato':4 'shoestr':1</td>\n",
       "      <td>False</td>\n",
       "      <td>NaN</td>\n",
       "      <td>NaN</td>\n",
       "      <td>Main</td>\n",
       "    </tr>\n",
       "  </tbody>\n",
       "</table>\n",
       "</div>"
      ],
      "text/plain": [
       "          Id                  Name Description  \\\n",
       "83350  82536  Shoestring Fries (G)         NaN   \n",
       "\n",
       "                                                PhotoUrl TagsString  Rating  \\\n",
       "83350  https://res.cloudinary.com/fooreco/image/uploa...   Potatoes     5.0   \n",
       "\n",
       "       RatingCount  Calories  Fiber  Carbohydrate  \\\n",
       "83350            2       NaN    NaN           NaN   \n",
       "\n",
       "                               SearchVector  IsGlobal Property  Sku  Type  \n",
       "83350  'fri':2 'g':3 'potato':4 'shoestr':1     False      NaN  NaN  Main  "
      ]
     },
     "execution_count": 203,
     "metadata": {},
     "output_type": "execute_result"
    }
   ],
   "source": [
    "items_info[items_info.Id == infoId]"
   ]
  },
  {
   "cell_type": "code",
   "execution_count": 206,
   "metadata": {},
   "outputs": [
    {
     "data": {
      "text/html": [
       "<div>\n",
       "<style scoped>\n",
       "    .dataframe tbody tr th:only-of-type {\n",
       "        vertical-align: middle;\n",
       "    }\n",
       "\n",
       "    .dataframe tbody tr th {\n",
       "        vertical-align: top;\n",
       "    }\n",
       "\n",
       "    .dataframe thead th {\n",
       "        text-align: right;\n",
       "    }\n",
       "</style>\n",
       "<table border=\"1\" class=\"dataframe\">\n",
       "  <thead>\n",
       "    <tr style=\"text-align: right;\">\n",
       "      <th></th>\n",
       "      <th>Id</th>\n",
       "      <th>Price</th>\n",
       "      <th>ViewCount</th>\n",
       "      <th>Name</th>\n",
       "      <th>Description</th>\n",
       "      <th>SearchVector</th>\n",
       "      <th>Type</th>\n",
       "    </tr>\n",
       "  </thead>\n",
       "  <tbody>\n",
       "    <tr>\n",
       "      <th>2546</th>\n",
       "      <td>211</td>\n",
       "      <td>15.0</td>\n",
       "      <td>0</td>\n",
       "      <td>Tableside Spinach Salad</td>\n",
       "      <td>NaN</td>\n",
       "      <td>'almond':8 'babi':4 'bacon':11 'jack':10 'mont...</td>\n",
       "      <td>Main</td>\n",
       "    </tr>\n",
       "  </tbody>\n",
       "</table>\n",
       "</div>"
      ],
      "text/plain": [
       "       Id  Price  ViewCount                     Name Description  \\\n",
       "2546  211   15.0          0  Tableside Spinach Salad         NaN   \n",
       "\n",
       "                                           SearchVector  Type  \n",
       "2546  'almond':8 'babi':4 'bacon':11 'jack':10 'mont...  Main  "
      ]
     },
     "execution_count": 206,
     "metadata": {},
     "output_type": "execute_result"
    }
   ],
   "source": [
    "items_full[items_full.Id == item_id]"
   ]
  },
  {
   "cell_type": "code",
   "execution_count": null,
   "metadata": {},
   "outputs": [],
   "source": []
  }
 ],
 "metadata": {
  "interpreter": {
   "hash": "ff514080f6f141fa30927d2eb1cd1793a0032bd7adceb009c10ca689f5dc9966"
  },
  "kernelspec": {
   "display_name": "Python 3 (ipykernel)",
   "language": "python",
   "name": "python3"
  },
  "language_info": {
   "codemirror_mode": {
    "name": "ipython",
    "version": 3
   },
   "file_extension": ".py",
   "mimetype": "text/x-python",
   "name": "python",
   "nbconvert_exporter": "python",
   "pygments_lexer": "ipython3",
   "version": "3.9.7"
  }
 },
 "nbformat": 4,
 "nbformat_minor": 2
}
