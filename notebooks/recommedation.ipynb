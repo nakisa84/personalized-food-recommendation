{
 "cells": [
  {
   "cell_type": "markdown",
   "id": "c7c74e5a",
   "metadata": {},
   "source": [
    "## 1. Load the data and basic data exploration\n",
    "Lets load the data and check them out "
   ]
  },
  {
   "cell_type": "code",
   "execution_count": 1,
   "id": "69cf7ad7",
   "metadata": {},
   "outputs": [],
   "source": [
    "%load_ext autoreload\n",
    "%autoreload 2"
   ]
  },
  {
   "cell_type": "code",
   "execution_count": 2,
   "id": "a97ddb4d",
   "metadata": {},
   "outputs": [],
   "source": [
    "import pandas as pd\n",
    "import numpy as np\n",
    "import json\n",
    "import matplotlib.pyplot as plt\n",
    "import library.utils "
   ]
  },
  {
   "cell_type": "code",
   "execution_count": 3,
   "id": "646ffe94",
   "metadata": {},
   "outputs": [],
   "source": [
    "users = pd.read_csv('../data/users.csv')\n",
    "orders = pd.read_csv('../data/orders.csv')\n",
    "feedback = pd.read_csv('../data/feedback.csv')\n",
    "items_info = pd.read_csv('../data/itemsInfo.csv' ,low_memory=False)    #set the low_memory to false to avoid error for ambiguuos data types\n",
    "restaurants = pd.read_csv('../data/restaurants.csv')"
   ]
  },
  {
   "cell_type": "code",
   "execution_count": 4,
   "id": "1aa5dd6a",
   "metadata": {},
   "outputs": [
    {
     "name": "stdout",
     "output_type": "stream",
     "text": [
      "Users: (5268, 23)\n",
      "Orders: (14883, 27)\n",
      "Feedback: (802, 7)\n",
      "Items: (83352, 15)\n",
      "restaurants: (901, 23)\n"
     ]
    }
   ],
   "source": [
    "# Check the shape of the data types\n",
    "print('Users:',users.shape)\n",
    "print('Orders:',orders.shape)\n",
    "print('Feedback:',feedback.shape)\n",
    "print('Items:', items_info.shape)\n",
    "print('restaurants:', restaurants.shape)"
   ]
  },
  {
   "cell_type": "markdown",
   "id": "c00d0889",
   "metadata": {},
   "source": [
    "### 1.1. User Data Exploration"
   ]
  },
  {
   "cell_type": "markdown",
   "id": "54407651",
   "metadata": {},
   "source": [
    "First lets look into users data, how many unique users are signed up? are there any null values in the data?"
   ]
  },
  {
   "cell_type": "code",
   "execution_count": 5,
   "id": "718c4b73",
   "metadata": {},
   "outputs": [
    {
     "data": {
      "text/html": [
       "<div>\n",
       "<style scoped>\n",
       "    .dataframe tbody tr th:only-of-type {\n",
       "        vertical-align: middle;\n",
       "    }\n",
       "\n",
       "    .dataframe tbody tr th {\n",
       "        vertical-align: top;\n",
       "    }\n",
       "\n",
       "    .dataframe thead th {\n",
       "        text-align: right;\n",
       "    }\n",
       "</style>\n",
       "<table border=\"1\" class=\"dataframe\">\n",
       "  <thead>\n",
       "    <tr style=\"text-align: right;\">\n",
       "      <th></th>\n",
       "      <th>AccessFailedCount</th>\n",
       "      <th>EmailConfirmed</th>\n",
       "      <th>Id</th>\n",
       "      <th>LockoutEnabled</th>\n",
       "      <th>LockoutEnd</th>\n",
       "      <th>PhoneNumberConfirmed</th>\n",
       "      <th>TwoFactorEnabled</th>\n",
       "      <th>UserName</th>\n",
       "      <th>NormalizedUserName</th>\n",
       "      <th>Email</th>\n",
       "      <th>...</th>\n",
       "      <th>ConcurrencyStamp</th>\n",
       "      <th>PhoneNumber</th>\n",
       "      <th>IsEnabled</th>\n",
       "      <th>IsCompleted</th>\n",
       "      <th>CreatedDate</th>\n",
       "      <th>FirstName</th>\n",
       "      <th>LastName</th>\n",
       "      <th>PhotoUrl</th>\n",
       "      <th>RecommendedTags</th>\n",
       "      <th>PaymentCustomerId</th>\n",
       "    </tr>\n",
       "  </thead>\n",
       "  <tbody>\n",
       "    <tr>\n",
       "      <th>0</th>\n",
       "      <td>0</td>\n",
       "      <td>True</td>\n",
       "      <td>43</td>\n",
       "      <td>True</td>\n",
       "      <td>NaN</td>\n",
       "      <td>False</td>\n",
       "      <td>False</td>\n",
       "      <td>abdolrezab.ayesteh@gmail.com</td>\n",
       "      <td>ABDOLREZAB.AYESTEH@GMAIL.COM</td>\n",
       "      <td>abdolrezab.ayesteh@gmail.com</td>\n",
       "      <td>...</td>\n",
       "      <td>9b25b262-4e49-43f5-b067-889b156c2f00</td>\n",
       "      <td>NaN</td>\n",
       "      <td>True</td>\n",
       "      <td>True</td>\n",
       "      <td>2018-12-20T23:32:45.168237Z</td>\n",
       "      <td>Abdolreza</td>\n",
       "      <td>Bayesteh</td>\n",
       "      <td>NaN</td>\n",
       "      <td>NaN</td>\n",
       "      <td>NaN</td>\n",
       "    </tr>\n",
       "    <tr>\n",
       "      <th>1</th>\n",
       "      <td>0</td>\n",
       "      <td>False</td>\n",
       "      <td>6</td>\n",
       "      <td>True</td>\n",
       "      <td>NaN</td>\n",
       "      <td>False</td>\n",
       "      <td>False</td>\n",
       "      <td>a.bdolreza.bayesteh@gmail.com</td>\n",
       "      <td>A.BDOLREZA.BAYESTEH@GMAIL.COM</td>\n",
       "      <td>a.bdolreza.bayesteh@gmail.com</td>\n",
       "      <td>...</td>\n",
       "      <td>29953587-a4e1-498f-acaa-e8ff913949b4</td>\n",
       "      <td>NaN</td>\n",
       "      <td>True</td>\n",
       "      <td>True</td>\n",
       "      <td>2018-12-14T08:00:16.447474Z</td>\n",
       "      <td>Reza</td>\n",
       "      <td>Bayesteh</td>\n",
       "      <td>NaN</td>\n",
       "      <td>NaN</td>\n",
       "      <td>NaN</td>\n",
       "    </tr>\n",
       "    <tr>\n",
       "      <th>2</th>\n",
       "      <td>0</td>\n",
       "      <td>False</td>\n",
       "      <td>46</td>\n",
       "      <td>True</td>\n",
       "      <td>NaN</td>\n",
       "      <td>False</td>\n",
       "      <td>False</td>\n",
       "      <td>wayne.zhang@globalrelay.net</td>\n",
       "      <td>WAYNE.ZHANG@GLOBALRELAY.NET</td>\n",
       "      <td>wayne.zhang@globalrelay.net</td>\n",
       "      <td>...</td>\n",
       "      <td>fa87b301-5b54-49a3-b7c1-2cf676867da3</td>\n",
       "      <td>NaN</td>\n",
       "      <td>True</td>\n",
       "      <td>True</td>\n",
       "      <td>2019-01-14T19:35:54.968657Z</td>\n",
       "      <td>Wayne</td>\n",
       "      <td>Zhang</td>\n",
       "      <td>NaN</td>\n",
       "      <td>NaN</td>\n",
       "      <td>NaN</td>\n",
       "    </tr>\n",
       "    <tr>\n",
       "      <th>3</th>\n",
       "      <td>0</td>\n",
       "      <td>True</td>\n",
       "      <td>7</td>\n",
       "      <td>True</td>\n",
       "      <td>NaN</td>\n",
       "      <td>False</td>\n",
       "      <td>False</td>\n",
       "      <td>ab.dolreza.bayesteh@gmail.com</td>\n",
       "      <td>AB.DOLREZA.BAYESTEH@GMAIL.COM</td>\n",
       "      <td>ab.dolreza.bayesteh@gmail.com</td>\n",
       "      <td>...</td>\n",
       "      <td>46e5c130-01cd-4098-b0de-7689ebccff71</td>\n",
       "      <td>NaN</td>\n",
       "      <td>True</td>\n",
       "      <td>True</td>\n",
       "      <td>2018-12-14T17:28:54.565647Z</td>\n",
       "      <td>Reza</td>\n",
       "      <td>Bayesteh</td>\n",
       "      <td>https://res.cloudinary.com/dng7glos4/image/upl...</td>\n",
       "      <td>NaN</td>\n",
       "      <td>NaN</td>\n",
       "    </tr>\n",
       "    <tr>\n",
       "      <th>4</th>\n",
       "      <td>0</td>\n",
       "      <td>False</td>\n",
       "      <td>47</td>\n",
       "      <td>True</td>\n",
       "      <td>NaN</td>\n",
       "      <td>False</td>\n",
       "      <td>False</td>\n",
       "      <td>waynezhangyuwei@Gmail.com</td>\n",
       "      <td>WAYNEZHANGYUWEI@GMAIL.COM</td>\n",
       "      <td>waynezhangyuwei@Gmail.com</td>\n",
       "      <td>...</td>\n",
       "      <td>a670b7da-07d3-47e7-9272-116fcf143e76</td>\n",
       "      <td>NaN</td>\n",
       "      <td>True</td>\n",
       "      <td>True</td>\n",
       "      <td>2019-01-14T19:36:41.291717Z</td>\n",
       "      <td>Wayne</td>\n",
       "      <td>Zhang</td>\n",
       "      <td>NaN</td>\n",
       "      <td>NaN</td>\n",
       "      <td>NaN</td>\n",
       "    </tr>\n",
       "  </tbody>\n",
       "</table>\n",
       "<p>5 rows × 23 columns</p>\n",
       "</div>"
      ],
      "text/plain": [
       "   AccessFailedCount  EmailConfirmed  Id  LockoutEnabled LockoutEnd  \\\n",
       "0                  0            True  43            True        NaN   \n",
       "1                  0           False   6            True        NaN   \n",
       "2                  0           False  46            True        NaN   \n",
       "3                  0            True   7            True        NaN   \n",
       "4                  0           False  47            True        NaN   \n",
       "\n",
       "   PhoneNumberConfirmed  TwoFactorEnabled                       UserName  \\\n",
       "0                 False             False   abdolrezab.ayesteh@gmail.com   \n",
       "1                 False             False  a.bdolreza.bayesteh@gmail.com   \n",
       "2                 False             False    wayne.zhang@globalrelay.net   \n",
       "3                 False             False  ab.dolreza.bayesteh@gmail.com   \n",
       "4                 False             False      waynezhangyuwei@Gmail.com   \n",
       "\n",
       "              NormalizedUserName                          Email  ...  \\\n",
       "0   ABDOLREZAB.AYESTEH@GMAIL.COM   abdolrezab.ayesteh@gmail.com  ...   \n",
       "1  A.BDOLREZA.BAYESTEH@GMAIL.COM  a.bdolreza.bayesteh@gmail.com  ...   \n",
       "2    WAYNE.ZHANG@GLOBALRELAY.NET    wayne.zhang@globalrelay.net  ...   \n",
       "3  AB.DOLREZA.BAYESTEH@GMAIL.COM  ab.dolreza.bayesteh@gmail.com  ...   \n",
       "4      WAYNEZHANGYUWEI@GMAIL.COM      waynezhangyuwei@Gmail.com  ...   \n",
       "\n",
       "                       ConcurrencyStamp PhoneNumber IsEnabled IsCompleted  \\\n",
       "0  9b25b262-4e49-43f5-b067-889b156c2f00         NaN      True        True   \n",
       "1  29953587-a4e1-498f-acaa-e8ff913949b4         NaN      True        True   \n",
       "2  fa87b301-5b54-49a3-b7c1-2cf676867da3         NaN      True        True   \n",
       "3  46e5c130-01cd-4098-b0de-7689ebccff71         NaN      True        True   \n",
       "4  a670b7da-07d3-47e7-9272-116fcf143e76         NaN      True        True   \n",
       "\n",
       "                   CreatedDate  FirstName  LastName  \\\n",
       "0  2018-12-20T23:32:45.168237Z  Abdolreza  Bayesteh   \n",
       "1  2018-12-14T08:00:16.447474Z       Reza  Bayesteh   \n",
       "2  2019-01-14T19:35:54.968657Z      Wayne     Zhang   \n",
       "3  2018-12-14T17:28:54.565647Z       Reza  Bayesteh   \n",
       "4  2019-01-14T19:36:41.291717Z      Wayne     Zhang   \n",
       "\n",
       "                                            PhotoUrl RecommendedTags  \\\n",
       "0                                                NaN             NaN   \n",
       "1                                                NaN             NaN   \n",
       "2                                                NaN             NaN   \n",
       "3  https://res.cloudinary.com/dng7glos4/image/upl...             NaN   \n",
       "4                                                NaN             NaN   \n",
       "\n",
       "  PaymentCustomerId  \n",
       "0               NaN  \n",
       "1               NaN  \n",
       "2               NaN  \n",
       "3               NaN  \n",
       "4               NaN  \n",
       "\n",
       "[5 rows x 23 columns]"
      ]
     },
     "execution_count": 5,
     "metadata": {},
     "output_type": "execute_result"
    }
   ],
   "source": [
    "# check the rows and columns\n",
    "users.head()"
   ]
  },
  {
   "cell_type": "code",
   "execution_count": 6,
   "id": "99225ddc",
   "metadata": {},
   "outputs": [
    {
     "name": "stdout",
     "output_type": "stream",
     "text": [
      "<class 'pandas.core.frame.DataFrame'>\n",
      "RangeIndex: 5268 entries, 0 to 5267\n",
      "Data columns (total 23 columns):\n",
      " #   Column                Non-Null Count  Dtype \n",
      "---  ------                --------------  ----- \n",
      " 0   AccessFailedCount     5268 non-null   int64 \n",
      " 1   EmailConfirmed        5268 non-null   bool  \n",
      " 2   Id                    5268 non-null   int64 \n",
      " 3   LockoutEnabled        5268 non-null   bool  \n",
      " 4   LockoutEnd            9 non-null      object\n",
      " 5   PhoneNumberConfirmed  5268 non-null   bool  \n",
      " 6   TwoFactorEnabled      5268 non-null   bool  \n",
      " 7   UserName              5268 non-null   object\n",
      " 8   NormalizedUserName    5268 non-null   object\n",
      " 9   Email                 5268 non-null   object\n",
      " 10  NormalizedEmail       5268 non-null   object\n",
      " 11  PasswordHash          549 non-null    object\n",
      " 12  SecurityStamp         5268 non-null   object\n",
      " 13  ConcurrencyStamp      5268 non-null   object\n",
      " 14  PhoneNumber           3293 non-null   object\n",
      " 15  IsEnabled             5268 non-null   bool  \n",
      " 16  IsCompleted           5268 non-null   bool  \n",
      " 17  CreatedDate           5268 non-null   object\n",
      " 18  FirstName             5251 non-null   object\n",
      " 19  LastName              5180 non-null   object\n",
      " 20  PhotoUrl              2341 non-null   object\n",
      " 21  RecommendedTags       5 non-null      object\n",
      " 22  PaymentCustomerId     707 non-null    object\n",
      "dtypes: bool(6), int64(2), object(15)\n",
      "memory usage: 730.6+ KB\n"
     ]
    }
   ],
   "source": [
    "# general information\n",
    "users.info()"
   ]
  },
  {
   "cell_type": "markdown",
   "id": "b91640b2",
   "metadata": {},
   "source": [
    "Due to having some information like email and phone number for the users, we wont be able to keep the user data publicly and we will just use the userId."
   ]
  },
  {
   "cell_type": "code",
   "execution_count": 7,
   "id": "bfb955b9",
   "metadata": {},
   "outputs": [],
   "source": [
    "users_df = users[['Id']]"
   ]
  },
  {
   "cell_type": "code",
   "execution_count": 8,
   "id": "3341303a",
   "metadata": {},
   "outputs": [
    {
     "data": {
      "text/plain": [
       "False"
      ]
     },
     "execution_count": 8,
     "metadata": {},
     "output_type": "execute_result"
    }
   ],
   "source": [
    "# check for user id duplicattion \n",
    "users_df.duplicated().any()"
   ]
  },
  {
   "cell_type": "code",
   "execution_count": 9,
   "id": "9e04a0f4",
   "metadata": {},
   "outputs": [
    {
     "name": "stdout",
     "output_type": "stream",
     "text": [
      "<class 'pandas.core.frame.DataFrame'>\n",
      "RangeIndex: 5268 entries, 0 to 5267\n",
      "Data columns (total 1 columns):\n",
      " #   Column  Non-Null Count  Dtype\n",
      "---  ------  --------------  -----\n",
      " 0   Id      5268 non-null   int64\n",
      "dtypes: int64(1)\n",
      "memory usage: 41.3 KB\n"
     ]
    }
   ],
   "source": [
    "users_df.info()"
   ]
  },
  {
   "cell_type": "code",
   "execution_count": 10,
   "id": "5fe713d3",
   "metadata": {},
   "outputs": [],
   "source": [
    "# save the users file to keep it\n",
    "file_path = '../data'\n",
    "#library.utils.save_file(users_df,'users_df.csv',file_path)"
   ]
  },
  {
   "cell_type": "markdown",
   "id": "49abdcc6",
   "metadata": {},
   "source": [
    "### 1.2. Orders Data Exploration"
   ]
  },
  {
   "cell_type": "code",
   "execution_count": 11,
   "id": "4b2ee779",
   "metadata": {},
   "outputs": [
    {
     "data": {
      "text/html": [
       "<div>\n",
       "<style scoped>\n",
       "    .dataframe tbody tr th:only-of-type {\n",
       "        vertical-align: middle;\n",
       "    }\n",
       "\n",
       "    .dataframe tbody tr th {\n",
       "        vertical-align: top;\n",
       "    }\n",
       "\n",
       "    .dataframe thead th {\n",
       "        text-align: right;\n",
       "    }\n",
       "</style>\n",
       "<table border=\"1\" class=\"dataframe\">\n",
       "  <thead>\n",
       "    <tr style=\"text-align: right;\">\n",
       "      <th></th>\n",
       "      <th>Id</th>\n",
       "      <th>UserId</th>\n",
       "      <th>RestaurantId</th>\n",
       "      <th>Created</th>\n",
       "      <th>PaymentId</th>\n",
       "      <th>CheckoutId</th>\n",
       "      <th>Status</th>\n",
       "      <th>Details</th>\n",
       "      <th>AcceptedDate</th>\n",
       "      <th>CompletedDate</th>\n",
       "      <th>...</th>\n",
       "      <th>Nickname</th>\n",
       "      <th>PhoneNumber</th>\n",
       "      <th>PreorderDate</th>\n",
       "      <th>RestaurantOrderId</th>\n",
       "      <th>HasFeedback</th>\n",
       "      <th>PlatformFee</th>\n",
       "      <th>PaymentType</th>\n",
       "      <th>PaymentFailedDate</th>\n",
       "      <th>PaymentFailureMessage</th>\n",
       "      <th>RejectedDate</th>\n",
       "    </tr>\n",
       "  </thead>\n",
       "  <tbody>\n",
       "    <tr>\n",
       "      <th>0</th>\n",
       "      <td>8</td>\n",
       "      <td>113.0</td>\n",
       "      <td>110</td>\n",
       "      <td>2020-03-28T08:15:25.615002Z</td>\n",
       "      <td>pi_1GRZqUAAWyjnNOlkiFjgpPyE</td>\n",
       "      <td>b165e2b9-ceb0-43a4-b5f5-15b15cbb018c</td>\n",
       "      <td>6</td>\n",
       "      <td>{\"Id\": 8, \"Tax\": 5.0400, \"Tip\": 0, \"User\": {\"I...</td>\n",
       "      <td>2020-04-15T06:01:25.273238Z</td>\n",
       "      <td>2020-04-15T15:54:00.38724Z</td>\n",
       "      <td>...</td>\n",
       "      <td>NaN</td>\n",
       "      <td>NaN</td>\n",
       "      <td>NaN</td>\n",
       "      <td>NaN</td>\n",
       "      <td>NaN</td>\n",
       "      <td>NaN</td>\n",
       "      <td>Online</td>\n",
       "      <td>NaN</td>\n",
       "      <td>NaN</td>\n",
       "      <td>NaN</td>\n",
       "    </tr>\n",
       "    <tr>\n",
       "      <th>1</th>\n",
       "      <td>45</td>\n",
       "      <td>113.0</td>\n",
       "      <td>110</td>\n",
       "      <td>2020-04-15T21:32:36.397056Z</td>\n",
       "      <td>pi_1GYIqbAAWyjnNOlkaCZ35F1f</td>\n",
       "      <td>9e1952e5-0432-4815-8f3a-b6660dd5fc0f</td>\n",
       "      <td>6</td>\n",
       "      <td>{\"Tax\": 4.8000, \"Tip\": 0, \"Items\": [{\"Count\": ...</td>\n",
       "      <td>2020-04-15T21:34:13.23458Z</td>\n",
       "      <td>2020-04-15T21:35:27.029812Z</td>\n",
       "      <td>...</td>\n",
       "      <td>NaN</td>\n",
       "      <td>NaN</td>\n",
       "      <td>NaN</td>\n",
       "      <td>NaN</td>\n",
       "      <td>NaN</td>\n",
       "      <td>NaN</td>\n",
       "      <td>Online</td>\n",
       "      <td>NaN</td>\n",
       "      <td>NaN</td>\n",
       "      <td>NaN</td>\n",
       "    </tr>\n",
       "    <tr>\n",
       "      <th>2</th>\n",
       "      <td>5</td>\n",
       "      <td>1.0</td>\n",
       "      <td>110</td>\n",
       "      <td>2020-03-26T05:40:08.022949Z</td>\n",
       "      <td>pi_1GRTn9AAWyjnNOlkIa4IwZIr</td>\n",
       "      <td>38f4af09-7cf2-4297-8108-133d129a64c7</td>\n",
       "      <td>6</td>\n",
       "      <td>{\"Id\": 5, \"Tax\": 38.5200, \"Tip\": 0, \"Items\": [...</td>\n",
       "      <td>2020-04-06T07:50:46.779871Z</td>\n",
       "      <td>2020-04-08T18:04:11.39916Z</td>\n",
       "      <td>...</td>\n",
       "      <td>NaN</td>\n",
       "      <td>NaN</td>\n",
       "      <td>NaN</td>\n",
       "      <td>NaN</td>\n",
       "      <td>NaN</td>\n",
       "      <td>NaN</td>\n",
       "      <td>Online</td>\n",
       "      <td>NaN</td>\n",
       "      <td>NaN</td>\n",
       "      <td>NaN</td>\n",
       "    </tr>\n",
       "    <tr>\n",
       "      <th>3</th>\n",
       "      <td>2</td>\n",
       "      <td>4.0</td>\n",
       "      <td>110</td>\n",
       "      <td>2020-03-20T19:31:44.139248Z</td>\n",
       "      <td>pi_1GPJaxAAWyjnNOlkt4L7WfYh</td>\n",
       "      <td>d78a7d5d-e5d6-4a3c-8efd-6e32a9722807</td>\n",
       "      <td>6</td>\n",
       "      <td>{\"Id\": 2, \"Tax\": 4.08, \"Tip\": 0, \"Items\": [{\"C...</td>\n",
       "      <td>2020-04-06T07:50:49.604742Z</td>\n",
       "      <td>2020-04-08T18:04:04.017236Z</td>\n",
       "      <td>...</td>\n",
       "      <td>NaN</td>\n",
       "      <td>NaN</td>\n",
       "      <td>NaN</td>\n",
       "      <td>NaN</td>\n",
       "      <td>NaN</td>\n",
       "      <td>NaN</td>\n",
       "      <td>Online</td>\n",
       "      <td>NaN</td>\n",
       "      <td>NaN</td>\n",
       "      <td>NaN</td>\n",
       "    </tr>\n",
       "    <tr>\n",
       "      <th>4</th>\n",
       "      <td>4</td>\n",
       "      <td>115.0</td>\n",
       "      <td>110</td>\n",
       "      <td>2020-03-22T06:52:54.185165Z</td>\n",
       "      <td>pi_1GPNhgAAWyjnNOlkT7fki2dX</td>\n",
       "      <td>e7b23017-dec2-43a4-ab14-6e266b910c89</td>\n",
       "      <td>6</td>\n",
       "      <td>{\"Id\": 4, \"Tax\": 5.04, \"Tip\": 0, \"Items\": [{\"C...</td>\n",
       "      <td>2020-04-06T07:50:47.742422Z</td>\n",
       "      <td>2020-04-08T18:04:07.880017Z</td>\n",
       "      <td>...</td>\n",
       "      <td>NaN</td>\n",
       "      <td>NaN</td>\n",
       "      <td>NaN</td>\n",
       "      <td>NaN</td>\n",
       "      <td>NaN</td>\n",
       "      <td>NaN</td>\n",
       "      <td>Online</td>\n",
       "      <td>NaN</td>\n",
       "      <td>NaN</td>\n",
       "      <td>NaN</td>\n",
       "    </tr>\n",
       "  </tbody>\n",
       "</table>\n",
       "<p>5 rows × 27 columns</p>\n",
       "</div>"
      ],
      "text/plain": [
       "   Id  UserId  RestaurantId                      Created  \\\n",
       "0   8   113.0           110  2020-03-28T08:15:25.615002Z   \n",
       "1  45   113.0           110  2020-04-15T21:32:36.397056Z   \n",
       "2   5     1.0           110  2020-03-26T05:40:08.022949Z   \n",
       "3   2     4.0           110  2020-03-20T19:31:44.139248Z   \n",
       "4   4   115.0           110  2020-03-22T06:52:54.185165Z   \n",
       "\n",
       "                     PaymentId                            CheckoutId  Status  \\\n",
       "0  pi_1GRZqUAAWyjnNOlkiFjgpPyE  b165e2b9-ceb0-43a4-b5f5-15b15cbb018c       6   \n",
       "1  pi_1GYIqbAAWyjnNOlkaCZ35F1f  9e1952e5-0432-4815-8f3a-b6660dd5fc0f       6   \n",
       "2  pi_1GRTn9AAWyjnNOlkIa4IwZIr  38f4af09-7cf2-4297-8108-133d129a64c7       6   \n",
       "3  pi_1GPJaxAAWyjnNOlkt4L7WfYh  d78a7d5d-e5d6-4a3c-8efd-6e32a9722807       6   \n",
       "4  pi_1GPNhgAAWyjnNOlkT7fki2dX  e7b23017-dec2-43a4-ab14-6e266b910c89       6   \n",
       "\n",
       "                                             Details  \\\n",
       "0  {\"Id\": 8, \"Tax\": 5.0400, \"Tip\": 0, \"User\": {\"I...   \n",
       "1  {\"Tax\": 4.8000, \"Tip\": 0, \"Items\": [{\"Count\": ...   \n",
       "2  {\"Id\": 5, \"Tax\": 38.5200, \"Tip\": 0, \"Items\": [...   \n",
       "3  {\"Id\": 2, \"Tax\": 4.08, \"Tip\": 0, \"Items\": [{\"C...   \n",
       "4  {\"Id\": 4, \"Tax\": 5.04, \"Tip\": 0, \"Items\": [{\"C...   \n",
       "\n",
       "                  AcceptedDate                CompletedDate  ... Nickname  \\\n",
       "0  2020-04-15T06:01:25.273238Z   2020-04-15T15:54:00.38724Z  ...      NaN   \n",
       "1   2020-04-15T21:34:13.23458Z  2020-04-15T21:35:27.029812Z  ...      NaN   \n",
       "2  2020-04-06T07:50:46.779871Z   2020-04-08T18:04:11.39916Z  ...      NaN   \n",
       "3  2020-04-06T07:50:49.604742Z  2020-04-08T18:04:04.017236Z  ...      NaN   \n",
       "4  2020-04-06T07:50:47.742422Z  2020-04-08T18:04:07.880017Z  ...      NaN   \n",
       "\n",
       "  PhoneNumber PreorderDate  RestaurantOrderId HasFeedback PlatformFee  \\\n",
       "0         NaN          NaN                NaN         NaN         NaN   \n",
       "1         NaN          NaN                NaN         NaN         NaN   \n",
       "2         NaN          NaN                NaN         NaN         NaN   \n",
       "3         NaN          NaN                NaN         NaN         NaN   \n",
       "4         NaN          NaN                NaN         NaN         NaN   \n",
       "\n",
       "  PaymentType PaymentFailedDate PaymentFailureMessage RejectedDate  \n",
       "0      Online               NaN                   NaN          NaN  \n",
       "1      Online               NaN                   NaN          NaN  \n",
       "2      Online               NaN                   NaN          NaN  \n",
       "3      Online               NaN                   NaN          NaN  \n",
       "4      Online               NaN                   NaN          NaN  \n",
       "\n",
       "[5 rows x 27 columns]"
      ]
     },
     "execution_count": 11,
     "metadata": {},
     "output_type": "execute_result"
    }
   ],
   "source": [
    "orders.head()"
   ]
  },
  {
   "cell_type": "code",
   "execution_count": 12,
   "id": "62bd6a98",
   "metadata": {},
   "outputs": [
    {
     "name": "stdout",
     "output_type": "stream",
     "text": [
      "<class 'pandas.core.frame.DataFrame'>\n",
      "RangeIndex: 14883 entries, 0 to 14882\n",
      "Data columns (total 27 columns):\n",
      " #   Column                 Non-Null Count  Dtype  \n",
      "---  ------                 --------------  -----  \n",
      " 0   Id                     14883 non-null  int64  \n",
      " 1   UserId                 6903 non-null   float64\n",
      " 2   RestaurantId           14883 non-null  int64  \n",
      " 3   Created                14883 non-null  object \n",
      " 4   PaymentId              10718 non-null  object \n",
      " 5   CheckoutId             14883 non-null  object \n",
      " 6   Status                 14883 non-null  int64  \n",
      " 7   Details                11629 non-null  object \n",
      " 8   AcceptedDate           5983 non-null   object \n",
      " 9   CompletedDate          11440 non-null  object \n",
      " 10  PaymentDate            11544 non-null  object \n",
      " 11  ProcessedDate          11485 non-null  object \n",
      " 12  SubmittedDate          11629 non-null  object \n",
      " 13  OrderType              14883 non-null  int64  \n",
      " 14  CanceledDate           118 non-null    object \n",
      " 15  ProcessingTime         5429 non-null   object \n",
      " 16  EmailAddress           96 non-null     object \n",
      " 17  Nickname               4900 non-null   object \n",
      " 18  PhoneNumber            1315 non-null   object \n",
      " 19  PreorderDate           285 non-null    object \n",
      " 20  RestaurantOrderId      10943 non-null  float64\n",
      " 21  HasFeedback            802 non-null    object \n",
      " 22  PlatformFee            9385 non-null   float64\n",
      " 23  PaymentType            14883 non-null  object \n",
      " 24  PaymentFailedDate      141 non-null    object \n",
      " 25  PaymentFailureMessage  35 non-null     object \n",
      " 26  RejectedDate           1 non-null      object \n",
      "dtypes: float64(3), int64(4), object(20)\n",
      "memory usage: 3.1+ MB\n"
     ]
    }
   ],
   "source": [
    "orders.info()"
   ]
  },
  {
   "cell_type": "markdown",
   "id": "25485045",
   "metadata": {},
   "source": [
    "#### There are 14883 orders by 6900 users. There are some orders that are made with guest account and they dont have user Ids. Let check how many orders have been made by unique users."
   ]
  },
  {
   "cell_type": "code",
   "execution_count": 13,
   "id": "290b034d",
   "metadata": {},
   "outputs": [
    {
     "data": {
      "text/plain": [
       "4282"
      ]
     },
     "execution_count": 13,
     "metadata": {},
     "output_type": "execute_result"
    }
   ],
   "source": [
    "#orders[orders.UserId.duplicated()].sort_values('UserId', ascending = True)\n",
    "orders.UserId.nunique()"
   ]
  },
  {
   "cell_type": "code",
   "execution_count": 14,
   "id": "df0d6398",
   "metadata": {},
   "outputs": [
    {
     "data": {
      "text/plain": [
       "Index(['Id', 'UserId', 'RestaurantId', 'Created', 'PaymentId', 'CheckoutId',\n",
       "       'Status', 'Details', 'AcceptedDate', 'CompletedDate', 'PaymentDate',\n",
       "       'ProcessedDate', 'SubmittedDate', 'OrderType', 'CanceledDate',\n",
       "       'ProcessingTime', 'EmailAddress', 'Nickname', 'PhoneNumber',\n",
       "       'PreorderDate', 'RestaurantOrderId', 'HasFeedback', 'PlatformFee',\n",
       "       'PaymentType', 'PaymentFailedDate', 'PaymentFailureMessage',\n",
       "       'RejectedDate'],\n",
       "      dtype='object')"
      ]
     },
     "execution_count": 14,
     "metadata": {},
     "output_type": "execute_result"
    }
   ],
   "source": [
    "orders.columns"
   ]
  },
  {
   "cell_type": "markdown",
   "id": "556544e8",
   "metadata": {},
   "source": [
    "We dont need all the details from order object. Lets filter the features we need to keep."
   ]
  },
  {
   "cell_type": "code",
   "execution_count": 15,
   "id": "84561573",
   "metadata": {},
   "outputs": [],
   "source": [
    "orders.drop(['PaymentId', 'CheckoutId',\n",
    "       'Status', 'AcceptedDate', 'CompletedDate', 'PaymentDate',\n",
    "       'ProcessedDate', 'SubmittedDate', 'OrderType', 'CanceledDate',\n",
    "       'ProcessingTime', 'EmailAddress', 'Nickname', 'PhoneNumber',\n",
    "       'PreorderDate', 'RestaurantOrderId', 'HasFeedback', 'PlatformFee',\n",
    "       'PaymentType', 'PaymentFailedDate', 'PaymentFailureMessage',\n",
    "       'RejectedDate'] , inplace = True, axis= 1)"
   ]
  },
  {
   "cell_type": "code",
   "execution_count": 16,
   "id": "96147b6a",
   "metadata": {},
   "outputs": [
    {
     "name": "stdout",
     "output_type": "stream",
     "text": [
      "<class 'pandas.core.frame.DataFrame'>\n",
      "RangeIndex: 14883 entries, 0 to 14882\n",
      "Data columns (total 5 columns):\n",
      " #   Column        Non-Null Count  Dtype  \n",
      "---  ------        --------------  -----  \n",
      " 0   Id            14883 non-null  int64  \n",
      " 1   UserId        6903 non-null   float64\n",
      " 2   RestaurantId  14883 non-null  int64  \n",
      " 3   Created       14883 non-null  object \n",
      " 4   Details       11629 non-null  object \n",
      "dtypes: float64(1), int64(2), object(2)\n",
      "memory usage: 581.5+ KB\n"
     ]
    }
   ],
   "source": [
    "orders.info()"
   ]
  },
  {
   "cell_type": "code",
   "execution_count": 17,
   "id": "c6f6e78d",
   "metadata": {},
   "outputs": [
    {
     "name": "stdout",
     "output_type": "stream",
     "text": [
      "unique orders: 14883\n"
     ]
    }
   ],
   "source": [
    "print('unique orders:',orders.Id.nunique())"
   ]
  },
  {
   "cell_type": "code",
   "execution_count": 18,
   "id": "e6608209",
   "metadata": {},
   "outputs": [
    {
     "data": {
      "text/plain": [
       "0    {\"Id\": 8, \"Tax\": 5.0400, \"Tip\": 0, \"User\": {\"I...\n",
       "1    {\"Tax\": 4.8000, \"Tip\": 0, \"Items\": [{\"Count\": ...\n",
       "2    {\"Id\": 5, \"Tax\": 38.5200, \"Tip\": 0, \"Items\": [...\n",
       "3    {\"Id\": 2, \"Tax\": 4.08, \"Tip\": 0, \"Items\": [{\"C...\n",
       "4    {\"Id\": 4, \"Tax\": 5.04, \"Tip\": 0, \"Items\": [{\"C...\n",
       "Name: Details, dtype: object"
      ]
     },
     "execution_count": 18,
     "metadata": {},
     "output_type": "execute_result"
    }
   ],
   "source": [
    "orders.Details.head()"
   ]
  },
  {
   "cell_type": "markdown",
   "id": "7a6b3d27",
   "metadata": {},
   "source": [
    "As seen above, Details feature has all the information for the ordered food. Therefor if there is an order without details we really dont need that. Lets drop the orders that do not have details."
   ]
  },
  {
   "cell_type": "code",
   "execution_count": 19,
   "id": "09575a77",
   "metadata": {},
   "outputs": [
    {
     "name": "stdout",
     "output_type": "stream",
     "text": [
      "The number of orders without details: 3254\n"
     ]
    },
    {
     "data": {
      "text/html": [
       "<div>\n",
       "<style scoped>\n",
       "    .dataframe tbody tr th:only-of-type {\n",
       "        vertical-align: middle;\n",
       "    }\n",
       "\n",
       "    .dataframe tbody tr th {\n",
       "        vertical-align: top;\n",
       "    }\n",
       "\n",
       "    .dataframe thead th {\n",
       "        text-align: right;\n",
       "    }\n",
       "</style>\n",
       "<table border=\"1\" class=\"dataframe\">\n",
       "  <thead>\n",
       "    <tr style=\"text-align: right;\">\n",
       "      <th></th>\n",
       "      <th>Id</th>\n",
       "      <th>UserId</th>\n",
       "      <th>RestaurantId</th>\n",
       "      <th>Created</th>\n",
       "      <th>Details</th>\n",
       "    </tr>\n",
       "  </thead>\n",
       "  <tbody>\n",
       "    <tr>\n",
       "      <th>7</th>\n",
       "      <td>497</td>\n",
       "      <td>NaN</td>\n",
       "      <td>121</td>\n",
       "      <td>2020-07-22T00:42:13.134842Z</td>\n",
       "      <td>NaN</td>\n",
       "    </tr>\n",
       "    <tr>\n",
       "      <th>8</th>\n",
       "      <td>545</td>\n",
       "      <td>NaN</td>\n",
       "      <td>1029</td>\n",
       "      <td>2020-07-23T01:00:26.610172Z</td>\n",
       "      <td>NaN</td>\n",
       "    </tr>\n",
       "    <tr>\n",
       "      <th>9</th>\n",
       "      <td>546</td>\n",
       "      <td>NaN</td>\n",
       "      <td>1029</td>\n",
       "      <td>2020-07-23T01:00:55.73311Z</td>\n",
       "      <td>NaN</td>\n",
       "    </tr>\n",
       "    <tr>\n",
       "      <th>11</th>\n",
       "      <td>270</td>\n",
       "      <td>1.0</td>\n",
       "      <td>110</td>\n",
       "      <td>2020-05-10T07:02:20.748807Z</td>\n",
       "      <td>NaN</td>\n",
       "    </tr>\n",
       "    <tr>\n",
       "      <th>14</th>\n",
       "      <td>242</td>\n",
       "      <td>135.0</td>\n",
       "      <td>110</td>\n",
       "      <td>2020-05-06T00:02:48.443678Z</td>\n",
       "      <td>NaN</td>\n",
       "    </tr>\n",
       "    <tr>\n",
       "      <th>...</th>\n",
       "      <td>...</td>\n",
       "      <td>...</td>\n",
       "      <td>...</td>\n",
       "      <td>...</td>\n",
       "      <td>...</td>\n",
       "    </tr>\n",
       "    <tr>\n",
       "      <th>14841</th>\n",
       "      <td>14751</td>\n",
       "      <td>NaN</td>\n",
       "      <td>299</td>\n",
       "      <td>2022-01-13T01:04:20.19769Z</td>\n",
       "      <td>NaN</td>\n",
       "    </tr>\n",
       "    <tr>\n",
       "      <th>14849</th>\n",
       "      <td>14760</td>\n",
       "      <td>NaN</td>\n",
       "      <td>299</td>\n",
       "      <td>2022-01-13T22:13:02.1426Z</td>\n",
       "      <td>NaN</td>\n",
       "    </tr>\n",
       "    <tr>\n",
       "      <th>14850</th>\n",
       "      <td>14761</td>\n",
       "      <td>NaN</td>\n",
       "      <td>121</td>\n",
       "      <td>2022-01-13T22:26:59.240739Z</td>\n",
       "      <td>NaN</td>\n",
       "    </tr>\n",
       "    <tr>\n",
       "      <th>14864</th>\n",
       "      <td>14795</td>\n",
       "      <td>NaN</td>\n",
       "      <td>299</td>\n",
       "      <td>2022-01-19T00:44:40.245651Z</td>\n",
       "      <td>NaN</td>\n",
       "    </tr>\n",
       "    <tr>\n",
       "      <th>14876</th>\n",
       "      <td>14804</td>\n",
       "      <td>NaN</td>\n",
       "      <td>121</td>\n",
       "      <td>2022-01-20T03:01:03.888075Z</td>\n",
       "      <td>NaN</td>\n",
       "    </tr>\n",
       "  </tbody>\n",
       "</table>\n",
       "<p>3254 rows × 5 columns</p>\n",
       "</div>"
      ],
      "text/plain": [
       "          Id  UserId  RestaurantId                      Created Details\n",
       "7        497     NaN           121  2020-07-22T00:42:13.134842Z     NaN\n",
       "8        545     NaN          1029  2020-07-23T01:00:26.610172Z     NaN\n",
       "9        546     NaN          1029   2020-07-23T01:00:55.73311Z     NaN\n",
       "11       270     1.0           110  2020-05-10T07:02:20.748807Z     NaN\n",
       "14       242   135.0           110  2020-05-06T00:02:48.443678Z     NaN\n",
       "...      ...     ...           ...                          ...     ...\n",
       "14841  14751     NaN           299   2022-01-13T01:04:20.19769Z     NaN\n",
       "14849  14760     NaN           299    2022-01-13T22:13:02.1426Z     NaN\n",
       "14850  14761     NaN           121  2022-01-13T22:26:59.240739Z     NaN\n",
       "14864  14795     NaN           299  2022-01-19T00:44:40.245651Z     NaN\n",
       "14876  14804     NaN           121  2022-01-20T03:01:03.888075Z     NaN\n",
       "\n",
       "[3254 rows x 5 columns]"
      ]
     },
     "execution_count": 19,
     "metadata": {},
     "output_type": "execute_result"
    }
   ],
   "source": [
    "print('The number of orders without details:',orders.Details.isnull().sum())\n",
    "orders[orders.Details.isnull()]"
   ]
  },
  {
   "cell_type": "code",
   "execution_count": 20,
   "id": "a3f68a70",
   "metadata": {},
   "outputs": [],
   "source": [
    "orders.dropna(subset = ['Details'], inplace = True)"
   ]
  },
  {
   "cell_type": "code",
   "execution_count": 21,
   "id": "7965b29e",
   "metadata": {},
   "outputs": [
    {
     "name": "stdout",
     "output_type": "stream",
     "text": [
      "<class 'pandas.core.frame.DataFrame'>\n",
      "Int64Index: 11629 entries, 0 to 14882\n",
      "Data columns (total 5 columns):\n",
      " #   Column        Non-Null Count  Dtype  \n",
      "---  ------        --------------  -----  \n",
      " 0   Id            11629 non-null  int64  \n",
      " 1   UserId        6721 non-null   float64\n",
      " 2   RestaurantId  11629 non-null  int64  \n",
      " 3   Created       11629 non-null  object \n",
      " 4   Details       11629 non-null  object \n",
      "dtypes: float64(1), int64(2), object(2)\n",
      "memory usage: 545.1+ KB\n"
     ]
    }
   ],
   "source": [
    "orders.info()"
   ]
  },
  {
   "cell_type": "code",
   "execution_count": 22,
   "id": "1ccc9e0f",
   "metadata": {},
   "outputs": [
    {
     "data": {
      "text/plain": [
       "Id              11629\n",
       "UserId           4222\n",
       "RestaurantId        7\n",
       "Created         11629\n",
       "Details         11307\n",
       "dtype: int64"
      ]
     },
     "execution_count": 22,
     "metadata": {},
     "output_type": "execute_result"
    }
   ],
   "source": [
    "orders.nunique()"
   ]
  },
  {
   "cell_type": "markdown",
   "id": "43903add",
   "metadata": {},
   "source": [
    "Lets take the Items out from the Details object"
   ]
  },
  {
   "cell_type": "code",
   "execution_count": 23,
   "id": "ceb6ac96",
   "metadata": {},
   "outputs": [
    {
     "data": {
      "text/plain": [
       "'{\"tax\": 4.3200, \"tip\": 0, \"items\": [{\"count\": 1, \"price\": 27.00, \"total\": 27.00, \"options\": [{\"id\": 45, \"name\": \"Large\", \"price\": 6.00}, {\"id\": 47, \"name\": \"Chicken\", \"price\": 3.00}], \"menuItem\": {\"id\": 188, \"name\": \"Mussels\", \"price\": 18.00}}, {\"count\": 1, \"price\": 9.00, \"total\": 9.00, \"menuItem\": {\"id\": 196, \"name\": \"Greens\", \"price\": 9.00}}], \"total\": 40.3200, \"payment\": {\"id\": \"pm_1GfIWgAAWyjnNOlk1eHTpDPJ\", \"brand\": \"visa\", \"last4\": \"4242\", \"expYear\": 2023, \"expMonth\": 12}, \"currency\": \"cad\", \"subtotal\": 36.00, \"deliveryFee\": 0, \"taxPercentage\": 12.00}'"
      ]
     },
     "execution_count": 23,
     "metadata": {},
     "output_type": "execute_result"
    }
   ],
   "source": [
    "orders.Details.iloc[200]"
   ]
  },
  {
   "cell_type": "markdown",
   "id": "e74d6794",
   "metadata": {},
   "source": [
    "As seen above all the information for ordered foods are combined in a dictionary format object, we need to extract the Items from the object and add it to another column. Also we will the address too, for geographical analysis."
   ]
  },
  {
   "cell_type": "code",
   "execution_count": 24,
   "id": "e432188a",
   "metadata": {},
   "outputs": [],
   "source": [
    "orders.Details = orders.Details.apply(lambda x : json.loads(x))\n",
    "orders['Address']= orders.Details.apply(lambda x : library.utils.return_value('address',x))\n",
    "orders['Items']= orders.Details.apply(lambda x : library.utils.return_value('items',x))"
   ]
  },
  {
   "cell_type": "code",
   "execution_count": 25,
   "id": "fb4e0bd1",
   "metadata": {},
   "outputs": [
    {
     "name": "stdout",
     "output_type": "stream",
     "text": [
      "<class 'pandas.core.frame.DataFrame'>\n",
      "Int64Index: 11629 entries, 0 to 14882\n",
      "Data columns (total 7 columns):\n",
      " #   Column        Non-Null Count  Dtype  \n",
      "---  ------        --------------  -----  \n",
      " 0   Id            11629 non-null  int64  \n",
      " 1   UserId        6721 non-null   float64\n",
      " 2   RestaurantId  11629 non-null  int64  \n",
      " 3   Created       11629 non-null  object \n",
      " 4   Details       11629 non-null  object \n",
      " 5   Address       350 non-null    object \n",
      " 6   Items         11629 non-null  object \n",
      "dtypes: float64(1), int64(2), object(4)\n",
      "memory usage: 726.8+ KB\n"
     ]
    }
   ],
   "source": [
    "orders.info()"
   ]
  },
  {
   "cell_type": "markdown",
   "id": "0eaffd70",
   "metadata": {},
   "source": [
    "Rename the Created to Date and change the type to date time"
   ]
  },
  {
   "cell_type": "code",
   "execution_count": 26,
   "id": "214d6415",
   "metadata": {},
   "outputs": [
    {
     "data": {
      "text/plain": [
       "Index(['Id', 'UserId', 'RestaurantId', 'Date', 'Details', 'Address', 'Items'], dtype='object')"
      ]
     },
     "execution_count": 26,
     "metadata": {},
     "output_type": "execute_result"
    }
   ],
   "source": [
    "orders.rename(columns = {'Created' : 'Date'} , inplace=True)\n",
    "orders.columns"
   ]
  },
  {
   "cell_type": "code",
   "execution_count": 27,
   "id": "29fea015",
   "metadata": {},
   "outputs": [],
   "source": [
    "orders.Date = orders.Date.astype('datetime64')"
   ]
  },
  {
   "cell_type": "code",
   "execution_count": 28,
   "id": "561130ac",
   "metadata": {},
   "outputs": [
    {
     "data": {
      "text/plain": [
       "Id                       int64\n",
       "UserId                 float64\n",
       "RestaurantId             int64\n",
       "Date            datetime64[ns]\n",
       "Details                 object\n",
       "Address                 object\n",
       "Items                   object\n",
       "dtype: object"
      ]
     },
     "execution_count": 28,
     "metadata": {},
     "output_type": "execute_result"
    }
   ],
   "source": [
    "orders.dtypes"
   ]
  },
  {
   "cell_type": "markdown",
   "id": "85ebcb29",
   "metadata": {},
   "source": [
    "Lets see which day of the week had the highest order number"
   ]
  },
  {
   "cell_type": "code",
   "execution_count": 29,
   "id": "491f3c44",
   "metadata": {},
   "outputs": [],
   "source": [
    "weekday_count = orders.Date.dt.day_name().value_counts()"
   ]
  },
  {
   "cell_type": "code",
   "execution_count": 30,
   "id": "a3b07920",
   "metadata": {},
   "outputs": [
    {
     "data": {
      "text/plain": [
       "Text(0, 0.5, 'Order Numbers')"
      ]
     },
     "execution_count": 30,
     "metadata": {},
     "output_type": "execute_result"
    },
    {
     "data": {
      "image/png": "[encoded data removed]",
      "text/plain": [
       "<Figure size 432x288 with 1 Axes>"
      ]
     },
     "metadata": {
      "needs_background": "light"
     },
     "output_type": "display_data"
    }
   ],
   "source": [
    "weekday_count.plot(kind = 'bar', color='green')\n",
    "plt.ylabel('Order Numbers')"
   ]
  },
  {
   "cell_type": "code",
   "execution_count": 31,
   "id": "caed240c",
   "metadata": {},
   "outputs": [
    {
     "data": {
      "image/png": "[encoded data removed]",
      "text/plain": [
       "<Figure size 432x288 with 1 Axes>"
      ]
     },
     "metadata": {},
     "output_type": "display_data"
    }
   ],
   "source": [
    "plt.pie(weekday_count, labels = weekday_count.index,textprops=dict(color=\"w\") ,autopct='%1.0f%%');\n",
    "plt.show()"
   ]
  },
  {
   "cell_type": "code",
   "execution_count": 32,
   "id": "f16ca877",
   "metadata": {},
   "outputs": [],
   "source": [
    "month_count = orders.Date.dt.month_name().value_counts()"
   ]
  },
  {
   "cell_type": "code",
   "execution_count": 33,
   "id": "78d4a6e9",
   "metadata": {},
   "outputs": [
    {
     "data": {
      "text/plain": [
       "Text(0, 0.5, 'Order Numbers')"
      ]
     },
     "execution_count": 33,
     "metadata": {},
     "output_type": "execute_result"
    },
    {
     "data": {
      "image/png": "[encoded data removed]",
      "text/plain": [
       "<Figure size 432x288 with 1 Axes>"
      ]
     },
     "metadata": {
      "needs_background": "light"
     },
     "output_type": "display_data"
    }
   ],
   "source": [
    "month_count.plot(kind = 'bar', color='purple')\n",
    "plt.ylabel('Order Numbers')"
   ]
  },
  {
   "cell_type": "code",
   "execution_count": 34,
   "id": "074b1d57",
   "metadata": {},
   "outputs": [
    {
     "data": {
      "image/png": "[encoded data removed]",
      "text/plain": [
       "<Figure size 432x288 with 1 Axes>"
      ]
     },
     "metadata": {},
     "output_type": "display_data"
    }
   ],
   "source": [
    "plt.pie(month_count, labels = month_count.index,textprops=dict(color=\"w\") ,autopct='%1.0f%%');\n",
    "plt.show()"
   ]
  },
  {
   "cell_type": "markdown",
   "id": "44f228ca",
   "metadata": {},
   "source": [
    "Lets join users and orders to get the orders that have userId. There are some orders have been submitted with guest users, that unfortunately we dont have any association."
   ]
  },
  {
   "cell_type": "code",
   "execution_count": 35,
   "id": "ef66093c",
   "metadata": {},
   "outputs": [],
   "source": [
    "users_order = pd.merge(orders, users_df,left_on = 'UserId', right_on = 'Id', how='inner')"
   ]
  },
  {
   "cell_type": "code",
   "execution_count": 36,
   "id": "13832cfc",
   "metadata": {},
   "outputs": [
    {
     "name": "stdout",
     "output_type": "stream",
     "text": [
      "6721 orders have a userId\n"
     ]
    }
   ],
   "source": [
    "print(users_order.shape[0],'orders have a userId')"
   ]
  },
  {
   "cell_type": "code",
   "execution_count": 37,
   "id": "f6fb5a2b",
   "metadata": {},
   "outputs": [
    {
     "data": {
      "text/html": [
       "<div>\n",
       "<style scoped>\n",
       "    .dataframe tbody tr th:only-of-type {\n",
       "        vertical-align: middle;\n",
       "    }\n",
       "\n",
       "    .dataframe tbody tr th {\n",
       "        vertical-align: top;\n",
       "    }\n",
       "\n",
       "    .dataframe thead th {\n",
       "        text-align: right;\n",
       "    }\n",
       "</style>\n",
       "<table border=\"1\" class=\"dataframe\">\n",
       "  <thead>\n",
       "    <tr style=\"text-align: right;\">\n",
       "      <th></th>\n",
       "      <th>Id_x</th>\n",
       "      <th>UserId</th>\n",
       "      <th>RestaurantId</th>\n",
       "      <th>Date</th>\n",
       "      <th>Details</th>\n",
       "      <th>Address</th>\n",
       "      <th>Items</th>\n",
       "      <th>Id_y</th>\n",
       "    </tr>\n",
       "  </thead>\n",
       "  <tbody>\n",
       "    <tr>\n",
       "      <th>0</th>\n",
       "      <td>8</td>\n",
       "      <td>113.0</td>\n",
       "      <td>110</td>\n",
       "      <td>2020-03-28 08:15:25.615002</td>\n",
       "      <td>{'Id': 8, 'Tax': 5.04, 'Tip': 0, 'User': {'Id'...</td>\n",
       "      <td>{'Id': 4, 'Lat': 49.28319399999999, 'Lng': -12...</td>\n",
       "      <td>[{'Count': 1, 'Price': 15.0, 'Total': 15.0, 'O...</td>\n",
       "      <td>113</td>\n",
       "    </tr>\n",
       "    <tr>\n",
       "      <th>1</th>\n",
       "      <td>45</td>\n",
       "      <td>113.0</td>\n",
       "      <td>110</td>\n",
       "      <td>2020-04-15 21:32:36.397056</td>\n",
       "      <td>{'Tax': 4.8, 'Tip': 0, 'Items': [{'Count': 2, ...</td>\n",
       "      <td>{'Id': 4, 'Lat': 49.28319399999999, 'Lng': -12...</td>\n",
       "      <td>[{'Count': 2, 'Price': 8.0, 'Total': 16.0, 'Op...</td>\n",
       "      <td>113</td>\n",
       "    </tr>\n",
       "    <tr>\n",
       "      <th>2</th>\n",
       "      <td>13</td>\n",
       "      <td>113.0</td>\n",
       "      <td>110</td>\n",
       "      <td>2020-03-30 22:22:26.322592</td>\n",
       "      <td>{'Id': 13, 'Tax': 1.68, 'Tip': 0, 'User': {'Id...</td>\n",
       "      <td>{'Id': 4, 'Lat': 49.28319399999999, 'Lng': -12...</td>\n",
       "      <td>[{'Count': 2, 'Price': 7.0, 'Total': 14.0, 'Op...</td>\n",
       "      <td>113</td>\n",
       "    </tr>\n",
       "    <tr>\n",
       "      <th>3</th>\n",
       "      <td>10</td>\n",
       "      <td>113.0</td>\n",
       "      <td>110</td>\n",
       "      <td>2020-03-28 23:32:37.633266</td>\n",
       "      <td>{'Id': 10, 'Tax': 6.24, 'Tip': 0, 'User': {'Id...</td>\n",
       "      <td>{'Id': 4, 'Lat': 49.28319399999999, 'Lng': -12...</td>\n",
       "      <td>[{'Count': 2, 'Price': 26.0, 'Total': 52.0, 'O...</td>\n",
       "      <td>113</td>\n",
       "    </tr>\n",
       "    <tr>\n",
       "      <th>4</th>\n",
       "      <td>59</td>\n",
       "      <td>113.0</td>\n",
       "      <td>110</td>\n",
       "      <td>2020-04-16 02:18:58.692849</td>\n",
       "      <td>{'Tax': 1.92, 'Tip': 0, 'Items': [{'Count': 1,...</td>\n",
       "      <td>None</td>\n",
       "      <td>[{'Count': 1, 'Price': 16.0, 'Total': 16.0, 'O...</td>\n",
       "      <td>113</td>\n",
       "    </tr>\n",
       "  </tbody>\n",
       "</table>\n",
       "</div>"
      ],
      "text/plain": [
       "   Id_x  UserId  RestaurantId                       Date  \\\n",
       "0     8   113.0           110 2020-03-28 08:15:25.615002   \n",
       "1    45   113.0           110 2020-04-15 21:32:36.397056   \n",
       "2    13   113.0           110 2020-03-30 22:22:26.322592   \n",
       "3    10   113.0           110 2020-03-28 23:32:37.633266   \n",
       "4    59   113.0           110 2020-04-16 02:18:58.692849   \n",
       "\n",
       "                                             Details  \\\n",
       "0  {'Id': 8, 'Tax': 5.04, 'Tip': 0, 'User': {'Id'...   \n",
       "1  {'Tax': 4.8, 'Tip': 0, 'Items': [{'Count': 2, ...   \n",
       "2  {'Id': 13, 'Tax': 1.68, 'Tip': 0, 'User': {'Id...   \n",
       "3  {'Id': 10, 'Tax': 6.24, 'Tip': 0, 'User': {'Id...   \n",
       "4  {'Tax': 1.92, 'Tip': 0, 'Items': [{'Count': 1,...   \n",
       "\n",
       "                                             Address  \\\n",
       "0  {'Id': 4, 'Lat': 49.28319399999999, 'Lng': -12...   \n",
       "1  {'Id': 4, 'Lat': 49.28319399999999, 'Lng': -12...   \n",
       "2  {'Id': 4, 'Lat': 49.28319399999999, 'Lng': -12...   \n",
       "3  {'Id': 4, 'Lat': 49.28319399999999, 'Lng': -12...   \n",
       "4                                               None   \n",
       "\n",
       "                                               Items  Id_y  \n",
       "0  [{'Count': 1, 'Price': 15.0, 'Total': 15.0, 'O...   113  \n",
       "1  [{'Count': 2, 'Price': 8.0, 'Total': 16.0, 'Op...   113  \n",
       "2  [{'Count': 2, 'Price': 7.0, 'Total': 14.0, 'Op...   113  \n",
       "3  [{'Count': 2, 'Price': 26.0, 'Total': 52.0, 'O...   113  \n",
       "4  [{'Count': 1, 'Price': 16.0, 'Total': 16.0, 'O...   113  "
      ]
     },
     "execution_count": 37,
     "metadata": {},
     "output_type": "execute_result"
    }
   ],
   "source": [
    "users_order.head()"
   ]
  },
  {
   "cell_type": "code",
   "execution_count": 38,
   "id": "73aa3305",
   "metadata": {},
   "outputs": [
    {
     "data": {
      "text/plain": [
       "Id_x               0\n",
       "UserId             0\n",
       "RestaurantId       0\n",
       "Date               0\n",
       "Details            0\n",
       "Address         6371\n",
       "Items              0\n",
       "Id_y               0\n",
       "dtype: int64"
      ]
     },
     "execution_count": 38,
     "metadata": {},
     "output_type": "execute_result"
    }
   ],
   "source": [
    "users_order.isnull().sum()"
   ]
  },
  {
   "cell_type": "markdown",
   "id": "bb407b7a",
   "metadata": {},
   "source": [
    "We know most of the orders do not have address as they were for dine in, not delivery."
   ]
  },
  {
   "cell_type": "code",
   "execution_count": 39,
   "id": "bd936e1c",
   "metadata": {},
   "outputs": [
    {
     "data": {
      "text/plain": [
       "2499"
      ]
     },
     "execution_count": 39,
     "metadata": {},
     "output_type": "execute_result"
    }
   ],
   "source": [
    "# There are some users that have ordered multiple times, lets check how many of them exists\n",
    "users_order.UserId.duplicated().sum()"
   ]
  },
  {
   "cell_type": "code",
   "execution_count": 40,
   "id": "9f8aefb9",
   "metadata": {},
   "outputs": [],
   "source": [
    "users_order = users_order.drop('Id_y' , axis = 1)"
   ]
  },
  {
   "cell_type": "code",
   "execution_count": 41,
   "id": "86b118ed",
   "metadata": {},
   "outputs": [],
   "source": [
    "#rename the column name after merge to a correct version\n",
    "users_order.rename(columns = {'Id_x' : 'OrderId'}, inplace = True);"
   ]
  },
  {
   "cell_type": "code",
   "execution_count": 42,
   "id": "d1f4716a",
   "metadata": {},
   "outputs": [
    {
     "name": "stdout",
     "output_type": "stream",
     "text": [
      "<class 'pandas.core.frame.DataFrame'>\n",
      "Int64Index: 6721 entries, 0 to 6720\n",
      "Data columns (total 7 columns):\n",
      " #   Column        Non-Null Count  Dtype         \n",
      "---  ------        --------------  -----         \n",
      " 0   OrderId       6721 non-null   int64         \n",
      " 1   UserId        6721 non-null   float64       \n",
      " 2   RestaurantId  6721 non-null   int64         \n",
      " 3   Date          6721 non-null   datetime64[ns]\n",
      " 4   Details       6721 non-null   object        \n",
      " 5   Address       350 non-null    object        \n",
      " 6   Items         6721 non-null   object        \n",
      "dtypes: datetime64[ns](1), float64(1), int64(2), object(3)\n",
      "memory usage: 420.1+ KB\n"
     ]
    }
   ],
   "source": [
    "users_order.info()"
   ]
  },
  {
   "cell_type": "code",
   "execution_count": 43,
   "id": "cf78fa40",
   "metadata": {},
   "outputs": [
    {
     "name": "stdout",
     "output_type": "stream",
     "text": [
      "float64\n",
      "int64\n"
     ]
    }
   ],
   "source": [
    "print(users_order.UserId.dtype)\n",
    "\n",
    "# change the userId type to int\n",
    "users_order.UserId = users_order.UserId.astype(int);\n",
    "print(users_order.UserId.dtype)"
   ]
  },
  {
   "cell_type": "markdown",
   "id": "a0270950",
   "metadata": {},
   "source": [
    "### 1.3. Feedback Data Exploration"
   ]
  },
  {
   "cell_type": "code",
   "execution_count": 44,
   "id": "ccdbcf59",
   "metadata": {},
   "outputs": [
    {
     "data": {
      "text/html": [
       "<div>\n",
       "<style scoped>\n",
       "    .dataframe tbody tr th:only-of-type {\n",
       "        vertical-align: middle;\n",
       "    }\n",
       "\n",
       "    .dataframe tbody tr th {\n",
       "        vertical-align: top;\n",
       "    }\n",
       "\n",
       "    .dataframe thead th {\n",
       "        text-align: right;\n",
       "    }\n",
       "</style>\n",
       "<table border=\"1\" class=\"dataframe\">\n",
       "  <thead>\n",
       "    <tr style=\"text-align: right;\">\n",
       "      <th></th>\n",
       "      <th>Id</th>\n",
       "      <th>VirtualMenuStar</th>\n",
       "      <th>OrderingProcessStar</th>\n",
       "      <th>OnlinePaymentStar</th>\n",
       "      <th>OtherComments</th>\n",
       "      <th>UserOrderId</th>\n",
       "      <th>CreatedDate</th>\n",
       "    </tr>\n",
       "  </thead>\n",
       "  <tbody>\n",
       "    <tr>\n",
       "      <th>0</th>\n",
       "      <td>802</td>\n",
       "      <td>5</td>\n",
       "      <td>5</td>\n",
       "      <td>5</td>\n",
       "      <td>NaN</td>\n",
       "      <td>14777</td>\n",
       "      <td>2022-01-16T00:43:33.844237Z</td>\n",
       "    </tr>\n",
       "    <tr>\n",
       "      <th>1</th>\n",
       "      <td>801</td>\n",
       "      <td>5</td>\n",
       "      <td>1</td>\n",
       "      <td>5</td>\n",
       "      <td>Food arrived 50 minutes later than the request...</td>\n",
       "      <td>14479</td>\n",
       "      <td>2021-12-08T17:26:32.295815Z</td>\n",
       "    </tr>\n",
       "    <tr>\n",
       "      <th>2</th>\n",
       "      <td>800</td>\n",
       "      <td>5</td>\n",
       "      <td>5</td>\n",
       "      <td>5</td>\n",
       "      <td>Smile</td>\n",
       "      <td>13892</td>\n",
       "      <td>2021-09-21T05:21:33.518309Z</td>\n",
       "    </tr>\n",
       "    <tr>\n",
       "      <th>3</th>\n",
       "      <td>799</td>\n",
       "      <td>5</td>\n",
       "      <td>5</td>\n",
       "      <td>5</td>\n",
       "      <td>NaN</td>\n",
       "      <td>13886</td>\n",
       "      <td>2021-09-20T02:11:48.826812Z</td>\n",
       "    </tr>\n",
       "    <tr>\n",
       "      <th>4</th>\n",
       "      <td>798</td>\n",
       "      <td>5</td>\n",
       "      <td>5</td>\n",
       "      <td>5</td>\n",
       "      <td>Your hammer sandwich that you say is Spicy but...</td>\n",
       "      <td>13607</td>\n",
       "      <td>2021-08-29T23:56:25.635394Z</td>\n",
       "    </tr>\n",
       "  </tbody>\n",
       "</table>\n",
       "</div>"
      ],
      "text/plain": [
       "    Id  VirtualMenuStar  OrderingProcessStar  OnlinePaymentStar  \\\n",
       "0  802                5                    5                  5   \n",
       "1  801                5                    1                  5   \n",
       "2  800                5                    5                  5   \n",
       "3  799                5                    5                  5   \n",
       "4  798                5                    5                  5   \n",
       "\n",
       "                                       OtherComments  UserOrderId  \\\n",
       "0                                                NaN        14777   \n",
       "1  Food arrived 50 minutes later than the request...        14479   \n",
       "2                                             Smile         13892   \n",
       "3                                                NaN        13886   \n",
       "4  Your hammer sandwich that you say is Spicy but...        13607   \n",
       "\n",
       "                   CreatedDate  \n",
       "0  2022-01-16T00:43:33.844237Z  \n",
       "1  2021-12-08T17:26:32.295815Z  \n",
       "2  2021-09-21T05:21:33.518309Z  \n",
       "3  2021-09-20T02:11:48.826812Z  \n",
       "4  2021-08-29T23:56:25.635394Z  "
      ]
     },
     "execution_count": 44,
     "metadata": {},
     "output_type": "execute_result"
    }
   ],
   "source": [
    "feedback.head()"
   ]
  },
  {
   "cell_type": "markdown",
   "id": "b874a1a7",
   "metadata": {},
   "source": [
    "Lets filter the feature we need from the feedback dataset"
   ]
  },
  {
   "cell_type": "code",
   "execution_count": 45,
   "id": "d9af02df",
   "metadata": {},
   "outputs": [
    {
     "data": {
      "text/plain": [
       "Index(['Id', 'VirtualMenuStar', 'OrderingProcessStar', 'OnlinePaymentStar',\n",
       "       'OtherComments', 'UserOrderId', 'CreatedDate'],\n",
       "      dtype='object')"
      ]
     },
     "execution_count": 45,
     "metadata": {},
     "output_type": "execute_result"
    }
   ],
   "source": [
    "feedback.columns"
   ]
  },
  {
   "cell_type": "code",
   "execution_count": 46,
   "id": "9b75193d",
   "metadata": {},
   "outputs": [],
   "source": [
    "feedback.drop(['VirtualMenuStar', 'OnlinePaymentStar', 'CreatedDate'], axis = 1, inplace=True)"
   ]
  },
  {
   "cell_type": "code",
   "execution_count": 47,
   "id": "a70fdc7d",
   "metadata": {},
   "outputs": [],
   "source": [
    "feedback.rename(columns={'OrderingProcessStar' : 'Rating', 'OtherComments' :'Comments','UserOrderId': 'OrderId'}, inplace= True)"
   ]
  },
  {
   "cell_type": "code",
   "execution_count": 48,
   "id": "4f313a3c",
   "metadata": {},
   "outputs": [
    {
     "name": "stdout",
     "output_type": "stream",
     "text": [
      "<class 'pandas.core.frame.DataFrame'>\n",
      "RangeIndex: 802 entries, 0 to 801\n",
      "Data columns (total 4 columns):\n",
      " #   Column    Non-Null Count  Dtype \n",
      "---  ------    --------------  ----- \n",
      " 0   Id        802 non-null    int64 \n",
      " 1   Rating    802 non-null    int64 \n",
      " 2   Comments  155 non-null    object\n",
      " 3   OrderId   802 non-null    int64 \n",
      "dtypes: int64(3), object(1)\n",
      "memory usage: 25.2+ KB\n"
     ]
    }
   ],
   "source": [
    "feedback.info()"
   ]
  },
  {
   "cell_type": "code",
   "execution_count": 49,
   "id": "152c920e",
   "metadata": {},
   "outputs": [
    {
     "name": "stdout",
     "output_type": "stream",
     "text": [
      "From all the available orders 802 of them have rating.\n"
     ]
    }
   ],
   "source": [
    "print('From all the available orders', len(feedback.Rating), 'of them have rating.')"
   ]
  },
  {
   "cell_type": "code",
   "execution_count": 50,
   "id": "8b2de748",
   "metadata": {},
   "outputs": [
    {
     "data": {
      "text/plain": [
       "Text(0, 0.5, 'Order Numbers')"
      ]
     },
     "execution_count": 50,
     "metadata": {},
     "output_type": "execute_result"
    },
    {
     "data": {
      "image/png": "[encoded data removed]",
      "text/plain": [
       "<Figure size 432x288 with 1 Axes>"
      ]
     },
     "metadata": {
      "needs_background": "light"
     },
     "output_type": "display_data"
    }
   ],
   "source": [
    "rating_count = feedback.Rating.value_counts()\n",
    "\n",
    "rating_count.plot(kind = 'bar', color='green')\n",
    "plt.ylabel('Order Numbers')"
   ]
  },
  {
   "cell_type": "code",
   "execution_count": 51,
   "id": "3f95b158",
   "metadata": {},
   "outputs": [
    {
     "data": {
      "image/png": "[encoded data removed]",
      "text/plain": [
       "<Figure size 432x288 with 1 Axes>"
      ]
     },
     "metadata": {},
     "output_type": "display_data"
    }
   ],
   "source": [
    "plt.pie(rating_count,labels = rating_count.index,textprops=dict(color=\"w\") ,autopct='%1.0f%%');"
   ]
  },
  {
   "cell_type": "markdown",
   "id": "9f83ac5e",
   "metadata": {},
   "source": [
    "### 1.4 Items Data Exploration"
   ]
  },
  {
   "cell_type": "code",
   "execution_count": 52,
   "id": "26f6ffa7",
   "metadata": {},
   "outputs": [
    {
     "data": {
      "text/html": [
       "<div>\n",
       "<style scoped>\n",
       "    .dataframe tbody tr th:only-of-type {\n",
       "        vertical-align: middle;\n",
       "    }\n",
       "\n",
       "    .dataframe tbody tr th {\n",
       "        vertical-align: top;\n",
       "    }\n",
       "\n",
       "    .dataframe thead th {\n",
       "        text-align: right;\n",
       "    }\n",
       "</style>\n",
       "<table border=\"1\" class=\"dataframe\">\n",
       "  <thead>\n",
       "    <tr style=\"text-align: right;\">\n",
       "      <th></th>\n",
       "      <th>Id</th>\n",
       "      <th>Name</th>\n",
       "      <th>Description</th>\n",
       "      <th>PhotoUrl</th>\n",
       "      <th>TagsString</th>\n",
       "      <th>Rating</th>\n",
       "      <th>RatingCount</th>\n",
       "      <th>Calories</th>\n",
       "      <th>Fiber</th>\n",
       "      <th>Carbohydrate</th>\n",
       "      <th>SearchVector</th>\n",
       "      <th>IsGlobal</th>\n",
       "      <th>Property</th>\n",
       "      <th>Sku</th>\n",
       "      <th>Type</th>\n",
       "    </tr>\n",
       "  </thead>\n",
       "  <tbody>\n",
       "    <tr>\n",
       "      <th>0</th>\n",
       "      <td>81465</td>\n",
       "      <td>Popina Bottled Water</td>\n",
       "      <td>NaN</td>\n",
       "      <td>https://res.cloudinary.com/fooreco/image/uploa...</td>\n",
       "      <td>NaN</td>\n",
       "      <td>NaN</td>\n",
       "      <td>0</td>\n",
       "      <td>NaN</td>\n",
       "      <td>NaN</td>\n",
       "      <td>NaN</td>\n",
       "      <td>'bottl':2 'popina':1 'water':3</td>\n",
       "      <td>False</td>\n",
       "      <td>NaN</td>\n",
       "      <td>NaN</td>\n",
       "      <td>Drink</td>\n",
       "    </tr>\n",
       "    <tr>\n",
       "      <th>1</th>\n",
       "      <td>81456</td>\n",
       "      <td>Mayhem, Pinot Gris (bottle)</td>\n",
       "      <td>750 ML</td>\n",
       "      <td>https://res.cloudinary.com/fooreco/image/uploa...</td>\n",
       "      <td>Alcohol</td>\n",
       "      <td>NaN</td>\n",
       "      <td>0</td>\n",
       "      <td>NaN</td>\n",
       "      <td>NaN</td>\n",
       "      <td>NaN</td>\n",
       "      <td>'alcohol':5 'bottl':4 'gris':3 'mayhem':1 'pin...</td>\n",
       "      <td>False</td>\n",
       "      <td>NaN</td>\n",
       "      <td>NaN</td>\n",
       "      <td>Liquor</td>\n",
       "    </tr>\n",
       "    <tr>\n",
       "      <th>2</th>\n",
       "      <td>81457</td>\n",
       "      <td>Bartier Bros, Merlot (bottle)</td>\n",
       "      <td>NaN</td>\n",
       "      <td>https://res.cloudinary.com/fooreco/image/uploa...</td>\n",
       "      <td>Alcohol</td>\n",
       "      <td>NaN</td>\n",
       "      <td>0</td>\n",
       "      <td>NaN</td>\n",
       "      <td>NaN</td>\n",
       "      <td>NaN</td>\n",
       "      <td>'alcohol':5 'bartier':1 'bottl':4 'bros':2 'me...</td>\n",
       "      <td>False</td>\n",
       "      <td>NaN</td>\n",
       "      <td>NaN</td>\n",
       "      <td>Liquor</td>\n",
       "    </tr>\n",
       "    <tr>\n",
       "      <th>3</th>\n",
       "      <td>81458</td>\n",
       "      <td>Joie Brut, sparkling wine (1/2 Bottle)</td>\n",
       "      <td>NaN</td>\n",
       "      <td>https://res.cloudinary.com/fooreco/image/uploa...</td>\n",
       "      <td>Alcohol</td>\n",
       "      <td>NaN</td>\n",
       "      <td>0</td>\n",
       "      <td>NaN</td>\n",
       "      <td>NaN</td>\n",
       "      <td>NaN</td>\n",
       "      <td>'1/2':5 'alcohol':7 'bottl':6 'brut':2 'joie':...</td>\n",
       "      <td>False</td>\n",
       "      <td>NaN</td>\n",
       "      <td>NaN</td>\n",
       "      <td>Liquor</td>\n",
       "    </tr>\n",
       "    <tr>\n",
       "      <th>4</th>\n",
       "      <td>81460</td>\n",
       "      <td>Powell Street, Ode to Citra  (473 Ml)</td>\n",
       "      <td>NaN</td>\n",
       "      <td>https://res.cloudinary.com/fooreco/image/uploa...</td>\n",
       "      <td>Alcohol</td>\n",
       "      <td>NaN</td>\n",
       "      <td>0</td>\n",
       "      <td>NaN</td>\n",
       "      <td>NaN</td>\n",
       "      <td>NaN</td>\n",
       "      <td>'473':6 'alcohol':8 'citra':5 'ml':7 'ode':3 '...</td>\n",
       "      <td>False</td>\n",
       "      <td>NaN</td>\n",
       "      <td>NaN</td>\n",
       "      <td>Liquor</td>\n",
       "    </tr>\n",
       "  </tbody>\n",
       "</table>\n",
       "</div>"
      ],
      "text/plain": [
       "      Id                                    Name Description  \\\n",
       "0  81465                    Popina Bottled Water         NaN   \n",
       "1  81456             Mayhem, Pinot Gris (bottle)     750 ML    \n",
       "2  81457           Bartier Bros, Merlot (bottle)         NaN   \n",
       "3  81458  Joie Brut, sparkling wine (1/2 Bottle)         NaN   \n",
       "4  81460   Powell Street, Ode to Citra  (473 Ml)         NaN   \n",
       "\n",
       "                                            PhotoUrl TagsString  Rating  \\\n",
       "0  https://res.cloudinary.com/fooreco/image/uploa...        NaN     NaN   \n",
       "1  https://res.cloudinary.com/fooreco/image/uploa...    Alcohol     NaN   \n",
       "2  https://res.cloudinary.com/fooreco/image/uploa...    Alcohol     NaN   \n",
       "3  https://res.cloudinary.com/fooreco/image/uploa...    Alcohol     NaN   \n",
       "4  https://res.cloudinary.com/fooreco/image/uploa...    Alcohol     NaN   \n",
       "\n",
       "   RatingCount  Calories  Fiber  Carbohydrate  \\\n",
       "0            0       NaN    NaN           NaN   \n",
       "1            0       NaN    NaN           NaN   \n",
       "2            0       NaN    NaN           NaN   \n",
       "3            0       NaN    NaN           NaN   \n",
       "4            0       NaN    NaN           NaN   \n",
       "\n",
       "                                        SearchVector  IsGlobal Property  Sku  \\\n",
       "0                     'bottl':2 'popina':1 'water':3     False      NaN  NaN   \n",
       "1  'alcohol':5 'bottl':4 'gris':3 'mayhem':1 'pin...     False      NaN  NaN   \n",
       "2  'alcohol':5 'bartier':1 'bottl':4 'bros':2 'me...     False      NaN  NaN   \n",
       "3  '1/2':5 'alcohol':7 'bottl':6 'brut':2 'joie':...     False      NaN  NaN   \n",
       "4  '473':6 'alcohol':8 'citra':5 'ml':7 'ode':3 '...     False      NaN  NaN   \n",
       "\n",
       "     Type  \n",
       "0   Drink  \n",
       "1  Liquor  \n",
       "2  Liquor  \n",
       "3  Liquor  \n",
       "4  Liquor  "
      ]
     },
     "execution_count": 52,
     "metadata": {},
     "output_type": "execute_result"
    }
   ],
   "source": [
    "items_info.head()"
   ]
  },
  {
   "cell_type": "code",
   "execution_count": 53,
   "id": "602dddf5",
   "metadata": {},
   "outputs": [
    {
     "data": {
      "text/plain": [
       "Index(['Id', 'Name', 'Description', 'PhotoUrl', 'TagsString', 'Rating',\n",
       "       'RatingCount', 'Calories', 'Fiber', 'Carbohydrate', 'SearchVector',\n",
       "       'IsGlobal', 'Property', 'Sku', 'Type'],\n",
       "      dtype='object')"
      ]
     },
     "execution_count": 53,
     "metadata": {},
     "output_type": "execute_result"
    }
   ],
   "source": [
    "items_info.columns"
   ]
  },
  {
   "cell_type": "code",
   "execution_count": 54,
   "id": "51a8b87c",
   "metadata": {},
   "outputs": [],
   "source": [
    "itemsInfo_df = items_info.drop(['PhotoUrl', 'TagsString', 'Rating',\n",
    "       'RatingCount', 'Calories', 'Fiber', 'Carbohydrate',\n",
    "       'IsGlobal', 'Property', 'Sku'] ,axis = 1)"
   ]
  },
  {
   "cell_type": "code",
   "execution_count": 55,
   "id": "5fcf09d8",
   "metadata": {},
   "outputs": [
    {
     "name": "stdout",
     "output_type": "stream",
     "text": [
      "<class 'pandas.core.frame.DataFrame'>\n",
      "RangeIndex: 83352 entries, 0 to 83351\n",
      "Data columns (total 5 columns):\n",
      " #   Column        Non-Null Count  Dtype \n",
      "---  ------        --------------  ----- \n",
      " 0   Id            83352 non-null  int64 \n",
      " 1   Name          83352 non-null  object\n",
      " 2   Description   62665 non-null  object\n",
      " 3   SearchVector  83351 non-null  object\n",
      " 4   Type          83352 non-null  object\n",
      "dtypes: int64(1), object(4)\n",
      "memory usage: 3.2+ MB\n"
     ]
    }
   ],
   "source": [
    "itemsInfo_df.info()"
   ]
  },
  {
   "cell_type": "code",
   "execution_count": 56,
   "id": "8eef609b",
   "metadata": {},
   "outputs": [
    {
     "data": {
      "text/html": [
       "<div>\n",
       "<style scoped>\n",
       "    .dataframe tbody tr th:only-of-type {\n",
       "        vertical-align: middle;\n",
       "    }\n",
       "\n",
       "    .dataframe tbody tr th {\n",
       "        vertical-align: top;\n",
       "    }\n",
       "\n",
       "    .dataframe thead th {\n",
       "        text-align: right;\n",
       "    }\n",
       "</style>\n",
       "<table border=\"1\" class=\"dataframe\">\n",
       "  <thead>\n",
       "    <tr style=\"text-align: right;\">\n",
       "      <th></th>\n",
       "      <th>Id</th>\n",
       "      <th>Name</th>\n",
       "      <th>Description</th>\n",
       "      <th>SearchVector</th>\n",
       "      <th>Type</th>\n",
       "    </tr>\n",
       "  </thead>\n",
       "  <tbody>\n",
       "    <tr>\n",
       "      <th>0</th>\n",
       "      <td>81465</td>\n",
       "      <td>Popina Bottled Water</td>\n",
       "      <td>NaN</td>\n",
       "      <td>'bottl':2 'popina':1 'water':3</td>\n",
       "      <td>Drink</td>\n",
       "    </tr>\n",
       "    <tr>\n",
       "      <th>2</th>\n",
       "      <td>81457</td>\n",
       "      <td>Bartier Bros, Merlot (bottle)</td>\n",
       "      <td>NaN</td>\n",
       "      <td>'alcohol':5 'bartier':1 'bottl':4 'bros':2 'me...</td>\n",
       "      <td>Liquor</td>\n",
       "    </tr>\n",
       "    <tr>\n",
       "      <th>3</th>\n",
       "      <td>81458</td>\n",
       "      <td>Joie Brut, sparkling wine (1/2 Bottle)</td>\n",
       "      <td>NaN</td>\n",
       "      <td>'1/2':5 'alcohol':7 'bottl':6 'brut':2 'joie':...</td>\n",
       "      <td>Liquor</td>\n",
       "    </tr>\n",
       "    <tr>\n",
       "      <th>4</th>\n",
       "      <td>81460</td>\n",
       "      <td>Powell Street, Ode to Citra  (473 Ml)</td>\n",
       "      <td>NaN</td>\n",
       "      <td>'473':6 'alcohol':8 'citra':5 'ml':7 'ode':3 '...</td>\n",
       "      <td>Liquor</td>\n",
       "    </tr>\n",
       "    <tr>\n",
       "      <th>5</th>\n",
       "      <td>81462</td>\n",
       "      <td>Dark 'n' Stormy</td>\n",
       "      <td>NaN</td>\n",
       "      <td>'alcohol':4 'dark':1 'n':2 'stormi':3</td>\n",
       "      <td>Liquor</td>\n",
       "    </tr>\n",
       "    <tr>\n",
       "      <th>...</th>\n",
       "      <td>...</td>\n",
       "      <td>...</td>\n",
       "      <td>...</td>\n",
       "      <td>...</td>\n",
       "      <td>...</td>\n",
       "    </tr>\n",
       "    <tr>\n",
       "      <th>83341</th>\n",
       "      <td>82519</td>\n",
       "      <td>Wagyu Omakase</td>\n",
       "      <td>NaN</td>\n",
       "      <td>'omakas':2 'wagyu':1</td>\n",
       "      <td>Main</td>\n",
       "    </tr>\n",
       "    <tr>\n",
       "      <th>83342</th>\n",
       "      <td>82529</td>\n",
       "      <td>Summer Omakase</td>\n",
       "      <td>NaN</td>\n",
       "      <td>'omakas':2 'summer':1</td>\n",
       "      <td>Main</td>\n",
       "    </tr>\n",
       "    <tr>\n",
       "      <th>83349</th>\n",
       "      <td>82535</td>\n",
       "      <td>Crispy Fish Sandwich</td>\n",
       "      <td>NaN</td>\n",
       "      <td>'crispi':1 'fish':2 'sandwich':3</td>\n",
       "      <td>Main</td>\n",
       "    </tr>\n",
       "    <tr>\n",
       "      <th>83350</th>\n",
       "      <td>82536</td>\n",
       "      <td>Shoestring Fries (G)</td>\n",
       "      <td>NaN</td>\n",
       "      <td>'fri':2 'g':3 'potato':4 'shoestr':1</td>\n",
       "      <td>Main</td>\n",
       "    </tr>\n",
       "    <tr>\n",
       "      <th>83351</th>\n",
       "      <td>82551</td>\n",
       "      <td>Lager Hoi Polloi</td>\n",
       "      <td>NaN</td>\n",
       "      <td>'alcohol':4 'hoi':2 'lager':1 'polloi':3</td>\n",
       "      <td>Liquor</td>\n",
       "    </tr>\n",
       "  </tbody>\n",
       "</table>\n",
       "<p>20687 rows × 5 columns</p>\n",
       "</div>"
      ],
      "text/plain": [
       "          Id                                    Name Description  \\\n",
       "0      81465                    Popina Bottled Water         NaN   \n",
       "2      81457           Bartier Bros, Merlot (bottle)         NaN   \n",
       "3      81458  Joie Brut, sparkling wine (1/2 Bottle)         NaN   \n",
       "4      81460   Powell Street, Ode to Citra  (473 Ml)         NaN   \n",
       "5      81462                         Dark 'n' Stormy         NaN   \n",
       "...      ...                                     ...         ...   \n",
       "83341  82519                           Wagyu Omakase         NaN   \n",
       "83342  82529                          Summer Omakase         NaN   \n",
       "83349  82535                    Crispy Fish Sandwich         NaN   \n",
       "83350  82536                    Shoestring Fries (G)         NaN   \n",
       "83351  82551                        Lager Hoi Polloi         NaN   \n",
       "\n",
       "                                            SearchVector    Type  \n",
       "0                         'bottl':2 'popina':1 'water':3   Drink  \n",
       "2      'alcohol':5 'bartier':1 'bottl':4 'bros':2 'me...  Liquor  \n",
       "3      '1/2':5 'alcohol':7 'bottl':6 'brut':2 'joie':...  Liquor  \n",
       "4      '473':6 'alcohol':8 'citra':5 'ml':7 'ode':3 '...  Liquor  \n",
       "5                  'alcohol':4 'dark':1 'n':2 'stormi':3  Liquor  \n",
       "...                                                  ...     ...  \n",
       "83341                               'omakas':2 'wagyu':1    Main  \n",
       "83342                              'omakas':2 'summer':1    Main  \n",
       "83349                   'crispi':1 'fish':2 'sandwich':3    Main  \n",
       "83350               'fri':2 'g':3 'potato':4 'shoestr':1    Main  \n",
       "83351           'alcohol':4 'hoi':2 'lager':1 'polloi':3  Liquor  \n",
       "\n",
       "[20687 rows x 5 columns]"
      ]
     },
     "execution_count": 56,
     "metadata": {},
     "output_type": "execute_result"
    }
   ],
   "source": [
    "# check the items that do not have description\n",
    "filter = itemsInfo_df.Description.isnull()\n",
    "itemsInfo_df[filter]"
   ]
  },
  {
   "cell_type": "code",
   "execution_count": 57,
   "id": "7ed948e6",
   "metadata": {},
   "outputs": [
    {
     "data": {
      "text/plain": [
       "Main      20591\n",
       "Drink        51\n",
       "Liquor       32\n",
       "Side         13\n",
       "Name: Type, dtype: int64"
      ]
     },
     "execution_count": 57,
     "metadata": {},
     "output_type": "execute_result"
    }
   ],
   "source": [
    "itemsInfo_df.Type[filter].value_counts()"
   ]
  },
  {
   "cell_type": "markdown",
   "id": "11474f46",
   "metadata": {},
   "source": [
    "As seen above many of the items that do not have description are Main, and we will not drop them."
   ]
  },
  {
   "cell_type": "code",
   "execution_count": 58,
   "id": "0be837dc",
   "metadata": {},
   "outputs": [
    {
     "data": {
      "text/plain": [
       "Main       83161\n",
       "Liquor        93\n",
       "Drink         62\n",
       "Side          33\n",
       "Popular        3\n",
       "Name: Type, dtype: int64"
      ]
     },
     "execution_count": 58,
     "metadata": {},
     "output_type": "execute_result"
    }
   ],
   "source": [
    "itemsInfo_df.Type.value_counts()"
   ]
  },
  {
   "cell_type": "markdown",
   "id": "20a34396",
   "metadata": {},
   "source": [
    "Almost all the items can be categorized as Main, very few items with other types. Lets see which items appear the most in the menus."
   ]
  },
  {
   "cell_type": "code",
   "execution_count": 59,
   "id": "d076133b",
   "metadata": {},
   "outputs": [
    {
     "data": {
      "image/png": "[encoded data removed]",
      "text/plain": [
       "<Figure size 432x288 with 1 Axes>"
      ]
     },
     "metadata": {
      "needs_background": "light"
     },
     "output_type": "display_data"
    }
   ],
   "source": [
    "itemsInfo_df['Name'].value_counts()[0:10].plot(kind = 'barh', fontsize= 10, color='navy').invert_yaxis()"
   ]
  },
  {
   "cell_type": "code",
   "execution_count": 60,
   "id": "32ce0a79",
   "metadata": {},
   "outputs": [],
   "source": [
    "mask = (itemsInfo_df.Name != 'Pop') & (itemsInfo_df.Name != 'Juice') & (itemsInfo_df.Name != 'Bottled Water')\n",
    "itemsInfo_masked = itemsInfo_df[mask]"
   ]
  },
  {
   "cell_type": "code",
   "execution_count": 61,
   "id": "d2cb7214",
   "metadata": {},
   "outputs": [
    {
     "data": {
      "image/png": "[encoded data removed]",
      "text/plain": [
       "<Figure size 432x288 with 1 Axes>"
      ]
     },
     "metadata": {
      "needs_background": "light"
     },
     "output_type": "display_data"
    }
   ],
   "source": [
    "itemsInfo_masked['Name'].value_counts()[0:10].plot(kind = 'barh',fontsize= 10, color='orange').invert_yaxis()"
   ]
  },
  {
   "cell_type": "markdown",
   "id": "f5321469",
   "metadata": {},
   "source": [
    "## 2. Exploratory Data Analysis\n"
   ]
  },
  {
   "cell_type": "markdown",
   "id": "9ec56ef3",
   "metadata": {},
   "source": [
    "Lets merge the feedback dataset with the order dataset."
   ]
  },
  {
   "cell_type": "code",
   "execution_count": 62,
   "id": "16c3a1b1",
   "metadata": {},
   "outputs": [],
   "source": [
    "user_order_feedback= pd.merge(users_order , feedback , left_on= 'OrderId' , right_on= 'OrderId' , how='left')"
   ]
  },
  {
   "cell_type": "code",
   "execution_count": 63,
   "id": "92a682f4",
   "metadata": {},
   "outputs": [
    {
     "name": "stdout",
     "output_type": "stream",
     "text": [
      "<class 'pandas.core.frame.DataFrame'>\n",
      "Int64Index: 6721 entries, 0 to 6720\n",
      "Data columns (total 10 columns):\n",
      " #   Column        Non-Null Count  Dtype         \n",
      "---  ------        --------------  -----         \n",
      " 0   OrderId       6721 non-null   int64         \n",
      " 1   UserId        6721 non-null   int64         \n",
      " 2   RestaurantId  6721 non-null   int64         \n",
      " 3   Date          6721 non-null   datetime64[ns]\n",
      " 4   Details       6721 non-null   object        \n",
      " 5   Address       350 non-null    object        \n",
      " 6   Items         6721 non-null   object        \n",
      " 7   Id            474 non-null    float64       \n",
      " 8   Rating        474 non-null    float64       \n",
      " 9   Comments      98 non-null     object        \n",
      "dtypes: datetime64[ns](1), float64(2), int64(3), object(4)\n",
      "memory usage: 577.6+ KB\n"
     ]
    }
   ],
   "source": [
    "user_order_feedback.info()"
   ]
  },
  {
   "cell_type": "markdown",
   "id": "1d4b0057",
   "metadata": {},
   "source": [
    "As seen before Items feature may have more than one item, below we will extract and split them in different rows for better analysis"
   ]
  },
  {
   "cell_type": "code",
   "execution_count": 64,
   "id": "d4e71e74",
   "metadata": {},
   "outputs": [],
   "source": [
    "data_list = library.utils.extract_items(user_order_feedback)"
   ]
  },
  {
   "cell_type": "code",
   "execution_count": 65,
   "id": "34578890",
   "metadata": {},
   "outputs": [
    {
     "data": {
      "text/plain": [
       "15364"
      ]
     },
     "execution_count": 65,
     "metadata": {},
     "output_type": "execute_result"
    }
   ],
   "source": [
    "len(data_list)"
   ]
  },
  {
   "cell_type": "code",
   "execution_count": 66,
   "id": "35d1496f",
   "metadata": {},
   "outputs": [],
   "source": [
    "orders_user_feedback =  pd.DataFrame(data_list, columns =['OrderId','UserId','Item','RestaurantId','Date','Rating','Comments','Address'])"
   ]
  },
  {
   "cell_type": "code",
   "execution_count": 67,
   "id": "2120b341",
   "metadata": {},
   "outputs": [
    {
     "data": {
      "text/html": [
       "<div>\n",
       "<style scoped>\n",
       "    .dataframe tbody tr th:only-of-type {\n",
       "        vertical-align: middle;\n",
       "    }\n",
       "\n",
       "    .dataframe tbody tr th {\n",
       "        vertical-align: top;\n",
       "    }\n",
       "\n",
       "    .dataframe thead th {\n",
       "        text-align: right;\n",
       "    }\n",
       "</style>\n",
       "<table border=\"1\" class=\"dataframe\">\n",
       "  <thead>\n",
       "    <tr style=\"text-align: right;\">\n",
       "      <th></th>\n",
       "      <th>OrderId</th>\n",
       "      <th>UserId</th>\n",
       "      <th>Item</th>\n",
       "      <th>RestaurantId</th>\n",
       "      <th>Date</th>\n",
       "      <th>Rating</th>\n",
       "      <th>Comments</th>\n",
       "      <th>Address</th>\n",
       "    </tr>\n",
       "  </thead>\n",
       "  <tbody>\n",
       "    <tr>\n",
       "      <th>0</th>\n",
       "      <td>8</td>\n",
       "      <td>113</td>\n",
       "      <td>{'Id': 211, 'Name': 'Tableside Spinach Salad',...</td>\n",
       "      <td>110</td>\n",
       "      <td>2020-03-28 08:15:25.615002</td>\n",
       "      <td>NaN</td>\n",
       "      <td>NaN</td>\n",
       "      <td>{'Id': 4, 'Lat': 49.28319399999999, 'Lng': -12...</td>\n",
       "    </tr>\n",
       "    <tr>\n",
       "      <th>1</th>\n",
       "      <td>8</td>\n",
       "      <td>113</td>\n",
       "      <td>{'Id': 218, 'Name': 'King Crab', 'Price': 27.0...</td>\n",
       "      <td>110</td>\n",
       "      <td>2020-03-28 08:15:25.615002</td>\n",
       "      <td>NaN</td>\n",
       "      <td>NaN</td>\n",
       "      <td>{'Id': 4, 'Lat': 49.28319399999999, 'Lng': -12...</td>\n",
       "    </tr>\n",
       "    <tr>\n",
       "      <th>2</th>\n",
       "      <td>45</td>\n",
       "      <td>113</td>\n",
       "      <td>{'Id': 193, 'Name': 'Baked Lobster Gnocchi', '...</td>\n",
       "      <td>110</td>\n",
       "      <td>2020-04-15 21:32:36.397056</td>\n",
       "      <td>NaN</td>\n",
       "      <td>NaN</td>\n",
       "      <td>{'Id': 4, 'Lat': 49.28319399999999, 'Lng': -12...</td>\n",
       "    </tr>\n",
       "    <tr>\n",
       "      <th>3</th>\n",
       "      <td>45</td>\n",
       "      <td>113</td>\n",
       "      <td>{'Id': 189, 'Name': 'Roasted Chicken Supreme',...</td>\n",
       "      <td>110</td>\n",
       "      <td>2020-04-15 21:32:36.397056</td>\n",
       "      <td>NaN</td>\n",
       "      <td>NaN</td>\n",
       "      <td>{'Id': 4, 'Lat': 49.28319399999999, 'Lng': -12...</td>\n",
       "    </tr>\n",
       "    <tr>\n",
       "      <th>4</th>\n",
       "      <td>13</td>\n",
       "      <td>113</td>\n",
       "      <td>{'Id': 193, 'Name': 'Baked Lobster Gnocchi', '...</td>\n",
       "      <td>110</td>\n",
       "      <td>2020-03-30 22:22:26.322592</td>\n",
       "      <td>NaN</td>\n",
       "      <td>NaN</td>\n",
       "      <td>{'Id': 4, 'Lat': 49.28319399999999, 'Lng': -12...</td>\n",
       "    </tr>\n",
       "  </tbody>\n",
       "</table>\n",
       "</div>"
      ],
      "text/plain": [
       "   OrderId  UserId                                               Item  \\\n",
       "0        8     113  {'Id': 211, 'Name': 'Tableside Spinach Salad',...   \n",
       "1        8     113  {'Id': 218, 'Name': 'King Crab', 'Price': 27.0...   \n",
       "2       45     113  {'Id': 193, 'Name': 'Baked Lobster Gnocchi', '...   \n",
       "3       45     113  {'Id': 189, 'Name': 'Roasted Chicken Supreme',...   \n",
       "4       13     113  {'Id': 193, 'Name': 'Baked Lobster Gnocchi', '...   \n",
       "\n",
       "   RestaurantId                       Date  Rating Comments  \\\n",
       "0           110 2020-03-28 08:15:25.615002     NaN      NaN   \n",
       "1           110 2020-03-28 08:15:25.615002     NaN      NaN   \n",
       "2           110 2020-04-15 21:32:36.397056     NaN      NaN   \n",
       "3           110 2020-04-15 21:32:36.397056     NaN      NaN   \n",
       "4           110 2020-03-30 22:22:26.322592     NaN      NaN   \n",
       "\n",
       "                                             Address  \n",
       "0  {'Id': 4, 'Lat': 49.28319399999999, 'Lng': -12...  \n",
       "1  {'Id': 4, 'Lat': 49.28319399999999, 'Lng': -12...  \n",
       "2  {'Id': 4, 'Lat': 49.28319399999999, 'Lng': -12...  \n",
       "3  {'Id': 4, 'Lat': 49.28319399999999, 'Lng': -12...  \n",
       "4  {'Id': 4, 'Lat': 49.28319399999999, 'Lng': -12...  "
      ]
     },
     "execution_count": 67,
     "metadata": {},
     "output_type": "execute_result"
    }
   ],
   "source": [
    "orders_user_feedback.head()"
   ]
  },
  {
   "cell_type": "code",
   "execution_count": 68,
   "id": "707b9553",
   "metadata": {},
   "outputs": [
    {
     "name": "stdout",
     "output_type": "stream",
     "text": [
      "<class 'pandas.core.frame.DataFrame'>\n",
      "RangeIndex: 15364 entries, 0 to 15363\n",
      "Data columns (total 8 columns):\n",
      " #   Column        Non-Null Count  Dtype         \n",
      "---  ------        --------------  -----         \n",
      " 0   OrderId       15364 non-null  int64         \n",
      " 1   UserId        15364 non-null  int64         \n",
      " 2   Item          15364 non-null  object        \n",
      " 3   RestaurantId  15364 non-null  int64         \n",
      " 4   Date          15364 non-null  datetime64[ns]\n",
      " 5   Rating        1149 non-null   float64       \n",
      " 6   Comments      261 non-null    object        \n",
      " 7   Address       905 non-null    object        \n",
      "dtypes: datetime64[ns](1), float64(1), int64(3), object(3)\n",
      "memory usage: 960.4+ KB\n"
     ]
    }
   ],
   "source": [
    "orders_user_feedback.info()"
   ]
  },
  {
   "cell_type": "code",
   "execution_count": 69,
   "id": "46622cf7",
   "metadata": {},
   "outputs": [
    {
     "data": {
      "text/plain": [
       "6721"
      ]
     },
     "execution_count": 69,
     "metadata": {},
     "output_type": "execute_result"
    }
   ],
   "source": [
    "orders_user_feedback.OrderId.nunique()"
   ]
  },
  {
   "cell_type": "code",
   "execution_count": 70,
   "id": "a2946d01",
   "metadata": {},
   "outputs": [],
   "source": [
    "orders_user_feedback['ItemId'] = orders_user_feedback.Item.apply(lambda x : library.utils.return_value('id',x))\n",
    "orders_user_feedback['ItemName'] = orders_user_feedback.Item.apply(lambda x : library.utils.return_value('name',x))"
   ]
  },
  {
   "cell_type": "code",
   "execution_count": 71,
   "id": "63766dae",
   "metadata": {},
   "outputs": [],
   "source": [
    "full_data =  pd.merge(orders_user_feedback,itemsInfo_df , left_on= 'ItemName', right_on= 'Name', how='left')"
   ]
  },
  {
   "cell_type": "code",
   "execution_count": 72,
   "id": "05b6133d",
   "metadata": {},
   "outputs": [
    {
     "name": "stdout",
     "output_type": "stream",
     "text": [
      "<class 'pandas.core.frame.DataFrame'>\n",
      "Int64Index: 44290 entries, 0 to 44289\n",
      "Data columns (total 15 columns):\n",
      " #   Column        Non-Null Count  Dtype         \n",
      "---  ------        --------------  -----         \n",
      " 0   OrderId       44290 non-null  int64         \n",
      " 1   UserId        44290 non-null  int64         \n",
      " 2   Item          44290 non-null  object        \n",
      " 3   RestaurantId  44290 non-null  int64         \n",
      " 4   Date          44290 non-null  datetime64[ns]\n",
      " 5   Rating        3371 non-null   float64       \n",
      " 6   Comments      860 non-null    object        \n",
      " 7   Address       4111 non-null   object        \n",
      " 8   ItemId        44290 non-null  int64         \n",
      " 9   ItemName      44290 non-null  object        \n",
      " 10  Id            43554 non-null  float64       \n",
      " 11  Name          43554 non-null  object        \n",
      " 12  Description   27619 non-null  object        \n",
      " 13  SearchVector  43554 non-null  object        \n",
      " 14  Type          43554 non-null  object        \n",
      "dtypes: datetime64[ns](1), float64(2), int64(4), object(8)\n",
      "memory usage: 5.4+ MB\n"
     ]
    }
   ],
   "source": [
    "full_data.info()"
   ]
  },
  {
   "cell_type": "code",
   "execution_count": 73,
   "id": "0a52642b",
   "metadata": {},
   "outputs": [
    {
     "data": {
      "text/html": [
       "<div>\n",
       "<style scoped>\n",
       "    .dataframe tbody tr th:only-of-type {\n",
       "        vertical-align: middle;\n",
       "    }\n",
       "\n",
       "    .dataframe tbody tr th {\n",
       "        vertical-align: top;\n",
       "    }\n",
       "\n",
       "    .dataframe thead th {\n",
       "        text-align: right;\n",
       "    }\n",
       "</style>\n",
       "<table border=\"1\" class=\"dataframe\">\n",
       "  <thead>\n",
       "    <tr style=\"text-align: right;\">\n",
       "      <th></th>\n",
       "      <th>OrderId</th>\n",
       "      <th>UserId</th>\n",
       "      <th>Item</th>\n",
       "      <th>RestaurantId</th>\n",
       "      <th>Date</th>\n",
       "      <th>Rating</th>\n",
       "      <th>Comments</th>\n",
       "      <th>Address</th>\n",
       "      <th>ItemId</th>\n",
       "      <th>ItemName</th>\n",
       "      <th>Id</th>\n",
       "      <th>Name</th>\n",
       "      <th>Description</th>\n",
       "      <th>SearchVector</th>\n",
       "      <th>Type</th>\n",
       "    </tr>\n",
       "  </thead>\n",
       "  <tbody>\n",
       "    <tr>\n",
       "      <th>0</th>\n",
       "      <td>8</td>\n",
       "      <td>113</td>\n",
       "      <td>{'Id': 211, 'Name': 'Tableside Spinach Salad',...</td>\n",
       "      <td>110</td>\n",
       "      <td>2020-03-28 08:15:25.615002</td>\n",
       "      <td>NaN</td>\n",
       "      <td>NaN</td>\n",
       "      <td>{'Id': 4, 'Lat': 49.28319399999999, 'Lng': -12...</td>\n",
       "      <td>211</td>\n",
       "      <td>Tableside Spinach Salad</td>\n",
       "      <td>180.0</td>\n",
       "      <td>Tableside Spinach Salad</td>\n",
       "      <td>NaN</td>\n",
       "      <td>'almond':8 'babi':4 'bacon':11 'jack':10 'mont...</td>\n",
       "      <td>Main</td>\n",
       "    </tr>\n",
       "    <tr>\n",
       "      <th>1</th>\n",
       "      <td>8</td>\n",
       "      <td>113</td>\n",
       "      <td>{'Id': 211, 'Name': 'Tableside Spinach Salad',...</td>\n",
       "      <td>110</td>\n",
       "      <td>2020-03-28 08:15:25.615002</td>\n",
       "      <td>NaN</td>\n",
       "      <td>NaN</td>\n",
       "      <td>{'Id': 4, 'Lat': 49.28319399999999, 'Lng': -12...</td>\n",
       "      <td>211</td>\n",
       "      <td>Tableside Spinach Salad</td>\n",
       "      <td>149.0</td>\n",
       "      <td>Tableside Spinach Salad</td>\n",
       "      <td>NaN</td>\n",
       "      <td>'almond':8 'babi':4 'bacon':11 'jack':10 'mont...</td>\n",
       "      <td>Main</td>\n",
       "    </tr>\n",
       "    <tr>\n",
       "      <th>2</th>\n",
       "      <td>8</td>\n",
       "      <td>113</td>\n",
       "      <td>{'Id': 218, 'Name': 'King Crab', 'Price': 27.0...</td>\n",
       "      <td>110</td>\n",
       "      <td>2020-03-28 08:15:25.615002</td>\n",
       "      <td>NaN</td>\n",
       "      <td>NaN</td>\n",
       "      <td>{'Id': 4, 'Lat': 49.28319399999999, 'Lng': -12...</td>\n",
       "      <td>218</td>\n",
       "      <td>King Crab</td>\n",
       "      <td>158.0</td>\n",
       "      <td>King Crab</td>\n",
       "      <td>NaN</td>\n",
       "      <td>'blanc':9 'buerr':8 'caper':7 'char':3 'chilli...</td>\n",
       "      <td>Main</td>\n",
       "    </tr>\n",
       "    <tr>\n",
       "      <th>3</th>\n",
       "      <td>45</td>\n",
       "      <td>113</td>\n",
       "      <td>{'Id': 193, 'Name': 'Baked Lobster Gnocchi', '...</td>\n",
       "      <td>110</td>\n",
       "      <td>2020-04-15 21:32:36.397056</td>\n",
       "      <td>NaN</td>\n",
       "      <td>NaN</td>\n",
       "      <td>{'Id': 4, 'Lat': 49.28319399999999, 'Lng': -12...</td>\n",
       "      <td>193</td>\n",
       "      <td>Baked Lobster Gnocchi</td>\n",
       "      <td>388.0</td>\n",
       "      <td>Baked Lobster Gnocchi</td>\n",
       "      <td>NaN</td>\n",
       "      <td>'atlant':4 'bake':1 'cream':7 'gnocchi':3 'lob...</td>\n",
       "      <td>Main</td>\n",
       "    </tr>\n",
       "    <tr>\n",
       "      <th>4</th>\n",
       "      <td>45</td>\n",
       "      <td>113</td>\n",
       "      <td>{'Id': 189, 'Name': 'Roasted Chicken Supreme',...</td>\n",
       "      <td>110</td>\n",
       "      <td>2020-04-15 21:32:36.397056</td>\n",
       "      <td>NaN</td>\n",
       "      <td>NaN</td>\n",
       "      <td>{'Id': 4, 'Lat': 49.28319399999999, 'Lng': -12...</td>\n",
       "      <td>189</td>\n",
       "      <td>Roasted Chicken Supreme</td>\n",
       "      <td>385.0</td>\n",
       "      <td>Roasted Chicken Supreme</td>\n",
       "      <td>NaN</td>\n",
       "      <td>'chicken':2 'demi':11 'fingerl':7 'glace':12 '...</td>\n",
       "      <td>Main</td>\n",
       "    </tr>\n",
       "  </tbody>\n",
       "</table>\n",
       "</div>"
      ],
      "text/plain": [
       "   OrderId  UserId                                               Item  \\\n",
       "0        8     113  {'Id': 211, 'Name': 'Tableside Spinach Salad',...   \n",
       "1        8     113  {'Id': 211, 'Name': 'Tableside Spinach Salad',...   \n",
       "2        8     113  {'Id': 218, 'Name': 'King Crab', 'Price': 27.0...   \n",
       "3       45     113  {'Id': 193, 'Name': 'Baked Lobster Gnocchi', '...   \n",
       "4       45     113  {'Id': 189, 'Name': 'Roasted Chicken Supreme',...   \n",
       "\n",
       "   RestaurantId                       Date  Rating Comments  \\\n",
       "0           110 2020-03-28 08:15:25.615002     NaN      NaN   \n",
       "1           110 2020-03-28 08:15:25.615002     NaN      NaN   \n",
       "2           110 2020-03-28 08:15:25.615002     NaN      NaN   \n",
       "3           110 2020-04-15 21:32:36.397056     NaN      NaN   \n",
       "4           110 2020-04-15 21:32:36.397056     NaN      NaN   \n",
       "\n",
       "                                             Address  ItemId  \\\n",
       "0  {'Id': 4, 'Lat': 49.28319399999999, 'Lng': -12...     211   \n",
       "1  {'Id': 4, 'Lat': 49.28319399999999, 'Lng': -12...     211   \n",
       "2  {'Id': 4, 'Lat': 49.28319399999999, 'Lng': -12...     218   \n",
       "3  {'Id': 4, 'Lat': 49.28319399999999, 'Lng': -12...     193   \n",
       "4  {'Id': 4, 'Lat': 49.28319399999999, 'Lng': -12...     189   \n",
       "\n",
       "                  ItemName     Id                     Name Description  \\\n",
       "0  Tableside Spinach Salad  180.0  Tableside Spinach Salad         NaN   \n",
       "1  Tableside Spinach Salad  149.0  Tableside Spinach Salad         NaN   \n",
       "2                King Crab  158.0                King Crab         NaN   \n",
       "3    Baked Lobster Gnocchi  388.0    Baked Lobster Gnocchi         NaN   \n",
       "4  Roasted Chicken Supreme  385.0  Roasted Chicken Supreme         NaN   \n",
       "\n",
       "                                        SearchVector  Type  \n",
       "0  'almond':8 'babi':4 'bacon':11 'jack':10 'mont...  Main  \n",
       "1  'almond':8 'babi':4 'bacon':11 'jack':10 'mont...  Main  \n",
       "2  'blanc':9 'buerr':8 'caper':7 'char':3 'chilli...  Main  \n",
       "3  'atlant':4 'bake':1 'cream':7 'gnocchi':3 'lob...  Main  \n",
       "4  'chicken':2 'demi':11 'fingerl':7 'glace':12 '...  Main  "
      ]
     },
     "execution_count": 73,
     "metadata": {},
     "output_type": "execute_result"
    }
   ],
   "source": [
    "full_data.head()"
   ]
  },
  {
   "cell_type": "code",
   "execution_count": 74,
   "id": "3564f0d7",
   "metadata": {},
   "outputs": [
    {
     "name": "stdout",
     "output_type": "stream",
     "text": [
      "<class 'pandas.core.frame.DataFrame'>\n",
      "Int64Index: 44290 entries, 0 to 44289\n",
      "Data columns (total 15 columns):\n",
      " #   Column        Non-Null Count  Dtype         \n",
      "---  ------        --------------  -----         \n",
      " 0   OrderId       44290 non-null  int64         \n",
      " 1   UserId        44290 non-null  int64         \n",
      " 2   Item          44290 non-null  object        \n",
      " 3   RestaurantId  44290 non-null  int64         \n",
      " 4   Date          44290 non-null  datetime64[ns]\n",
      " 5   Rating        3371 non-null   float64       \n",
      " 6   Comments      860 non-null    object        \n",
      " 7   Address       4111 non-null   object        \n",
      " 8   ItemId        44290 non-null  int64         \n",
      " 9   ItemName      44290 non-null  object        \n",
      " 10  Id            43554 non-null  float64       \n",
      " 11  Name          43554 non-null  object        \n",
      " 12  Description   27619 non-null  object        \n",
      " 13  SearchVector  43554 non-null  object        \n",
      " 14  Type          43554 non-null  object        \n",
      "dtypes: datetime64[ns](1), float64(2), int64(4), object(8)\n",
      "memory usage: 5.4+ MB\n"
     ]
    }
   ],
   "source": [
    "full_data.info()"
   ]
  },
  {
   "cell_type": "code",
   "execution_count": 75,
   "id": "324f271b",
   "metadata": {},
   "outputs": [],
   "source": [
    "full_data.drop(['Item','ItemId','ItemName','Id'], axis = 1 , inplace=True)"
   ]
  },
  {
   "cell_type": "code",
   "execution_count": 76,
   "id": "cc5a51e4",
   "metadata": {},
   "outputs": [
    {
     "data": {
      "text/plain": [
       "OrderId         6721\n",
       "UserId          4222\n",
       "RestaurantId       7\n",
       "Date            6721\n",
       "Rating             5\n",
       "Comments          98\n",
       "Name             376\n",
       "Description      586\n",
       "SearchVector     528\n",
       "Type               5\n",
       "dtype: int64"
      ]
     },
     "execution_count": 76,
     "metadata": {},
     "output_type": "execute_result"
    }
   ],
   "source": [
    "full_data.drop('Address', axis = 1).nunique()"
   ]
  },
  {
   "cell_type": "code",
   "execution_count": 77,
   "id": "2140244e",
   "metadata": {},
   "outputs": [
    {
     "data": {
      "image/png": "[encoded data removed]",
      "text/plain": [
       "<Figure size 432x288 with 1 Axes>"
      ]
     },
     "metadata": {
      "needs_background": "light"
     },
     "output_type": "display_data"
    }
   ],
   "source": [
    "#top 10 orders in all orders\n",
    "full_data['Name'].value_counts()[0:10].plot(kind = 'barh', fontsize=15, color='navy').invert_yaxis()\n"
   ]
  },
  {
   "cell_type": "code",
   "execution_count": 78,
   "id": "b9819d7e",
   "metadata": {},
   "outputs": [
    {
     "data": {
      "text/plain": [
       "1029    12376\n",
       "299     11861\n",
       "121     11832\n",
       "1034     7014\n",
       "110      1168\n",
       "1048       26\n",
       "1040       13\n",
       "Name: RestaurantId, dtype: int64"
      ]
     },
     "execution_count": 78,
     "metadata": {},
     "output_type": "execute_result"
    }
   ],
   "source": [
    "full_data['RestaurantId'].value_counts()"
   ]
  },
  {
   "cell_type": "code",
   "execution_count": 79,
   "id": "4303880b",
   "metadata": {},
   "outputs": [
    {
     "data": {
      "image/png": "[encoded data removed]",
      "text/plain": [
       "<Figure size 432x288 with 1 Axes>"
      ]
     },
     "metadata": {
      "needs_background": "light"
     },
     "output_type": "display_data"
    }
   ],
   "source": [
    "full_data['RestaurantId'].value_counts()[0:10].plot(kind = 'barh', fontsize=15, color='gray').invert_yaxis()"
   ]
  },
  {
   "cell_type": "code",
   "execution_count": null,
   "id": "99337918",
   "metadata": {},
   "outputs": [],
   "source": []
  }
 ],
 "metadata": {
  "kernelspec": {
   "display_name": "Python 3",
   "language": "python",
   "name": "python3"
  },
  "language_info": {
   "codemirror_mode": {
    "name": "ipython",
    "version": 3
   },
   "file_extension": ".py",
   "mimetype": "text/x-python",
   "name": "python",
   "nbconvert_exporter": "python",
   "pygments_lexer": "ipython3",
   "version": "3.9.7"
  }
 },
 "nbformat": 4,
 "nbformat_minor": 5
}
