{
 "cells": [
  {
   "cell_type": "code",
   "execution_count": 1,
   "metadata": {},
   "outputs": [],
   "source": [
    "from rake_nltk import Rake\n",
    "import pandas as pd\n",
    "import numpy as np\n",
    "from sklearn.metrics.pairwise import cosine_similarity\n",
    "from sklearn.feature_extraction.text import CountVectorizer"
   ]
  },
  {
   "cell_type": "code",
   "execution_count": 222,
   "metadata": {},
   "outputs": [
    {
     "data": {
      "text/html": [
       "<div>\n",
       "<style scoped>\n",
       "    .dataframe tbody tr th:only-of-type {\n",
       "        vertical-align: middle;\n",
       "    }\n",
       "\n",
       "    .dataframe tbody tr th {\n",
       "        vertical-align: top;\n",
       "    }\n",
       "\n",
       "    .dataframe thead th {\n",
       "        text-align: right;\n",
       "    }\n",
       "</style>\n",
       "<table border=\"1\" class=\"dataframe\">\n",
       "  <thead>\n",
       "    <tr style=\"text-align: right;\">\n",
       "      <th></th>\n",
       "      <th>OrderId</th>\n",
       "      <th>UserId</th>\n",
       "      <th>RestaurantId</th>\n",
       "      <th>Date</th>\n",
       "      <th>Rating</th>\n",
       "      <th>Comments</th>\n",
       "      <th>Address</th>\n",
       "      <th>Count</th>\n",
       "      <th>ItemId</th>\n",
       "      <th>Price</th>\n",
       "      <th>ViewCount</th>\n",
       "      <th>Name</th>\n",
       "      <th>Description</th>\n",
       "      <th>SearchVector</th>\n",
       "      <th>Type</th>\n",
       "    </tr>\n",
       "  </thead>\n",
       "  <tbody>\n",
       "    <tr>\n",
       "      <th>0</th>\n",
       "      <td>8</td>\n",
       "      <td>113</td>\n",
       "      <td>110</td>\n",
       "      <td>2020-03-28 08:15:25.615002</td>\n",
       "      <td>NaN</td>\n",
       "      <td>NaN</td>\n",
       "      <td>{'Id': 4, 'Lat': 49.28319399999999, 'Lng': -12...</td>\n",
       "      <td>1</td>\n",
       "      <td>211</td>\n",
       "      <td>15.0</td>\n",
       "      <td>0.0</td>\n",
       "      <td>Tableside Spinach Salad</td>\n",
       "      <td>NaN</td>\n",
       "      <td>'almond':8 'babi':4 'bacon':11 'jack':10 'mont...</td>\n",
       "      <td>Main</td>\n",
       "    </tr>\n",
       "    <tr>\n",
       "      <th>1</th>\n",
       "      <td>8</td>\n",
       "      <td>113</td>\n",
       "      <td>110</td>\n",
       "      <td>2020-03-28 08:15:25.615002</td>\n",
       "      <td>NaN</td>\n",
       "      <td>NaN</td>\n",
       "      <td>{'Id': 4, 'Lat': 49.28319399999999, 'Lng': -12...</td>\n",
       "      <td>1</td>\n",
       "      <td>218</td>\n",
       "      <td>27.0</td>\n",
       "      <td>0.0</td>\n",
       "      <td>King Crab</td>\n",
       "      <td>NaN</td>\n",
       "      <td>'blanc':9 'buerr':8 'caper':7 'char':3 'chilli...</td>\n",
       "      <td>Main</td>\n",
       "    </tr>\n",
       "    <tr>\n",
       "      <th>2</th>\n",
       "      <td>293</td>\n",
       "      <td>4</td>\n",
       "      <td>121</td>\n",
       "      <td>2020-05-13 01:20:59.267256</td>\n",
       "      <td>NaN</td>\n",
       "      <td>NaN</td>\n",
       "      <td>NaN</td>\n",
       "      <td>1</td>\n",
       "      <td>440</td>\n",
       "      <td>14.0</td>\n",
       "      <td>1097.0</td>\n",
       "      <td>Joojeh Kabab With Rice</td>\n",
       "      <td>One skewer of chicken breast marinated with yo...</td>\n",
       "      <td>'bbq':14 'chicken':11 'joojeh':1 'juic':9 'kab...</td>\n",
       "      <td>Main</td>\n",
       "    </tr>\n",
       "    <tr>\n",
       "      <th>3</th>\n",
       "      <td>294</td>\n",
       "      <td>3</td>\n",
       "      <td>121</td>\n",
       "      <td>2020-05-13 17:34:35.519326</td>\n",
       "      <td>NaN</td>\n",
       "      <td>NaN</td>\n",
       "      <td>NaN</td>\n",
       "      <td>1</td>\n",
       "      <td>455</td>\n",
       "      <td>1.5</td>\n",
       "      <td>9.0</td>\n",
       "      <td>Regular Coffee</td>\n",
       "      <td>NaN</td>\n",
       "      <td>'coffe':2 'regular':1</td>\n",
       "      <td>Drink</td>\n",
       "    </tr>\n",
       "    <tr>\n",
       "      <th>4</th>\n",
       "      <td>297</td>\n",
       "      <td>142</td>\n",
       "      <td>121</td>\n",
       "      <td>2020-05-14 00:08:48.756423</td>\n",
       "      <td>NaN</td>\n",
       "      <td>NaN</td>\n",
       "      <td>NaN</td>\n",
       "      <td>1</td>\n",
       "      <td>540</td>\n",
       "      <td>9.9</td>\n",
       "      <td>485.0</td>\n",
       "      <td>Kashk Bademjan</td>\n",
       "      <td>Barbequed eggplant, lentils, fried onions, gar...</td>\n",
       "      <td>'bademjan':2 'bbq':8 'egg':10 'eggplant':6 'ga...</td>\n",
       "      <td>Main</td>\n",
       "    </tr>\n",
       "  </tbody>\n",
       "</table>\n",
       "</div>"
      ],
      "text/plain": [
       "   OrderId  UserId  RestaurantId                        Date  Rating Comments  \\\n",
       "0        8     113           110  2020-03-28 08:15:25.615002     NaN      NaN   \n",
       "1        8     113           110  2020-03-28 08:15:25.615002     NaN      NaN   \n",
       "2      293       4           121  2020-05-13 01:20:59.267256     NaN      NaN   \n",
       "3      294       3           121  2020-05-13 17:34:35.519326     NaN      NaN   \n",
       "4      297     142           121  2020-05-14 00:08:48.756423     NaN      NaN   \n",
       "\n",
       "                                             Address  Count  ItemId  Price  \\\n",
       "0  {'Id': 4, 'Lat': 49.28319399999999, 'Lng': -12...      1     211   15.0   \n",
       "1  {'Id': 4, 'Lat': 49.28319399999999, 'Lng': -12...      1     218   27.0   \n",
       "2                                                NaN      1     440   14.0   \n",
       "3                                                NaN      1     455    1.5   \n",
       "4                                                NaN      1     540    9.9   \n",
       "\n",
       "   ViewCount                     Name  \\\n",
       "0        0.0  Tableside Spinach Salad   \n",
       "1        0.0                King Crab   \n",
       "2     1097.0   Joojeh Kabab With Rice   \n",
       "3        9.0           Regular Coffee   \n",
       "4      485.0           Kashk Bademjan   \n",
       "\n",
       "                                         Description  \\\n",
       "0                                                NaN   \n",
       "1                                                NaN   \n",
       "2  One skewer of chicken breast marinated with yo...   \n",
       "3                                                NaN   \n",
       "4  Barbequed eggplant, lentils, fried onions, gar...   \n",
       "\n",
       "                                        SearchVector   Type  \n",
       "0  'almond':8 'babi':4 'bacon':11 'jack':10 'mont...   Main  \n",
       "1  'blanc':9 'buerr':8 'caper':7 'char':3 'chilli...   Main  \n",
       "2  'bbq':14 'chicken':11 'joojeh':1 'juic':9 'kab...   Main  \n",
       "3                              'coffe':2 'regular':1  Drink  \n",
       "4  'bademjan':2 'bbq':8 'egg':10 'eggplant':6 'ga...   Main  "
      ]
     },
     "execution_count": 222,
     "metadata": {},
     "output_type": "execute_result"
    }
   ],
   "source": [
    "full_data = pd.read_csv('../data/full_data.csv',low_memory=False)\n",
    "full_data.head()"
   ]
  },
  {
   "cell_type": "code",
   "execution_count": 223,
   "metadata": {},
   "outputs": [
    {
     "data": {
      "text/html": [
       "<div>\n",
       "<style scoped>\n",
       "    .dataframe tbody tr th:only-of-type {\n",
       "        vertical-align: middle;\n",
       "    }\n",
       "\n",
       "    .dataframe tbody tr th {\n",
       "        vertical-align: top;\n",
       "    }\n",
       "\n",
       "    .dataframe thead th {\n",
       "        text-align: right;\n",
       "    }\n",
       "</style>\n",
       "<table border=\"1\" class=\"dataframe\">\n",
       "  <thead>\n",
       "    <tr style=\"text-align: right;\">\n",
       "      <th></th>\n",
       "      <th>Id</th>\n",
       "      <th>Name</th>\n",
       "      <th>Description</th>\n",
       "      <th>PhotoUrl</th>\n",
       "      <th>TagsString</th>\n",
       "      <th>Rating</th>\n",
       "      <th>RatingCount</th>\n",
       "      <th>Calories</th>\n",
       "      <th>Fiber</th>\n",
       "      <th>Carbohydrate</th>\n",
       "      <th>SearchVector</th>\n",
       "      <th>IsGlobal</th>\n",
       "      <th>Property</th>\n",
       "      <th>Sku</th>\n",
       "      <th>Type</th>\n",
       "    </tr>\n",
       "  </thead>\n",
       "  <tbody>\n",
       "    <tr>\n",
       "      <th>0</th>\n",
       "      <td>81465</td>\n",
       "      <td>Popina Bottled Water</td>\n",
       "      <td>NaN</td>\n",
       "      <td>https://res.cloudinary.com/fooreco/image/uploa...</td>\n",
       "      <td>NaN</td>\n",
       "      <td>NaN</td>\n",
       "      <td>0</td>\n",
       "      <td>NaN</td>\n",
       "      <td>NaN</td>\n",
       "      <td>NaN</td>\n",
       "      <td>'bottl':2 'popina':1 'water':3</td>\n",
       "      <td>False</td>\n",
       "      <td>NaN</td>\n",
       "      <td>NaN</td>\n",
       "      <td>Drink</td>\n",
       "    </tr>\n",
       "    <tr>\n",
       "      <th>1</th>\n",
       "      <td>81456</td>\n",
       "      <td>Mayhem, Pinot Gris (bottle)</td>\n",
       "      <td>750 ML</td>\n",
       "      <td>https://res.cloudinary.com/fooreco/image/uploa...</td>\n",
       "      <td>Alcohol</td>\n",
       "      <td>NaN</td>\n",
       "      <td>0</td>\n",
       "      <td>NaN</td>\n",
       "      <td>NaN</td>\n",
       "      <td>NaN</td>\n",
       "      <td>'alcohol':5 'bottl':4 'gris':3 'mayhem':1 'pin...</td>\n",
       "      <td>False</td>\n",
       "      <td>NaN</td>\n",
       "      <td>NaN</td>\n",
       "      <td>Liquor</td>\n",
       "    </tr>\n",
       "    <tr>\n",
       "      <th>2</th>\n",
       "      <td>81457</td>\n",
       "      <td>Bartier Bros, Merlot (bottle)</td>\n",
       "      <td>NaN</td>\n",
       "      <td>https://res.cloudinary.com/fooreco/image/uploa...</td>\n",
       "      <td>Alcohol</td>\n",
       "      <td>NaN</td>\n",
       "      <td>0</td>\n",
       "      <td>NaN</td>\n",
       "      <td>NaN</td>\n",
       "      <td>NaN</td>\n",
       "      <td>'alcohol':5 'bartier':1 'bottl':4 'bros':2 'me...</td>\n",
       "      <td>False</td>\n",
       "      <td>NaN</td>\n",
       "      <td>NaN</td>\n",
       "      <td>Liquor</td>\n",
       "    </tr>\n",
       "    <tr>\n",
       "      <th>3</th>\n",
       "      <td>81458</td>\n",
       "      <td>Joie Brut, sparkling wine (1/2 Bottle)</td>\n",
       "      <td>NaN</td>\n",
       "      <td>https://res.cloudinary.com/fooreco/image/uploa...</td>\n",
       "      <td>Alcohol</td>\n",
       "      <td>NaN</td>\n",
       "      <td>0</td>\n",
       "      <td>NaN</td>\n",
       "      <td>NaN</td>\n",
       "      <td>NaN</td>\n",
       "      <td>'1/2':5 'alcohol':7 'bottl':6 'brut':2 'joie':...</td>\n",
       "      <td>False</td>\n",
       "      <td>NaN</td>\n",
       "      <td>NaN</td>\n",
       "      <td>Liquor</td>\n",
       "    </tr>\n",
       "    <tr>\n",
       "      <th>4</th>\n",
       "      <td>81460</td>\n",
       "      <td>Powell Street, Ode to Citra  (473 Ml)</td>\n",
       "      <td>NaN</td>\n",
       "      <td>https://res.cloudinary.com/fooreco/image/uploa...</td>\n",
       "      <td>Alcohol</td>\n",
       "      <td>NaN</td>\n",
       "      <td>0</td>\n",
       "      <td>NaN</td>\n",
       "      <td>NaN</td>\n",
       "      <td>NaN</td>\n",
       "      <td>'473':6 'alcohol':8 'citra':5 'ml':7 'ode':3 '...</td>\n",
       "      <td>False</td>\n",
       "      <td>NaN</td>\n",
       "      <td>NaN</td>\n",
       "      <td>Liquor</td>\n",
       "    </tr>\n",
       "  </tbody>\n",
       "</table>\n",
       "</div>"
      ],
      "text/plain": [
       "      Id                                    Name Description  \\\n",
       "0  81465                    Popina Bottled Water         NaN   \n",
       "1  81456             Mayhem, Pinot Gris (bottle)     750 ML    \n",
       "2  81457           Bartier Bros, Merlot (bottle)         NaN   \n",
       "3  81458  Joie Brut, sparkling wine (1/2 Bottle)         NaN   \n",
       "4  81460   Powell Street, Ode to Citra  (473 Ml)         NaN   \n",
       "\n",
       "                                            PhotoUrl TagsString  Rating  \\\n",
       "0  https://res.cloudinary.com/fooreco/image/uploa...        NaN     NaN   \n",
       "1  https://res.cloudinary.com/fooreco/image/uploa...    Alcohol     NaN   \n",
       "2  https://res.cloudinary.com/fooreco/image/uploa...    Alcohol     NaN   \n",
       "3  https://res.cloudinary.com/fooreco/image/uploa...    Alcohol     NaN   \n",
       "4  https://res.cloudinary.com/fooreco/image/uploa...    Alcohol     NaN   \n",
       "\n",
       "   RatingCount  Calories  Fiber  Carbohydrate  \\\n",
       "0            0       NaN    NaN           NaN   \n",
       "1            0       NaN    NaN           NaN   \n",
       "2            0       NaN    NaN           NaN   \n",
       "3            0       NaN    NaN           NaN   \n",
       "4            0       NaN    NaN           NaN   \n",
       "\n",
       "                                        SearchVector  IsGlobal Property  Sku  \\\n",
       "0                     'bottl':2 'popina':1 'water':3     False      NaN  NaN   \n",
       "1  'alcohol':5 'bottl':4 'gris':3 'mayhem':1 'pin...     False      NaN  NaN   \n",
       "2  'alcohol':5 'bartier':1 'bottl':4 'bros':2 'me...     False      NaN  NaN   \n",
       "3  '1/2':5 'alcohol':7 'bottl':6 'brut':2 'joie':...     False      NaN  NaN   \n",
       "4  '473':6 'alcohol':8 'citra':5 'ml':7 'ode':3 '...     False      NaN  NaN   \n",
       "\n",
       "     Type  \n",
       "0   Drink  \n",
       "1  Liquor  \n",
       "2  Liquor  \n",
       "3  Liquor  \n",
       "4  Liquor  "
      ]
     },
     "execution_count": 223,
     "metadata": {},
     "output_type": "execute_result"
    }
   ],
   "source": [
    "items = pd.read_csv('../data/itemsInfo.csv',low_memory=False)\n",
    "items.head()"
   ]
  },
  {
   "cell_type": "code",
   "execution_count": 224,
   "metadata": {},
   "outputs": [],
   "source": [
    "items.columns = [c.lower() for c in items.columns]"
   ]
  },
  {
   "cell_type": "code",
   "execution_count": 225,
   "metadata": {},
   "outputs": [
    {
     "name": "stdout",
     "output_type": "stream",
     "text": [
      "<class 'pandas.core.frame.DataFrame'>\n",
      "RangeIndex: 83352 entries, 0 to 83351\n",
      "Data columns (total 15 columns):\n",
      " #   Column        Non-Null Count  Dtype  \n",
      "---  ------        --------------  -----  \n",
      " 0   id            83352 non-null  int64  \n",
      " 1   name          83352 non-null  object \n",
      " 2   description   62665 non-null  object \n",
      " 3   photourl      1414 non-null   object \n",
      " 4   tagsstring    39205 non-null  object \n",
      " 5   rating        46 non-null     float64\n",
      " 6   ratingcount   83352 non-null  int64  \n",
      " 7   calories      56 non-null     float64\n",
      " 8   fiber         55 non-null     float64\n",
      " 9   carbohydrate  41 non-null     float64\n",
      " 10  searchvector  83351 non-null  object \n",
      " 11  isglobal      83352 non-null  bool   \n",
      " 12  property      25 non-null     object \n",
      " 13  sku           25 non-null     float64\n",
      " 14  type          83352 non-null  object \n",
      "dtypes: bool(1), float64(5), int64(2), object(7)\n",
      "memory usage: 9.0+ MB\n"
     ]
    }
   ],
   "source": [
    "items.info()"
   ]
  },
  {
   "cell_type": "code",
   "execution_count": 226,
   "metadata": {},
   "outputs": [
    {
     "data": {
      "text/plain": [
       "20687"
      ]
     },
     "execution_count": 226,
     "metadata": {},
     "output_type": "execute_result"
    }
   ],
   "source": [
    "items.description.isna().sum()"
   ]
  },
  {
   "cell_type": "code",
   "execution_count": 227,
   "metadata": {},
   "outputs": [],
   "source": [
    "items = items[~items.description.isna()].reset_index(drop=True)"
   ]
  },
  {
   "cell_type": "code",
   "execution_count": 228,
   "metadata": {},
   "outputs": [
    {
     "name": "stdout",
     "output_type": "stream",
     "text": [
      "<class 'pandas.core.frame.DataFrame'>\n",
      "RangeIndex: 62665 entries, 0 to 62664\n",
      "Data columns (total 15 columns):\n",
      " #   Column        Non-Null Count  Dtype  \n",
      "---  ------        --------------  -----  \n",
      " 0   id            62665 non-null  int64  \n",
      " 1   name          62665 non-null  object \n",
      " 2   description   62665 non-null  object \n",
      " 3   photourl      892 non-null    object \n",
      " 4   tagsstring    33191 non-null  object \n",
      " 5   rating        38 non-null     float64\n",
      " 6   ratingcount   62665 non-null  int64  \n",
      " 7   calories      22 non-null     float64\n",
      " 8   fiber         21 non-null     float64\n",
      " 9   carbohydrate  18 non-null     float64\n",
      " 10  searchvector  62665 non-null  object \n",
      " 11  isglobal      62665 non-null  bool   \n",
      " 12  property      25 non-null     object \n",
      " 13  sku           25 non-null     float64\n",
      " 14  type          62665 non-null  object \n",
      "dtypes: bool(1), float64(5), int64(2), object(7)\n",
      "memory usage: 6.8+ MB\n"
     ]
    }
   ],
   "source": [
    "items.info()"
   ]
  },
  {
   "cell_type": "code",
   "execution_count": 229,
   "metadata": {},
   "outputs": [
    {
     "data": {
      "text/plain": [
       "0"
      ]
     },
     "execution_count": 229,
     "metadata": {},
     "output_type": "execute_result"
    }
   ],
   "source": [
    "items.description.isna().sum()"
   ]
  },
  {
   "cell_type": "code",
   "execution_count": 230,
   "metadata": {},
   "outputs": [
    {
     "data": {
      "text/html": [
       "<div>\n",
       "<style scoped>\n",
       "    .dataframe tbody tr th:only-of-type {\n",
       "        vertical-align: middle;\n",
       "    }\n",
       "\n",
       "    .dataframe tbody tr th {\n",
       "        vertical-align: top;\n",
       "    }\n",
       "\n",
       "    .dataframe thead th {\n",
       "        text-align: right;\n",
       "    }\n",
       "</style>\n",
       "<table border=\"1\" class=\"dataframe\">\n",
       "  <thead>\n",
       "    <tr style=\"text-align: right;\">\n",
       "      <th></th>\n",
       "      <th>id</th>\n",
       "      <th>name</th>\n",
       "      <th>description</th>\n",
       "      <th>photourl</th>\n",
       "      <th>tagsstring</th>\n",
       "      <th>rating</th>\n",
       "      <th>ratingcount</th>\n",
       "      <th>calories</th>\n",
       "      <th>fiber</th>\n",
       "      <th>carbohydrate</th>\n",
       "      <th>searchvector</th>\n",
       "      <th>isglobal</th>\n",
       "      <th>property</th>\n",
       "      <th>sku</th>\n",
       "      <th>type</th>\n",
       "    </tr>\n",
       "  </thead>\n",
       "  <tbody>\n",
       "    <tr>\n",
       "      <th>15513</th>\n",
       "      <td>382</td>\n",
       "      <td>Joojeh Kabab With Rice</td>\n",
       "      <td>One skewer of chicken breast marinated with yo...</td>\n",
       "      <td>https://res.cloudinary.com/fooreco/image/uploa...</td>\n",
       "      <td>Olive Oil Saffron Lemon Juice Yogurt Chicken ...</td>\n",
       "      <td>5.0</td>\n",
       "      <td>2</td>\n",
       "      <td>NaN</td>\n",
       "      <td>NaN</td>\n",
       "      <td>NaN</td>\n",
       "      <td>'bbq':14 'chicken':11 'joojeh':1 'juic':9 'kab...</td>\n",
       "      <td>False</td>\n",
       "      <td>NaN</td>\n",
       "      <td>NaN</td>\n",
       "      <td>Main</td>\n",
       "    </tr>\n",
       "  </tbody>\n",
       "</table>\n",
       "</div>"
      ],
      "text/plain": [
       "        id                    name  \\\n",
       "15513  382  Joojeh Kabab With Rice   \n",
       "\n",
       "                                             description  \\\n",
       "15513  One skewer of chicken breast marinated with yo...   \n",
       "\n",
       "                                                photourl  \\\n",
       "15513  https://res.cloudinary.com/fooreco/image/uploa...   \n",
       "\n",
       "                                              tagsstring  rating  ratingcount  \\\n",
       "15513   Olive Oil Saffron Lemon Juice Yogurt Chicken ...     5.0            2   \n",
       "\n",
       "       calories  fiber  carbohydrate  \\\n",
       "15513       NaN    NaN           NaN   \n",
       "\n",
       "                                            searchvector  isglobal property  \\\n",
       "15513  'bbq':14 'chicken':11 'joojeh':1 'juic':9 'kab...     False      NaN   \n",
       "\n",
       "       sku  type  \n",
       "15513  NaN  Main  "
      ]
     },
     "execution_count": 230,
     "metadata": {},
     "output_type": "execute_result"
    }
   ],
   "source": [
    "foods = pd.read_csv('../data/items.csv')\n",
    "foods[foods['Id'] == 440]\n",
    "items[items['id'] == 382]"
   ]
  },
  {
   "cell_type": "code",
   "execution_count": 231,
   "metadata": {},
   "outputs": [
    {
     "data": {
      "text/plain": [
       "0                                                  750 ML \n",
       "1        8 oz grass-fed BC beef caramelized on flat top...\n",
       "2        8oz boneless chicken leg marinated in buttermi...\n",
       "3        4 oz grass-fed BC beef caramelized on flat top...\n",
       "4                         Yogurt drink with special herbs.\n",
       "                               ...                        \n",
       "62660    Crunchy juicy pork, half-boiled egg, green oni...\n",
       "62661    Momo (teriyaki), umeshiso yaki, jumbo mé maki,...\n",
       "62662    Teriyaki chicken, half-boiled egg, mayo, green...\n",
       "62663                          Salmon roe on steamed rice.\n",
       "62664    Pan-fried udon, a half-boiled egg w/ spicy cod...\n",
       "Name: description, Length: 62665, dtype: object"
      ]
     },
     "execution_count": 231,
     "metadata": {},
     "output_type": "execute_result"
    }
   ],
   "source": [
    "items.description"
   ]
  },
  {
   "cell_type": "code",
   "execution_count": 232,
   "metadata": {},
   "outputs": [
    {
     "data": {
      "image/png": "[encoded data removed]",
      "text/plain": [
       "<Figure size 576x360 with 1 Axes>"
      ]
     },
     "metadata": {
      "needs_background": "light"
     },
     "output_type": "display_data"
    }
   ],
   "source": [
    "items['name'].value_counts()[0:10].plot(kind ='barh', figsize=[8,5], fontsize=15, color='navy').invert_yaxis()\n"
   ]
  },
  {
   "cell_type": "code",
   "execution_count": 233,
   "metadata": {},
   "outputs": [],
   "source": [
    "items = items[~(items.description.duplicated() & items.name)].reset_index()"
   ]
  },
  {
   "cell_type": "code",
   "execution_count": 234,
   "metadata": {},
   "outputs": [
    {
     "data": {
      "text/plain": [
       "0"
      ]
     },
     "execution_count": 234,
     "metadata": {},
     "output_type": "execute_result"
    }
   ],
   "source": [
    "(items.description.duplicated() & items.name).sum()"
   ]
  },
  {
   "cell_type": "code",
   "execution_count": 235,
   "metadata": {},
   "outputs": [
    {
     "data": {
      "image/png": "[encoded data removed]",
      "text/plain": [
       "<Figure size 576x360 with 1 Axes>"
      ]
     },
     "metadata": {
      "needs_background": "light"
     },
     "output_type": "display_data"
    }
   ],
   "source": [
    "items['name'].value_counts()[0:10].plot(kind ='barh', figsize=[8,5], fontsize=15, color='navy').invert_yaxis()\n"
   ]
  },
  {
   "cell_type": "code",
   "execution_count": 236,
   "metadata": {},
   "outputs": [],
   "source": [
    "def tokenize(text):\n",
    "    r = Rake()\n",
    "    r.extract_keywords_from_text(text.lower().replace('-',''))\n",
    "    return r.get_ranked_phrases()[0:10]\n"
   ]
  },
  {
   "cell_type": "code",
   "execution_count": 237,
   "metadata": {},
   "outputs": [],
   "source": [
    "items['tokenized'] = items.description.apply(tokenize)"
   ]
  },
  {
   "cell_type": "code",
   "execution_count": 238,
   "metadata": {},
   "outputs": [
    {
     "data": {
      "text/plain": [
       "['seamless structure shows rich',\n",
       " 'berry flavours peppered',\n",
       " '– vibrant',\n",
       " 'wine leaps',\n",
       " 'great wine',\n",
       " 'cabernet sauvignon',\n",
       " 'rich',\n",
       " 'velvety',\n",
       " 'vanilla',\n",
       " 'touch']"
      ]
     },
     "execution_count": 238,
     "metadata": {},
     "output_type": "execute_result"
    }
   ],
   "source": [
    "items['tokenized'].iloc[10]"
   ]
  },
  {
   "cell_type": "code",
   "execution_count": 239,
   "metadata": {},
   "outputs": [],
   "source": [
    "items['tokens'] = items.tokenized.apply(lambda x: ','.join(map(str,x)))"
   ]
  },
  {
   "cell_type": "code",
   "execution_count": 240,
   "metadata": {},
   "outputs": [
    {
     "name": "stdout",
     "output_type": "stream",
     "text": [
      "[[1.         0.         0.         ... 0.         0.         0.        ]\n",
      " [0.         1.         0.40327957 ... 0.07216878 0.06154575 0.06154575]\n",
      " [0.         0.40327957 1.         ... 0.         0.         0.05415304]\n",
      " ...\n",
      " [0.         0.07216878 0.         ... 1.         0.         0.10660036]\n",
      " [0.         0.06154575 0.         ... 0.         1.         0.        ]\n",
      " [0.         0.06154575 0.05415304 ... 0.10660036 0.         1.        ]]\n"
     ]
    }
   ],
   "source": [
    "counter = CountVectorizer()\n",
    "count_matrix = counter.fit_transform(items.tokens)\n",
    "cosine_sim = cosine_similarity(count_matrix, count_matrix)\n",
    "print(cosine_sim)"
   ]
  },
  {
   "cell_type": "code",
   "execution_count": 241,
   "metadata": {},
   "outputs": [
    {
     "data": {
      "text/plain": [
       "0                   Mayhem, Pinot Gris (bottle)\n",
       "1        Grass Fed BC Double Cheeseburger (8oz)\n",
       "2              Crispy Free Run Chicken Sandwich\n",
       "3           Grass Fed Bc Beef Cheesburger (4oz)\n",
       "4                               Doogh (pitcher)\n",
       "                          ...                  \n",
       "28429                               Gin & Tonic\n",
       "28430                                Gin & Soda\n",
       "28431                   Pacific North West Roll\n",
       "28432             2. Zakkushi Set ( 5 skewers )\n",
       "28433                 63. Mentai carbonara Udon\n",
       "Name: name, Length: 28434, dtype: object"
      ]
     },
     "execution_count": 241,
     "metadata": {},
     "output_type": "execute_result"
    }
   ],
   "source": [
    "indices = pd.Series(items['name'])\n",
    "indices \n"
   ]
  },
  {
   "cell_type": "code",
   "execution_count": 242,
   "metadata": {},
   "outputs": [],
   "source": [
    "def recommend(name, cosine_sim = cosine_sim):\n",
    "    recommended_items = []\n",
    "    idx = indices[indices == name].index[0]\n",
    "    score_series = pd.Series(cosine_sim[idx]).sort_values(ascending = False)\n",
    "    top_10_indices = list(score_series.iloc[1:11].index)\n",
    "    \n",
    "    for i in top_10_indices:\n",
    "        recommended_items.append(items['name'][i])\n",
    "        \n",
    "    return recommended_items"
   ]
  },
  {
   "cell_type": "code",
   "execution_count": 275,
   "metadata": {},
   "outputs": [
    {
     "name": "stdout",
     "output_type": "stream",
     "text": [
      "The item name is Raizo Sundae Parfait\n",
      "The description is: Green tea and vanilla ice cream with mochi ball, red bean, roasted soybean powder, black sweet sauce, corn flakes and whipped cream. \n"
     ]
    }
   ],
   "source": [
    "sample_item = items.iloc[100]\n",
    "sample_name = sample_item['name']\n",
    "sample_desc = sample_item['description']\n",
    "print('The item name is {}\\nThe description is: {} '.format(sample_name,sample_desc))"
   ]
  },
  {
   "cell_type": "code",
   "execution_count": 276,
   "metadata": {},
   "outputs": [
    {
     "data": {
      "text/plain": [
       "['Kuromitsu Kinako Ice Cream',\n",
       " 'Raizo Strawberry parfait ',\n",
       " 'Matcha Red Bean Waffle',\n",
       " 'White Chocolate Brownie',\n",
       " 'Matcha Red Bean Creamy Frappe',\n",
       " 'Matcha World Ice Cream',\n",
       " 'Mango Ice Cream',\n",
       " 'Chicken Cannelloni',\n",
       " 'Mocha Frappe',\n",
       " 'White Chocolate Brownie']"
      ]
     },
     "execution_count": 276,
     "metadata": {},
     "output_type": "execute_result"
    }
   ],
   "source": [
    "recommend(sample_name)"
   ]
  }
 ],
 "metadata": {
  "interpreter": {
   "hash": "ff514080f6f141fa30927d2eb1cd1793a0032bd7adceb009c10ca689f5dc9966"
  },
  "kernelspec": {
   "display_name": "Python 3.9.7 ('base')",
   "language": "python",
   "name": "python3"
  },
  "language_info": {
   "codemirror_mode": {
    "name": "ipython",
    "version": 3
   },
   "file_extension": ".py",
   "mimetype": "text/x-python",
   "name": "python",
   "nbconvert_exporter": "python",
   "pygments_lexer": "ipython3",
   "version": "3.9.7"
  },
  "orig_nbformat": 4
 },
 "nbformat": 4,
 "nbformat_minor": 2
}
